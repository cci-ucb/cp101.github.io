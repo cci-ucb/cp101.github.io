{
 "cells": [
  {
   "cell_type": "markdown",
   "metadata": {
    "tags": [],
    "user_expressions": []
   },
   "source": [
    "# Lab03: Charts"
   ]
  },
  {
   "cell_type": "markdown",
   "metadata": {
    "user_expressions": []
   },
   "source": [
    "Your Job – Let’s pretend that you are an entry level planner who has been asked to provide a demographic description for your boss with both total population and percent of total population. She is going to a city meeting and asked that you provide the information in a good visual representation. She would like an easy to read table for her records and either a bar chart or a pie chart that she can present at the meeting."
   ]
  },
  {
   "cell_type": "code",
   "execution_count": null,
   "metadata": {
    "tags": []
   },
   "outputs": [],
   "source": [
    "import pandas as pd\n",
    "import numpy as np\n",
    "import re"
   ]
  },
  {
   "cell_type": "code",
   "execution_count": null,
   "metadata": {},
   "outputs": [],
   "source": [
    "# read in 2021 census data\n",
    "data_21 = pd.read_csv('~/git/cp101.github.io/labs/lab03/census21_data.csv')\n",
    "data_21"
   ]
  },
  {
   "cell_type": "code",
   "execution_count": null,
   "metadata": {
    "tags": []
   },
   "outputs": [],
   "source": [
    "# fix missingness and data types\n",
    "data_21 = data_21.fillna(0)\n",
    "data_21 = data_21.replace({'NA': 0})\n",
    "data_21 = data_21.replace({'': 0})\n",
    "data_21.iloc[:,4:] = data_21.iloc[:,4:].apply(pd.to_numeric)\n",
    "# pad to get correct geouid length\n",
    "data_21[\"GeoUID\"] = data_21[\"GeoUID\"].astype(str).str.ljust(10, \"0\")"
   ]
  },
  {
   "cell_type": "code",
   "execution_count": null,
   "metadata": {
    "tags": []
   },
   "outputs": [],
   "source": [
    "data_21.columns"
   ]
  },
  {
   "cell_type": "code",
   "execution_count": null,
   "metadata": {
    "tags": []
   },
   "outputs": [],
   "source": [
    "# subset to needed columns for analysis\n",
    "data_subset = data_21.iloc[:,1:27].drop(columns = [\"Type\", \"CMA_UID\", \"PR_UID\", \"CSD_UID\", \"CD_UID\"])\n",
    "# clean the names\n",
    "data_subset = data_subset.rename(columns = {x: re.sub(r\"v_CA\\d{2}_\\d+: \", \"\", x) for x in data_subset.columns.tolist()})\n",
    "data_subset"
   ]
  },
  {
   "cell_type": "markdown",
   "metadata": {
    "user_expressions": []
   },
   "source": [
    "First – Python plotting libraries can generate visualization using data from tables. As a result, we need to start by creating a table with the information requested. What statistics do you need to generate? (Hint: we need to generate summary statistics for the city). Now let’s calculate the amounts together. Do your summary statistics match your neighbors? How about the numbers projected at the front of the class?"
   ]
  },
  {
   "cell_type": "code",
   "execution_count": null,
   "metadata": {
    "tags": []
   },
   "outputs": [],
   "source": [
    "# get sums, round to nearest whole number\n",
    "# note- subsequent proportions and percentages will not sum to 1 or 100% due to this rounding\n",
    "toronto_sums = data_subset.iloc[:,2:].sum().astype(int)\n",
    "toronto_sums"
   ]
  },
  {
   "cell_type": "code",
   "execution_count": null,
   "metadata": {
    "tags": []
   },
   "outputs": [],
   "source": [
    "# proportions by group\n",
    "toronto_proportions = toronto_sums[6:] / toronto_sums[4]\n",
    "toronto_proportions"
   ]
  },
  {
   "cell_type": "markdown",
   "metadata": {
    "tags": [],
    "user_expressions": []
   },
   "source": [
    "Second – Now that we have the necessary information, we need to put it into a good table. You can think about this as prettying up the table, but in reality what you are doing is making the information easily digestible. Your table should have all the information your boss needs, but nothing more. A great way to check if your tables are good is to ask a neighbor to explain what your table is showing in one sentence."
   ]
  },
  {
   "cell_type": "code",
   "execution_count": null,
   "metadata": {
    "tags": []
   },
   "outputs": [],
   "source": [
    "summary_table = pd.concat([toronto_sums[6:].to_frame(name = \"Population\"), toronto_proportions.to_frame(name = \"Proportion\")],axis = 1).sort_values(by = \"Population\", ascending = False)\n",
    "summary_table"
   ]
  },
  {
   "cell_type": "markdown",
   "metadata": {
    "user_expressions": []
   },
   "source": [
    "Third – Now that we have our table, let’s put in a chart. There are many chart options – we will talk about them later in the semester. For now, we are going to create two charts showing the demographics of Toronto using pandas `plot()` function."
   ]
  },
  {
   "cell_type": "code",
   "execution_count": null,
   "metadata": {
    "tags": []
   },
   "outputs": [],
   "source": [
    "# a bar chart\n",
    "summary_table.plot(y = 'Population', kind = 'bar');"
   ]
  },
  {
   "cell_type": "code",
   "execution_count": null,
   "metadata": {
    "tags": []
   },
   "outputs": [],
   "source": [
    "# a pie chart\n",
    "summary_table.plot(y = 'Population', kind = 'pie');"
   ]
  },
  {
   "cell_type": "code",
   "execution_count": null,
   "metadata": {},
   "outputs": [],
   "source": []
  },
  {
   "cell_type": "markdown",
   "metadata": {
    "user_expressions": []
   },
   "source": [
    "You can select different colors by creating a mapping of legend values to color values and passing it in as a keyword argument.\n",
    "\n",
    "Another website we recommend is [Color Brewer](http://colorbrewer2.org/). The website provides a number of color options for whatever kind of visual you are providing, and can be useful if you are thinking of presenting your tables (and later maps) to a wider audience. You can then use the information to manually adjust the colors for your visual. It can take a little time, so I would recommend finalizing your visual first and then doing color adjustments as the last step."
   ]
  },
  {
   "cell_type": "markdown",
   "metadata": {
    "tags": [],
    "user_expressions": []
   },
   "source": [
    "Now that you have done this for the City of Toronto, can you work with your neighbor to develop a table that provides demographic information for Census Tract 0038.00 and for the\n",
    "City as a whole? Remember that each time you use these functions the more natural they become."
   ]
  },
  {
   "cell_type": "code",
   "execution_count": null,
   "metadata": {},
   "outputs": [],
   "source": []
  }
 ],
 "metadata": {
  "anaconda-cloud": {},
  "kernelspec": {
   "display_name": "Python 3 (ipykernel)",
   "language": "python",
   "name": "python3"
  },
  "language_info": {
   "codemirror_mode": {
    "name": "ipython",
    "version": 3
   },
   "file_extension": ".py",
   "mimetype": "text/x-python",
   "name": "python",
   "nbconvert_exporter": "python",
   "pygments_lexer": "ipython3",
   "version": "3.11.0"
  }
 },
 "nbformat": 4,
 "nbformat_minor": 4
}
