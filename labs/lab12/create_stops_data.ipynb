{
 "cells": [
  {
   "cell_type": "code",
   "execution_count": null,
   "metadata": {
    "tags": []
   },
   "outputs": [],
   "source": [
    "# This line tells iPython to not display warnings.\n",
    "import warnings\n",
    "warnings.filterwarnings('ignore')\n",
    "\n",
    "# RUN THIS CELL FIRST or the notebook won't work\n",
    "import numpy as np\n",
    "import pandas as pd\n",
    "import geopandas as gpd\n",
    "import datetime as dt\n",
    "import requests\n",
    "from io import BytesIO\n",
    "from urllib.request import urlopen\n",
    "from zipfile import ZipFile\n",
    "import sys\n",
    "if sys.version_info[0] < 3: \n",
    "    from StringIO import StringIO\n",
    "else:\n",
    "    from io import StringIO\n",
    "from IPython.display import display\n",
    "import matplotlib.pyplot as plt\n",
    "\n",
    "# These help the maps display nicely in the notebook\n",
    "%matplotlib inline\n",
    "plt.rcParams['figure.figsize'] = [30, 20]"
   ]
  },
  {
   "cell_type": "code",
   "execution_count": null,
   "metadata": {
    "tags": []
   },
   "outputs": [],
   "source": [
    "# downloaded from: https://open.toronto.ca/dataset/neighbourhoods/\n",
    "neighbourhoods_gpd = gpd.read_file(\"neighbourhoods/Neighbourhoods - 4326.shp\")\n",
    "neighbourhoods_gpd.head()"
   ]
  },
  {
   "cell_type": "code",
   "execution_count": null,
   "metadata": {
    "tags": []
   },
   "outputs": [],
   "source": [
    "toronto_gpd = gpd.read_file('~/git/cp101.github.io/labs/lab10/shapefiles/toronto/toronto.shp')\n",
    "toronto_gpd.head()"
   ]
  },
  {
   "cell_type": "code",
   "execution_count": null,
   "metadata": {
    "tags": []
   },
   "outputs": [],
   "source": [
    "toronto_gpd.crs"
   ]
  },
  {
   "cell_type": "code",
   "execution_count": null,
   "metadata": {
    "tags": []
   },
   "outputs": [],
   "source": [
    "# reprojects coordinates to new coordinate reference system\n",
    "toronto_gpd = toronto_gpd.to_crs(4326)"
   ]
  },
  {
   "cell_type": "code",
   "execution_count": null,
   "metadata": {
    "tags": []
   },
   "outputs": [],
   "source": [
    "# sjoin toronto neighborhoods and census tracts\n",
    "# some GeoUIDs are in multiple neighborhoods; census tract data will be grouped by neighbourhood and averaged\n",
    "toronto_neighbourhoods_ct = pd.DataFrame(neighbourhoods_gpd.sjoin(toronto_gpd[['geometry', 'GeoUID']]))[['AREA_NA7', 'GeoUID']].drop_duplicates()\n",
    "toronto_neighbourhoods_ct.head()"
   ]
  },
  {
   "cell_type": "code",
   "execution_count": null,
   "metadata": {
    "tags": []
   },
   "outputs": [],
   "source": [
    "with ZipFile(\"../lab10/ttc/routes_schedules.zip\") as myzip:\n",
    "    stops_df = pd.read_csv(myzip.open(\"stops.txt\"), dtype={\n",
    "        'stop_id': 'str', \n",
    "        'stop_code': 'str',\n",
    "        'stop_name': 'str',\n",
    "        'stop_lat': 'float',\n",
    "        'stop_lon': 'float'\n",
    "    })\n",
    "    stops_gdf = gpd.GeoDataFrame(stops_df, \n",
    "        geometry=gpd.points_from_xy(stops_df.stop_lon, stops_df.stop_lat)).set_crs(epsg=4326)"
   ]
  },
  {
   "cell_type": "code",
   "execution_count": null,
   "metadata": {
    "tags": []
   },
   "outputs": [],
   "source": [
    "stops_gdf.head()"
   ]
  },
  {
   "cell_type": "code",
   "execution_count": null,
   "metadata": {
    "tags": []
   },
   "outputs": [],
   "source": [
    "neighbourhood_stops = pd.DataFrame(neighbourhoods_gpd.sjoin(stops_gdf))[['AREA_NA7', 'stop_id']]\n",
    "neighbourhood_stops.head()"
   ]
  },
  {
   "cell_type": "code",
   "execution_count": null,
   "metadata": {
    "tags": []
   },
   "outputs": [],
   "source": [
    "census_neighbourhood_stops = toronto_neighbourhoods_ct.merge(neighbourhood_stops, how = \"inner\", on = \"AREA_NA7\")\n",
    "census_neighbourhood_stops"
   ]
  },
  {
   "cell_type": "code",
   "execution_count": null,
   "metadata": {
    "tags": []
   },
   "outputs": [],
   "source": [
    "def clean_can_census_data(can_df):\n",
    "    can_df = can_df.fillna(0)\n",
    "    can_df = can_df.replace({'NA': 0})\n",
    "    can_df = can_df.replace({'': 0})\n",
    "    can_df.iloc[:,4:] = can_df.iloc[:,4:].apply(pd.to_numeric)\n",
    "    # pad to get correct geouid length\n",
    "    can_df[\"GeoUID\"] = can_df[\"GeoUID\"].astype(str).str.ljust(10, \"0\")\n",
    "    return can_df"
   ]
  },
  {
   "cell_type": "code",
   "execution_count": null,
   "metadata": {
    "tags": []
   },
   "outputs": [],
   "source": [
    "lab01_data = pd.read_csv('~/git/cp101.github.io/labs/lab01/lab01_data.csv')\n",
    "lab01_data = clean_can_census_data(lab01_data)\n",
    "lab01_data.head()"
   ]
  },
  {
   "cell_type": "code",
   "execution_count": null,
   "metadata": {
    "tags": []
   },
   "outputs": [],
   "source": [
    "lab03_data = pd.read_csv('~/git/cp101.github.io/labs/lab03/census21_data.csv')\n",
    "lab03_data = clean_can_census_data(lab03_data)\n",
    "lab03_data = lab03_data.rename(columns = {'GeoUID' : 'GeoUIDX'})\n",
    "lab03_data = lab03_data.drop(columns = lab03_data.columns[lab03_data.columns.isin(lab01_data.columns)])\n",
    "lab03_data = lab03_data.rename(columns = {'GeoUIDX' : 'GeoUID'})\n",
    "lab03_data.head()"
   ]
  },
  {
   "cell_type": "code",
   "execution_count": null,
   "metadata": {
    "tags": []
   },
   "outputs": [],
   "source": [
    "# fix missingness and data types\n",
    "lab10_data = pd.read_csv('~/git/cp101.github.io/labs/lab10/census21_data.csv')\n",
    "lab10_data = clean_can_census_data(lab10_data)\n",
    "lab10_data = lab10_data.rename(columns = {'GeoUID' : 'GeoUIDX'})\n",
    "lab10_data = lab10_data.drop(columns = lab10_data.columns[lab10_data.columns.isin(lab01_data.columns) | lab10_data.columns.isin(lab03_data.columns)])\n",
    "lab10_data = lab10_data.rename(columns = {'GeoUIDX' : 'GeoUID'})\n",
    "lab10_data.head()"
   ]
  },
  {
   "cell_type": "code",
   "execution_count": null,
   "metadata": {
    "tags": []
   },
   "outputs": [],
   "source": [
    "# union of all columns so far in the course\n",
    "all_can_census = lab01_data.merge(lab03_data, on = 'GeoUID').merge(lab10_data, on = 'GeoUID')\n",
    "all_can_census.head()"
   ]
  },
  {
   "cell_type": "code",
   "execution_count": null,
   "metadata": {
    "tags": []
   },
   "outputs": [],
   "source": [
    "def div_0(n,d):\n",
    "    try:\n",
    "        return n/d\n",
    "    except:\n",
    "        return 0"
   ]
  },
  {
   "cell_type": "code",
   "execution_count": null,
   "metadata": {
    "tags": []
   },
   "outputs": [],
   "source": [
    "# use this to help identify column names by string\n",
    "all_can_census.columns.values"
   ]
  },
  {
   "cell_type": "code",
   "execution_count": null,
   "metadata": {
    "tags": []
   },
   "outputs": [],
   "source": [
    "all_can_census.columns[all_can_census.columns.str.lower().str.contains(\"average\")]"
   ]
  },
  {
   "cell_type": "code",
   "execution_count": null,
   "metadata": {},
   "outputs": [],
   "source": [
    "# create variables\n",
    "#all_can_census['total_pop'] = all_can_census['Population']\n",
    "all_can_census['pop_density'] = all_can_census['v_CA21_6: Population density per square kilometre']\n",
    "all_can_census['avg_monthly_shelter_rented'] = all_can_census['v_CA21_4318: Average monthly shelter costs for rented dwellings ($) (59)']\n",
    "all_can_census['avg_monthly_shelter_owned'] = all_can_census['v_CA21_4310: Average monthly shelter costs for owned dwellings ($) (59)']\n",
    "all_can_census['avg_value_owned'] = all_can_census['v_CA21_4312: Average value of dwellings ($) (60)']\n",
    "\n",
    "#all_can_census['br0'] = all_can_census['v_CA21_4245: No bedrooms']\n",
    "#all_can_census['br1'] = all_can_census['v_CA21_4246: 1 bedroom']\n",
    "#all_can_census['br2'] = all_can_census['v_CA21_4247: 2 bedrooms']\n",
    "#all_can_census['br3'] = all_can_census['v_CA21_4248: 3 bedrooms']\n",
    "#all_can_census['br4plus'] = all_can_census['v_CA21_4249: 4 or more bedrooms']\n",
    "\n",
    "#all_can_census['pct_pop_change_16_21'] = all_can_census['v_CA21_3: Population percentage change, 2016 to 2021'] / 100\n",
    "all_can_census['gini_after_tax'] = all_can_census['v_CA21_1142: Gini index on adjusted household after-tax income']\n",
    "#all_can_census['gini_total'] = all_can_census['v_CA21_1140: Gini index on adjusted household total income']\n",
    "#all_can_census['gini_market'] = all_can_census['v_CA21_1141: Gini index on adjusted household market income']\n",
    "\n",
    "all_can_census['pct_rent'] = div_0(all_can_census['v_CA21_4239: Renter'] , all_can_census['v_CA21_4237: Total - Private households by tenure'])\n",
    "\n",
    "all_can_census['pct_visible_minority'] = div_0(all_can_census['v_CA21_4875: Total visible minority population'] , all_can_census['v_CA21_4872: Total - Visible minority for the population in private households'])\n",
    "\n",
    "all_can_census['pct_seniors'] = div_0(all_can_census['v_CA21_251: 65 years and over'] , all_can_census['v_CA21_8: Total - Age'])\n",
    "all_can_census['pct_multifam'] = div_0(all_can_census['v_CA21_438: Apartment or flat in a duplex'] + all_can_census['v_CA21_439: Apartment in a building that has fewer than five storeys'] + all_can_census['v_CA21_440: Apartment in a building that has five or more storeys'], all_can_census['v_CA21_434: Occupied private dwellings by structural type of dwelling data'])\n",
    "#all_can_census['avg_rooms'] = all_can_census['v_CA21_4256: Average number of rooms per dwelling']\n",
    "\n",
    "all_can_census['pct_vacant'] = 1 - (div_0(all_can_census['v_CA21_5: Private dwellings occupied by usual residents'], all_can_census['v_CA21_4: Total private dwellings']))\n",
    "\n",
    "all_can_census['pct_before1960'] = div_0(all_can_census['v_CA21_4264: 1960 or before'] , all_can_census['v_CA21_4263: Total - Occupied private dwellings by period of construction'])\n",
    "\n",
    "all_can_census['pct_limat'] = all_can_census['v_CA21_1040: Prevalence of low income based on the Low-income measure, after tax (LIM-AT) (%)'] / 100\n",
    "all_can_census['pct_licoat'] = all_can_census['v_CA21_1085: Prevalence of low income based on the Low-income cut-offs, after tax (LICO-AT) (%)'] / 100\n",
    "\n",
    "all_can_census['pct_mortgage'] = all_can_census['v_CA21_4306: % of owner households with a mortgage (58)'] / 100\n",
    "all_can_census['pct_owner_rent_burden'] = all_can_census['v_CA21_4307: % of owner households spending 30% or more of its income on shelter costs (55)'] / 100\n",
    "all_can_census['pct_owner_ichn'] = all_can_census['v_CA21_4308: % in core housing need (57)'] / 100\n",
    "\n",
    "all_can_census['pct_renter_subsidized'] = all_can_census['v_CA21_4314: % of tenant households in subsidized housing (61)'] / 100\n",
    "all_can_census['pct_renter_rent_burden'] = all_can_census['v_CA21_4315: % of tenant households spending 30% or more of its income on shelter costs (55)'] / 100\n",
    "all_can_census['pct_renter_ichn'] = all_can_census['v_CA21_4316: % in core housing need (57)'] / 100\n",
    "\n",
    "all_can_census['pct_noncitizen'] = div_0(all_can_census['v_CA21_4401: Not Canadian citizens'], all_can_census['v_CA21_4389: Total - Citizenship for the population in private households'])\n",
    "\n",
    "all_can_census['pct_public_transit'] = div_0(all_can_census['v_CA21_7644: Public transit'] , all_can_census['v_CA21_7632: Total - Main mode of commuting for the employed labour force aged 15 years and over with a usual place of work or no fixed workplace address'])\n",
    "\n",
    "subset_cols = all_can_census.iloc[:, 0:2].merge(all_can_census.iloc[:, -21:], left_index = True, right_index = True, how = 'left')\n",
    "# omit tracts with NA fields\n",
    "subset_cols = subset_cols[subset_cols.isna().sum(axis = 1) == 0]\n",
    "subset_cols"
   ]
  },
  {
   "cell_type": "code",
   "execution_count": null,
   "metadata": {
    "tags": []
   },
   "outputs": [],
   "source": [
    "# omit tracts with at least one severe outlier\n",
    "from scipy import stats\n",
    "subset_cols = subset_cols[(np.abs(stats.zscore(subset_cols.iloc[:, 2:])) < 3).all(axis = 1)]\n",
    "subset_cols.head()"
   ]
  },
  {
   "cell_type": "code",
   "execution_count": null,
   "metadata": {
    "tags": []
   },
   "outputs": [],
   "source": [
    "subset_cols.iloc[:,2:].describe()"
   ]
  },
  {
   "cell_type": "code",
   "execution_count": null,
   "metadata": {
    "tags": []
   },
   "outputs": [],
   "source": [
    "toronto_stops = neighbourhood_stops.merge(subset_cols.drop(columns = \"Unnamed: 0\").merge(toronto_neighbourhoods_ct, on = \"GeoUID\").groupby(\"AREA_NA7\").mean().reset_index(), on = \"AREA_NA7\", how = \"inner\")\n",
    "toronto_stops.head()"
   ]
  },
  {
   "cell_type": "code",
   "execution_count": null,
   "metadata": {
    "tags": []
   },
   "outputs": [],
   "source": [
    "toronto_stops.iloc[3:].describe()"
   ]
  },
  {
   "cell_type": "code",
   "execution_count": null,
   "metadata": {
    "tags": []
   },
   "outputs": [],
   "source": [
    "# any lingering data transformations?\n",
    "for col in toronto_stops.columns[3:]:\n",
    "    toronto_stops[col].hist()\n",
    "    plt.title(col)\n",
    "    plt.show()"
   ]
  },
  {
   "cell_type": "code",
   "execution_count": null,
   "metadata": {
    "tags": []
   },
   "outputs": [],
   "source": [
    "toronto_stops.to_csv(\"toronto_stops.csv\")"
   ]
  }
 ],
 "metadata": {
  "kernelspec": {
   "display_name": "Python 3 (ipykernel)",
   "language": "python",
   "name": "python3"
  },
  "language_info": {
   "codemirror_mode": {
    "name": "ipython",
    "version": 3
   },
   "file_extension": ".py",
   "mimetype": "text/x-python",
   "name": "python",
   "nbconvert_exporter": "python",
   "pygments_lexer": "ipython3",
   "version": "3.11.0"
  }
 },
 "nbformat": 4,
 "nbformat_minor": 4
}
