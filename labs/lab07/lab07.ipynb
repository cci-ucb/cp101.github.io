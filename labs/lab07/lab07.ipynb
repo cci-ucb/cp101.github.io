{
 "cells": [
  {
   "cell_type": "markdown",
   "metadata": {
    "tags": [],
    "user_expressions": []
   },
   "source": [
    "# Lab 7 - Web Scraping\n",
    "---\n",
    "In today's lab, we are going to download data from the internet using an API. API stands for application programming interface. Companies often create APIs as a way to allow users to more directly interact with their servers to retrieve data. Today, we are going to be using CKAN's API to download data from the City of Toronto's Open Data Portal to get some experience working with larger datasets."
   ]
  },
  {
   "cell_type": "code",
   "execution_count": 26,
   "metadata": {
    "tags": []
   },
   "outputs": [],
   "source": [
    "# Run this cell to set up your notebook\n",
    "import csv\n",
    "import numpy as np\n",
    "import pandas as pd\n",
    "import matplotlib.pyplot as plt\n",
    "import zipfile\n",
    "import warnings\n",
    "import requests\n",
    "import sys\n",
    "if sys.version_info[0] < 3: \n",
    "    from StringIO import StringIO\n",
    "else:\n",
    "    from io import StringIO\n",
    "\n",
    "# Ensure that Pandas shows at least 280 characters in columns, so we can see full tweets\n",
    "pd.set_option('max_colwidth', 280)\n",
    "\n",
    "%matplotlib inline\n",
    "import re\n",
    "import json"
   ]
  },
  {
   "cell_type": "markdown",
   "metadata": {
    "user_expressions": []
   },
   "source": [
    "## Setup\n",
    "---\n"
   ]
  },
  {
   "cell_type": "code",
   "execution_count": 27,
   "metadata": {
    "tags": []
   },
   "outputs": [],
   "source": [
    "# toronto public library info\n",
    "\n",
    "# Toronto Open Data is stored in a CKAN instance. It's APIs are documented here:\n",
    "# https://docs.ckan.org/en/latest/api/\n",
    "\n",
    "# To hit our API, you'll be making requests to:\n",
    "base_url = \"https://ckan0.cf.opendata.inter.prod-toronto.ca\"\n",
    "\n",
    "# Datasets are called \"packages\". Each package can contain many \"resources\"\n",
    "# To retrieve the metadata for this package and its resources, use the package name in this page's URL:\n",
    "url = base_url + \"/api/3/action/package_show\"\n",
    "params = { \"id\": \"library-branch-general-information\"}\n",
    "package = requests.get(url, params = params).json()"
   ]
  },
  {
   "cell_type": "code",
   "execution_count": 29,
   "metadata": {
    "tags": []
   },
   "outputs": [
    {
     "data": {
      "text/plain": [
       "{'help': 'https://ckan0.cf.opendata.inter.prod-toronto.ca/api/3/action/help_show?name=package_show',\n",
       " 'success': True,\n",
       " 'result': {'author': 'planning@tpl.ca',\n",
       "  'author_email': 'planning@tpl.ca',\n",
       "  'creator_user_id': '329e1506-b545-4fc7-a4ea-e614f220eea7',\n",
       "  'dataset_category': 'Table',\n",
       "  'date_published': '2023-06-29 00:00:00',\n",
       "  'excerpt': 'This dataset shows the current characteristics of Toronto Public Library branches, such as location, size, and the availability of specific features (e.g. parking, KidsStops, Digital Innovation Hubs, etc.)',\n",
       "  'formats': 'CSV,JSON,XML',\n",
       "  'id': 'f5aa9b07-da35-45e6-b31f-d6790eb9bd9b',\n",
       "  'information_url': 'https://www.torontopubliclibrary.ca/opendata',\n",
       "  'is_retired': 'false',\n",
       "  'isopen': False,\n",
       "  'last_refreshed': '2023-06-29 13:48:12.063852',\n",
       "  'license_id': 'open-government-licence-toronto',\n",
       "  'license_title': 'open-government-licence-toronto',\n",
       "  'maintainer': None,\n",
       "  'maintainer_email': 'planning@tpl.ca',\n",
       "  'metadata_created': '2023-06-29T14:23:34.563694',\n",
       "  'metadata_modified': '2023-06-29T14:23:39.553903',\n",
       "  'name': 'library-branch-general-information',\n",
       "  'notes': 'This dataset shows the current characteristics of Toronto Public Library branches, such as location, size, and the availability of specific features (e.g. parking, KidsStops, Digital Innovation Hubs, etc.). Additionally, this dataset provides details on other TPL services & collections (e.g. Answerline, bookmobiles, Home Library Service, Merril Collection, Sunnybrook Hospital, etc.).',\n",
       "  'num_resources': 4,\n",
       "  'num_tags': 2,\n",
       "  'organization': {'id': '6ed95875-f7d6-4200-964c-91024cc49cba',\n",
       "   'name': 'city-of-toronto',\n",
       "   'title': 'City of Toronto',\n",
       "   'type': 'organization',\n",
       "   'description': '',\n",
       "   'image_url': '',\n",
       "   'created': '2022-03-10T15:38:51.044746',\n",
       "   'is_organization': True,\n",
       "   'approval_status': 'approved',\n",
       "   'state': 'active'},\n",
       "  'owner_division': 'Toronto Public Library',\n",
       "  'owner_email': 'planning@tpl.ca',\n",
       "  'owner_org': '6ed95875-f7d6-4200-964c-91024cc49cba',\n",
       "  'private': False,\n",
       "  'refresh_rate': 'Annually',\n",
       "  'state': 'active',\n",
       "  'title': 'Library Branch General Information',\n",
       "  'type': 'dataset',\n",
       "  'version': None,\n",
       "  'resources': [{'cache_last_updated': None,\n",
       "    'cache_url': None,\n",
       "    'created': '2023-06-29T13:47:40.532513',\n",
       "    'datastore_active': True,\n",
       "    'datastore_cache': {'CSV': '1c9e7b16-c8fc-4925-9639-1253b6e02422',\n",
       "     'XML': 'ba42d38c-02a4-46fb-9d3a-88c6a90af2c4',\n",
       "     'JSON': '0a48b601-9a07-4de6-ae73-b955527b3e70'},\n",
       "    'datastore_cache_last_update': '2023-06-29T14:23:37.874384',\n",
       "    'extract_job': 'Airflow - files_to_datastore.py - library-branch-general-information',\n",
       "    'format': 'CSV',\n",
       "    'hash': '',\n",
       "    'id': '77f8b217-b83a-4b71-be4f-90685137af20',\n",
       "    'is_preview': True,\n",
       "    'last_modified': None,\n",
       "    'metadata_modified': '2023-06-29T14:23:37.963569',\n",
       "    'mimetype': 'text/csv',\n",
       "    'mimetype_inner': None,\n",
       "    'name': 'tpl-branch-general-information-2023',\n",
       "    'package_id': 'f5aa9b07-da35-45e6-b31f-d6790eb9bd9b',\n",
       "    'package_name_or_id': 'library-branch-general-information',\n",
       "    'position': 0,\n",
       "    'resource_type': None,\n",
       "    'size': None,\n",
       "    'state': 'active',\n",
       "    'url': 'https://ckan0.cf.opendata.inter.prod-toronto.ca/datastore/dump/77f8b217-b83a-4b71-be4f-90685137af20',\n",
       "    'url_type': 'datastore'},\n",
       "   {'cache_last_updated': None,\n",
       "    'cache_url': None,\n",
       "    'created': '2023-06-29T13:48:10.541914',\n",
       "    'datastore_active': False,\n",
       "    'datastore_resource_id': '77f8b217-b83a-4b71-be4f-90685137af20',\n",
       "    'format': 'CSV',\n",
       "    'hash': '',\n",
       "    'id': '1c9e7b16-c8fc-4925-9639-1253b6e02422',\n",
       "    'is_datastore_cache_file': True,\n",
       "    'is_preview': None,\n",
       "    'last_modified': '2023-06-29T14:23:35.616894',\n",
       "    'metadata_modified': '2023-06-29T14:23:35.680412',\n",
       "    'mimetype': 'application/octet-stream',\n",
       "    'mimetype_inner': None,\n",
       "    'name': 'tpl-branch-general-information-2023.csv',\n",
       "    'package_id': 'f5aa9b07-da35-45e6-b31f-d6790eb9bd9b',\n",
       "    'position': 1,\n",
       "    'resource_type': None,\n",
       "    'size': 23469,\n",
       "    'state': 'active',\n",
       "    'url': 'https://ckan0.cf.opendata.inter.prod-toronto.ca/dataset/f5aa9b07-da35-45e6-b31f-d6790eb9bd9b/resource/1c9e7b16-c8fc-4925-9639-1253b6e02422/download/tpl-branch-general-information-2023.csv',\n",
       "    'url_type': 'upload'},\n",
       "   {'cache_last_updated': None,\n",
       "    'cache_url': None,\n",
       "    'created': '2023-06-29T13:48:11.329403',\n",
       "    'datastore_active': False,\n",
       "    'datastore_resource_id': '77f8b217-b83a-4b71-be4f-90685137af20',\n",
       "    'format': 'XML',\n",
       "    'hash': '',\n",
       "    'id': 'ba42d38c-02a4-46fb-9d3a-88c6a90af2c4',\n",
       "    'is_datastore_cache_file': True,\n",
       "    'is_preview': None,\n",
       "    'last_modified': '2023-06-29T14:23:36.466417',\n",
       "    'metadata_modified': '2023-06-29T14:23:36.548331',\n",
       "    'mimetype': 'application/octet-stream',\n",
       "    'mimetype_inner': None,\n",
       "    'name': 'tpl-branch-general-information-2023.xml',\n",
       "    'package_id': 'f5aa9b07-da35-45e6-b31f-d6790eb9bd9b',\n",
       "    'position': 2,\n",
       "    'resource_type': None,\n",
       "    'size': 91702,\n",
       "    'state': 'active',\n",
       "    'url': 'https://ckan0.cf.opendata.inter.prod-toronto.ca/dataset/f5aa9b07-da35-45e6-b31f-d6790eb9bd9b/resource/ba42d38c-02a4-46fb-9d3a-88c6a90af2c4/download/tpl-branch-general-information-2023.xml',\n",
       "    'url_type': 'upload'},\n",
       "   {'cache_last_updated': None,\n",
       "    'cache_url': None,\n",
       "    'created': '2023-06-29T13:48:12.162278',\n",
       "    'datastore_active': False,\n",
       "    'datastore_resource_id': '77f8b217-b83a-4b71-be4f-90685137af20',\n",
       "    'format': 'JSON',\n",
       "    'hash': '',\n",
       "    'id': '0a48b601-9a07-4de6-ae73-b955527b3e70',\n",
       "    'is_datastore_cache_file': True,\n",
       "    'is_preview': None,\n",
       "    'last_modified': '2023-06-29T14:23:37.251389',\n",
       "    'metadata_modified': '2023-06-29T14:23:37.313727',\n",
       "    'mimetype': 'application/octet-stream',\n",
       "    'mimetype_inner': None,\n",
       "    'name': 'tpl-branch-general-information-2023.json',\n",
       "    'package_id': 'f5aa9b07-da35-45e6-b31f-d6790eb9bd9b',\n",
       "    'position': 3,\n",
       "    'resource_type': None,\n",
       "    'size': 68817,\n",
       "    'state': 'active',\n",
       "    'url': 'https://ckan0.cf.opendata.inter.prod-toronto.ca/dataset/f5aa9b07-da35-45e6-b31f-d6790eb9bd9b/resource/0a48b601-9a07-4de6-ae73-b955527b3e70/download/tpl-branch-general-information-2023.json',\n",
       "    'url_type': 'upload'}],\n",
       "  'tags': [{'display_name': 'library',\n",
       "    'id': '5df197e9-2be4-47d3-a40d-0a2ab1f791ef',\n",
       "    'name': 'library',\n",
       "    'state': 'active',\n",
       "    'vocabulary_id': None},\n",
       "   {'display_name': 'tpl',\n",
       "    'id': '009e59d1-d877-48d8-b99e-e5b30c6f41f8',\n",
       "    'name': 'tpl',\n",
       "    'state': 'active',\n",
       "    'vocabulary_id': None}],\n",
       "  'groups': [],\n",
       "  'relationships_as_subject': [],\n",
       "  'relationships_as_object': []}}"
      ]
     },
     "execution_count": 29,
     "metadata": {},
     "output_type": "execute_result"
    }
   ],
   "source": [
    "package"
   ]
  },
  {
   "cell_type": "markdown",
   "metadata": {
    "user_expressions": []
   },
   "source": [
    "This is an example of another `python` data structure called a *dictionary*. Dictionaries store *values* by associating them with a *key* rather than by an integer index. You can access the values stored in a dictionary using bracket notation just like a list. For example:"
   ]
  },
  {
   "cell_type": "code",
   "execution_count": 30,
   "metadata": {
    "tags": []
   },
   "outputs": [
    {
     "data": {
      "text/plain": [
       "1"
      ]
     },
     "execution_count": 30,
     "metadata": {},
     "output_type": "execute_result"
    }
   ],
   "source": [
    "# In this dictionary, the keys are strings, and the values are all numbers\n",
    "d = {'a': 1,\n",
    "    'b': 2,\n",
    "    'c': 3}\n",
    "\n",
    "d['a']"
   ]
  },
  {
   "cell_type": "markdown",
   "metadata": {
    "user_expressions": []
   },
   "source": [
    "In the case of `package`, it is an example of a nested dictionary. To access its values, we need to use a key of a key. It would also appear that there are many values to access, so instead of hard coding the keys one at a time, let's use Python's list comprehension to print all of them out at once. "
   ]
  },
  {
   "cell_type": "code",
   "execution_count": 31,
   "metadata": {
    "tags": []
   },
   "outputs": [
    {
     "data": {
      "text/plain": [
       "[{'cache_last_updated': None,\n",
       "  'cache_url': None,\n",
       "  'created': '2023-06-29T13:47:40.532513',\n",
       "  'datastore_active': True,\n",
       "  'datastore_cache': {'CSV': '1c9e7b16-c8fc-4925-9639-1253b6e02422',\n",
       "   'XML': 'ba42d38c-02a4-46fb-9d3a-88c6a90af2c4',\n",
       "   'JSON': '0a48b601-9a07-4de6-ae73-b955527b3e70'},\n",
       "  'datastore_cache_last_update': '2023-06-29T14:23:37.874384',\n",
       "  'extract_job': 'Airflow - files_to_datastore.py - library-branch-general-information',\n",
       "  'format': 'CSV',\n",
       "  'hash': '',\n",
       "  'id': '77f8b217-b83a-4b71-be4f-90685137af20',\n",
       "  'is_preview': True,\n",
       "  'last_modified': None,\n",
       "  'metadata_modified': '2023-06-29T14:23:37.963569',\n",
       "  'mimetype': 'text/csv',\n",
       "  'mimetype_inner': None,\n",
       "  'name': 'tpl-branch-general-information-2023',\n",
       "  'package_id': 'f5aa9b07-da35-45e6-b31f-d6790eb9bd9b',\n",
       "  'package_name_or_id': 'library-branch-general-information',\n",
       "  'position': 0,\n",
       "  'resource_type': None,\n",
       "  'size': None,\n",
       "  'state': 'active',\n",
       "  'url': 'https://ckan0.cf.opendata.inter.prod-toronto.ca/datastore/dump/77f8b217-b83a-4b71-be4f-90685137af20',\n",
       "  'url_type': 'datastore'},\n",
       " {'cache_last_updated': None,\n",
       "  'cache_url': None,\n",
       "  'created': '2023-06-29T13:48:10.541914',\n",
       "  'datastore_active': False,\n",
       "  'datastore_resource_id': '77f8b217-b83a-4b71-be4f-90685137af20',\n",
       "  'format': 'CSV',\n",
       "  'hash': '',\n",
       "  'id': '1c9e7b16-c8fc-4925-9639-1253b6e02422',\n",
       "  'is_datastore_cache_file': True,\n",
       "  'is_preview': None,\n",
       "  'last_modified': '2023-06-29T14:23:35.616894',\n",
       "  'metadata_modified': '2023-06-29T14:23:35.680412',\n",
       "  'mimetype': 'application/octet-stream',\n",
       "  'mimetype_inner': None,\n",
       "  'name': 'tpl-branch-general-information-2023.csv',\n",
       "  'package_id': 'f5aa9b07-da35-45e6-b31f-d6790eb9bd9b',\n",
       "  'position': 1,\n",
       "  'resource_type': None,\n",
       "  'size': 23469,\n",
       "  'state': 'active',\n",
       "  'url': 'https://ckan0.cf.opendata.inter.prod-toronto.ca/dataset/f5aa9b07-da35-45e6-b31f-d6790eb9bd9b/resource/1c9e7b16-c8fc-4925-9639-1253b6e02422/download/tpl-branch-general-information-2023.csv',\n",
       "  'url_type': 'upload'},\n",
       " {'cache_last_updated': None,\n",
       "  'cache_url': None,\n",
       "  'created': '2023-06-29T13:48:11.329403',\n",
       "  'datastore_active': False,\n",
       "  'datastore_resource_id': '77f8b217-b83a-4b71-be4f-90685137af20',\n",
       "  'format': 'XML',\n",
       "  'hash': '',\n",
       "  'id': 'ba42d38c-02a4-46fb-9d3a-88c6a90af2c4',\n",
       "  'is_datastore_cache_file': True,\n",
       "  'is_preview': None,\n",
       "  'last_modified': '2023-06-29T14:23:36.466417',\n",
       "  'metadata_modified': '2023-06-29T14:23:36.548331',\n",
       "  'mimetype': 'application/octet-stream',\n",
       "  'mimetype_inner': None,\n",
       "  'name': 'tpl-branch-general-information-2023.xml',\n",
       "  'package_id': 'f5aa9b07-da35-45e6-b31f-d6790eb9bd9b',\n",
       "  'position': 2,\n",
       "  'resource_type': None,\n",
       "  'size': 91702,\n",
       "  'state': 'active',\n",
       "  'url': 'https://ckan0.cf.opendata.inter.prod-toronto.ca/dataset/f5aa9b07-da35-45e6-b31f-d6790eb9bd9b/resource/ba42d38c-02a4-46fb-9d3a-88c6a90af2c4/download/tpl-branch-general-information-2023.xml',\n",
       "  'url_type': 'upload'},\n",
       " {'cache_last_updated': None,\n",
       "  'cache_url': None,\n",
       "  'created': '2023-06-29T13:48:12.162278',\n",
       "  'datastore_active': False,\n",
       "  'datastore_resource_id': '77f8b217-b83a-4b71-be4f-90685137af20',\n",
       "  'format': 'JSON',\n",
       "  'hash': '',\n",
       "  'id': '0a48b601-9a07-4de6-ae73-b955527b3e70',\n",
       "  'is_datastore_cache_file': True,\n",
       "  'is_preview': None,\n",
       "  'last_modified': '2023-06-29T14:23:37.251389',\n",
       "  'metadata_modified': '2023-06-29T14:23:37.313727',\n",
       "  'mimetype': 'application/octet-stream',\n",
       "  'mimetype_inner': None,\n",
       "  'name': 'tpl-branch-general-information-2023.json',\n",
       "  'package_id': 'f5aa9b07-da35-45e6-b31f-d6790eb9bd9b',\n",
       "  'position': 3,\n",
       "  'resource_type': None,\n",
       "  'size': 68817,\n",
       "  'state': 'active',\n",
       "  'url': 'https://ckan0.cf.opendata.inter.prod-toronto.ca/dataset/f5aa9b07-da35-45e6-b31f-d6790eb9bd9b/resource/0a48b601-9a07-4de6-ae73-b955527b3e70/download/tpl-branch-general-information-2023.json',\n",
       "  'url_type': 'upload'}]"
      ]
     },
     "execution_count": 31,
     "metadata": {},
     "output_type": "execute_result"
    }
   ],
   "source": [
    "# print the metadata\n",
    "[x for x in package[\"result\"][\"resources\"]]"
   ]
  },
  {
   "cell_type": "markdown",
   "metadata": {
    "user_expressions": []
   },
   "source": [
    "That's a lot of information compared to what we want- a simple dataset of library information! There are some important fields here to take note of that will guide how you download the information through the API. Note that the first resource has `datastore_active == True`. This means an instance of the data is stored on the Open Data portal's database. Not all records will have this value as `True`, as you can see in the event that a resource can be downloaded in `csv`, `json`, or `xml` format. For now, we will download the instance where this is true, but later in the lab we will learn what to do when the data is stored elsewhere. "
   ]
  },
  {
   "cell_type": "code",
   "execution_count": 32,
   "metadata": {
    "tags": []
   },
   "outputs": [
    {
     "data": {
      "text/html": [
       "<div>\n",
       "<style scoped>\n",
       "    .dataframe tbody tr th:only-of-type {\n",
       "        vertical-align: middle;\n",
       "    }\n",
       "\n",
       "    .dataframe tbody tr th {\n",
       "        vertical-align: top;\n",
       "    }\n",
       "\n",
       "    .dataframe thead th {\n",
       "        text-align: right;\n",
       "    }\n",
       "</style>\n",
       "<table border=\"1\" class=\"dataframe\">\n",
       "  <thead>\n",
       "    <tr style=\"text-align: right;\">\n",
       "      <th></th>\n",
       "      <th>_id</th>\n",
       "      <th>BranchCode</th>\n",
       "      <th>PhysicalBranch</th>\n",
       "      <th>BranchName</th>\n",
       "      <th>Address</th>\n",
       "      <th>PostalCode</th>\n",
       "      <th>Website</th>\n",
       "      <th>Telephone</th>\n",
       "      <th>SquareFootage</th>\n",
       "      <th>PublicParking</th>\n",
       "      <th>...</th>\n",
       "      <th>Workstations</th>\n",
       "      <th>ServiceTier</th>\n",
       "      <th>Lat</th>\n",
       "      <th>Long</th>\n",
       "      <th>NBHDNo</th>\n",
       "      <th>NBHDName</th>\n",
       "      <th>TPLNIA</th>\n",
       "      <th>WardNo</th>\n",
       "      <th>WardName</th>\n",
       "      <th>PresentSiteYear</th>\n",
       "    </tr>\n",
       "  </thead>\n",
       "  <tbody>\n",
       "    <tr>\n",
       "      <th>0</th>\n",
       "      <td>1</td>\n",
       "      <td>AB</td>\n",
       "      <td>1</td>\n",
       "      <td>Albion</td>\n",
       "      <td>1515 Albion Road, Toronto, ON, M9V 1B2</td>\n",
       "      <td>M9V 1B2</td>\n",
       "      <td>https://www.tpl.ca/albion</td>\n",
       "      <td>416-394-5170</td>\n",
       "      <td>29000</td>\n",
       "      <td>59</td>\n",
       "      <td>...</td>\n",
       "      <td>38.0</td>\n",
       "      <td>DL</td>\n",
       "      <td>43.739826</td>\n",
       "      <td>-79.584096</td>\n",
       "      <td>2.0</td>\n",
       "      <td>Mount Olive-Silverstone-Jamestown</td>\n",
       "      <td>1.0</td>\n",
       "      <td>1.0</td>\n",
       "      <td>Etobicoke North</td>\n",
       "      <td>2017.0</td>\n",
       "    </tr>\n",
       "    <tr>\n",
       "      <th>1</th>\n",
       "      <td>2</td>\n",
       "      <td>ACD</td>\n",
       "      <td>1</td>\n",
       "      <td>Albert Campbell</td>\n",
       "      <td>496 Birchmount Road, Toronto, ON, M1K 1N8</td>\n",
       "      <td>M1K 1N8</td>\n",
       "      <td>https://www.tpl.ca/albertcampbell</td>\n",
       "      <td>416-396-8890</td>\n",
       "      <td>28957</td>\n",
       "      <td>45</td>\n",
       "      <td>...</td>\n",
       "      <td>36.0</td>\n",
       "      <td>DL</td>\n",
       "      <td>43.708019</td>\n",
       "      <td>-79.269252</td>\n",
       "      <td>120.0</td>\n",
       "      <td>Clairlea-Birchmount</td>\n",
       "      <td>1.0</td>\n",
       "      <td>20.0</td>\n",
       "      <td>Scarborough Southwest</td>\n",
       "      <td>1971.0</td>\n",
       "    </tr>\n",
       "    <tr>\n",
       "      <th>2</th>\n",
       "      <td>3</td>\n",
       "      <td>AD</td>\n",
       "      <td>1</td>\n",
       "      <td>Alderwood</td>\n",
       "      <td>2 Orianna Drive, Toronto, ON, M8W 4Y1</td>\n",
       "      <td>M8W 4Y1</td>\n",
       "      <td>https://www.tpl.ca/alderwood</td>\n",
       "      <td>416-394-5310</td>\n",
       "      <td>7341</td>\n",
       "      <td>shared</td>\n",
       "      <td>...</td>\n",
       "      <td>7.0</td>\n",
       "      <td>NL</td>\n",
       "      <td>43.601944</td>\n",
       "      <td>-79.547252</td>\n",
       "      <td>20.0</td>\n",
       "      <td>Alderwood</td>\n",
       "      <td>0.0</td>\n",
       "      <td>3.0</td>\n",
       "      <td>Etobicoke-Lakeshore</td>\n",
       "      <td>1999.0</td>\n",
       "    </tr>\n",
       "    <tr>\n",
       "      <th>3</th>\n",
       "      <td>4</td>\n",
       "      <td>AG</td>\n",
       "      <td>1</td>\n",
       "      <td>Agincourt</td>\n",
       "      <td>155 Bonis Avenue, Toronto, ON, M1T 3W6</td>\n",
       "      <td>M1T 3W6</td>\n",
       "      <td>https://www.tpl.ca/agincourt</td>\n",
       "      <td>416-396-8943</td>\n",
       "      <td>27000</td>\n",
       "      <td>86</td>\n",
       "      <td>...</td>\n",
       "      <td>42.0</td>\n",
       "      <td>DL</td>\n",
       "      <td>43.785167</td>\n",
       "      <td>-79.293430</td>\n",
       "      <td>118.0</td>\n",
       "      <td>Tam O'Shanter-Sullivan</td>\n",
       "      <td>0.0</td>\n",
       "      <td>22.0</td>\n",
       "      <td>Scarborough-Agincourt</td>\n",
       "      <td>1991.0</td>\n",
       "    </tr>\n",
       "    <tr>\n",
       "      <th>4</th>\n",
       "      <td>5</td>\n",
       "      <td>AH</td>\n",
       "      <td>1</td>\n",
       "      <td>Armour Heights</td>\n",
       "      <td>2140 Avenue Road, Toronto, ON, M5M 4M7</td>\n",
       "      <td>M5M 4M7</td>\n",
       "      <td>https://www.tpl.ca/armourheights</td>\n",
       "      <td>416-395-5430</td>\n",
       "      <td>2988</td>\n",
       "      <td>shared</td>\n",
       "      <td>...</td>\n",
       "      <td>5.0</td>\n",
       "      <td>NL</td>\n",
       "      <td>43.739337</td>\n",
       "      <td>-79.421889</td>\n",
       "      <td>39.0</td>\n",
       "      <td>Bedford Park-Nortown</td>\n",
       "      <td>0.0</td>\n",
       "      <td>8.0</td>\n",
       "      <td>Eglinton-Lawrence</td>\n",
       "      <td>1982.0</td>\n",
       "    </tr>\n",
       "  </tbody>\n",
       "</table>\n",
       "<p>5 rows × 27 columns</p>\n",
       "</div>"
      ],
      "text/plain": [
       "   _id BranchCode  PhysicalBranch       BranchName  \\\n",
       "0    1         AB               1           Albion   \n",
       "1    2        ACD               1  Albert Campbell   \n",
       "2    3         AD               1        Alderwood   \n",
       "3    4         AG               1        Agincourt   \n",
       "4    5         AH               1   Armour Heights   \n",
       "\n",
       "                                     Address PostalCode  \\\n",
       "0     1515 Albion Road, Toronto, ON, M9V 1B2    M9V 1B2   \n",
       "1  496 Birchmount Road, Toronto, ON, M1K 1N8    M1K 1N8   \n",
       "2      2 Orianna Drive, Toronto, ON, M8W 4Y1    M8W 4Y1   \n",
       "3     155 Bonis Avenue, Toronto, ON, M1T 3W6    M1T 3W6   \n",
       "4     2140 Avenue Road, Toronto, ON, M5M 4M7    M5M 4M7   \n",
       "\n",
       "                             Website     Telephone SquareFootage  \\\n",
       "0          https://www.tpl.ca/albion  416-394-5170         29000   \n",
       "1  https://www.tpl.ca/albertcampbell  416-396-8890         28957   \n",
       "2       https://www.tpl.ca/alderwood  416-394-5310          7341   \n",
       "3       https://www.tpl.ca/agincourt  416-396-8943         27000   \n",
       "4   https://www.tpl.ca/armourheights  416-395-5430          2988   \n",
       "\n",
       "  PublicParking  ...  Workstations  ServiceTier        Lat       Long  NBHDNo  \\\n",
       "0            59  ...          38.0           DL  43.739826 -79.584096     2.0   \n",
       "1            45  ...          36.0           DL  43.708019 -79.269252   120.0   \n",
       "2        shared  ...           7.0           NL  43.601944 -79.547252    20.0   \n",
       "3            86  ...          42.0           DL  43.785167 -79.293430   118.0   \n",
       "4        shared  ...           5.0           NL  43.739337 -79.421889    39.0   \n",
       "\n",
       "                            NBHDName  TPLNIA  WardNo               WardName  \\\n",
       "0  Mount Olive-Silverstone-Jamestown     1.0     1.0        Etobicoke North   \n",
       "1               Clairlea-Birchmount      1.0    20.0  Scarborough Southwest   \n",
       "2                          Alderwood     0.0     3.0    Etobicoke-Lakeshore   \n",
       "3            Tam O'Shanter-Sullivan      0.0    22.0  Scarborough-Agincourt   \n",
       "4              Bedford Park-Nortown      0.0     8.0      Eglinton-Lawrence   \n",
       "\n",
       "   PresentSiteYear  \n",
       "0           2017.0  \n",
       "1           1971.0  \n",
       "2           1999.0  \n",
       "3           1991.0  \n",
       "4           1982.0  \n",
       "\n",
       "[5 rows x 27 columns]"
      ]
     },
     "execution_count": 32,
     "metadata": {},
     "output_type": "execute_result"
    }
   ],
   "source": [
    "# To get resource data:\n",
    "# iterate over the resources\n",
    "for idx, resource in enumerate(package[\"result\"][\"resources\"]):\n",
    "\n",
    "    # set a condition for when you want to access the resource:\n",
    "    if resource[\"datastore_active\"]:\n",
    "\n",
    "        # to get all records in CSV format (this is specific to CKAN's API)\n",
    "        url = base_url + \"/datastore/dump/\" + resource[\"id\"]\n",
    "        # do a GET request on the url and access its text attribute\n",
    "        resource_dump_data = requests.get(url).text\n",
    "        # read the raw csv text into a pandas dataframe to work with it\n",
    "        tpl_libraries = pd.read_csv(StringIO(resource_dump_data), sep=\",\")\n",
    "tpl_libraries.head()"
   ]
  },
  {
   "cell_type": "markdown",
   "metadata": {
    "user_expressions": []
   },
   "source": [
    "Now that we have information on the libraries, let's see if we can find out a little more about them using the dataset `library-branch-programs-and-events-feed`. "
   ]
  },
  {
   "cell_type": "code",
   "execution_count": 33,
   "metadata": {
    "tags": []
   },
   "outputs": [],
   "source": [
    "# Toronto Open Data is stored in a CKAN instance. It's APIs are documented here:\n",
    "# https://docs.ckan.org/en/latest/api/\n",
    "\n",
    "# To interact with the API, you'll be making requests to:\n",
    "base_url = \"https://ckan0.cf.opendata.inter.prod-toronto.ca\"\n",
    "\n",
    "# Datasets are called \"packages\". Each package can contain many \"resources\"\n",
    "# To retrieve the metadata for this package and its resources, use the package name in this page's URL:\n",
    "url = base_url + \"/api/3/action/package_show\"\n",
    "params = { \"id\": \"library-branch-programs-and-events-feed\"}\n",
    "package = requests.get(url, params = params).json()"
   ]
  },
  {
   "cell_type": "code",
   "execution_count": 34,
   "metadata": {
    "tags": []
   },
   "outputs": [
    {
     "data": {
      "text/plain": [
       "[{'cache_last_updated': None,\n",
       "  'cache_url': None,\n",
       "  'created': '2023-06-20T19:41:22.030427',\n",
       "  'datastore_active': True,\n",
       "  'datastore_cache': {'CSV': '64b78724-6bba-45ac-b760-7faa046834bf',\n",
       "   'XML': '493579ec-0305-459e-8e8d-4a32db622c19',\n",
       "   'JSON': 'aa5e1425-77f4-4cb4-a8ea-eb5ce7d4f34c'},\n",
       "  'datastore_cache_last_update': '2023-09-28T11:19:56.813671',\n",
       "  'extract_job': 'Airflow - files_to_datastore.py - library-branch-programs-and-events-feed',\n",
       "  'format': 'CSV',\n",
       "  'hash': '',\n",
       "  'id': 'c73bbe54-3a48-4ada-8eef-a1a2864021e4',\n",
       "  'is_preview': True,\n",
       "  'last_modified': None,\n",
       "  'metadata_modified': '2023-09-28T11:19:56.983925',\n",
       "  'mimetype': 'application/json',\n",
       "  'mimetype_inner': None,\n",
       "  'name': 'tpl-events-feed',\n",
       "  'package_id': 'fb343332-03cd-40b9-a1c8-c03a4a85ca1e',\n",
       "  'package_name_or_id': 'library-branch-programs-and-events-feed',\n",
       "  'position': 0,\n",
       "  'resource_type': None,\n",
       "  'size': None,\n",
       "  'state': 'active',\n",
       "  'url': 'https://ckan0.cf.opendata.inter.prod-toronto.ca/datastore/dump/c73bbe54-3a48-4ada-8eef-a1a2864021e4',\n",
       "  'url_type': 'datastore'},\n",
       " {'cache_last_updated': None,\n",
       "  'cache_url': None,\n",
       "  'created': '2023-06-20T19:42:05.161328',\n",
       "  'datastore_active': False,\n",
       "  'datastore_resource_id': 'c73bbe54-3a48-4ada-8eef-a1a2864021e4',\n",
       "  'format': 'CSV',\n",
       "  'hash': '',\n",
       "  'id': '64b78724-6bba-45ac-b760-7faa046834bf',\n",
       "  'is_datastore_cache_file': True,\n",
       "  'is_preview': None,\n",
       "  'last_modified': '2023-09-28T11:19:53.573616',\n",
       "  'metadata_modified': '2023-09-28T11:19:53.767912',\n",
       "  'mimetype': 'application/octet-stream',\n",
       "  'mimetype_inner': None,\n",
       "  'name': 'tpl-events-feed.csv',\n",
       "  'package_id': 'fb343332-03cd-40b9-a1c8-c03a4a85ca1e',\n",
       "  'position': 1,\n",
       "  'resource_type': None,\n",
       "  'size': 4505103,\n",
       "  'state': 'active',\n",
       "  'url': 'https://ckan0.cf.opendata.inter.prod-toronto.ca/dataset/fb343332-03cd-40b9-a1c8-c03a4a85ca1e/resource/64b78724-6bba-45ac-b760-7faa046834bf/download/tpl-events-feed.csv',\n",
       "  'url_type': 'upload'},\n",
       " {'cache_last_updated': None,\n",
       "  'cache_url': None,\n",
       "  'created': '2023-06-20T19:42:05.905743',\n",
       "  'datastore_active': False,\n",
       "  'datastore_resource_id': 'c73bbe54-3a48-4ada-8eef-a1a2864021e4',\n",
       "  'format': 'XML',\n",
       "  'hash': '',\n",
       "  'id': '493579ec-0305-459e-8e8d-4a32db622c19',\n",
       "  'is_datastore_cache_file': True,\n",
       "  'is_preview': None,\n",
       "  'last_modified': '2023-09-28T11:19:54.895231',\n",
       "  'metadata_modified': '2023-09-28T11:19:54.992412',\n",
       "  'mimetype': 'application/octet-stream',\n",
       "  'mimetype_inner': None,\n",
       "  'name': 'tpl-events-feed.xml',\n",
       "  'package_id': 'fb343332-03cd-40b9-a1c8-c03a4a85ca1e',\n",
       "  'position': 2,\n",
       "  'resource_type': None,\n",
       "  'size': 6813884,\n",
       "  'state': 'active',\n",
       "  'url': 'https://ckan0.cf.opendata.inter.prod-toronto.ca/dataset/fb343332-03cd-40b9-a1c8-c03a4a85ca1e/resource/493579ec-0305-459e-8e8d-4a32db622c19/download/tpl-events-feed.xml',\n",
       "  'url_type': 'upload'},\n",
       " {'cache_last_updated': None,\n",
       "  'cache_url': None,\n",
       "  'created': '2023-06-20T19:42:06.593106',\n",
       "  'datastore_active': False,\n",
       "  'datastore_resource_id': 'c73bbe54-3a48-4ada-8eef-a1a2864021e4',\n",
       "  'format': 'JSON',\n",
       "  'hash': '',\n",
       "  'id': 'aa5e1425-77f4-4cb4-a8ea-eb5ce7d4f34c',\n",
       "  'is_datastore_cache_file': True,\n",
       "  'is_preview': None,\n",
       "  'last_modified': '2023-09-28T11:19:55.946743',\n",
       "  'metadata_modified': '2023-09-28T11:19:56.050452',\n",
       "  'mimetype': 'application/octet-stream',\n",
       "  'mimetype_inner': None,\n",
       "  'name': 'tpl-events-feed.json',\n",
       "  'package_id': 'fb343332-03cd-40b9-a1c8-c03a4a85ca1e',\n",
       "  'position': 3,\n",
       "  'resource_type': None,\n",
       "  'size': 6161198,\n",
       "  'state': 'active',\n",
       "  'url': 'https://ckan0.cf.opendata.inter.prod-toronto.ca/dataset/fb343332-03cd-40b9-a1c8-c03a4a85ca1e/resource/aa5e1425-77f4-4cb4-a8ea-eb5ce7d4f34c/download/tpl-events-feed.json',\n",
       "  'url_type': 'upload'}]"
      ]
     },
     "execution_count": 34,
     "metadata": {},
     "output_type": "execute_result"
    }
   ],
   "source": [
    "[x for x in package[\"result\"][\"resources\"]]"
   ]
  },
  {
   "cell_type": "code",
   "execution_count": 35,
   "metadata": {
    "tags": []
   },
   "outputs": [
    {
     "data": {
      "text/html": [
       "<div>\n",
       "<style scoped>\n",
       "    .dataframe tbody tr th:only-of-type {\n",
       "        vertical-align: middle;\n",
       "    }\n",
       "\n",
       "    .dataframe tbody tr th {\n",
       "        vertical-align: top;\n",
       "    }\n",
       "\n",
       "    .dataframe thead th {\n",
       "        text-align: right;\n",
       "    }\n",
       "</style>\n",
       "<table border=\"1\" class=\"dataframe\">\n",
       "  <thead>\n",
       "    <tr style=\"text-align: right;\">\n",
       "      <th></th>\n",
       "      <th>_id</th>\n",
       "      <th>title</th>\n",
       "      <th>startdate</th>\n",
       "      <th>enddate</th>\n",
       "      <th>starttime</th>\n",
       "      <th>endtime</th>\n",
       "      <th>length</th>\n",
       "      <th>library</th>\n",
       "      <th>location</th>\n",
       "      <th>description</th>\n",
       "      <th>...</th>\n",
       "      <th>agegroup2</th>\n",
       "      <th>agegroup3</th>\n",
       "      <th>relatedlink</th>\n",
       "      <th>relatedlinktext</th>\n",
       "      <th>imagepath</th>\n",
       "      <th>imagetext</th>\n",
       "      <th>imageheight</th>\n",
       "      <th>imagewidth</th>\n",
       "      <th>otherinfo</th>\n",
       "      <th>lastupdated</th>\n",
       "    </tr>\n",
       "  </thead>\n",
       "  <tbody>\n",
       "    <tr>\n",
       "      <th>0</th>\n",
       "      <td>1</td>\n",
       "      <td>Down the Fairy Tale Road: 200 Years of Brothers Grimm in English</td>\n",
       "      <td>2023-10-25</td>\n",
       "      <td>2024-01-13</td>\n",
       "      <td>None</td>\n",
       "      <td>None</td>\n",
       "      <td>1380.0</td>\n",
       "      <td>Lillian H. Smith</td>\n",
       "      <td>None</td>\n",
       "      <td>Celebrating the 200th anniversary of the first English translation of the folk and fairy tales of the Brothers Grimm. Featuring tales collected by German linguists and folklorists Jacob and Wilhelm Grimm. Beloved tales including Snow White, Little Red Riding Hood, Hansel &amp; Gr...</td>\n",
       "      <td>...</td>\n",
       "      <td>School-Age Children</td>\n",
       "      <td>Teen</td>\n",
       "      <td>None</td>\n",
       "      <td>None</td>\n",
       "      <td>None</td>\n",
       "      <td>None</td>\n",
       "      <td>None</td>\n",
       "      <td>None</td>\n",
       "      <td>{\"smallImageURL\":\"https://tpl.razuna.com/assets/3434/AFFE3E8A206E4A0296C482610291AC65/img/454A8EA93B54442EAB17EE1A9CA5F0C9/cinderella_454A8EA93B54442EAB17EE1A9CA5F0C9.jpg\",\"mediumImageURL\":\"https://tpl.razuna.com/assets/3434/AFFE3E8A206E4A0296C482610291AC65/img/B9610D809A7241...</td>\n",
       "      <td>2023-09-14T16:56:19Z</td>\n",
       "    </tr>\n",
       "    <tr>\n",
       "      <th>1</th>\n",
       "      <td>2</td>\n",
       "      <td>Dog Days: Dogs in Children's Books</td>\n",
       "      <td>2023-07-31</td>\n",
       "      <td>2023-10-14</td>\n",
       "      <td>None</td>\n",
       "      <td>None</td>\n",
       "      <td>1380.0</td>\n",
       "      <td>Lillian H. Smith</td>\n",
       "      <td>None</td>\n",
       "      <td>Every dog has its day in this exhibit at the Osborne Collection of Early Children's Books. From Old Yeller to Lassie to Harry the Dirty Dog, fall in puppy love with all the books that celebrate our best friends.  &lt;br /&gt;&lt;br /&gt;July 31 - October 14 &lt;br /&gt;&lt;br /&gt;Free. All are welc...</td>\n",
       "      <td>...</td>\n",
       "      <td>School-Age Children</td>\n",
       "      <td>Teen</td>\n",
       "      <td>None</td>\n",
       "      <td>None</td>\n",
       "      <td>None</td>\n",
       "      <td>None</td>\n",
       "      <td>None</td>\n",
       "      <td>None</td>\n",
       "      <td>{\"smallImageURL\":\"https://tpl.razuna.com/assets/3434/B9890D3382984035A76621B50B5F38E3/img/14FC9EA5C7BA4EE5B170E2AEADEF748B/dog_14FC9EA5C7BA4EE5B170E2AEADEF748B.jpg\",\"mediumImageURL\":\"https://tpl.razuna.com/assets/3434/B9890D3382984035A76621B50B5F38E3/img/2B015187C6AC42208DB18...</td>\n",
       "      <td>2023-06-08T15:59:50Z</td>\n",
       "    </tr>\n",
       "    <tr>\n",
       "      <th>2</th>\n",
       "      <td>3</td>\n",
       "      <td>Sunday Storytimes, Crafts and Games</td>\n",
       "      <td>2023-10-01</td>\n",
       "      <td>2023-12-17</td>\n",
       "      <td>None</td>\n",
       "      <td>None</td>\n",
       "      <td>NaN</td>\n",
       "      <td>Maria A. Shchuka</td>\n",
       "      <td>None</td>\n",
       "      <td>Storytimes, crafts and games for children 0-10 years old.&lt;br /&gt;Time: 3-4pm, every Sunday, October to December.</td>\n",
       "      <td>...</td>\n",
       "      <td>Pre-School Children</td>\n",
       "      <td>School-Age Children</td>\n",
       "      <td>None</td>\n",
       "      <td>None</td>\n",
       "      <td>None</td>\n",
       "      <td>None</td>\n",
       "      <td>None</td>\n",
       "      <td>None</td>\n",
       "      <td>None</td>\n",
       "      <td>2023-09-17T17:02:15Z</td>\n",
       "    </tr>\n",
       "    <tr>\n",
       "      <th>3</th>\n",
       "      <td>4</td>\n",
       "      <td>Pop up Learning lab - After School Activities for Kids</td>\n",
       "      <td>2023-10-04</td>\n",
       "      <td>2023-10-25</td>\n",
       "      <td>None</td>\n",
       "      <td>None</td>\n",
       "      <td>NaN</td>\n",
       "      <td>St. Clair/Silverthorn</td>\n",
       "      <td>None</td>\n",
       "      <td>Join us every Wednesday from 4-5pm with Pop up Learning Labs as we explore the world of tech, Coding 3D printing and 3D design. &lt;br /&gt;&lt;br /&gt;Scratch Coding &lt;br /&gt;Wednesday October 4th 2023 &lt;br /&gt;&lt;br /&gt;3D Design for kids &lt;br /&gt;Wednesday October 11th 2023&lt;br /&gt;&lt;br /&gt;Makey Makey&lt;...</td>\n",
       "      <td>...</td>\n",
       "      <td>None</td>\n",
       "      <td>None</td>\n",
       "      <td>None</td>\n",
       "      <td>None</td>\n",
       "      <td>None</td>\n",
       "      <td>None</td>\n",
       "      <td>None</td>\n",
       "      <td>None</td>\n",
       "      <td>None</td>\n",
       "      <td>2023-09-13T09:23:48Z</td>\n",
       "    </tr>\n",
       "    <tr>\n",
       "      <th>4</th>\n",
       "      <td>5</td>\n",
       "      <td>Handmade Humanoids: A Merril Collection Exhibit</td>\n",
       "      <td>2023-10-16</td>\n",
       "      <td>2023-12-30</td>\n",
       "      <td>None</td>\n",
       "      <td>None</td>\n",
       "      <td>NaN</td>\n",
       "      <td>Lillian H. Smith</td>\n",
       "      <td>None</td>\n",
       "      <td>Whether they're made of metal, mud or magic, fiction is full of fantastic human-shaped creatures that aren't quite human. There are golems and robots, puppets and clones, magical constructs and more. Come and explore their stories at this exhibit!&lt;br /&gt;&lt;br /&gt;Free. All are wel...</td>\n",
       "      <td>...</td>\n",
       "      <td>Teen</td>\n",
       "      <td>None</td>\n",
       "      <td>None</td>\n",
       "      <td>None</td>\n",
       "      <td>None</td>\n",
       "      <td>None</td>\n",
       "      <td>None</td>\n",
       "      <td>None</td>\n",
       "      <td>{\"smallImageURL\":\"https://tpl.razuna.com/assets/3434/D153343069004201AE3553348BE37E30/img/115CDCC0E6C6434CB4318D0390AD16B4/Metropolis_Aubrey_hammond_events_115CDCC0E6C6434CB4318D0390AD16B4.jpg\",\"mediumImageURL\":\"https://tpl.razuna.com/assets/3434/D153343069004201AE3553348BE37...</td>\n",
       "      <td>2023-08-17T09:16:53Z</td>\n",
       "    </tr>\n",
       "  </tbody>\n",
       "</table>\n",
       "<p>5 rows × 27 columns</p>\n",
       "</div>"
      ],
      "text/plain": [
       "   _id                                                             title  \\\n",
       "0    1  Down the Fairy Tale Road: 200 Years of Brothers Grimm in English   \n",
       "1    2                                Dog Days: Dogs in Children's Books   \n",
       "2    3                               Sunday Storytimes, Crafts and Games   \n",
       "3    4            Pop up Learning lab - After School Activities for Kids   \n",
       "4    5                   Handmade Humanoids: A Merril Collection Exhibit   \n",
       "\n",
       "    startdate     enddate starttime endtime  length                library  \\\n",
       "0  2023-10-25  2024-01-13      None    None  1380.0       Lillian H. Smith   \n",
       "1  2023-07-31  2023-10-14      None    None  1380.0       Lillian H. Smith   \n",
       "2  2023-10-01  2023-12-17      None    None     NaN       Maria A. Shchuka   \n",
       "3  2023-10-04  2023-10-25      None    None     NaN  St. Clair/Silverthorn   \n",
       "4  2023-10-16  2023-12-30      None    None     NaN       Lillian H. Smith   \n",
       "\n",
       "  location  \\\n",
       "0     None   \n",
       "1     None   \n",
       "2     None   \n",
       "3     None   \n",
       "4     None   \n",
       "\n",
       "                                                                                                                                                                                                                                                                               description  \\\n",
       "0  Celebrating the 200th anniversary of the first English translation of the folk and fairy tales of the Brothers Grimm. Featuring tales collected by German linguists and folklorists Jacob and Wilhelm Grimm. Beloved tales including Snow White, Little Red Riding Hood, Hansel & Gr...   \n",
       "1  Every dog has its day in this exhibit at the Osborne Collection of Early Children's Books. From Old Yeller to Lassie to Harry the Dirty Dog, fall in puppy love with all the books that celebrate our best friends.  <br /><br />July 31 - October 14 <br /><br />Free. All are welc...   \n",
       "2                                                                                                                                                                           Storytimes, crafts and games for children 0-10 years old.<br />Time: 3-4pm, every Sunday, October to December.   \n",
       "3  Join us every Wednesday from 4-5pm with Pop up Learning Labs as we explore the world of tech, Coding 3D printing and 3D design. <br /><br />Scratch Coding <br />Wednesday October 4th 2023 <br /><br />3D Design for kids <br />Wednesday October 11th 2023<br /><br />Makey Makey<...   \n",
       "4  Whether they're made of metal, mud or magic, fiction is full of fantastic human-shaped creatures that aren't quite human. There are golems and robots, puppets and clones, magical constructs and more. Come and explore their stories at this exhibit!<br /><br />Free. All are wel...   \n",
       "\n",
       "   ...            agegroup2            agegroup3  relatedlink relatedlinktext  \\\n",
       "0  ...  School-Age Children                 Teen         None            None   \n",
       "1  ...  School-Age Children                 Teen         None            None   \n",
       "2  ...  Pre-School Children  School-Age Children         None            None   \n",
       "3  ...                 None                 None         None            None   \n",
       "4  ...                 Teen                 None         None            None   \n",
       "\n",
       "  imagepath imagetext imageheight imagewidth  \\\n",
       "0      None      None        None       None   \n",
       "1      None      None        None       None   \n",
       "2      None      None        None       None   \n",
       "3      None      None        None       None   \n",
       "4      None      None        None       None   \n",
       "\n",
       "                                                                                                                                                                                                                                                                                 otherinfo  \\\n",
       "0  {\"smallImageURL\":\"https://tpl.razuna.com/assets/3434/AFFE3E8A206E4A0296C482610291AC65/img/454A8EA93B54442EAB17EE1A9CA5F0C9/cinderella_454A8EA93B54442EAB17EE1A9CA5F0C9.jpg\",\"mediumImageURL\":\"https://tpl.razuna.com/assets/3434/AFFE3E8A206E4A0296C482610291AC65/img/B9610D809A7241...   \n",
       "1  {\"smallImageURL\":\"https://tpl.razuna.com/assets/3434/B9890D3382984035A76621B50B5F38E3/img/14FC9EA5C7BA4EE5B170E2AEADEF748B/dog_14FC9EA5C7BA4EE5B170E2AEADEF748B.jpg\",\"mediumImageURL\":\"https://tpl.razuna.com/assets/3434/B9890D3382984035A76621B50B5F38E3/img/2B015187C6AC42208DB18...   \n",
       "2                                                                                                                                                                                                                                                                                     None   \n",
       "3                                                                                                                                                                                                                                                                                     None   \n",
       "4  {\"smallImageURL\":\"https://tpl.razuna.com/assets/3434/D153343069004201AE3553348BE37E30/img/115CDCC0E6C6434CB4318D0390AD16B4/Metropolis_Aubrey_hammond_events_115CDCC0E6C6434CB4318D0390AD16B4.jpg\",\"mediumImageURL\":\"https://tpl.razuna.com/assets/3434/D153343069004201AE3553348BE37...   \n",
       "\n",
       "            lastupdated  \n",
       "0  2023-09-14T16:56:19Z  \n",
       "1  2023-06-08T15:59:50Z  \n",
       "2  2023-09-17T17:02:15Z  \n",
       "3  2023-09-13T09:23:48Z  \n",
       "4  2023-08-17T09:16:53Z  \n",
       "\n",
       "[5 rows x 27 columns]"
      ]
     },
     "execution_count": 35,
     "metadata": {},
     "output_type": "execute_result"
    }
   ],
   "source": [
    "# To get resource data:\n",
    "# iterate over the resources\n",
    "for idx, resource in enumerate(package[\"result\"][\"resources\"]):\n",
    "\n",
    "    # set a condition for when you want to access the resource:\n",
    "    if resource[\"datastore_active\"]:\n",
    "\n",
    "        # to get all records in CSV format (this is specific to CKAN's API)\n",
    "        url = base_url + \"/datastore/dump/\" + resource[\"id\"]\n",
    "        # do a GET request on the url and access its text attribute\n",
    "        resource_dump_data = requests.get(url).text\n",
    "        # read the raw csv text into a pandas dataframe to work with it\n",
    "        tpl_events = pd.read_csv(StringIO(resource_dump_data), sep=\",\")\n",
    "tpl_events.head()"
   ]
  },
  {
   "cell_type": "code",
   "execution_count": 41,
   "metadata": {
    "tags": []
   },
   "outputs": [
    {
     "data": {
      "text/plain": [
       "array(['Agincourt', 'Albert Campbell', 'Albion', 'Alderwood',\n",
       "       'All Branches', 'Amesbury Park', 'Annette Street', 'Barbara Frum',\n",
       "       'Beaches', 'Bendale', 'Black Creek', 'Bloor/Gladstone',\n",
       "       'Brentwood', 'Bridlewood', 'Burrows Hall', 'Centennial',\n",
       "       'City Hall', 'Cliffcrest', 'College/Shaw', 'Danforth/Coxwell',\n",
       "       'Davenport', 'Dawes Road', 'Deer Park', 'Don Mills', 'Downsview',\n",
       "       'Dufferin/St. Clair', 'Eatonville', 'Eglinton Square',\n",
       "       'Elmbrook Park', \"Ethennonnhawahstihnen'\", 'Evelyn Gregory',\n",
       "       'Fairview', 'Flemingdon Park', 'Forest Hill', 'Fort York',\n",
       "       'Gerrard/Ashdale', 'Goldhawk Park', 'Guildwood', 'High Park',\n",
       "       'Highland Creek', 'Hillcrest', 'Humber Summit', 'Humberwood',\n",
       "       'Jane/Dundas', 'Jane/Sheppard', 'Jones', 'Kennedy/Eglinton',\n",
       "       'Leaside', 'Lillian H. Smith', 'Locke', 'Long Branch',\n",
       "       'Main Street', 'Malvern', 'Maria A. Shchuka', 'Maryvale',\n",
       "       'McGregor Park', 'Mimico Centennial', 'Morningside',\n",
       "       'Mount Dennis', 'New Toronto', 'North York Central Library',\n",
       "       'Northern District', 'Northern Elms',\n",
       "       'Oakwood Village Library and Arts Centre', 'Palmerston',\n",
       "       'Pape/Danforth', 'Parkdale', 'Parliament Street', 'Perth/Dupont',\n",
       "       'Pleasant View', 'Port Union', 'Queen/Saulter', 'Rexdale',\n",
       "       'Richview', 'Riverdale', 'Runnymede', 'S. Walter Stewart',\n",
       "       'Sanderson', 'Scarborough Civic Centre', 'Spadina Road',\n",
       "       'St. Clair/Silverthorn', 'St. James Town', 'St. Lawrence',\n",
       "       'Steeles', 'Swansea Memorial', 'Taylor Memorial', 'Thorncliffe',\n",
       "       'Toronto Reference Library', 'Victoria Village', 'Weston',\n",
       "       'Woodside Square', 'Woodview Park', 'Wychwood', 'York Woods',\n",
       "       'Yorkville'], dtype=object)"
      ]
     },
     "execution_count": 41,
     "metadata": {},
     "output_type": "execute_result"
    }
   ],
   "source": [
    "# what are the library locations?\n",
    "events_loc = tpl_events.sort_values(by = 'library')['library'].unique()\n",
    "events_loc"
   ]
  },
  {
   "cell_type": "code",
   "execution_count": 43,
   "metadata": {
    "tags": []
   },
   "outputs": [
    {
     "data": {
      "text/plain": [
       "array(['Agincourt', 'Albert Campbell', 'Albion', 'Alderwood',\n",
       "       'Amesbury Park', 'Annette Street', 'Answerline', 'Armour Heights',\n",
       "       'Automated Phone System', 'Barbara Frum', 'Beaches', 'Bendale',\n",
       "       'Black Creek', 'Bloor/Gladstone', 'Bookmobile One',\n",
       "       'Bookmobile Two', 'Brentwood', 'Bridlewood', 'Brookbanks',\n",
       "       'Burrows Hall', 'Cedarbrae', 'Centennial', 'City Hall',\n",
       "       'Cliffcrest', 'College/Shaw', 'Danforth/Coxwell', 'Davenport',\n",
       "       'Dawes Road', 'Deer Park', 'Departmental Staff', 'Don Mills',\n",
       "       'Downsview', 'Dufferin/St. Clair', 'Eatonville', 'Eglinton Square',\n",
       "       'Elmbrook Park', \"Ethennonnhawahstihnen'\", 'Evelyn Gregory',\n",
       "       'Fairview', 'Flemingdon Park', 'Forest Hill', 'Fort York',\n",
       "       'Gerrard/Ashdale', 'Goldhawk Park', 'Guildwood', 'High Park',\n",
       "       'Highland Creek', 'Hillcrest', 'Home Library Service',\n",
       "       'Humber Bay', 'Humber Summit', 'Humberwood', 'Interloan',\n",
       "       'Jane/Dundas', 'Jane/Sheppard', 'Jones', 'Kennedy/Eglinton',\n",
       "       'Leaside', 'Lillian H. Smith', 'Literacy Deposits', 'Locke',\n",
       "       'Long Branch', 'Main Street', 'Malvern', 'Maria A. Shchuka',\n",
       "       'Maryvale', 'McGregor Park', 'Merril Collection',\n",
       "       'Mimico Centennial', 'Morningside', 'Mount Dennis',\n",
       "       'Mount Pleasant', 'New Toronto', 'North York Central Library',\n",
       "       'Northern District', 'Northern Elms',\n",
       "       'Oakwood Village Library and Arts Centre', 'Osborne Collection',\n",
       "       'Palmerston', 'Pape/Danforth', 'Parkdale', 'Parliament Street',\n",
       "       'Perth/Dupont', 'Pleasant View', 'Port Union', 'Queen/Saulter',\n",
       "       'Rexdale', 'Richview', 'Riverdale', 'Runnymede',\n",
       "       'S. Walter Stewart', 'Sanderson', 'Scarborough Civic Centre',\n",
       "       'Spadina Road', 'St. Clair/Silverthorn', 'St. James Town',\n",
       "       'St. Lawrence', 'Steeles', 'Sunnybrook Hospital',\n",
       "       'Swansea Memorial', 'Taylor Memorial', 'Thorncliffe',\n",
       "       'Todmorden Room', 'Toronto Reference Library', 'Victoria Village',\n",
       "       'Virtual Library', 'Weston', 'Woodside Square', 'Woodview Park',\n",
       "       'Wychwood', 'York Woods', 'Yorkville'], dtype=object)"
      ]
     },
     "execution_count": 43,
     "metadata": {},
     "output_type": "execute_result"
    }
   ],
   "source": [
    "libraries_loc = tpl_libraries.sort_values(by = 'BranchName')['BranchName'].unique()\n",
    "libraries_loc"
   ]
  },
  {
   "cell_type": "code",
   "execution_count": 45,
   "metadata": {
    "tags": []
   },
   "outputs": [
    {
     "data": {
      "text/html": [
       "<div>\n",
       "<style scoped>\n",
       "    .dataframe tbody tr th:only-of-type {\n",
       "        vertical-align: middle;\n",
       "    }\n",
       "\n",
       "    .dataframe tbody tr th {\n",
       "        vertical-align: top;\n",
       "    }\n",
       "\n",
       "    .dataframe thead th {\n",
       "        text-align: right;\n",
       "    }\n",
       "</style>\n",
       "<table border=\"1\" class=\"dataframe\">\n",
       "  <thead>\n",
       "    <tr style=\"text-align: right;\">\n",
       "      <th></th>\n",
       "      <th>library</th>\n",
       "      <th>eventtype1</th>\n",
       "      <th>eventtype1</th>\n",
       "      <th>eventtype2</th>\n",
       "      <th>eventtype3</th>\n",
       "      <th>agegroup1</th>\n",
       "      <th>agegroup2</th>\n",
       "      <th>agegroup3</th>\n",
       "    </tr>\n",
       "  </thead>\n",
       "  <tbody>\n",
       "    <tr>\n",
       "      <th>0</th>\n",
       "      <td>Lillian H. Smith</td>\n",
       "      <td>00-Art Exhibits</td>\n",
       "      <td>00-Art Exhibits</td>\n",
       "      <td>00-Culture Arts &amp; Entertainment</td>\n",
       "      <td>01-Osborne Collection of Early Children's Books</td>\n",
       "      <td>Adult</td>\n",
       "      <td>School-Age Children</td>\n",
       "      <td>Teen</td>\n",
       "    </tr>\n",
       "    <tr>\n",
       "      <th>1</th>\n",
       "      <td>Lillian H. Smith</td>\n",
       "      <td>00-Art Exhibits</td>\n",
       "      <td>00-Art Exhibits</td>\n",
       "      <td>00-Culture Arts &amp; Entertainment</td>\n",
       "      <td>01-Osborne Collection of Early Children's Books</td>\n",
       "      <td>Adult</td>\n",
       "      <td>School-Age Children</td>\n",
       "      <td>Teen</td>\n",
       "    </tr>\n",
       "    <tr>\n",
       "      <th>2</th>\n",
       "      <td>Maria A. Shchuka</td>\n",
       "      <td>01-Ready for Reading Storytimes</td>\n",
       "      <td>01-Ready for Reading Storytimes</td>\n",
       "      <td>00-Hobbies Crafts &amp; Games</td>\n",
       "      <td>None</td>\n",
       "      <td>All Children</td>\n",
       "      <td>Pre-School Children</td>\n",
       "      <td>School-Age Children</td>\n",
       "    </tr>\n",
       "    <tr>\n",
       "      <th>3</th>\n",
       "      <td>St. Clair/Silverthorn</td>\n",
       "      <td>01-Pop-Up Learning Labs</td>\n",
       "      <td>01-Pop-Up Learning Labs</td>\n",
       "      <td>00-After School</td>\n",
       "      <td>None</td>\n",
       "      <td>School-Age Children</td>\n",
       "      <td>None</td>\n",
       "      <td>None</td>\n",
       "    </tr>\n",
       "    <tr>\n",
       "      <th>4</th>\n",
       "      <td>Lillian H. Smith</td>\n",
       "      <td>00-Culture Arts &amp; Entertainment</td>\n",
       "      <td>00-Culture Arts &amp; Entertainment</td>\n",
       "      <td>01-Merril Collection: Science Fiction &amp; ...</td>\n",
       "      <td>00-Art Exhibits</td>\n",
       "      <td>Adult</td>\n",
       "      <td>Teen</td>\n",
       "      <td>None</td>\n",
       "    </tr>\n",
       "    <tr>\n",
       "      <th>...</th>\n",
       "      <td>...</td>\n",
       "      <td>...</td>\n",
       "      <td>...</td>\n",
       "      <td>...</td>\n",
       "      <td>...</td>\n",
       "      <td>...</td>\n",
       "      <td>...</td>\n",
       "      <td>...</td>\n",
       "    </tr>\n",
       "    <tr>\n",
       "      <th>3979</th>\n",
       "      <td>St. James Town</td>\n",
       "      <td>00-Book Clubs &amp; Writers Groups</td>\n",
       "      <td>00-Book Clubs &amp; Writers Groups</td>\n",
       "      <td>None</td>\n",
       "      <td>None</td>\n",
       "      <td>Adult</td>\n",
       "      <td>Older Adult</td>\n",
       "      <td>None</td>\n",
       "    </tr>\n",
       "    <tr>\n",
       "      <th>3980</th>\n",
       "      <td>St. James Town</td>\n",
       "      <td>00-After School</td>\n",
       "      <td>00-After School</td>\n",
       "      <td>00-Science &amp; Technology</td>\n",
       "      <td>00-Hobbies Crafts &amp; Games</td>\n",
       "      <td>School-Age Children</td>\n",
       "      <td>None</td>\n",
       "      <td>None</td>\n",
       "    </tr>\n",
       "    <tr>\n",
       "      <th>3981</th>\n",
       "      <td>Gerrard/Ashdale</td>\n",
       "      <td>00-Science &amp; Technology</td>\n",
       "      <td>00-Science &amp; Technology</td>\n",
       "      <td>None</td>\n",
       "      <td>None</td>\n",
       "      <td>School-Age Children</td>\n",
       "      <td>None</td>\n",
       "      <td>None</td>\n",
       "    </tr>\n",
       "    <tr>\n",
       "      <th>3982</th>\n",
       "      <td>Dufferin/St. Clair</td>\n",
       "      <td>00-Culture Arts &amp; Entertainment</td>\n",
       "      <td>00-Culture Arts &amp; Entertainment</td>\n",
       "      <td>None</td>\n",
       "      <td>None</td>\n",
       "      <td>Adult</td>\n",
       "      <td>None</td>\n",
       "      <td>None</td>\n",
       "    </tr>\n",
       "    <tr>\n",
       "      <th>3983</th>\n",
       "      <td>Dawes Road</td>\n",
       "      <td>00-Hobbies Crafts &amp; Games</td>\n",
       "      <td>00-Hobbies Crafts &amp; Games</td>\n",
       "      <td>None</td>\n",
       "      <td>None</td>\n",
       "      <td>Adult</td>\n",
       "      <td>Teen</td>\n",
       "      <td>Older Adult</td>\n",
       "    </tr>\n",
       "  </tbody>\n",
       "</table>\n",
       "<p>3984 rows × 8 columns</p>\n",
       "</div>"
      ],
      "text/plain": [
       "                    library                       eventtype1  \\\n",
       "0          Lillian H. Smith                  00-Art Exhibits   \n",
       "1          Lillian H. Smith                  00-Art Exhibits   \n",
       "2          Maria A. Shchuka  01-Ready for Reading Storytimes   \n",
       "3     St. Clair/Silverthorn          01-Pop-Up Learning Labs   \n",
       "4          Lillian H. Smith  00-Culture Arts & Entertainment   \n",
       "...                     ...                              ...   \n",
       "3979         St. James Town   00-Book Clubs & Writers Groups   \n",
       "3980         St. James Town                  00-After School   \n",
       "3981        Gerrard/Ashdale          00-Science & Technology   \n",
       "3982     Dufferin/St. Clair  00-Culture Arts & Entertainment   \n",
       "3983             Dawes Road        00-Hobbies Crafts & Games   \n",
       "\n",
       "                           eventtype1  \\\n",
       "0                     00-Art Exhibits   \n",
       "1                     00-Art Exhibits   \n",
       "2     01-Ready for Reading Storytimes   \n",
       "3             01-Pop-Up Learning Labs   \n",
       "4     00-Culture Arts & Entertainment   \n",
       "...                               ...   \n",
       "3979   00-Book Clubs & Writers Groups   \n",
       "3980                  00-After School   \n",
       "3981          00-Science & Technology   \n",
       "3982  00-Culture Arts & Entertainment   \n",
       "3983        00-Hobbies Crafts & Games   \n",
       "\n",
       "                                       eventtype2  \\\n",
       "0                 00-Culture Arts & Entertainment   \n",
       "1                 00-Culture Arts & Entertainment   \n",
       "2                       00-Hobbies Crafts & Games   \n",
       "3                                 00-After School   \n",
       "4     01-Merril Collection: Science Fiction & ...   \n",
       "...                                           ...   \n",
       "3979                                         None   \n",
       "3980                      00-Science & Technology   \n",
       "3981                                         None   \n",
       "3982                                         None   \n",
       "3983                                         None   \n",
       "\n",
       "                                           eventtype3            agegroup1  \\\n",
       "0     01-Osborne Collection of Early Children's Books                Adult   \n",
       "1     01-Osborne Collection of Early Children's Books                Adult   \n",
       "2                                                None         All Children   \n",
       "3                                                None  School-Age Children   \n",
       "4                                     00-Art Exhibits                Adult   \n",
       "...                                               ...                  ...   \n",
       "3979                                             None                Adult   \n",
       "3980                        00-Hobbies Crafts & Games  School-Age Children   \n",
       "3981                                             None  School-Age Children   \n",
       "3982                                             None                Adult   \n",
       "3983                                             None                Adult   \n",
       "\n",
       "                agegroup2            agegroup3  \n",
       "0     School-Age Children                 Teen  \n",
       "1     School-Age Children                 Teen  \n",
       "2     Pre-School Children  School-Age Children  \n",
       "3                    None                 None  \n",
       "4                    Teen                 None  \n",
       "...                   ...                  ...  \n",
       "3979          Older Adult                 None  \n",
       "3980                 None                 None  \n",
       "3981                 None                 None  \n",
       "3982                 None                 None  \n",
       "3983                 Teen          Older Adult  \n",
       "\n",
       "[3984 rows x 8 columns]"
      ]
     },
     "execution_count": 45,
     "metadata": {},
     "output_type": "execute_result"
    }
   ],
   "source": [
    "tpl_events[['library', 'eventtype1', 'eventtype1', 'eventtype2', 'eventtype3', 'agegroup1','agegroup2', 'agegroup3']]"
   ]
  },
  {
   "cell_type": "markdown",
   "metadata": {
    "user_expressions": []
   },
   "source": [
    "Let's use the `.groupby()` method to summarize event types by library locations.\n",
    "\n",
    "The `.groupby()` method takes in a table, a column, and optionally, an aggregate function (the default is count() which counts how many rows have the same value for the column we are grouping by. Other options include sum() and max() or min()). Groupby goes through each row, looks at the column that has been given to it of the current row, and groups each row based on if they have the same value at given column. After it has a list of rows for each distinct column value, it applies the aggregate function for each list, and returns a table of each distinct column value with the aggregate function applied to the rows that corresponded with the column."
   ]
  },
  {
   "cell_type": "code",
   "execution_count": 49,
   "metadata": {
    "tags": []
   },
   "outputs": [
    {
     "data": {
      "text/plain": [
       "eventtype1                     library                  \n",
       "00-Adult Literacy              All Branches                  1\n",
       "00-After School                Agincourt                     1\n",
       "                               Albert Campbell               5\n",
       "                               Albion                       12\n",
       "                               Barbara Frum                 11\n",
       "                                                            ..\n",
       "01-TPL Teens                   Thorncliffe                  18\n",
       "                               Toronto Reference Library     2\n",
       "                               Woodside Square               3\n",
       "01-Writer in Residence         Toronto Reference Library     7\n",
       "z-DO NOT USE - Fragile Planet  Jones                         1\n",
       "Length: 633, dtype: int64"
      ]
     },
     "execution_count": 49,
     "metadata": {},
     "output_type": "execute_result"
    }
   ],
   "source": [
    "tpl_events[['library', 'eventtype1']].groupby(['eventtype1', 'library']).size()"
   ]
  },
  {
   "cell_type": "code",
   "execution_count": null,
   "metadata": {
    "tags": []
   },
   "outputs": [],
   "source": [
    "# Toronto Open Data is stored in a CKAN instance. It's APIs are documented here:\n",
    "# https://docs.ckan.org/en/latest/api/\n",
    "\n",
    "# To hit our API, you'll be making requests to:\n",
    "base_url = \"https://ckan0.cf.opendata.inter.prod-toronto.ca\"\n",
    "\n",
    "# Datasets are called \"packages\". Each package can contain many \"resources\"\n",
    "# To retrieve the metadata for this package and its resources, use the package name in this page's URL:\n",
    "url = base_url + \"/api/3/action/package_show\"\n",
    "params = { \"id\": \"rain-gauge-locations-and-precipitation\"}\n",
    "package = requests.get(url, params = params).json()"
   ]
  },
  {
   "cell_type": "code",
   "execution_count": 24,
   "metadata": {
    "tags": []
   },
   "outputs": [
    {
     "ename": "KeyError",
     "evalue": "0",
     "output_type": "error",
     "traceback": [
      "\u001b[0;31m---------------------------------------------------------------------------\u001b[0m",
      "\u001b[0;31mKeyError\u001b[0m                                  Traceback (most recent call last)",
      "Cell \u001b[0;32mIn[24], line 2\u001b[0m\n\u001b[1;32m      1\u001b[0m \u001b[38;5;66;03m# This accesses the first (zero index) element of the list\u001b[39;00m\n\u001b[0;32m----> 2\u001b[0m \u001b[43mpackage\u001b[49m\u001b[43m[\u001b[49m\u001b[38;5;241;43m0\u001b[39;49m\u001b[43m]\u001b[49m\n",
      "\u001b[0;31mKeyError\u001b[0m: 0"
     ]
    }
   ],
   "source": [
    "# This accesses the first (zero index) element of the list\n",
    "package[0]"
   ]
  },
  {
   "cell_type": "code",
   "execution_count": null,
   "metadata": {
    "tags": []
   },
   "outputs": [],
   "source": [
    "# let's look at which resources are available from this package\n",
    "[x for x in package[\"result\"][\"resources\"]]"
   ]
  },
  {
   "cell_type": "code",
   "execution_count": null,
   "metadata": {
    "tags": []
   },
   "outputs": [],
   "source": [
    "# To get resource data, iterate over the package\n",
    "for idx, resource in enumerate(package[\"result\"][\"resources\"]):\n",
    "\n",
    "    # a CKAN value to indicate it can be downloaded\n",
    "    if not resource[\"datastore_active\"]:\n",
    "        # the name/url of the resource we want\n",
    "        if resource['name'] == \"precipitation-data-2022\":\n",
    "            # get its url and read it into a pandas dataframe in memory\n",
    "            resource_url = resource[\"url\"]\n",
    "            resource_data = pd.read_csv(resource_url)"
   ]
  },
  {
   "cell_type": "code",
   "execution_count": null,
   "metadata": {},
   "outputs": [],
   "source": []
  },
  {
   "cell_type": "markdown",
   "metadata": {
    "user_expressions": []
   },
   "source": [
    "If you are having trouble with the previous cell, you can read in an already downloaded version of the dataset using the next cell."
   ]
  },
  {
   "cell_type": "code",
   "execution_count": null,
   "metadata": {
    "tags": []
   },
   "outputs": [],
   "source": [
    "resource_data"
   ]
  },
  {
   "cell_type": "markdown",
   "metadata": {},
   "source": []
  },
  {
   "cell_type": "code",
   "execution_count": null,
   "metadata": {},
   "outputs": [],
   "source": []
  },
  {
   "cell_type": "markdown",
   "metadata": {
    "user_expressions": []
   },
   "source": [
    "## Data Cleaning\n",
    "---\n",
    "The dictionary we were looking at above is a little bit hard to interpret because there dictionaries nested inside of some our keys. We can look only at the first level of keys in our dictionary by using the `.keys()` method."
   ]
  },
  {
   "cell_type": "code",
   "execution_count": null,
   "metadata": {},
   "outputs": [],
   "source": [
    "gentrification[0].keys()\n",
    "# You can also use .values() to access all of the values"
   ]
  },
  {
   "cell_type": "markdown",
   "metadata": {},
   "source": [
    "Unfortunately, Twitter by default does not attach geographic data to the metadata of each tweet. To get around this, we can use the location associated to the account of each poster. First, we want to extract only the parts of the data that are relevant to what we are looking for. To do this, we first need to turn our list of dictionaries into a `pandas DataFrame`. Fortunately, there is a function that can do this easily for us."
   ]
  },
  {
   "cell_type": "code",
   "execution_count": null,
   "metadata": {},
   "outputs": [],
   "source": [
    "#gentrification_df = pd.DataFrame(gentrification)\n",
    "tpl_libraries.columns"
   ]
  },
  {
   "cell_type": "markdown",
   "metadata": {
    "user_expressions": []
   },
   "source": [
    "Next, we want to extract out only the columns that are relevant to us. Discarding columns that do not help us answer our question can be helpful because it prevents the computer from having to do unnecessary computations. However, if we want to be able to connect any conclusions we make after we get rid of columns, it is helpful to keep an identifying column in your `DataFrame` even if you are not performing analyses on it."
   ]
  },
  {
   "cell_type": "code",
   "execution_count": null,
   "metadata": {},
   "outputs": [],
   "source": [
    "users = tpl_libraries[['id', 'user']]"
   ]
  },
  {
   "cell_type": "markdown",
   "metadata": {},
   "source": [
    "Let's take a closer look at an element of the `user` column."
   ]
  },
  {
   "cell_type": "code",
   "execution_count": null,
   "metadata": {},
   "outputs": [],
   "source": [
    "users.loc[0, 'user']"
   ]
  },
  {
   "cell_type": "markdown",
   "metadata": {
    "user_expressions": []
   },
   "source": [
    "In each row, the `user` column contains another dictionary with information about the user who posted the tweet. We can access the user's location using the `location` key.\n",
    "\n",
    "The strategy that we are going to use to extract the locations from each user will be to iterate through the rows of `users`; at each row we will add the tweet id and the user location to a new dictionary. This dictionary will then be added to a list. Once we have iterated through all of the rows of `users`, we will convert our final list of dictionaries into a `DataFrame`."
   ]
  },
  {
   "cell_type": "code",
   "execution_count": null,
   "metadata": {},
   "outputs": [],
   "source": [
    "# Create an empty list.\n",
    "locations_list = list()\n",
    "\n",
    "for i in range(len(users)):\n",
    "    # Create an empty dictionary.\n",
    "    new_entry = {}\n",
    "    # Copy the tweet id into the new dictionary.\n",
    "    new_entry['id'] = users.loc[i, 'id']\n",
    "    # Create a new key ('location') and assign it to the location of the user who\n",
    "    # wrote that tweet.\n",
    "    new_entry['location'] = users.loc[i, 'user']['location']\n",
    "    # Append the dictionary as another element of our list.\n",
    "    locations_list.append(new_entry)\n",
    "    \n",
    "# Transform our list into a DataFrame. As before, each element of the list becomes\n",
    "# a row in the DataFrame, and each key becomes a column.\n",
    "all_locations = pd.DataFrame(locations_list)\n",
    "\n",
    "# Display the first 10 tweets.\n",
    "all_locations.head(10)"
   ]
  },
  {
   "cell_type": "markdown",
   "metadata": {
    "user_expressions": []
   },
   "source": [
    "Clearly this isn't a foolproof method, since the location associated with an account may have little bearing on the actual location from which a tweet was posted. Also, not all users have a specific location connected to their account. Depending on the data you have pulled from Twitter, you may also notice that some of the \"locations\" are not actually real places. We can do a bit of data cleaning to filter out the rows that contain true locations. First, let's get rid of the rows that do not contain any text at all in the `location` column."
   ]
  },
  {
   "cell_type": "code",
   "execution_count": null,
   "metadata": {},
   "outputs": [],
   "source": [
    "# Create an empty DataFrame with the columns 'location' and 'id'\n",
    "no_empties = pd.DataFrame(columns = ['id', 'location'])\n",
    "for i in range(len(all_locations)):\n",
    "    # This filters out tweets whose location column is an empty string.\n",
    "    if all_locations.loc[i, \"location\"] != '':\n",
    "        no_empties = no_empties.append(all_locations.loc[i,:])\n",
    "no_empties.head(10)"
   ]
  },
  {
   "cell_type": "markdown",
   "metadata": {},
   "source": [
    "This looks pretty good! We would still like to filter through our locations for places that actually exist. Let's use the `.groupby()` method to take a look at what locations we have in our data.\n",
    "\n",
    "The `.groupby()` method takes in a table, a column, and optionally, an aggregate function (the default is count() which counts how many rows have the same value for the column we are grouping by. Other options include sum() and max() or min()). Groupby goes through each row, looks at the column that has been given to it of the current row, and groups each row based on if they have the same value at given column. After it has a list of rows for each distinct column value, it applies the aggregate function for each list, and returns a table of each distinct column value with the aggregate function applied to the rows that corresponded with the column."
   ]
  },
  {
   "cell_type": "code",
   "execution_count": null,
   "metadata": {},
   "outputs": [],
   "source": [
    "no_empties.groupby('location').count()"
   ]
  },
  {
   "cell_type": "markdown",
   "metadata": {},
   "source": [
    "If you scroll through this list, you will likely see a whole litany of \"locations\" that do not resemble locations since the user is allowed to write whatever they like as their location. We do not have time to day to sort through all of these right now, so we are goign to move on to a few other techniques that we can use to analyze these kinds of data."
   ]
  },
  {
   "cell_type": "markdown",
   "metadata": {
    "user_expressions": []
   },
   "source": [
    "Since many of the tweets we scraped earlier do not have useful locations, we may want to filter by location when we ask the API for tweets. We can use the same function as before, using the optional `location` argument. The format of the location argument is `\"latitude,longitude,radius\"`. The following code searches for tweets hashtagged \"gentrification\" within a 5 km radius of the Temescal Oakland area."
   ]
  },
  {
   "cell_type": "code",
   "execution_count": null,
   "metadata": {},
   "outputs": [],
   "source": [
    "gentrification_oak = download_recent_tweets_by_hashtag(hashtag = \"gentrification\",\n",
    "                                                       keys = keys,\n",
    "                                                       location = \"37.829314,-122.264433,5km\",\n",
    "                                                       count = 100)"
   ]
  },
  {
   "cell_type": "markdown",
   "metadata": {},
   "source": [
    "If you are running into errors downloading these tweets, uncomment and run the following cell to load in tweets that we scraped earlier."
   ]
  },
  {
   "cell_type": "markdown",
   "metadata": {
    "user_expressions": []
   },
   "source": [
    "**Your turn:** Let's use the procedure we went through earlier to find the most common public library event type for each year. We've provided some starter code, but you need to fill in wherever you see a `...`!"
   ]
  },
  {
   "cell_type": "code",
   "execution_count": null,
   "metadata": {},
   "outputs": [],
   "source": [
    "tpl_events = pd.DataFrame(gentrification_oak)\n",
    "event_types = ... # select columns of interest"
   ]
  },
  {
   "cell_type": "code",
   "execution_count": null,
   "metadata": {},
   "outputs": [],
   "source": [
    "locations_list_oak = list()\n",
    "for i in range(len(users_oak)):\n",
    "    new_entry = {}\n",
    "    new_entry['id'] = users_oak.loc[i, 'id']\n",
    "    new_entry['location'] = users_oak.loc[i, 'user']['location']\n",
    "    locations_list_oak.append(...) # we want to add the new entry to our list\n",
    "all_locations_oak = ... # turn the list into a DataFrame\n",
    "\n",
    "no_empties_oak = pd.DataFrame(columns = ['id', 'location'])\n",
    "for i in range(len(all_locations_oak)):\n",
    "    if all_locations_oak.loc[i, \"location\"] != '':\n",
    "        no_empties_oak = no_empties_oak.append(all_locations_oak.loc[i,:])\n",
    "        \n",
    "grouped_locations = ...\n",
    "\n",
    "# This finds the number of repeats of the most common location.\n",
    "max_number_of_tweets = grouped_locations['id'].max()\n",
    "\n",
    "most_common_location = grouped_locations[grouped_locations['id'] == max_number_of_tweets]\n",
    "\n",
    "# most_common_location is a DataFrame with one item. This access all of the indices in the\n",
    "# DataFrame, then takes the first (and only) one.\n",
    "most_common_location.index[0]"
   ]
  },
  {
   "cell_type": "markdown",
   "metadata": {
    "tags": [],
    "user_expressions": []
   },
   "source": [
    "## Temporal Data\n",
    "---\n",
    "Another facet of urban data that you may want to analyze is the time at which they were posted. Currently, the only way we have information about the time the tweets were posted is in the `'created_at'` column, which is a string. As you may remember from the Introductory lab, `python` compares strings by assigning values to the letters themselves based on their position in the alphabet. We want to convert these strings to `datetime` objects, which will tell `python` at what time tweets were posted."
   ]
  },
  {
   "cell_type": "code",
   "execution_count": null,
   "metadata": {},
   "outputs": [],
   "source": [
    "post_time = pd.DataFrame(gentrification_oak)[['id', 'created_at']]\n",
    "post_time['time'] = pd.to_datetime(post_time['created_at'])\n",
    "post_time['time'].head()"
   ]
  },
  {
   "cell_type": "markdown",
   "metadata": {},
   "source": [
    "Now that each string has been converted into a `datetime` object, we can extract the day, hour, minute, etc. of each time point like so"
   ]
  },
  {
   "cell_type": "code",
   "execution_count": null,
   "metadata": {},
   "outputs": [],
   "source": [
    "post_time.loc[0, 'time'].day"
   ]
  },
  {
   "cell_type": "code",
   "execution_count": null,
   "metadata": {},
   "outputs": [],
   "source": [
    "post_time.loc[0, 'time'].hour"
   ]
  },
  {
   "cell_type": "code",
   "execution_count": null,
   "metadata": {},
   "outputs": [],
   "source": [
    "post_time.loc[0, 'time'].minute"
   ]
  },
  {
   "cell_type": "markdown",
   "metadata": {},
   "source": [
    "Notice that we are not adding parentheses at the end of each line. That is because the `.day`, `.hour`, and `.minute` are not *functions* we are calling, but rather *attributes* of the particular `datetime` object. If we want to look at the time of day that people tend to tweet about #gentrification, we can extract these attributes."
   ]
  },
  {
   "cell_type": "code",
   "execution_count": null,
   "metadata": {},
   "outputs": [],
   "source": [
    "post_time['hour'] = [post_time.loc[i, 'time'].hour + post_time.loc[i, 'time'].minute/60 +\n",
    "                     post_time.loc[i, 'time'].second/3600 for i in range(len(post_time))]\n",
    "post_time['hour'].hist()\n",
    "plt.xlabel(\"Hour (UTC)\")\n",
    "plt.ylabel(\"Number of Tweets\");"
   ]
  },
  {
   "cell_type": "markdown",
   "metadata": {},
   "source": [
    "**Question:** What observations or trends do you notice about this graph?"
   ]
  },
  {
   "cell_type": "markdown",
   "metadata": {},
   "source": [
    "**Question:** What could be improved about this graph or the process we used to obtain the data that generated it?"
   ]
  },
  {
   "cell_type": "markdown",
   "metadata": {
    "user_expressions": []
   },
   "source": [
    "## Sentiment Analysis\n",
    "---\n",
    "We can use the words the tweets to measure the sentiment, or the positive/negative feeling generated by the tweet. To do so we will be using the [VADER (Valence Aware Dictionary and sEntiment Reasoner)](https://github.com/cjhutto/vaderSentiment), which is a rule-based sentiment analysis tool specifically designed for social media. It even includes emojis! Run the following cell to load in the lexicon."
   ]
  },
  {
   "cell_type": "code",
   "execution_count": null,
   "metadata": {
    "scrolled": true
   },
   "outputs": [],
   "source": [
    "vader = load_vader()\n",
    "vader.iloc[500:510, :]"
   ]
  },
  {
   "cell_type": "markdown",
   "metadata": {},
   "source": [
    "The more positive the polarity of a word, the more positive feeling the word evokes in the reader. All of the words in `vader` are all lowercase, while many of our tweets are not. We need to modify the text in the tweets so that the words in our tweets will match up with the words stored in `vader`. Additionally, we need to remove punctuation since that will cause the words to not match up as well. We will put these modified tweets into another column in our `DataFrame` so that we can still have access to them later."
   ]
  },
  {
   "cell_type": "code",
   "execution_count": null,
   "metadata": {},
   "outputs": [],
   "source": [
    "# Select our columns of interest\n",
    "tweets_and_retweets = pd.DataFrame(gentrification_oak)[['id', 'text', 'retweet_count']]\n",
    "\n",
    "# Set the index of the DataFrame to the tweet ID. This step is necessary\n",
    "# in order to use our utility functions.\n",
    "tweets_and_retweets.set_index('id', inplace = True)\n",
    "\n",
    "# Remove punctuation and lowercase tweets\n",
    "tweets_and_retweets['cleaned'] = clean_tweets(tweets_and_retweets['text'])\n",
    "\n",
    "tweets_and_retweets.head()"
   ]
  },
  {
   "cell_type": "markdown",
   "metadata": {},
   "source": [
    "Next, we want to merge our sentiment lexicon with our cleaned tweets. "
   ]
  },
  {
   "cell_type": "code",
   "execution_count": null,
   "metadata": {
    "scrolled": true
   },
   "outputs": [],
   "source": [
    "tweets_and_retweets['polarity'] = compose_polarity(tweets_and_retweets, vader)\n",
    "tweets_and_retweets.head()"
   ]
  },
  {
   "cell_type": "markdown",
   "metadata": {
    "user_expressions": []
   },
   "source": [
    "Next, we want to see if more polarizing tweets are retweeted more often. To do this, we can plot the `polarity` and `retweet_count` columns against each other."
   ]
  },
  {
   "cell_type": "code",
   "execution_count": null,
   "metadata": {
    "scrolled": true
   },
   "outputs": [],
   "source": [
    "tweets_and_retweets.plot('polarity', 'retweet_count', kind='scatter');"
   ]
  },
  {
   "cell_type": "markdown",
   "metadata": {},
   "source": [
    "**Question:** What conclusions can you draw about polarity and retweets from this graph? How does this compare with your assumptions?"
   ]
  },
  {
   "cell_type": "markdown",
   "metadata": {
    "user_expressions": []
   },
   "source": [
    "## Your turn!\n",
    "---\n",
    "If time allows, try these exercises on your own or as a class!"
   ]
  },
  {
   "cell_type": "markdown",
   "metadata": {},
   "source": [
    "**Exercise 1:** Using the `gentrification_oak` tweets, make a histogram of the time of day the tweets were posted. Note that if you would like the x-axis of the plot to reflect the correct time of day, you will have to convert the time from UTC to PDT."
   ]
  },
  {
   "cell_type": "code",
   "execution_count": null,
   "metadata": {},
   "outputs": [],
   "source": [
    "# YOUR CODE HERE"
   ]
  },
  {
   "cell_type": "markdown",
   "metadata": {},
   "source": [
    "**Exercise 2:** Try scraping tweets from multiple locations and the same hashtag. Make a histogram for each location and see if there are any differences in the distribution of polarity of the tweets. Feel free to use multiple cells to avoid querying the API repeatedly."
   ]
  },
  {
   "cell_type": "code",
   "execution_count": null,
   "metadata": {},
   "outputs": [],
   "source": [
    "# YOUR CODE HERE"
   ]
  }
 ],
 "metadata": {
  "kernelspec": {
   "display_name": "Python 3 (ipykernel)",
   "language": "python",
   "name": "python3"
  },
  "language_info": {
   "codemirror_mode": {
    "name": "ipython",
    "version": 3
   },
   "file_extension": ".py",
   "mimetype": "text/x-python",
   "name": "python",
   "nbconvert_exporter": "python",
   "pygments_lexer": "ipython3",
   "version": "3.11.0"
  }
 },
 "nbformat": 4,
 "nbformat_minor": 4
}
