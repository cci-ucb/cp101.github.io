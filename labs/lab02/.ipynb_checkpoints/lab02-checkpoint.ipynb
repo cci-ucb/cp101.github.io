{
 "cells": [
  {
   "cell_type": "markdown",
   "metadata": {
    "tags": [],
    "user_expressions": []
   },
   "source": [
    "# Lab02: Canadian Census data"
   ]
  },
  {
   "cell_type": "markdown",
   "metadata": {
    "user_expressions": []
   },
   "source": [
    "To start this lab, you have 3 options to acquire the data.\n",
    "\n",
    "## Option 1: Using Censusmapper and R\n",
    "This option works best if you have some prior R experience. You will not have to write any code of your own for this part, although you will have to create a Censusmapper API key if you don't have one already. Use [this link](https://censusmapper.ca/users/sign_in) to do so. There is documentation and a vignette to get started available [here](https://cran.r-project.org/web/packages/cancensus/vignettes/cancensus.html). \n",
    "\n",
    "When you have the API key and a familiarity with the package, you can run the script `lab02_download_data.r` "
   ]
  },
  {
   "cell_type": "markdown",
   "metadata": {
    "user_expressions": []
   },
   "source": [
    "## Working with Census data"
   ]
  },
  {
   "cell_type": "code",
   "execution_count": 17,
   "metadata": {
    "tags": []
   },
   "outputs": [],
   "source": [
    "librarian::shelf(cancensus, stringr, tidyverse)"
   ]
  },
  {
   "cell_type": "code",
   "execution_count": 31,
   "metadata": {
    "tags": []
   },
   "outputs": [
    {
     "data": {
      "text/plain": [
       "array(['Unnamed:_0', 'GeoUID', 'Type', 'Region_Name', 'Area__sq_km_',\n",
       "       'Population', 'Dwellings', 'Households', 'CMA_UID', 'PR_UID',\n",
       "       'CSD_UID', 'CD_UID', 'v_CA21_1:_Population__2021',\n",
       "       'v_CA21_2:_Population__2016',\n",
       "       'v_CA21_3:_Population_percentage_change__2016_to_2021',\n",
       "       'v_CA21_4:_Total_private_dwellings',\n",
       "       'v_CA21_5:_Private_dwellings_occupied_by_usual_residents',\n",
       "       'v_CA21_6:_Population_density_per_square_kilometre',\n",
       "       'v_CA21_7:_Land_area_in_square_kilometres',\n",
       "       'v_CA21_8:_Total_-_Age', 'v_CA21_9:_Total_-_Age',\n",
       "       'v_CA21_10:_Total_-_Age', 'v_CA21_11:_0_to_14_years',\n",
       "       'v_CA21_12:_0_to_14_years', 'v_CA21_13:_0_to_14_years',\n",
       "       'v_CA21_14:_0_to_4_years', 'v_CA21_15:_0_to_4_years',\n",
       "       'v_CA21_16:_0_to_4_years', 'v_CA21_17:_Under_1_year',\n",
       "       'v_CA21_18:_Under_1_year', 'v_CA21_19:_Under_1_year',\n",
       "       'v_CA21_32:_5_to_9_years', 'v_CA21_33:_5_to_9_years',\n",
       "       'v_CA21_34:_5_to_9_years', 'v_CA21_50:_10_to_14_years',\n",
       "       'v_CA21_4237:_Total_-_Private_households_by_tenure',\n",
       "       'v_CA21_4238:_Owner', 'v_CA21_4239:_Renter',\n",
       "       'v_CA21_4240:_Dwelling_provided_by_the_local_government__First_Nation_or_Indian_band',\n",
       "       'v_CA21_4241:_Total_-_Occupied_private_dwellings_by_condominium_status',\n",
       "       'v_CA21_4242:_Condominium', 'v_CA21_4243:_Not_condominium',\n",
       "       'v_CA21_4244:_Total_-_Occupied_private_dwellings_by_number_of_bedrooms',\n",
       "       'v_CA21_4245:_No_bedrooms', 'v_CA21_4246:_1_bedroom',\n",
       "       'v_CA21_4247:_2_bedrooms', 'v_CA21_4248:_3_bedrooms',\n",
       "       'v_CA21_4249:_4_or_more_bedrooms',\n",
       "       'v_CA21_4250:_Total_-_Occupied_private_dwellings_by_number_of_rooms',\n",
       "       'v_CA21_4251:_1_to_4_rooms', 'v_CA21_4252:_5_rooms',\n",
       "       'v_CA21_4253:_6_rooms', 'v_CA21_4254:_7_rooms',\n",
       "       'v_CA21_4255:_8_or_more_rooms',\n",
       "       'v_CA21_4256:_Average_number_of_rooms_per_dwelling',\n",
       "       'v_CA21_4257:_Total_-_Private_households_by_number_of_persons_per_room',\n",
       "       'v_CA21_4258:_One_person_or_fewer_per_room',\n",
       "       'v_CA21_4259:_More_than_one_person_per_room',\n",
       "       'v_CA21_4260:_Total_-_Private_households_by_housing_suitability',\n",
       "       'v_CA21_4261:_Suitable', 'v_CA21_4262:_Not_suitable',\n",
       "       'v_CA21_4263:_Total_-_Occupied_private_dwellings_by_period_of_construction',\n",
       "       'v_CA21_4264:_1960_or_before', 'v_CA21_4265:_1961_to_1980',\n",
       "       'v_CA21_4266:_1981_to_1990', 'v_CA21_4267:_1991_to_2000',\n",
       "       'v_CA21_4268:_2001_to_2005', 'v_CA21_4269:_2006_to_2010',\n",
       "       'v_CA21_4270:_2011_to_2015', 'v_CA21_4271:_2016_to_2021__51_',\n",
       "       'v_CA21_4272:_Total_-_Occupied_private_dwellings_by_dwelling_condition',\n",
       "       'v_CA21_4273:_Only_regular_maintenance_and_minor_repairs_needed',\n",
       "       'v_CA21_4274:_Major_repairs_needed',\n",
       "       'v_CA21_4275:_Total_-_Private_households_by_number_of_household_maintainers',\n",
       "       'v_CA21_4276:_One-maintainer_household',\n",
       "       'v_CA21_4277:_Two-maintainer_household',\n",
       "       'v_CA21_4278:_Three-or-more-maintainer_household',\n",
       "       'v_CA21_4279:_Total_-_Private_households_by_age_of_primary_household_maintainers',\n",
       "       'v_CA21_4280:_15_to_24_years', 'v_CA21_4281:_25_to_34_years',\n",
       "       'v_CA21_4282:_35_to_44_years', 'v_CA21_4283:_45_to_54_years',\n",
       "       'v_CA21_4284:_55_to_64_years', 'v_CA21_4285:_65_to_74_years',\n",
       "       'v_CA21_4286:_75_to_84_years', 'v_CA21_4287:_85_years_and_over',\n",
       "       'v_CA21_4288:_Total_-_Owner_and_tenant_households_with_household_total_income_greater_than_zero__in_non-farm__non-reserve_private_dwellings_by_shelter-cost-to-income_ratio',\n",
       "       'v_CA21_4289:_Spending_less_than_30%_of_income_on_shelter_costs',\n",
       "       'v_CA21_4290:_Spending_30%_or_more_of_income_on_shelter_costs',\n",
       "       'v_CA21_4291:_30%_to_less_than_100%',\n",
       "       'v_CA21_4292:_Total_-_Occupied_private_dwellings_by_housing_indicators',\n",
       "       \"v_CA21_4293:_Total_-_Households_'spending_30%_or_more_of_income_on_shelter_costs'_or_'not_suitable'_or_'major_repairs_needed'\",\n",
       "       'v_CA21_4294:_Spending_30%_or_more_of_income_on_shelter_costs_only',\n",
       "       'v_CA21_4295:_Not_suitable_only',\n",
       "       'v_CA21_4296:_Major_repairs_needed_only',\n",
       "       \"v_CA21_4297:_'Spending_30%_or_more_of_income_on_shelter_costs'_and_'not_suitable'\",\n",
       "       \"v_CA21_4298:_'Spending_30%_or_more_of_income_on_shelter_costs'_and_'major_repairs_needed'\",\n",
       "       \"v_CA21_4299:_'Not_suitable'_and_'major_repairs_needed'\",\n",
       "       \"v_CA21_4300:_'Spending_30%_or_more_of_income_on_shelter_costs'_and_'not_suitable'_and_'major_repairs_needed'\",\n",
       "       'v_CA21_4301:_Acceptable_housing',\n",
       "       'v_CA21_4302:_Total_-_Owner_and_tenant_households_with_household_total_income_greater_than_zero_and_shelter-cost-to-income_ratio_less_than_100%__in_non-farm__non-reserve_private_dwellings',\n",
       "       'v_CA21_4303:_In_core_need', 'v_CA21_4304:_Not_in_core_need',\n",
       "       'v_CA21_4305:_Total_-_Owner_households_in_non-farm__non-reserve_private_dwellings',\n",
       "       'v_CA21_4306:_%_of_owner_households_with_a_mortgage__58_',\n",
       "       'v_CA21_4307:_%_of_owner_households_spending_30%_or_more_of_its_income_on_shelter_costs__55_',\n",
       "       'v_CA21_4308:_%_in_core_housing_need__57_',\n",
       "       'v_CA21_4309:_Median_monthly_shelter_costs_for_owned_dwellings__$___59_',\n",
       "       'v_CA21_4310:_Average_monthly_shelter_costs_for_owned_dwellings__$___59_',\n",
       "       'v_CA21_4311:_Median_value_of_dwellings__$___60_',\n",
       "       'v_CA21_4312:_Average_value_of_dwellings__$___60_',\n",
       "       'v_CA21_4313:_Total_-_Tenant_households_in_non-farm__non-reserve_private_dwellings',\n",
       "       'v_CA21_4314:_%_of_tenant_households_in_subsidized_housing__61_',\n",
       "       'v_CA21_4315:_%_of_tenant_households_spending_30%_or_more_of_its_income_on_shelter_costs__55_',\n",
       "       'v_CA21_4316:_%_in_core_housing_need__57_',\n",
       "       'v_CA21_4317:_Median_monthly_shelter_costs_for_rented_dwellings__$___59_',\n",
       "       'v_CA21_4318:_Average_monthly_shelter_costs_for_rented_dwellings__$___59_',\n",
       "       'v_CA21_4319:_Total_-_Households_living_in_a_dwelling_provided_by_the_local_government__First_Nation_or_Indian_band_in_non-farm_private_dwellings',\n",
       "       'v_CA21_4320:_%_of_households_living_in_a_dwelling_provided_by_the_local_government__First_Nation_or_Indian_band_spending_more_than_30%_on_shelter_costs__55_',\n",
       "       'v_CA21_4321:_Median_monthly_shelter_costs_for_dwellings_provided_by_local_government__First_Nation_or_Indian_band__$___59_',\n",
       "       'v_CA21_4322:_Average_monthly_shelter_costs_for_dwellings_provided_by_local_government__First_Nation_or_Indian_band__$___59_',\n",
       "       'v_CA21_434:_Occupied_private_dwellings_by_structural_type_of_dwelling_data',\n",
       "       'v_CA21_435:_Single-detached_house',\n",
       "       'v_CA21_436:_Semi-detached_house', 'v_CA21_437:_Row_house',\n",
       "       'v_CA21_438:_Apartment_or_flat_in_a_duplex',\n",
       "       'v_CA21_439:_Apartment_in_a_building_that_has_fewer_than_five_storeys',\n",
       "       'v_CA21_440:_Apartment_in_a_building_that_has_five_or_more_storeys',\n",
       "       'v_CA21_441:_Other_single-attached_house',\n",
       "       'v_CA21_442:_Movable_dwelling', 'v_CA21_51:_10_to_14_years',\n",
       "       'v_CA21_52:_10_to_14_years', 'v_CA21_68:_15_to_64_years',\n",
       "       'v_CA21_69:_15_to_64_years', 'v_CA21_70:_15_to_64_years',\n",
       "       'v_CA21_71:_15_to_19_years', 'v_CA21_72:_15_to_19_years',\n",
       "       'v_CA21_73:_15_to_19_years', 'v_CA21_89:_20_to_24_years',\n",
       "       'v_CA21_90:_20_to_24_years', 'v_CA21_91:_20_to_24_years',\n",
       "       'v_CA21_107:_25_to_29_years', 'v_CA21_108:_25_to_29_years',\n",
       "       'v_CA21_109:_25_to_29_years', 'v_CA21_125:_30_to_34_years',\n",
       "       'v_CA21_126:_30_to_34_years', 'v_CA21_127:_30_to_34_years',\n",
       "       'v_CA21_143:_35_to_39_years', 'v_CA21_144:_35_to_39_years',\n",
       "       'v_CA21_145:_35_to_39_years', 'v_CA21_161:_40_to_44_years',\n",
       "       'v_CA21_162:_40_to_44_years', 'v_CA21_163:_40_to_44_years',\n",
       "       'v_CA21_179:_45_to_49_years', 'v_CA21_180:_45_to_49_years',\n",
       "       'v_CA21_181:_45_to_49_years', 'v_CA21_197:_50_to_54_years',\n",
       "       'v_CA21_198:_50_to_54_years', 'v_CA21_199:_50_to_54_years',\n",
       "       'v_CA21_215:_55_to_59_years', 'v_CA21_216:_55_to_59_years',\n",
       "       'v_CA21_217:_55_to_59_years', 'v_CA21_233:_60_to_64_years',\n",
       "       'v_CA21_234:_60_to_64_years', 'v_CA21_235:_60_to_64_years',\n",
       "       'v_CA21_251:_65_years_and_over', 'v_CA21_252:_65_years_and_over',\n",
       "       'v_CA21_253:_65_years_and_over', 'v_CA21_254:_65_to_69_years',\n",
       "       'v_CA21_255:_65_to_69_years', 'v_CA21_256:_65_to_69_years',\n",
       "       'v_CA21_272:_70_to_74_years', 'v_CA21_273:_70_to_74_years',\n",
       "       'v_CA21_274:_70_to_74_years', 'v_CA21_290:_75_to_79_years',\n",
       "       'v_CA21_291:_75_to_79_years', 'v_CA21_292:_75_to_79_years',\n",
       "       'v_CA21_308:_80_to_84_years', 'v_CA21_309:_80_to_84_years',\n",
       "       'v_CA21_310:_80_to_84_years', 'v_CA21_326:_85_years_and_over',\n",
       "       'v_CA21_327:_85_years_and_over', 'v_CA21_328:_85_years_and_over',\n",
       "       'v_CA21_329:_85_to_89_years', 'v_CA21_330:_85_to_89_years',\n",
       "       'v_CA21_331:_85_to_89_years', 'v_CA21_347:_90_to_94_years',\n",
       "       'v_CA21_348:_90_to_94_years', 'v_CA21_349:_90_to_94_years',\n",
       "       'v_CA21_365:_95_to_99_years', 'v_CA21_366:_95_to_99_years',\n",
       "       'v_CA21_367:_95_to_99_years', 'v_CA21_383:_100_years_and_over',\n",
       "       'v_CA21_384:_100_years_and_over', 'v_CA21_385:_100_years_and_over',\n",
       "       'v_CA21_386:_Average_age', 'v_CA21_387:_Average_age',\n",
       "       'v_CA21_388:_Average_age', 'v_CA21_389:_Average_age',\n",
       "       'v_CA21_390:_Average_age', 'v_CA21_391:_Average_age',\n",
       "       'v_CA21_4872:_Total_-_Visible_minority_for_the_population_in_private_households',\n",
       "       'v_CA21_4875:_Total_visible_minority_population',\n",
       "       'v_CA21_4878:_South_Asian', 'v_CA21_4881:_Chinese',\n",
       "       'v_CA21_4884:_Black', 'v_CA21_4887:_Filipino', 'v_CA21_4890:_Arab',\n",
       "       'v_CA21_4893:_Latin_American', 'v_CA21_4896:_Southeast_Asian',\n",
       "       'v_CA21_4899:_West_Asian', 'v_CA21_4902:_Korean',\n",
       "       'v_CA21_4905:_Japanese', 'v_CA21_4908:_Visible_minority__n.i.e.',\n",
       "       'v_CA21_4911:_Multiple_visible_minorities',\n",
       "       'v_CA21_4914:_Not_a_visible_minority',\n",
       "       'v_CA21_4389:_Total_-_Citizenship_for_the_population_in_private_households',\n",
       "       'v_CA21_4392:_Canadian_citizens',\n",
       "       'v_CA21_4395:_Canadian_citizens_aged_under_18',\n",
       "       'v_CA21_4398:_Canadian_citizens_aged_18_and_over',\n",
       "       'v_CA21_4401:_Not_Canadian_citizens'], dtype=object)"
      ]
     },
     "execution_count": 31,
     "metadata": {},
     "output_type": "execute_result"
    }
   ],
   "source": [
    "# view columns\n",
    "can_census_data_ct.columns.values"
   ]
  },
  {
   "cell_type": "code",
   "execution_count": 4,
   "metadata": {
    "tags": []
   },
   "outputs": [
    {
     "data": {
      "text/plain": [
       "Index(['Unnamed: 0', 'GeoUID', 'Type', 'Region Name', 'Area (sq km)',\n",
       "       'Population', 'Dwellings', 'Households', 'CMA_UID', 'PR_UID',\n",
       "       ...\n",
       "       'v_CA21_4902: Korean', 'v_CA21_4905: Japanese',\n",
       "       'v_CA21_4908: Visible minority, n.i.e.',\n",
       "       'v_CA21_4911: Multiple visible minorities',\n",
       "       'v_CA21_4914: Not a visible minority',\n",
       "       'v_CA21_4389: Total - Citizenship for the population in private households',\n",
       "       'v_CA21_4392: Canadian citizens',\n",
       "       'v_CA21_4395: Canadian citizens aged under 18',\n",
       "       'v_CA21_4398: Canadian citizens aged 18 and over',\n",
       "       'v_CA21_4401: Not Canadian citizens'],\n",
       "      dtype='object', length=221)"
      ]
     },
     "execution_count": 4,
     "metadata": {},
     "output_type": "execute_result"
    }
   ],
   "source": [
    "can_census_data_ct.columns"
   ]
  },
  {
   "cell_type": "code",
   "execution_count": 20,
   "metadata": {},
   "outputs": [],
   "source": [
    "# fix missingness and data types\n",
    "can_census_data_ct = can_census_data_ct.fillna(0)\n",
    "can_census_data_ct = can_census_data_ct.replace({'NA': 0})\n",
    "can_census_data_ct = can_census_data_ct.replace({'': 0})\n",
    "can_census_data_ct.iloc[:,4:] = can_census_data_ct.iloc[:,4:].apply(pd.to_numeric)\n",
    "can_census_data_ct[\"GeoUID\"] = can_census_data_ct[\"GeoUID\"].astype(str)"
   ]
  },
  {
   "cell_type": "code",
   "execution_count": 21,
   "metadata": {},
   "outputs": [
    {
     "name": "stderr",
     "output_type": "stream",
     "text": [
      "/tmp/ipykernel_1051027/4232919280.py:2: FutureWarning: The default value of regex will change from True to False in a future version.\n",
      "  can_census_data_ct.columns = can_census_data_ct.columns.str.replace(\" |\\\\(|\\\\)|,\", \"_\")\n"
     ]
    }
   ],
   "source": [
    "# convert whitespace, parens, commas to underscore in column names\n",
    "can_census_data_ct.columns = can_census_data_ct.columns.str.replace(\" |\\\\(|\\\\)|,\", \"_\")"
   ]
  },
  {
   "cell_type": "code",
   "execution_count": 22,
   "metadata": {},
   "outputs": [],
   "source": [
    "# handle accidental division by zero\n",
    "def div_0(n,d):\n",
    "    try:\n",
    "        return n/d\n",
    "    except:\n",
    "        return 0"
   ]
  },
  {
   "cell_type": "markdown",
   "metadata": {
    "user_expressions": []
   },
   "source": [
    "## Exercise 1\n",
    "\n",
    "Using `sort_values(...)`, identify which census tract in Toronto has the largest population."
   ]
  },
  {
   "cell_type": "code",
   "execution_count": 24,
   "metadata": {
    "tags": []
   },
   "outputs": [
    {
     "data": {
      "text/html": [
       "<div>\n",
       "<style scoped>\n",
       "    .dataframe tbody tr th:only-of-type {\n",
       "        vertical-align: middle;\n",
       "    }\n",
       "\n",
       "    .dataframe tbody tr th {\n",
       "        vertical-align: top;\n",
       "    }\n",
       "\n",
       "    .dataframe thead th {\n",
       "        text-align: right;\n",
       "    }\n",
       "</style>\n",
       "<table border=\"1\" class=\"dataframe\">\n",
       "  <thead>\n",
       "    <tr style=\"text-align: right;\">\n",
       "      <th></th>\n",
       "      <th>Unnamed:_0</th>\n",
       "      <th>GeoUID</th>\n",
       "      <th>Type</th>\n",
       "      <th>Region_Name</th>\n",
       "      <th>Area__sq_km_</th>\n",
       "      <th>Population</th>\n",
       "      <th>Dwellings</th>\n",
       "      <th>Households</th>\n",
       "      <th>CMA_UID</th>\n",
       "      <th>PR_UID</th>\n",
       "      <th>...</th>\n",
       "      <th>v_CA21_4902:_Korean</th>\n",
       "      <th>v_CA21_4905:_Japanese</th>\n",
       "      <th>v_CA21_4908:_Visible_minority__n.i.e.</th>\n",
       "      <th>v_CA21_4911:_Multiple_visible_minorities</th>\n",
       "      <th>v_CA21_4914:_Not_a_visible_minority</th>\n",
       "      <th>v_CA21_4389:_Total_-_Citizenship_for_the_population_in_private_households</th>\n",
       "      <th>v_CA21_4392:_Canadian_citizens</th>\n",
       "      <th>v_CA21_4395:_Canadian_citizens_aged_under_18</th>\n",
       "      <th>v_CA21_4398:_Canadian_citizens_aged_18_and_over</th>\n",
       "      <th>v_CA21_4401:_Not_Canadian_citizens</th>\n",
       "    </tr>\n",
       "  </thead>\n",
       "  <tbody>\n",
       "    <tr>\n",
       "      <th>16</th>\n",
       "      <td>17</td>\n",
       "      <td>5350012.01</td>\n",
       "      <td>CT</td>\n",
       "      <td>12.01</td>\n",
       "      <td>0.4305</td>\n",
       "      <td>13554</td>\n",
       "      <td>8969</td>\n",
       "      <td>7893</td>\n",
       "      <td>35535</td>\n",
       "      <td>0.0</td>\n",
       "      <td>...</td>\n",
       "      <td>240.0</td>\n",
       "      <td>80.0</td>\n",
       "      <td>155.0</td>\n",
       "      <td>410.0</td>\n",
       "      <td>4965.0</td>\n",
       "      <td>13525.0</td>\n",
       "      <td>9265.0</td>\n",
       "      <td>1000.0</td>\n",
       "      <td>8265.0</td>\n",
       "      <td>4260.0</td>\n",
       "    </tr>\n",
       "    <tr>\n",
       "      <th>158</th>\n",
       "      <td>159</td>\n",
       "      <td>5350128.02</td>\n",
       "      <td>CT</td>\n",
       "      <td>128.02</td>\n",
       "      <td>0.5187</td>\n",
       "      <td>12611</td>\n",
       "      <td>8109</td>\n",
       "      <td>6896</td>\n",
       "      <td>35535</td>\n",
       "      <td>0.0</td>\n",
       "      <td>...</td>\n",
       "      <td>680.0</td>\n",
       "      <td>120.0</td>\n",
       "      <td>95.0</td>\n",
       "      <td>260.0</td>\n",
       "      <td>6330.0</td>\n",
       "      <td>12140.0</td>\n",
       "      <td>8565.0</td>\n",
       "      <td>1045.0</td>\n",
       "      <td>7520.0</td>\n",
       "      <td>3570.0</td>\n",
       "    </tr>\n",
       "    <tr>\n",
       "      <th>9</th>\n",
       "      <td>10</td>\n",
       "      <td>5350008.02</td>\n",
       "      <td>CT</td>\n",
       "      <td>8.02</td>\n",
       "      <td>1.9151</td>\n",
       "      <td>11591</td>\n",
       "      <td>7827</td>\n",
       "      <td>7022</td>\n",
       "      <td>35535</td>\n",
       "      <td>0.0</td>\n",
       "      <td>...</td>\n",
       "      <td>140.0</td>\n",
       "      <td>65.0</td>\n",
       "      <td>125.0</td>\n",
       "      <td>305.0</td>\n",
       "      <td>5690.0</td>\n",
       "      <td>11540.0</td>\n",
       "      <td>9420.0</td>\n",
       "      <td>815.0</td>\n",
       "      <td>8605.0</td>\n",
       "      <td>2120.0</td>\n",
       "    </tr>\n",
       "    <tr>\n",
       "      <th>23</th>\n",
       "      <td>24</td>\n",
       "      <td>5350016.0</td>\n",
       "      <td>CT</td>\n",
       "      <td>16.00</td>\n",
       "      <td>0.6317</td>\n",
       "      <td>11144</td>\n",
       "      <td>7596</td>\n",
       "      <td>6845</td>\n",
       "      <td>35535</td>\n",
       "      <td>0.0</td>\n",
       "      <td>...</td>\n",
       "      <td>165.0</td>\n",
       "      <td>75.0</td>\n",
       "      <td>55.0</td>\n",
       "      <td>325.0</td>\n",
       "      <td>6040.0</td>\n",
       "      <td>10845.0</td>\n",
       "      <td>9310.0</td>\n",
       "      <td>720.0</td>\n",
       "      <td>8590.0</td>\n",
       "      <td>1530.0</td>\n",
       "    </tr>\n",
       "    <tr>\n",
       "      <th>86</th>\n",
       "      <td>87</td>\n",
       "      <td>5350065.02</td>\n",
       "      <td>CT</td>\n",
       "      <td>65.02</td>\n",
       "      <td>0.1434</td>\n",
       "      <td>11120</td>\n",
       "      <td>5692</td>\n",
       "      <td>5135</td>\n",
       "      <td>35535</td>\n",
       "      <td>0.0</td>\n",
       "      <td>...</td>\n",
       "      <td>80.0</td>\n",
       "      <td>20.0</td>\n",
       "      <td>95.0</td>\n",
       "      <td>300.0</td>\n",
       "      <td>2050.0</td>\n",
       "      <td>11110.0</td>\n",
       "      <td>7925.0</td>\n",
       "      <td>1635.0</td>\n",
       "      <td>6285.0</td>\n",
       "      <td>3190.0</td>\n",
       "    </tr>\n",
       "    <tr>\n",
       "      <th>...</th>\n",
       "      <td>...</td>\n",
       "      <td>...</td>\n",
       "      <td>...</td>\n",
       "      <td>...</td>\n",
       "      <td>...</td>\n",
       "      <td>...</td>\n",
       "      <td>...</td>\n",
       "      <td>...</td>\n",
       "      <td>...</td>\n",
       "      <td>...</td>\n",
       "      <td>...</td>\n",
       "      <td>...</td>\n",
       "      <td>...</td>\n",
       "      <td>...</td>\n",
       "      <td>...</td>\n",
       "      <td>...</td>\n",
       "      <td>...</td>\n",
       "      <td>...</td>\n",
       "      <td>...</td>\n",
       "      <td>...</td>\n",
       "      <td>...</td>\n",
       "    </tr>\n",
       "    <tr>\n",
       "      <th>10</th>\n",
       "      <td>11</td>\n",
       "      <td>5350009.0</td>\n",
       "      <td>CT</td>\n",
       "      <td>9.00</td>\n",
       "      <td>0.1032</td>\n",
       "      <td>520</td>\n",
       "      <td>176</td>\n",
       "      <td>170</td>\n",
       "      <td>35535</td>\n",
       "      <td>0.0</td>\n",
       "      <td>...</td>\n",
       "      <td>0.0</td>\n",
       "      <td>0.0</td>\n",
       "      <td>0.0</td>\n",
       "      <td>20.0</td>\n",
       "      <td>125.0</td>\n",
       "      <td>280.0</td>\n",
       "      <td>230.0</td>\n",
       "      <td>30.0</td>\n",
       "      <td>205.0</td>\n",
       "      <td>55.0</td>\n",
       "    </tr>\n",
       "    <tr>\n",
       "      <th>2</th>\n",
       "      <td>3</td>\n",
       "      <td>5350003.0</td>\n",
       "      <td>CT</td>\n",
       "      <td>3.00</td>\n",
       "      <td>0.9455</td>\n",
       "      <td>457</td>\n",
       "      <td>279</td>\n",
       "      <td>265</td>\n",
       "      <td>35535</td>\n",
       "      <td>0.0</td>\n",
       "      <td>...</td>\n",
       "      <td>0.0</td>\n",
       "      <td>0.0</td>\n",
       "      <td>0.0</td>\n",
       "      <td>25.0</td>\n",
       "      <td>245.0</td>\n",
       "      <td>520.0</td>\n",
       "      <td>400.0</td>\n",
       "      <td>50.0</td>\n",
       "      <td>350.0</td>\n",
       "      <td>115.0</td>\n",
       "    </tr>\n",
       "    <tr>\n",
       "      <th>544</th>\n",
       "      <td>545</td>\n",
       "      <td>5350376.06</td>\n",
       "      <td>CT</td>\n",
       "      <td>376.06</td>\n",
       "      <td>2.1919</td>\n",
       "      <td>428</td>\n",
       "      <td>252</td>\n",
       "      <td>222</td>\n",
       "      <td>35535</td>\n",
       "      <td>0.0</td>\n",
       "      <td>...</td>\n",
       "      <td>0.0</td>\n",
       "      <td>0.0</td>\n",
       "      <td>0.0</td>\n",
       "      <td>0.0</td>\n",
       "      <td>0.0</td>\n",
       "      <td>275.0</td>\n",
       "      <td>245.0</td>\n",
       "      <td>0.0</td>\n",
       "      <td>245.0</td>\n",
       "      <td>35.0</td>\n",
       "    </tr>\n",
       "    <tr>\n",
       "      <th>244</th>\n",
       "      <td>245</td>\n",
       "      <td>5350205.0</td>\n",
       "      <td>CT</td>\n",
       "      <td>205.00</td>\n",
       "      <td>0.7448</td>\n",
       "      <td>144</td>\n",
       "      <td>1</td>\n",
       "      <td>0</td>\n",
       "      <td>35535</td>\n",
       "      <td>0.0</td>\n",
       "      <td>...</td>\n",
       "      <td>0.0</td>\n",
       "      <td>0.0</td>\n",
       "      <td>0.0</td>\n",
       "      <td>0.0</td>\n",
       "      <td>0.0</td>\n",
       "      <td>0.0</td>\n",
       "      <td>0.0</td>\n",
       "      <td>0.0</td>\n",
       "      <td>0.0</td>\n",
       "      <td>0.0</td>\n",
       "    </tr>\n",
       "    <tr>\n",
       "      <th>5</th>\n",
       "      <td>6</td>\n",
       "      <td>5350006.0</td>\n",
       "      <td>CT</td>\n",
       "      <td>6.00</td>\n",
       "      <td>0.0129</td>\n",
       "      <td>119</td>\n",
       "      <td>1</td>\n",
       "      <td>1</td>\n",
       "      <td>35535</td>\n",
       "      <td>0.0</td>\n",
       "      <td>...</td>\n",
       "      <td>0.0</td>\n",
       "      <td>0.0</td>\n",
       "      <td>0.0</td>\n",
       "      <td>0.0</td>\n",
       "      <td>0.0</td>\n",
       "      <td>0.0</td>\n",
       "      <td>0.0</td>\n",
       "      <td>0.0</td>\n",
       "      <td>0.0</td>\n",
       "      <td>0.0</td>\n",
       "    </tr>\n",
       "  </tbody>\n",
       "</table>\n",
       "<p>585 rows × 221 columns</p>\n",
       "</div>"
      ],
      "text/plain": [
       "     Unnamed:_0      GeoUID Type  Region_Name  Area__sq_km_  Population  \\\n",
       "16           17  5350012.01   CT        12.01        0.4305       13554   \n",
       "158         159  5350128.02   CT       128.02        0.5187       12611   \n",
       "9            10  5350008.02   CT         8.02        1.9151       11591   \n",
       "23           24   5350016.0   CT        16.00        0.6317       11144   \n",
       "86           87  5350065.02   CT        65.02        0.1434       11120   \n",
       "..          ...         ...  ...          ...           ...         ...   \n",
       "10           11   5350009.0   CT         9.00        0.1032         520   \n",
       "2             3   5350003.0   CT         3.00        0.9455         457   \n",
       "544         545  5350376.06   CT       376.06        2.1919         428   \n",
       "244         245   5350205.0   CT       205.00        0.7448         144   \n",
       "5             6   5350006.0   CT         6.00        0.0129         119   \n",
       "\n",
       "     Dwellings  Households  CMA_UID  PR_UID  ...  v_CA21_4902:_Korean  \\\n",
       "16        8969        7893    35535     0.0  ...                240.0   \n",
       "158       8109        6896    35535     0.0  ...                680.0   \n",
       "9         7827        7022    35535     0.0  ...                140.0   \n",
       "23        7596        6845    35535     0.0  ...                165.0   \n",
       "86        5692        5135    35535     0.0  ...                 80.0   \n",
       "..         ...         ...      ...     ...  ...                  ...   \n",
       "10         176         170    35535     0.0  ...                  0.0   \n",
       "2          279         265    35535     0.0  ...                  0.0   \n",
       "544        252         222    35535     0.0  ...                  0.0   \n",
       "244          1           0    35535     0.0  ...                  0.0   \n",
       "5            1           1    35535     0.0  ...                  0.0   \n",
       "\n",
       "     v_CA21_4905:_Japanese  v_CA21_4908:_Visible_minority__n.i.e.  \\\n",
       "16                    80.0                                  155.0   \n",
       "158                  120.0                                   95.0   \n",
       "9                     65.0                                  125.0   \n",
       "23                    75.0                                   55.0   \n",
       "86                    20.0                                   95.0   \n",
       "..                     ...                                    ...   \n",
       "10                     0.0                                    0.0   \n",
       "2                      0.0                                    0.0   \n",
       "544                    0.0                                    0.0   \n",
       "244                    0.0                                    0.0   \n",
       "5                      0.0                                    0.0   \n",
       "\n",
       "     v_CA21_4911:_Multiple_visible_minorities  \\\n",
       "16                                      410.0   \n",
       "158                                     260.0   \n",
       "9                                       305.0   \n",
       "23                                      325.0   \n",
       "86                                      300.0   \n",
       "..                                        ...   \n",
       "10                                       20.0   \n",
       "2                                        25.0   \n",
       "544                                       0.0   \n",
       "244                                       0.0   \n",
       "5                                         0.0   \n",
       "\n",
       "     v_CA21_4914:_Not_a_visible_minority  \\\n",
       "16                                4965.0   \n",
       "158                               6330.0   \n",
       "9                                 5690.0   \n",
       "23                                6040.0   \n",
       "86                                2050.0   \n",
       "..                                   ...   \n",
       "10                                 125.0   \n",
       "2                                  245.0   \n",
       "544                                  0.0   \n",
       "244                                  0.0   \n",
       "5                                    0.0   \n",
       "\n",
       "     v_CA21_4389:_Total_-_Citizenship_for_the_population_in_private_households  \\\n",
       "16                                             13525.0                           \n",
       "158                                            12140.0                           \n",
       "9                                              11540.0                           \n",
       "23                                             10845.0                           \n",
       "86                                             11110.0                           \n",
       "..                                                 ...                           \n",
       "10                                               280.0                           \n",
       "2                                                520.0                           \n",
       "544                                              275.0                           \n",
       "244                                                0.0                           \n",
       "5                                                  0.0                           \n",
       "\n",
       "     v_CA21_4392:_Canadian_citizens  \\\n",
       "16                           9265.0   \n",
       "158                          8565.0   \n",
       "9                            9420.0   \n",
       "23                           9310.0   \n",
       "86                           7925.0   \n",
       "..                              ...   \n",
       "10                            230.0   \n",
       "2                             400.0   \n",
       "544                           245.0   \n",
       "244                             0.0   \n",
       "5                               0.0   \n",
       "\n",
       "     v_CA21_4395:_Canadian_citizens_aged_under_18  \\\n",
       "16                                         1000.0   \n",
       "158                                        1045.0   \n",
       "9                                           815.0   \n",
       "23                                          720.0   \n",
       "86                                         1635.0   \n",
       "..                                            ...   \n",
       "10                                           30.0   \n",
       "2                                            50.0   \n",
       "544                                           0.0   \n",
       "244                                           0.0   \n",
       "5                                             0.0   \n",
       "\n",
       "     v_CA21_4398:_Canadian_citizens_aged_18_and_over  \\\n",
       "16                                            8265.0   \n",
       "158                                           7520.0   \n",
       "9                                             8605.0   \n",
       "23                                            8590.0   \n",
       "86                                            6285.0   \n",
       "..                                               ...   \n",
       "10                                             205.0   \n",
       "2                                              350.0   \n",
       "544                                            245.0   \n",
       "244                                              0.0   \n",
       "5                                                0.0   \n",
       "\n",
       "     v_CA21_4401:_Not_Canadian_citizens  \n",
       "16                               4260.0  \n",
       "158                              3570.0  \n",
       "9                                2120.0  \n",
       "23                               1530.0  \n",
       "86                               3190.0  \n",
       "..                                  ...  \n",
       "10                                 55.0  \n",
       "2                                 115.0  \n",
       "544                                35.0  \n",
       "244                                 0.0  \n",
       "5                                   0.0  \n",
       "\n",
       "[585 rows x 221 columns]"
      ]
     },
     "execution_count": 24,
     "metadata": {},
     "output_type": "execute_result"
    }
   ],
   "source": [
    "# solution: it's tract 5350012.01\n",
    "can_census_data_ct.sort_values(by = \"Population\", ascending = False)"
   ]
  },
  {
   "cell_type": "markdown",
   "metadata": {
    "tags": [],
    "user_expressions": []
   },
   "source": [
    "## Exercise 2\n",
    "\n",
    "Calculate total population, total number of dwellings, and the total number of renter and owner private households in Toronto. "
   ]
  },
  {
   "cell_type": "code",
   "execution_count": 25,
   "metadata": {
    "tags": []
   },
   "outputs": [
    {
     "data": {
      "text/plain": [
       "2794356"
      ]
     },
     "execution_count": 25,
     "metadata": {},
     "output_type": "execute_result"
    }
   ],
   "source": [
    "# total pop\n",
    "can_census_data_ct[\"Population\"].sum()"
   ]
  },
  {
   "cell_type": "code",
   "execution_count": 26,
   "metadata": {
    "tags": []
   },
   "outputs": [
    {
     "data": {
      "text/plain": [
       "1253238"
      ]
     },
     "execution_count": 26,
     "metadata": {},
     "output_type": "execute_result"
    }
   ],
   "source": [
    "# total dwellings\n",
    "can_census_data_ct[\"Dwellings\"].sum()"
   ]
  },
  {
   "cell_type": "code",
   "execution_count": 28,
   "metadata": {
    "tags": []
   },
   "outputs": [
    {
     "data": {
      "text/plain": [
       "557940.0"
      ]
     },
     "execution_count": 28,
     "metadata": {},
     "output_type": "execute_result"
    }
   ],
   "source": [
    "# total renter private households\n",
    "can_census_data_ct[\"v_CA21_4239:_Renter\"].sum()"
   ]
  },
  {
   "cell_type": "code",
   "execution_count": 29,
   "metadata": {
    "tags": []
   },
   "outputs": [
    {
     "data": {
      "text/plain": [
       "602835.0"
      ]
     },
     "execution_count": 29,
     "metadata": {},
     "output_type": "execute_result"
    }
   ],
   "source": [
    "# total owner private households\n",
    "can_census_data_ct[\"v_CA21_4238:_Owner\"].sum()"
   ]
  },
  {
   "cell_type": "code",
   "execution_count": 30,
   "metadata": {},
   "outputs": [
    {
     "data": {
      "text/plain": [
       "Population             2794356.0\n",
       "Dwellings              1253238.0\n",
       "v_CA21_4239:_Renter     557940.0\n",
       "v_CA21_4238:_Owner      602835.0\n",
       "dtype: float64"
      ]
     },
     "execution_count": 30,
     "metadata": {},
     "output_type": "execute_result"
    }
   ],
   "source": [
    "# can also calculate them all at once\n",
    "can_census_data_ct[[\"Population\", \"Dwellings\", \"v_CA21_4239:_Renter\", \"v_CA21_4238:_Owner\"]].sum()"
   ]
  },
  {
   "cell_type": "code",
   "execution_count": 33,
   "metadata": {
    "tags": []
   },
   "outputs": [
    {
     "data": {
      "text/plain": [
       "0.4806222919017633"
      ]
     },
     "execution_count": 33,
     "metadata": {},
     "output_type": "execute_result"
    }
   ],
   "source": [
    "# compute the proportion of private households that are renters\n",
    "can_census_data_ct[\"v_CA21_4239:_Renter\"].sum() / can_census_data_ct[\"v_CA21_4237:_Total_-_Private_households_by_tenure\"].sum()"
   ]
  },
  {
   "cell_type": "markdown",
   "metadata": {
    "user_expressions": []
   },
   "source": [
    "## Exercise 3\n",
    "\n",
    "### Common functions and calculations"
   ]
  },
  {
   "cell_type": "code",
   "execution_count": 86,
   "metadata": {
    "tags": []
   },
   "outputs": [
    {
     "data": {
      "text/html": [
       "<div>\n",
       "<style scoped>\n",
       "    .dataframe tbody tr th:only-of-type {\n",
       "        vertical-align: middle;\n",
       "    }\n",
       "\n",
       "    .dataframe tbody tr th {\n",
       "        vertical-align: top;\n",
       "    }\n",
       "\n",
       "    .dataframe thead th {\n",
       "        text-align: right;\n",
       "    }\n",
       "</style>\n",
       "<table border=\"1\" class=\"dataframe\">\n",
       "  <thead>\n",
       "    <tr style=\"text-align: right;\">\n",
       "      <th></th>\n",
       "      <th>Unnamed: 0</th>\n",
       "      <th>Day</th>\n",
       "      <th>AM Sale Count (Lemonades Sold)</th>\n",
       "      <th>AM Profit</th>\n",
       "      <th>PM Sale Count (Lemonades Sold)</th>\n",
       "      <th>PM Profit</th>\n",
       "    </tr>\n",
       "  </thead>\n",
       "  <tbody>\n",
       "    <tr>\n",
       "      <th>0</th>\n",
       "      <td>0</td>\n",
       "      <td>2019-01-07 00:00:00</td>\n",
       "      <td>4</td>\n",
       "      <td>10.00</td>\n",
       "      <td>3</td>\n",
       "      <td>8.50</td>\n",
       "    </tr>\n",
       "    <tr>\n",
       "      <th>1</th>\n",
       "      <td>1</td>\n",
       "      <td>2019-01-08 00:00:00</td>\n",
       "      <td>2</td>\n",
       "      <td>5.25</td>\n",
       "      <td>2</td>\n",
       "      <td>5.00</td>\n",
       "    </tr>\n",
       "    <tr>\n",
       "      <th>2</th>\n",
       "      <td>2</td>\n",
       "      <td>2019-01-09 00:00:00</td>\n",
       "      <td>2</td>\n",
       "      <td>6.00</td>\n",
       "      <td>6</td>\n",
       "      <td>14.25</td>\n",
       "    </tr>\n",
       "    <tr>\n",
       "      <th>3</th>\n",
       "      <td>3</td>\n",
       "      <td>2019-01-10 00:00:00</td>\n",
       "      <td>5</td>\n",
       "      <td>12.50</td>\n",
       "      <td>7</td>\n",
       "      <td>13.75</td>\n",
       "    </tr>\n",
       "    <tr>\n",
       "      <th>4</th>\n",
       "      <td>4</td>\n",
       "      <td>2019-01-11 00:00:00</td>\n",
       "      <td>2</td>\n",
       "      <td>5.00</td>\n",
       "      <td>1</td>\n",
       "      <td>2.50</td>\n",
       "    </tr>\n",
       "    <tr>\n",
       "      <th>5</th>\n",
       "      <td>5</td>\n",
       "      <td>2019-01-12 00:00:00</td>\n",
       "      <td>3</td>\n",
       "      <td>7.50</td>\n",
       "      <td>4</td>\n",
       "      <td>9.75</td>\n",
       "    </tr>\n",
       "    <tr>\n",
       "      <th>6</th>\n",
       "      <td>6</td>\n",
       "      <td>2019-01-13 00:00:00</td>\n",
       "      <td>5</td>\n",
       "      <td>13.25</td>\n",
       "      <td>4</td>\n",
       "      <td>10.50</td>\n",
       "    </tr>\n",
       "    <tr>\n",
       "      <th>7</th>\n",
       "      <td>7</td>\n",
       "      <td>2019-01-14 00:00:00</td>\n",
       "      <td>5</td>\n",
       "      <td>12.25</td>\n",
       "      <td>5</td>\n",
       "      <td>12.25</td>\n",
       "    </tr>\n",
       "    <tr>\n",
       "      <th>8</th>\n",
       "      <td>8</td>\n",
       "      <td>2019-01-15 00:00:00</td>\n",
       "      <td>1</td>\n",
       "      <td>2.50</td>\n",
       "      <td>3</td>\n",
       "      <td>6.00</td>\n",
       "    </tr>\n",
       "    <tr>\n",
       "      <th>9</th>\n",
       "      <td>9</td>\n",
       "      <td>2019-01-16 00:00:00</td>\n",
       "      <td>2</td>\n",
       "      <td>4.50</td>\n",
       "      <td>3</td>\n",
       "      <td>5.00</td>\n",
       "    </tr>\n",
       "    <tr>\n",
       "      <th>10</th>\n",
       "      <td>10</td>\n",
       "      <td>2019-01-17 00:00:00</td>\n",
       "      <td>1</td>\n",
       "      <td>2.50</td>\n",
       "      <td>1</td>\n",
       "      <td>1.00</td>\n",
       "    </tr>\n",
       "    <tr>\n",
       "      <th>11</th>\n",
       "      <td>11</td>\n",
       "      <td>2019-01-18 00:00:00</td>\n",
       "      <td>1</td>\n",
       "      <td>3.50</td>\n",
       "      <td>3</td>\n",
       "      <td>8.00</td>\n",
       "    </tr>\n",
       "    <tr>\n",
       "      <th>12</th>\n",
       "      <td>12</td>\n",
       "      <td>2019-01-19 00:00:00</td>\n",
       "      <td>4</td>\n",
       "      <td>11.00</td>\n",
       "      <td>3</td>\n",
       "      <td>7.75</td>\n",
       "    </tr>\n",
       "    <tr>\n",
       "      <th>13</th>\n",
       "      <td>13</td>\n",
       "      <td>2019-01-20 00:00:00</td>\n",
       "      <td>1</td>\n",
       "      <td>4.00</td>\n",
       "      <td>3</td>\n",
       "      <td>8.50</td>\n",
       "    </tr>\n",
       "  </tbody>\n",
       "</table>\n",
       "</div>"
      ],
      "text/plain": [
       "    Unnamed: 0                  Day  AM Sale Count (Lemonades Sold)  \\\n",
       "0            0  2019-01-07 00:00:00                               4   \n",
       "1            1  2019-01-08 00:00:00                               2   \n",
       "2            2  2019-01-09 00:00:00                               2   \n",
       "3            3  2019-01-10 00:00:00                               5   \n",
       "4            4  2019-01-11 00:00:00                               2   \n",
       "5            5  2019-01-12 00:00:00                               3   \n",
       "6            6  2019-01-13 00:00:00                               5   \n",
       "7            7  2019-01-14 00:00:00                               5   \n",
       "8            8  2019-01-15 00:00:00                               1   \n",
       "9            9  2019-01-16 00:00:00                               2   \n",
       "10          10  2019-01-17 00:00:00                               1   \n",
       "11          11  2019-01-18 00:00:00                               1   \n",
       "12          12  2019-01-19 00:00:00                               4   \n",
       "13          13  2019-01-20 00:00:00                               1   \n",
       "\n",
       "    AM Profit  PM Sale Count (Lemonades Sold)  PM Profit  \n",
       "0       10.00                               3       8.50  \n",
       "1        5.25                               2       5.00  \n",
       "2        6.00                               6      14.25  \n",
       "3       12.50                               7      13.75  \n",
       "4        5.00                               1       2.50  \n",
       "5        7.50                               4       9.75  \n",
       "6       13.25                               4      10.50  \n",
       "7       12.25                               5      12.25  \n",
       "8        2.50                               3       6.00  \n",
       "9        4.50                               3       5.00  \n",
       "10       2.50                               1       1.00  \n",
       "11       3.50                               3       8.00  \n",
       "12      11.00                               3       7.75  \n",
       "13       4.00                               3       8.50  "
      ]
     },
     "execution_count": 86,
     "metadata": {},
     "output_type": "execute_result"
    }
   ],
   "source": [
    "# read in the lemonade data\n",
    "lemonade = pd.read_csv(\"lemonade_sales.csv\")\n",
    "lemonade"
   ]
  },
  {
   "cell_type": "code",
   "execution_count": 87,
   "metadata": {
    "tags": []
   },
   "outputs": [
    {
     "data": {
      "text/html": [
       "<div>\n",
       "<style scoped>\n",
       "    .dataframe tbody tr th:only-of-type {\n",
       "        vertical-align: middle;\n",
       "    }\n",
       "\n",
       "    .dataframe tbody tr th {\n",
       "        vertical-align: top;\n",
       "    }\n",
       "\n",
       "    .dataframe thead th {\n",
       "        text-align: right;\n",
       "    }\n",
       "</style>\n",
       "<table border=\"1\" class=\"dataframe\">\n",
       "  <thead>\n",
       "    <tr style=\"text-align: right;\">\n",
       "      <th></th>\n",
       "      <th>Day</th>\n",
       "      <th>AM Sale Count (Lemonades Sold)</th>\n",
       "      <th>AM Profit</th>\n",
       "      <th>PM Sale Count (Lemonades Sold)</th>\n",
       "      <th>PM Profit</th>\n",
       "      <th>day_datetime</th>\n",
       "      <th>week_num</th>\n",
       "    </tr>\n",
       "  </thead>\n",
       "  <tbody>\n",
       "    <tr>\n",
       "      <th>0</th>\n",
       "      <td>2019-01-07 00:00:00</td>\n",
       "      <td>4</td>\n",
       "      <td>10.00</td>\n",
       "      <td>3</td>\n",
       "      <td>8.50</td>\n",
       "      <td>2019-01-07</td>\n",
       "      <td>1</td>\n",
       "    </tr>\n",
       "    <tr>\n",
       "      <th>1</th>\n",
       "      <td>2019-01-08 00:00:00</td>\n",
       "      <td>2</td>\n",
       "      <td>5.25</td>\n",
       "      <td>2</td>\n",
       "      <td>5.00</td>\n",
       "      <td>2019-01-08</td>\n",
       "      <td>1</td>\n",
       "    </tr>\n",
       "    <tr>\n",
       "      <th>2</th>\n",
       "      <td>2019-01-09 00:00:00</td>\n",
       "      <td>2</td>\n",
       "      <td>6.00</td>\n",
       "      <td>6</td>\n",
       "      <td>14.25</td>\n",
       "      <td>2019-01-09</td>\n",
       "      <td>1</td>\n",
       "    </tr>\n",
       "    <tr>\n",
       "      <th>3</th>\n",
       "      <td>2019-01-10 00:00:00</td>\n",
       "      <td>5</td>\n",
       "      <td>12.50</td>\n",
       "      <td>7</td>\n",
       "      <td>13.75</td>\n",
       "      <td>2019-01-10</td>\n",
       "      <td>1</td>\n",
       "    </tr>\n",
       "    <tr>\n",
       "      <th>4</th>\n",
       "      <td>2019-01-11 00:00:00</td>\n",
       "      <td>2</td>\n",
       "      <td>5.00</td>\n",
       "      <td>1</td>\n",
       "      <td>2.50</td>\n",
       "      <td>2019-01-11</td>\n",
       "      <td>1</td>\n",
       "    </tr>\n",
       "    <tr>\n",
       "      <th>5</th>\n",
       "      <td>2019-01-12 00:00:00</td>\n",
       "      <td>3</td>\n",
       "      <td>7.50</td>\n",
       "      <td>4</td>\n",
       "      <td>9.75</td>\n",
       "      <td>2019-01-12</td>\n",
       "      <td>1</td>\n",
       "    </tr>\n",
       "    <tr>\n",
       "      <th>6</th>\n",
       "      <td>2019-01-13 00:00:00</td>\n",
       "      <td>5</td>\n",
       "      <td>13.25</td>\n",
       "      <td>4</td>\n",
       "      <td>10.50</td>\n",
       "      <td>2019-01-13</td>\n",
       "      <td>1</td>\n",
       "    </tr>\n",
       "    <tr>\n",
       "      <th>7</th>\n",
       "      <td>2019-01-14 00:00:00</td>\n",
       "      <td>5</td>\n",
       "      <td>12.25</td>\n",
       "      <td>5</td>\n",
       "      <td>12.25</td>\n",
       "      <td>2019-01-14</td>\n",
       "      <td>2</td>\n",
       "    </tr>\n",
       "    <tr>\n",
       "      <th>8</th>\n",
       "      <td>2019-01-15 00:00:00</td>\n",
       "      <td>1</td>\n",
       "      <td>2.50</td>\n",
       "      <td>3</td>\n",
       "      <td>6.00</td>\n",
       "      <td>2019-01-15</td>\n",
       "      <td>2</td>\n",
       "    </tr>\n",
       "    <tr>\n",
       "      <th>9</th>\n",
       "      <td>2019-01-16 00:00:00</td>\n",
       "      <td>2</td>\n",
       "      <td>4.50</td>\n",
       "      <td>3</td>\n",
       "      <td>5.00</td>\n",
       "      <td>2019-01-16</td>\n",
       "      <td>2</td>\n",
       "    </tr>\n",
       "    <tr>\n",
       "      <th>10</th>\n",
       "      <td>2019-01-17 00:00:00</td>\n",
       "      <td>1</td>\n",
       "      <td>2.50</td>\n",
       "      <td>1</td>\n",
       "      <td>1.00</td>\n",
       "      <td>2019-01-17</td>\n",
       "      <td>2</td>\n",
       "    </tr>\n",
       "    <tr>\n",
       "      <th>11</th>\n",
       "      <td>2019-01-18 00:00:00</td>\n",
       "      <td>1</td>\n",
       "      <td>3.50</td>\n",
       "      <td>3</td>\n",
       "      <td>8.00</td>\n",
       "      <td>2019-01-18</td>\n",
       "      <td>2</td>\n",
       "    </tr>\n",
       "    <tr>\n",
       "      <th>12</th>\n",
       "      <td>2019-01-19 00:00:00</td>\n",
       "      <td>4</td>\n",
       "      <td>11.00</td>\n",
       "      <td>3</td>\n",
       "      <td>7.75</td>\n",
       "      <td>2019-01-19</td>\n",
       "      <td>2</td>\n",
       "    </tr>\n",
       "    <tr>\n",
       "      <th>13</th>\n",
       "      <td>2019-01-20 00:00:00</td>\n",
       "      <td>1</td>\n",
       "      <td>4.00</td>\n",
       "      <td>3</td>\n",
       "      <td>8.50</td>\n",
       "      <td>2019-01-20</td>\n",
       "      <td>2</td>\n",
       "    </tr>\n",
       "  </tbody>\n",
       "</table>\n",
       "</div>"
      ],
      "text/plain": [
       "                    Day  AM Sale Count (Lemonades Sold)  AM Profit  \\\n",
       "0   2019-01-07 00:00:00                               4      10.00   \n",
       "1   2019-01-08 00:00:00                               2       5.25   \n",
       "2   2019-01-09 00:00:00                               2       6.00   \n",
       "3   2019-01-10 00:00:00                               5      12.50   \n",
       "4   2019-01-11 00:00:00                               2       5.00   \n",
       "5   2019-01-12 00:00:00                               3       7.50   \n",
       "6   2019-01-13 00:00:00                               5      13.25   \n",
       "7   2019-01-14 00:00:00                               5      12.25   \n",
       "8   2019-01-15 00:00:00                               1       2.50   \n",
       "9   2019-01-16 00:00:00                               2       4.50   \n",
       "10  2019-01-17 00:00:00                               1       2.50   \n",
       "11  2019-01-18 00:00:00                               1       3.50   \n",
       "12  2019-01-19 00:00:00                               4      11.00   \n",
       "13  2019-01-20 00:00:00                               1       4.00   \n",
       "\n",
       "    PM Sale Count (Lemonades Sold)  PM Profit day_datetime  week_num  \n",
       "0                                3       8.50   2019-01-07         1  \n",
       "1                                2       5.00   2019-01-08         1  \n",
       "2                                6      14.25   2019-01-09         1  \n",
       "3                                7      13.75   2019-01-10         1  \n",
       "4                                1       2.50   2019-01-11         1  \n",
       "5                                4       9.75   2019-01-12         1  \n",
       "6                                4      10.50   2019-01-13         1  \n",
       "7                                5      12.25   2019-01-14         2  \n",
       "8                                3       6.00   2019-01-15         2  \n",
       "9                                3       5.00   2019-01-16         2  \n",
       "10                               1       1.00   2019-01-17         2  \n",
       "11                               3       8.00   2019-01-18         2  \n",
       "12                               3       7.75   2019-01-19         2  \n",
       "13                               3       8.50   2019-01-20         2  "
      ]
     },
     "execution_count": 87,
     "metadata": {},
     "output_type": "execute_result"
    }
   ],
   "source": [
    "# data type conversion - looks good\n",
    "# ok to drop Unnamed: 0 col\n",
    "# partition the data into two weeks\n",
    "lemonade[\"day_datetime\"] = pd.to_datetime(lemonade[\"Day\"])\n",
    "lemonade.drop(columns = \"Unnamed: 0\", inplace = True)\n",
    "lemonade['week_num'] = (lemonade['day_datetime'] >= \"2019-01-14\") + 1\n",
    "lemonade"
   ]
  },
  {
   "cell_type": "code",
   "execution_count": 88,
   "metadata": {
    "tags": []
   },
   "outputs": [
    {
     "name": "stderr",
     "output_type": "stream",
     "text": [
      "/tmp/ipykernel_1051027/1558163768.py:2: FutureWarning: The default value of numeric_only in DataFrame.sum is deprecated. In a future version, it will default to False. In addition, specifying 'numeric_only=None' is deprecated. Select only valid columns or specify the value of numeric_only to silence this warning.\n",
      "  lemonade.iloc[:,2:].sum()\n"
     ]
    },
    {
     "data": {
      "text/plain": [
       "AM Profit                          99.75\n",
       "PM Sale Count (Lemonades Sold)     48.00\n",
       "PM Profit                         112.75\n",
       "week_num                           21.00\n",
       "dtype: float64"
      ]
     },
     "execution_count": 88,
     "metadata": {},
     "output_type": "execute_result"
    }
   ],
   "source": [
    "# compute: totals (AM & PM)\n",
    "lemonade.iloc[:,2:].sum()"
   ]
  },
  {
   "cell_type": "code",
   "execution_count": 89,
   "metadata": {
    "tags": []
   },
   "outputs": [
    {
     "data": {
      "text/plain": [
       "86"
      ]
     },
     "execution_count": 89,
     "metadata": {},
     "output_type": "execute_result"
    }
   ],
   "source": [
    "# compute: totals (AM + PM) of sales\n",
    "am_pm_sales = lemonade[lemonade.columns.values[lemonade.columns.str.contains(\"Sale Count\")]].sum()\n",
    "am_pm_sales.sum()"
   ]
  },
  {
   "cell_type": "code",
   "execution_count": 90,
   "metadata": {
    "tags": []
   },
   "outputs": [
    {
     "data": {
      "text/plain": [
       "212.5"
      ]
     },
     "execution_count": 90,
     "metadata": {},
     "output_type": "execute_result"
    }
   ],
   "source": [
    "# compute: totals (AM + PM) of profits\n",
    "am_pm_profit = lemonade[lemonade.columns.values[lemonade.columns.str.contains(\"Profit\")]].sum()\n",
    "am_pm_profit.sum()"
   ]
  },
  {
   "cell_type": "code",
   "execution_count": 91,
   "metadata": {
    "tags": []
   },
   "outputs": [
    {
     "data": {
      "text/plain": [
       "AM Sale Count (Lemonades Sold)    0.44186\n",
       "PM Sale Count (Lemonades Sold)    0.55814\n",
       "dtype: float64"
      ]
     },
     "execution_count": 91,
     "metadata": {},
     "output_type": "execute_result"
    }
   ],
   "source": [
    "# pct of total sales made in AM, PM\n",
    "am_pm_sales / am_pm_sales.sum()"
   ]
  },
  {
   "cell_type": "code",
   "execution_count": 92,
   "metadata": {
    "tags": []
   },
   "outputs": [
    {
     "data": {
      "text/plain": [
       "AM Profit    0.469412\n",
       "PM Profit    0.530588\n",
       "dtype: float64"
      ]
     },
     "execution_count": 92,
     "metadata": {},
     "output_type": "execute_result"
    }
   ],
   "source": [
    "# pct of total profit made in AM, PM\n",
    "am_pm_profit / am_pm_profit.sum()"
   ]
  },
  {
   "cell_type": "code",
   "execution_count": 93,
   "metadata": {
    "tags": []
   },
   "outputs": [
    {
     "name": "stderr",
     "output_type": "stream",
     "text": [
      "/tmp/ipykernel_1051027/483247211.py:2: FutureWarning: The default value of numeric_only in DataFrameGroupBy.mean is deprecated. In a future version, numeric_only will default to False. Either specify numeric_only or select only columns which should be valid for the function.\n",
      "  lemonade.groupby('week_num').mean()\n"
     ]
    },
    {
     "data": {
      "text/html": [
       "<div>\n",
       "<style scoped>\n",
       "    .dataframe tbody tr th:only-of-type {\n",
       "        vertical-align: middle;\n",
       "    }\n",
       "\n",
       "    .dataframe tbody tr th {\n",
       "        vertical-align: top;\n",
       "    }\n",
       "\n",
       "    .dataframe thead th {\n",
       "        text-align: right;\n",
       "    }\n",
       "</style>\n",
       "<table border=\"1\" class=\"dataframe\">\n",
       "  <thead>\n",
       "    <tr style=\"text-align: right;\">\n",
       "      <th></th>\n",
       "      <th>AM Sale Count (Lemonades Sold)</th>\n",
       "      <th>AM Profit</th>\n",
       "      <th>PM Sale Count (Lemonades Sold)</th>\n",
       "      <th>PM Profit</th>\n",
       "    </tr>\n",
       "    <tr>\n",
       "      <th>week_num</th>\n",
       "      <th></th>\n",
       "      <th></th>\n",
       "      <th></th>\n",
       "      <th></th>\n",
       "    </tr>\n",
       "  </thead>\n",
       "  <tbody>\n",
       "    <tr>\n",
       "      <th>1</th>\n",
       "      <td>3.285714</td>\n",
       "      <td>8.50</td>\n",
       "      <td>3.857143</td>\n",
       "      <td>9.178571</td>\n",
       "    </tr>\n",
       "    <tr>\n",
       "      <th>2</th>\n",
       "      <td>2.142857</td>\n",
       "      <td>5.75</td>\n",
       "      <td>3.000000</td>\n",
       "      <td>6.928571</td>\n",
       "    </tr>\n",
       "  </tbody>\n",
       "</table>\n",
       "</div>"
      ],
      "text/plain": [
       "          AM Sale Count (Lemonades Sold)  AM Profit  \\\n",
       "week_num                                              \n",
       "1                               3.285714       8.50   \n",
       "2                               2.142857       5.75   \n",
       "\n",
       "          PM Sale Count (Lemonades Sold)  PM Profit  \n",
       "week_num                                             \n",
       "1                               3.857143   9.178571  \n",
       "2                               3.000000   6.928571  "
      ]
     },
     "execution_count": 93,
     "metadata": {},
     "output_type": "execute_result"
    }
   ],
   "source": [
    "# the averages of week 1, week 2, am, pm for sales, profits\n",
    "lemonade.groupby('week_num').mean()"
   ]
  },
  {
   "cell_type": "code",
   "execution_count": 102,
   "metadata": {
    "tags": []
   },
   "outputs": [
    {
     "data": {
      "text/html": [
       "<div>\n",
       "<style scoped>\n",
       "    .dataframe tbody tr th:only-of-type {\n",
       "        vertical-align: middle;\n",
       "    }\n",
       "\n",
       "    .dataframe tbody tr th {\n",
       "        vertical-align: top;\n",
       "    }\n",
       "\n",
       "    .dataframe thead th {\n",
       "        text-align: right;\n",
       "    }\n",
       "</style>\n",
       "<table border=\"1\" class=\"dataframe\">\n",
       "  <thead>\n",
       "    <tr style=\"text-align: right;\">\n",
       "      <th></th>\n",
       "      <th>Day</th>\n",
       "      <th>AM Sale Count (Lemonades Sold)</th>\n",
       "      <th>AM Profit</th>\n",
       "      <th>PM Sale Count (Lemonades Sold)</th>\n",
       "      <th>PM Profit</th>\n",
       "      <th>day_datetime</th>\n",
       "      <th>week_num</th>\n",
       "      <th>total_sales</th>\n",
       "      <th>total_profit</th>\n",
       "    </tr>\n",
       "  </thead>\n",
       "  <tbody>\n",
       "    <tr>\n",
       "      <th>0</th>\n",
       "      <td>2019-01-07 00:00:00</td>\n",
       "      <td>4</td>\n",
       "      <td>10.00</td>\n",
       "      <td>3</td>\n",
       "      <td>8.50</td>\n",
       "      <td>2019-01-07</td>\n",
       "      <td>1</td>\n",
       "      <td>7</td>\n",
       "      <td>18.50</td>\n",
       "    </tr>\n",
       "    <tr>\n",
       "      <th>1</th>\n",
       "      <td>2019-01-08 00:00:00</td>\n",
       "      <td>2</td>\n",
       "      <td>5.25</td>\n",
       "      <td>2</td>\n",
       "      <td>5.00</td>\n",
       "      <td>2019-01-08</td>\n",
       "      <td>1</td>\n",
       "      <td>4</td>\n",
       "      <td>10.25</td>\n",
       "    </tr>\n",
       "    <tr>\n",
       "      <th>2</th>\n",
       "      <td>2019-01-09 00:00:00</td>\n",
       "      <td>2</td>\n",
       "      <td>6.00</td>\n",
       "      <td>6</td>\n",
       "      <td>14.25</td>\n",
       "      <td>2019-01-09</td>\n",
       "      <td>1</td>\n",
       "      <td>8</td>\n",
       "      <td>20.25</td>\n",
       "    </tr>\n",
       "    <tr>\n",
       "      <th>3</th>\n",
       "      <td>2019-01-10 00:00:00</td>\n",
       "      <td>5</td>\n",
       "      <td>12.50</td>\n",
       "      <td>7</td>\n",
       "      <td>13.75</td>\n",
       "      <td>2019-01-10</td>\n",
       "      <td>1</td>\n",
       "      <td>12</td>\n",
       "      <td>26.25</td>\n",
       "    </tr>\n",
       "    <tr>\n",
       "      <th>4</th>\n",
       "      <td>2019-01-11 00:00:00</td>\n",
       "      <td>2</td>\n",
       "      <td>5.00</td>\n",
       "      <td>1</td>\n",
       "      <td>2.50</td>\n",
       "      <td>2019-01-11</td>\n",
       "      <td>1</td>\n",
       "      <td>3</td>\n",
       "      <td>7.50</td>\n",
       "    </tr>\n",
       "    <tr>\n",
       "      <th>5</th>\n",
       "      <td>2019-01-12 00:00:00</td>\n",
       "      <td>3</td>\n",
       "      <td>7.50</td>\n",
       "      <td>4</td>\n",
       "      <td>9.75</td>\n",
       "      <td>2019-01-12</td>\n",
       "      <td>1</td>\n",
       "      <td>7</td>\n",
       "      <td>17.25</td>\n",
       "    </tr>\n",
       "    <tr>\n",
       "      <th>6</th>\n",
       "      <td>2019-01-13 00:00:00</td>\n",
       "      <td>5</td>\n",
       "      <td>13.25</td>\n",
       "      <td>4</td>\n",
       "      <td>10.50</td>\n",
       "      <td>2019-01-13</td>\n",
       "      <td>1</td>\n",
       "      <td>9</td>\n",
       "      <td>23.75</td>\n",
       "    </tr>\n",
       "    <tr>\n",
       "      <th>7</th>\n",
       "      <td>2019-01-14 00:00:00</td>\n",
       "      <td>5</td>\n",
       "      <td>12.25</td>\n",
       "      <td>5</td>\n",
       "      <td>12.25</td>\n",
       "      <td>2019-01-14</td>\n",
       "      <td>2</td>\n",
       "      <td>10</td>\n",
       "      <td>24.50</td>\n",
       "    </tr>\n",
       "    <tr>\n",
       "      <th>8</th>\n",
       "      <td>2019-01-15 00:00:00</td>\n",
       "      <td>1</td>\n",
       "      <td>2.50</td>\n",
       "      <td>3</td>\n",
       "      <td>6.00</td>\n",
       "      <td>2019-01-15</td>\n",
       "      <td>2</td>\n",
       "      <td>4</td>\n",
       "      <td>8.50</td>\n",
       "    </tr>\n",
       "    <tr>\n",
       "      <th>9</th>\n",
       "      <td>2019-01-16 00:00:00</td>\n",
       "      <td>2</td>\n",
       "      <td>4.50</td>\n",
       "      <td>3</td>\n",
       "      <td>5.00</td>\n",
       "      <td>2019-01-16</td>\n",
       "      <td>2</td>\n",
       "      <td>5</td>\n",
       "      <td>9.50</td>\n",
       "    </tr>\n",
       "    <tr>\n",
       "      <th>10</th>\n",
       "      <td>2019-01-17 00:00:00</td>\n",
       "      <td>1</td>\n",
       "      <td>2.50</td>\n",
       "      <td>1</td>\n",
       "      <td>1.00</td>\n",
       "      <td>2019-01-17</td>\n",
       "      <td>2</td>\n",
       "      <td>2</td>\n",
       "      <td>3.50</td>\n",
       "    </tr>\n",
       "    <tr>\n",
       "      <th>11</th>\n",
       "      <td>2019-01-18 00:00:00</td>\n",
       "      <td>1</td>\n",
       "      <td>3.50</td>\n",
       "      <td>3</td>\n",
       "      <td>8.00</td>\n",
       "      <td>2019-01-18</td>\n",
       "      <td>2</td>\n",
       "      <td>4</td>\n",
       "      <td>11.50</td>\n",
       "    </tr>\n",
       "    <tr>\n",
       "      <th>12</th>\n",
       "      <td>2019-01-19 00:00:00</td>\n",
       "      <td>4</td>\n",
       "      <td>11.00</td>\n",
       "      <td>3</td>\n",
       "      <td>7.75</td>\n",
       "      <td>2019-01-19</td>\n",
       "      <td>2</td>\n",
       "      <td>7</td>\n",
       "      <td>18.75</td>\n",
       "    </tr>\n",
       "    <tr>\n",
       "      <th>13</th>\n",
       "      <td>2019-01-20 00:00:00</td>\n",
       "      <td>1</td>\n",
       "      <td>4.00</td>\n",
       "      <td>3</td>\n",
       "      <td>8.50</td>\n",
       "      <td>2019-01-20</td>\n",
       "      <td>2</td>\n",
       "      <td>4</td>\n",
       "      <td>12.50</td>\n",
       "    </tr>\n",
       "  </tbody>\n",
       "</table>\n",
       "</div>"
      ],
      "text/plain": [
       "                    Day  AM Sale Count (Lemonades Sold)  AM Profit  \\\n",
       "0   2019-01-07 00:00:00                               4      10.00   \n",
       "1   2019-01-08 00:00:00                               2       5.25   \n",
       "2   2019-01-09 00:00:00                               2       6.00   \n",
       "3   2019-01-10 00:00:00                               5      12.50   \n",
       "4   2019-01-11 00:00:00                               2       5.00   \n",
       "5   2019-01-12 00:00:00                               3       7.50   \n",
       "6   2019-01-13 00:00:00                               5      13.25   \n",
       "7   2019-01-14 00:00:00                               5      12.25   \n",
       "8   2019-01-15 00:00:00                               1       2.50   \n",
       "9   2019-01-16 00:00:00                               2       4.50   \n",
       "10  2019-01-17 00:00:00                               1       2.50   \n",
       "11  2019-01-18 00:00:00                               1       3.50   \n",
       "12  2019-01-19 00:00:00                               4      11.00   \n",
       "13  2019-01-20 00:00:00                               1       4.00   \n",
       "\n",
       "    PM Sale Count (Lemonades Sold)  PM Profit day_datetime  week_num  \\\n",
       "0                                3       8.50   2019-01-07         1   \n",
       "1                                2       5.00   2019-01-08         1   \n",
       "2                                6      14.25   2019-01-09         1   \n",
       "3                                7      13.75   2019-01-10         1   \n",
       "4                                1       2.50   2019-01-11         1   \n",
       "5                                4       9.75   2019-01-12         1   \n",
       "6                                4      10.50   2019-01-13         1   \n",
       "7                                5      12.25   2019-01-14         2   \n",
       "8                                3       6.00   2019-01-15         2   \n",
       "9                                3       5.00   2019-01-16         2   \n",
       "10                               1       1.00   2019-01-17         2   \n",
       "11                               3       8.00   2019-01-18         2   \n",
       "12                               3       7.75   2019-01-19         2   \n",
       "13                               3       8.50   2019-01-20         2   \n",
       "\n",
       "    total_sales  total_profit  \n",
       "0             7         18.50  \n",
       "1             4         10.25  \n",
       "2             8         20.25  \n",
       "3            12         26.25  \n",
       "4             3          7.50  \n",
       "5             7         17.25  \n",
       "6             9         23.75  \n",
       "7            10         24.50  \n",
       "8             4          8.50  \n",
       "9             5          9.50  \n",
       "10            2          3.50  \n",
       "11            4         11.50  \n",
       "12            7         18.75  \n",
       "13            4         12.50  "
      ]
     },
     "execution_count": 102,
     "metadata": {},
     "output_type": "execute_result"
    }
   ],
   "source": [
    "# compute daily totals for sums and profits\n",
    "lemonade['total_sales'] = lemonade[lemonade.columns.values[lemonade.columns.str.contains(\"Sale Count\")]].sum(axis = 1)\n",
    "lemonade['total_profit'] = lemonade[lemonade.columns.values[lemonade.columns.str.contains(\"Profit\")]].sum(axis = 1)\n",
    "lemonade"
   ]
  },
  {
   "cell_type": "code",
   "execution_count": 106,
   "metadata": {
    "tags": []
   },
   "outputs": [
    {
     "data": {
      "text/plain": [
       "6.142857142857143"
      ]
     },
     "execution_count": 106,
     "metadata": {},
     "output_type": "execute_result"
    }
   ],
   "source": [
    "# the daily average sales\n",
    "lemonade['total_sales'].mean()"
   ]
  },
  {
   "cell_type": "code",
   "execution_count": 107,
   "metadata": {
    "tags": []
   },
   "outputs": [
    {
     "data": {
      "text/plain": [
       "15.178571428571429"
      ]
     },
     "execution_count": 107,
     "metadata": {},
     "output_type": "execute_result"
    }
   ],
   "source": [
    "# the daily average profit\n",
    "lemonade['total_profit'].mean()"
   ]
  },
  {
   "cell_type": "code",
   "execution_count": 108,
   "metadata": {
    "tags": []
   },
   "outputs": [
    {
     "data": {
      "text/plain": [
       "12"
      ]
     },
     "execution_count": 108,
     "metadata": {},
     "output_type": "execute_result"
    }
   ],
   "source": [
    "# the maximum sales in a day (AM + PM)\n",
    "lemonade['total_sales'].max()"
   ]
  },
  {
   "cell_type": "code",
   "execution_count": 109,
   "metadata": {
    "tags": []
   },
   "outputs": [
    {
     "data": {
      "text/plain": [
       "26.25"
      ]
     },
     "execution_count": 109,
     "metadata": {},
     "output_type": "execute_result"
    }
   ],
   "source": [
    "# the maximum profit in a day (AM + PM)\n",
    "lemonade['total_profit'].max()"
   ]
  },
  {
   "cell_type": "code",
   "execution_count": 110,
   "metadata": {
    "tags": []
   },
   "outputs": [
    {
     "data": {
      "text/plain": [
       "2"
      ]
     },
     "execution_count": 110,
     "metadata": {},
     "output_type": "execute_result"
    }
   ],
   "source": [
    "# the minimum sales in a day (AM + PM)\n",
    "lemonade['total_sales'].min()"
   ]
  },
  {
   "cell_type": "code",
   "execution_count": 111,
   "metadata": {
    "tags": []
   },
   "outputs": [
    {
     "data": {
      "text/plain": [
       "3.5"
      ]
     },
     "execution_count": 111,
     "metadata": {},
     "output_type": "execute_result"
    }
   ],
   "source": [
    "# the minimum profit in a day (AM + PM)\n",
    "lemonade['total_profit'].min()"
   ]
  },
  {
   "cell_type": "code",
   "execution_count": 113,
   "metadata": {
    "tags": []
   },
   "outputs": [
    {
     "data": {
      "text/html": [
       "<div>\n",
       "<style scoped>\n",
       "    .dataframe tbody tr th:only-of-type {\n",
       "        vertical-align: middle;\n",
       "    }\n",
       "\n",
       "    .dataframe tbody tr th {\n",
       "        vertical-align: top;\n",
       "    }\n",
       "\n",
       "    .dataframe thead th {\n",
       "        text-align: right;\n",
       "    }\n",
       "</style>\n",
       "<table border=\"1\" class=\"dataframe\">\n",
       "  <thead>\n",
       "    <tr style=\"text-align: right;\">\n",
       "      <th></th>\n",
       "      <th>total_sales</th>\n",
       "      <th>total_profit</th>\n",
       "    </tr>\n",
       "  </thead>\n",
       "  <tbody>\n",
       "    <tr>\n",
       "      <th>count</th>\n",
       "      <td>14.000000</td>\n",
       "      <td>14.000000</td>\n",
       "    </tr>\n",
       "    <tr>\n",
       "      <th>mean</th>\n",
       "      <td>6.142857</td>\n",
       "      <td>15.178571</td>\n",
       "    </tr>\n",
       "    <tr>\n",
       "      <th>std</th>\n",
       "      <td>2.905092</td>\n",
       "      <td>7.092404</td>\n",
       "    </tr>\n",
       "    <tr>\n",
       "      <th>min</th>\n",
       "      <td>2.000000</td>\n",
       "      <td>3.500000</td>\n",
       "    </tr>\n",
       "    <tr>\n",
       "      <th>25%</th>\n",
       "      <td>4.000000</td>\n",
       "      <td>9.687500</td>\n",
       "    </tr>\n",
       "    <tr>\n",
       "      <th>50%</th>\n",
       "      <td>6.000000</td>\n",
       "      <td>14.875000</td>\n",
       "    </tr>\n",
       "    <tr>\n",
       "      <th>75%</th>\n",
       "      <td>7.750000</td>\n",
       "      <td>19.875000</td>\n",
       "    </tr>\n",
       "    <tr>\n",
       "      <th>max</th>\n",
       "      <td>12.000000</td>\n",
       "      <td>26.250000</td>\n",
       "    </tr>\n",
       "  </tbody>\n",
       "</table>\n",
       "</div>"
      ],
      "text/plain": [
       "       total_sales  total_profit\n",
       "count    14.000000     14.000000\n",
       "mean      6.142857     15.178571\n",
       "std       2.905092      7.092404\n",
       "min       2.000000      3.500000\n",
       "25%       4.000000      9.687500\n",
       "50%       6.000000     14.875000\n",
       "75%       7.750000     19.875000\n",
       "max      12.000000     26.250000"
      ]
     },
     "execution_count": 113,
     "metadata": {},
     "output_type": "execute_result"
    }
   ],
   "source": [
    "# command to compute these summary statistics and more all at once\n",
    "lemonade[['total_sales', 'total_profit']].describe()"
   ]
  }
 ],
 "metadata": {
  "anaconda-cloud": {},
  "kernelspec": {
   "display_name": "Python 3 (ipykernel)",
   "language": "python",
   "name": "python3"
  },
  "language_info": {
   "codemirror_mode": {
    "name": "ipython",
    "version": 3
   },
   "file_extension": ".py",
   "mimetype": "text/x-python",
   "name": "python",
   "nbconvert_exporter": "python",
   "pygments_lexer": "ipython3",
   "version": "3.11.0"
  }
 },
 "nbformat": 4,
 "nbformat_minor": 4
}
