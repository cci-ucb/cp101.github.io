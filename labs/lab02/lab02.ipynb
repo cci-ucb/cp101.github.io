{
 "cells": [
  {
   "cell_type": "markdown",
   "metadata": {
    "tags": [],
    "user_expressions": []
   },
   "source": [
    "# Lab02: Canadian Census data"
   ]
  },
  {
   "cell_type": "markdown",
   "metadata": {
    "tags": [],
    "user_expressions": []
   },
   "source": [
    "To start this lab, you have 3 options to acquire the data.\n",
    "\n",
    "## Option 1: Using Censusmapper and R\n",
    "This option works best if you have some prior R experience. You will not have to write any code of your own for this part, although you will have to create a Censusmapper API key if you don't have one already. Use [this link](https://censusmapper.ca/users/sign_in) to do so. There is documentation and a vignette to get started available [here](https://cran.r-project.org/web/packages/cancensus/vignettes/cancensus.html). \n",
    "\n",
    "When you have the API key and a familiarity with the package, you can run the script `lab02_download_data.r` to create the necessary datasets. As you run through it, try to identify which of the arguments to `get_census` you could change if you wanted to download a different geography, time period, or set of census variables. \n",
    "\n",
    "## Option 2: Using Statcan\n",
    "This option works best if you have a fast internet connection. From [this site](https://www12.statcan.gc.ca/census-recensement/2021/dp-pd/prof/details/download-telecharger.cfm?Lang=E&SearchText=toronto&DGUIDlist=2021A00053520005&GENDERlist=1&STATISTIClist=1&HEADERlist=50,30,6,20,9,1), select the Comprehensive download files dropdown and download the \"Census metropolitan areas (CMAs), tracted census agglomerations (CAs) and census tracts (CTs)\" file. \n",
    "\n",
    "## Option 3: Use the provided data\n",
    "This option works best if you don't know or don't want to learn R and do not want to download a large file of all census tracts in Canada."
   ]
  },
  {
   "cell_type": "markdown",
   "metadata": {
    "user_expressions": []
   },
   "source": [
    "## Working with Census data"
   ]
  },
  {
   "cell_type": "code",
   "execution_count": null,
   "metadata": {
    "tags": []
   },
   "outputs": [],
   "source": [
    "import pandas as pd\n",
    "import numpy as np\n",
    "import re"
   ]
  },
  {
   "cell_type": "code",
   "execution_count": null,
   "metadata": {},
   "outputs": [],
   "source": [
    "# read in 2021 census data\n",
    "data_21 = pd.read_csv('~/git/cp101.github.io/labs/lab02/census21_data.csv')\n",
    "data_21"
   ]
  },
  {
   "cell_type": "code",
   "execution_count": null,
   "metadata": {
    "tags": []
   },
   "outputs": [],
   "source": [
    "# fix missingness and data types\n",
    "data_21 = data_21.fillna(0)\n",
    "data_21 = data_21.replace({'NA': 0})\n",
    "data_21 = data_21.replace({'': 0})\n",
    "data_21.iloc[:,4:] = data_21.iloc[:,4:].apply(pd.to_numeric)\n",
    "data_21[\"GeoUID\"] = data_21[\"GeoUID\"].astype(str)"
   ]
  },
  {
   "cell_type": "code",
   "execution_count": null,
   "metadata": {
    "tags": []
   },
   "outputs": [],
   "source": [
    "# convert whitespace, parens, commas to underscore in column names\n",
    "data_21.columns = data_21.columns.str.replace(\" |\\\\(|\\\\)|,\", \"_\")\n",
    "data_21 = data_21.drop(columns = ['Unnamed:_0','v_CA21_923:_Number_of_after-tax_income_recipients_aged_15_years_and_over_in_private_households_in_2019',\n",
    "       'v_CA21_924:_Under_$5_000', 'v_CA21_925:_$5_000_to_$9_999',\n",
    "       'v_CA21_926:_$10_000_to_$14_999', 'v_CA21_927:_$15_000_to_$19_999',\n",
    "       'v_CA21_928:_$20_000_to_$24_999', 'v_CA21_929:_$25_000_to_$29_999',\n",
    "       'v_CA21_930:_$30_000_to_$34_999', 'v_CA21_931:_$35_000_to_$39_999',\n",
    "       'v_CA21_932:_$40_000_to_$44_999', 'v_CA21_933:_$45_000_to_$49_999',\n",
    "       'v_CA21_934:_$50_000_to_$59_999', 'v_CA21_935:_$60_000_to_$69_999',\n",
    "       'v_CA21_936:_$70_000_to_$79_999', 'v_CA21_937:_$80_000_to_$89_999',\n",
    "       'v_CA21_938:_$90_000_to_$99_999', 'v_CA21_939:_$100_000_and_over',\n",
    "       'v_CA21_940:_$100_000_to_$124_999', 'v_CA21_941:_$125_000_to_$149_999',\n",
    "       'v_CA21_942:_$150_000_to_$199_999', 'v_CA21_943:_$200_000_and_over',\n",
    "        'v_CA21_944:_Household_after-tax_income_groups_in_2020_for_private_households',\n",
    "       'v_CA21_945:_Under_$5_000', 'v_CA21_946:_$5_000_to_$9_999',\n",
    "       'v_CA21_947:_$10_000_to_$14_999', 'v_CA21_948:_$15_000_to_$19_999',\n",
    "       'v_CA21_949:_$20_000_to_$24_999', 'v_CA21_950:_$25_000_to_$29_999',\n",
    "       'v_CA21_951:_$30_000_to_$34_999', 'v_CA21_952:_$35_000_to_$39_999',\n",
    "       'v_CA21_953:_$40_000_to_$44_999', 'v_CA21_954:_$45_000_to_$49_999',\n",
    "       'v_CA21_955:_$50_000_to_$59_999', 'v_CA21_956:_$60_000_to_$69_999',\n",
    "       'v_CA21_957:_$70_000_to_$79_999', 'v_CA21_958:_$80_000_to_$89_999',\n",
    "       'v_CA21_959:_$90_000_to_$99_999', 'v_CA21_960:_$100_000_and_over',\n",
    "       'v_CA21_961:_$100_000_to_$124_999', 'v_CA21_962:_$125_000_to_$149_999',\n",
    "       'v_CA21_963:_$150_000_and_over'])"
   ]
  },
  {
   "cell_type": "code",
   "execution_count": null,
   "metadata": {
    "tags": []
   },
   "outputs": [],
   "source": [
    "data_21.columns"
   ]
  },
  {
   "cell_type": "code",
   "execution_count": null,
   "metadata": {
    "tags": []
   },
   "outputs": [],
   "source": [
    "# read in 2006 data\n",
    "data_06 = pd.read_csv('~/git/cp101.github.io/labs/lab02/census06_data.csv')\n",
    "data_06"
   ]
  },
  {
   "cell_type": "code",
   "execution_count": null,
   "metadata": {
    "tags": []
   },
   "outputs": [],
   "source": [
    "# fix missingness and data types\n",
    "data_06 = data_06.fillna(0)\n",
    "data_06 = data_06.replace({'NA': 0})\n",
    "data_06 = data_06.replace({'': 0})\n",
    "data_06.iloc[:,4:] = data_06.iloc[:,4:].apply(pd.to_numeric)\n",
    "data_06[\"GeoUID\"] = data_06[\"GeoUID\"].astype(str)"
   ]
  },
  {
   "cell_type": "code",
   "execution_count": null,
   "metadata": {
    "tags": []
   },
   "outputs": [],
   "source": [
    "# convert whitespace, parens, commas to underscore in column names\n",
    "data_06.columns = data_06.columns.str.replace(\" |\\\\(|\\\\)|,\", \"_\")\n",
    "data_06 = data_06.drop(columns = ['Unnamed:_0','v_CA06_1988:_Household_income_in_2005_of_private_households_-_20%_sample_data',\n",
    "       'v_CA06_1989:_Under_$10_000', 'v_CA06_1990:_$10_000_to_$19_999',\n",
    "       'v_CA06_1991:_$20_000_to_$29_999', 'v_CA06_1992:_$30_000_to_$39_999',\n",
    "       'v_CA06_1993:_$40_000_to_$49_999', 'v_CA06_1994:_$50_000_to_$59_999',\n",
    "       'v_CA06_1995:_$60_000_to_$69_999', 'v_CA06_1996:_$70_000_to_$79_999',\n",
    "       'v_CA06_1997:_$80_000_to_$89_999', 'v_CA06_1998:_$90_000_to_$99_999',\n",
    "       'v_CA06_1999:_$100_000_and_over'])"
   ]
  },
  {
   "cell_type": "code",
   "execution_count": null,
   "metadata": {
    "tags": []
   },
   "outputs": [],
   "source": [
    "data_06.columns"
   ]
  },
  {
   "cell_type": "markdown",
   "metadata": {
    "user_expressions": []
   },
   "source": [
    "What do you notice about the column names between the two datasets? How would you be able to compare them to one another? You're working with what is conceptually the same measurement between two separate census, but many of the column names do not match. \n",
    "\n",
    "When you have 60 or so variables to compare and you know the groups you've queried, it is often sufficient to visually compare your two datasets. But there may come a day in which you are working with\n",
    "all 535 census tracts rather than just the one, or hundreds of variables, each of which is liable to have a slightly different name over censuses. You can programmatically identify columns of comparison using string operations in Python. "
   ]
  },
  {
   "cell_type": "code",
   "execution_count": null,
   "metadata": {
    "tags": []
   },
   "outputs": [],
   "source": [
    "# remove the leading part of the vector\n",
    "data_06 = data_06.rename(columns = {x: re.sub(r\"v_CA\\d{2}_\\d+:_\", \"\", x) for x in data_06.columns.tolist()})\n",
    "data_06"
   ]
  },
  {
   "cell_type": "code",
   "execution_count": null,
   "metadata": {
    "tags": []
   },
   "outputs": [],
   "source": [
    "data_21 = data_21.rename(columns = {x: re.sub(r\"v_CA\\d{2}_\\d+:_\", \"\", x) for x in data_21.columns.tolist()})\n",
    "data_21"
   ]
  },
  {
   "cell_type": "code",
   "execution_count": null,
   "metadata": {
    "tags": []
   },
   "outputs": [],
   "source": [
    "# create sets of the two columns\n",
    "# their intersection are columns that exist in both, their set difference is what is present in one but not the other\n",
    "set_21 = {x for x in data_21.columns.tolist()}\n",
    "set_06 = {x for x in data_06.columns.tolist()}"
   ]
  },
  {
   "cell_type": "code",
   "execution_count": null,
   "metadata": {
    "tags": []
   },
   "outputs": [],
   "source": [
    "# present in both\n",
    "set_21 & set_06"
   ]
  },
  {
   "cell_type": "code",
   "execution_count": null,
   "metadata": {
    "tags": []
   },
   "outputs": [],
   "source": [
    "# present in CA21 but not CA06\n",
    "set_21 - set_06"
   ]
  },
  {
   "cell_type": "code",
   "execution_count": null,
   "metadata": {
    "tags": []
   },
   "outputs": [],
   "source": [
    "# present in CA06 but not CA21\n",
    "set_06 - set_21"
   ]
  },
  {
   "cell_type": "code",
   "execution_count": null,
   "metadata": {
    "tags": []
   },
   "outputs": [],
   "source": [
    "# combine income categories in CA21 - skip this section until income data is addressed\n",
    "#data_21['Under_$10_000'] = data_21[['Under_$5_000', '$5_000_to_$9_999']].sum(axis = 1)\n",
    "#data_21['$10_000_to_$19_999'] = data_21[['$10_000_to_$14_999', '$15_000_to_$19_999',]].sum(axis = 1)\n",
    "#data_21['$20_000_to_$29_999'] = data_21[['$20_000_to_$24_999', '$25_000_to_$29_999',]].sum(axis = 1)\n",
    "#data_21['$30_000_to_$39_999'] = data_21[['$30_000_to_$34_999', '$35_000_to_$39_999',]].sum(axis = 1)\n",
    "#data_21['$40_000_to_$49_999'] = data_21[['$40_000_to_$44_999', '$45_000_to_$49_999',]].sum(axis = 1)\n",
    "#data_21.iloc[:,-5:]"
   ]
  },
  {
   "cell_type": "code",
   "execution_count": null,
   "metadata": {
    "tags": []
   },
   "outputs": [],
   "source": [
    "# change household size groups to 1, 2, 3, and 4 or more persons\n",
    "data_21[\"4_or_more_persons\"] = data_21[['4_persons','5_or_more_persons']].sum(axis = 1)\n",
    "data_06[\"4_or_more_persons\"] = data_06[['4_to_5_persons','6_or_more_persons']].sum(axis = 1)"
   ]
  },
  {
   "cell_type": "code",
   "execution_count": null,
   "metadata": {
    "tags": []
   },
   "outputs": [],
   "source": [
    "# group mode of transport categories to other, rename multiple visible minority cols, rename total cols\n",
    "data_06['Other_commute_method'] = data_06[['Other_method', 'Motorcycle', 'Taxicab']].sum(axis = 1)\n",
    "data_06['Car__truck_or_van'] = data_06[['Car__truck__van__as_driver', 'Car__truck__van__as_passenger']].sum(axis = 1)\n",
    "data_06 = data_06.rename(columns = {'Multiple visible minority': 'Multiple visible minorities',\n",
    "                                    \n",
    "                                    'Total_employed_labour_force_15_years_and_over_with_usual_place_of_work_or_no_fixed_workplace_address_by_mode_of_transportation_-_20%_sample_data' : 'labour_force_denom',\n",
    "                                    'Total_number_of_private_households_by_household_size_-_100%_data' : 'hh_size_denom',\n",
    "                                    #'Household_income_in_2005_of_private_households_-_20%_sample_data' : 'hh_income_denom',\n",
    "                                    'Total_population_by_visible_minority_groups_-_20%_sample_data' : 'vm_groups_denom'})\n",
    "\n",
    "data_21 = data_21.rename(columns = {'Other_method' : 'Other_commute_method',\n",
    "                                    'Total_-_Main_mode_of_commuting_for_the_employed_labour_force_aged_15_years_and_over_with_a_usual_place_of_work_or_no_fixed_workplace_address' : 'labour_force_denom',\n",
    "                                    'Private_households_by_household_size' : 'hh_size_denom',\n",
    "                                   # 'Household_after-tax_income_groups_in_2020_for_private_households' : 'hh_income_denom',\n",
    "                                    'Total_-_Visible_minority_for_the_population_in_private_households' : 'vm_groups_denom'})\n"
   ]
  },
  {
   "cell_type": "code",
   "execution_count": null,
   "metadata": {
    "tags": []
   },
   "outputs": [],
   "source": [
    "data_06['Census_year'] = \"CA06\"\n",
    "data_21['Census_year'] = \"CA21\""
   ]
  },
  {
   "cell_type": "code",
   "execution_count": null,
   "metadata": {
    "tags": []
   },
   "outputs": [],
   "source": [
    "# concatenate the dataframes\n",
    "all_data = pd.concat([data_06[data_06.columns[data_06.columns.isin(data_21.columns)]],data_21[data_21.columns[data_21.columns.isin(data_06.columns)]]])\n",
    "all_data"
   ]
  },
  {
   "cell_type": "code",
   "execution_count": null,
   "metadata": {
    "tags": []
   },
   "outputs": [],
   "source": [
    "# pivot to view change over time by variable\n",
    "compare_years = all_data.drop(columns = [\"Unnamed:_0\", \"Region_Name\", \"Type\"]).pivot(columns = \"Census_year\", index = \"GeoUID\")\n",
    "compare_years"
   ]
  },
  {
   "cell_type": "code",
   "execution_count": null,
   "metadata": {
    "tags": []
   },
   "outputs": [],
   "source": [
    "compare_years.columns"
   ]
  },
  {
   "cell_type": "code",
   "execution_count": null,
   "metadata": {
    "tags": []
   },
   "outputs": [],
   "source": [
    "# you can subset on census tract(s) and column name(s)\n",
    "compare_years.filter(regex='\\.\\d{2}$', axis = 0)[[\"labour_force_denom\", \"Car__truck_or_van\", \"Public_transit\", \"Walked\", \"Bicycle\", \"Other_commute_method\"]]"
   ]
  },
  {
   "cell_type": "markdown",
   "metadata": {},
   "source": [
    "What might the values of NA mean for each respective year? Did that census tract exist?\n",
    "\n",
    "Using pivot tables, how might you identify tracts that experienced the greatest amount of change for a certain variable?"
   ]
  }
 ],
 "metadata": {
  "anaconda-cloud": {},
  "kernelspec": {
   "display_name": "Python 3 (ipykernel)",
   "language": "python",
   "name": "python3"
  },
  "language_info": {
   "codemirror_mode": {
    "name": "ipython",
    "version": 3
   },
   "file_extension": ".py",
   "mimetype": "text/x-python",
   "name": "python",
   "nbconvert_exporter": "python",
   "pygments_lexer": "ipython3",
   "version": "3.11.0"
  }
 },
 "nbformat": 4,
 "nbformat_minor": 4
}
