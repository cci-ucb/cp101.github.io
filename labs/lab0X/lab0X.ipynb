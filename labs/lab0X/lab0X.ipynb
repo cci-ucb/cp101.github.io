{
 "cells": [
  {
   "cell_type": "markdown",
   "metadata": {
    "user_expressions": []
   },
   "source": [
    "# Lab 8: An Introduction / Return to Python"
   ]
  },
  {
   "cell_type": "markdown",
   "metadata": {
    "user_expressions": []
   },
   "source": [
    "In this lab you will become more familiarized with Python. Whether you have used the language before or are coming into it new, there are some important basics to cover.\n",
    "\n",
    "The goal of this lab is that you learn:  \n",
    "1. **Variables and basic data types in Python**  \n",
    "2. **Visualization in Python**  \n",
    "3. **Use of conditionals**  \n",
    "4. **Use of for-loops**  \n"
   ]
  },
  {
   "cell_type": "markdown",
   "metadata": {},
   "source": [
    "## <font color='red'> 1. Python's Variables and Data Types:\n",
    "- Numerals\n",
    "- Variables\n",
    "- Strings\n",
    "- Lists\n",
    "- Arrays"
   ]
  },
  {
   "cell_type": "markdown",
   "metadata": {},
   "source": [
    "### Numerals"
   ]
  },
  {
   "cell_type": "markdown",
   "metadata": {},
   "source": [
    "Python uses float (numbers with decomal points) and int (integers) as numerals.  \n",
    "\n",
    "With numerals, Python can be used as a calculator. Run the cells below to see it for yourself."
   ]
  },
  {
   "cell_type": "code",
   "execution_count": 3,
   "metadata": {
    "tags": []
   },
   "outputs": [
    {
     "data": {
      "text/plain": [
       "8"
      ]
     },
     "execution_count": 3,
     "metadata": {},
     "output_type": "execute_result"
    }
   ],
   "source": [
    "3+5"
   ]
  },
  {
   "cell_type": "code",
   "execution_count": 4,
   "metadata": {
    "tags": []
   },
   "outputs": [
    {
     "data": {
      "text/plain": [
       "120"
      ]
     },
     "execution_count": 4,
     "metadata": {},
     "output_type": "execute_result"
    }
   ],
   "source": [
    "140-20"
   ]
  },
  {
   "cell_type": "code",
   "execution_count": 5,
   "metadata": {
    "tags": []
   },
   "outputs": [
    {
     "data": {
      "text/plain": [
       "20.0"
      ]
     },
     "execution_count": 5,
     "metadata": {},
     "output_type": "execute_result"
    }
   ],
   "source": [
    "40/2"
   ]
  },
  {
   "cell_type": "code",
   "execution_count": 6,
   "metadata": {
    "tags": []
   },
   "outputs": [
    {
     "data": {
      "text/plain": [
       "4"
      ]
     },
     "execution_count": 6,
     "metadata": {},
     "output_type": "execute_result"
    }
   ],
   "source": [
    "2*2"
   ]
  },
  {
   "cell_type": "markdown",
   "metadata": {
    "user_expressions": []
   },
   "source": [
    "Python follows the same arithmetic rules as we do. So guess what the output of the next cell will be:"
   ]
  },
  {
   "cell_type": "code",
   "execution_count": 7,
   "metadata": {
    "tags": []
   },
   "outputs": [
    {
     "data": {
      "text/plain": [
       "11"
      ]
     },
     "execution_count": 7,
     "metadata": {},
     "output_type": "execute_result"
    }
   ],
   "source": [
    "2*5+1"
   ]
  },
  {
   "cell_type": "markdown",
   "metadata": {
    "user_expressions": []
   },
   "source": [
    "What about this cell:"
   ]
  },
  {
   "cell_type": "code",
   "execution_count": 8,
   "metadata": {
    "scrolled": true,
    "tags": []
   },
   "outputs": [
    {
     "data": {
      "text/plain": [
       "12"
      ]
     },
     "execution_count": 8,
     "metadata": {},
     "output_type": "execute_result"
    }
   ],
   "source": [
    "2*(5+1)"
   ]
  },
  {
   "cell_type": "markdown",
   "metadata": {
    "user_expressions": []
   },
   "source": [
    "## Your turn:\n",
    "Guess what a double star notation does? Run the cell below to see if you had the right intuition about it."
   ]
  },
  {
   "cell_type": "code",
   "execution_count": 9,
   "metadata": {
    "tags": []
   },
   "outputs": [
    {
     "data": {
      "text/plain": [
       "9"
      ]
     },
     "execution_count": 9,
     "metadata": {},
     "output_type": "execute_result"
    }
   ],
   "source": [
    "3**2"
   ]
  },
  {
   "cell_type": "markdown",
   "metadata": {
    "user_expressions": []
   },
   "source": [
    "As was mentioned above, there are two types of numerals: integers and floats. \n",
    "In older versions of Python, they were not compatible (one couldn't have performed any calculations on them without making them the same data type) If you must use older versions of Python for your work, it is important to remember which type you are using in order to avoid bugs. \n",
    "Floats use decimal points, so it will be easy for you to spot them. See how the output changes when we print the same number as an integer and as a float."
   ]
  },
  {
   "cell_type": "code",
   "execution_count": 1,
   "metadata": {
    "tags": []
   },
   "outputs": [
    {
     "data": {
      "text/plain": [
       "377"
      ]
     },
     "execution_count": 1,
     "metadata": {},
     "output_type": "execute_result"
    }
   ],
   "source": [
    "int(377)"
   ]
  },
  {
   "cell_type": "code",
   "execution_count": 2,
   "metadata": {
    "tags": []
   },
   "outputs": [
    {
     "data": {
      "text/plain": [
       "377.0"
      ]
     },
     "execution_count": 2,
     "metadata": {},
     "output_type": "execute_result"
    }
   ],
   "source": [
    "float(377)"
   ]
  },
  {
   "cell_type": "markdown",
   "metadata": {},
   "source": [
    "### Variables"
   ]
  },
  {
   "cell_type": "markdown",
   "metadata": {},
   "source": [
    "To store the values in Python (and in many other programming languages) we need to use variables. Variables can store all kinds of information. This is useful if you plan to use the same values later on in your project. It will save you time and make your code more readable. To see how we store values in variables run the cell below."
   ]
  },
  {
   "cell_type": "code",
   "execution_count": 10,
   "metadata": {
    "tags": []
   },
   "outputs": [],
   "source": [
    "x=3"
   ]
  },
  {
   "cell_type": "code",
   "execution_count": 11,
   "metadata": {
    "tags": []
   },
   "outputs": [
    {
     "name": "stdout",
     "output_type": "stream",
     "text": [
      "3\n"
     ]
    }
   ],
   "source": [
    "print(x)"
   ]
  },
  {
   "cell_type": "code",
   "execution_count": 31,
   "metadata": {
    "tags": []
   },
   "outputs": [
    {
     "data": {
      "text/plain": [
       "'Look down, look down'"
      ]
     },
     "execution_count": 31,
     "metadata": {},
     "output_type": "execute_result"
    }
   ],
   "source": [
    "chorus = \"Look down, look down\"\n",
    "chorus"
   ]
  },
  {
   "cell_type": "markdown",
   "metadata": {
    "user_expressions": []
   },
   "source": [
    "If you don't assign any value to the variable and call it later, it will give you an error. We can see it in the cell below. (It will give you an error, but it was planned that way)"
   ]
  },
  {
   "cell_type": "code",
   "execution_count": 14,
   "metadata": {
    "tags": []
   },
   "outputs": [
    {
     "ename": "NameError",
     "evalue": "name 'y' is not defined",
     "output_type": "error",
     "traceback": [
      "\u001b[0;31m---------------------------------------------------------------------------\u001b[0m",
      "\u001b[0;31mNameError\u001b[0m                                 Traceback (most recent call last)",
      "Cell \u001b[0;32mIn[14], line 1\u001b[0m\n\u001b[0;32m----> 1\u001b[0m \u001b[43my\u001b[49m\n",
      "\u001b[0;31mNameError\u001b[0m: name 'y' is not defined"
     ]
    }
   ],
   "source": [
    "y"
   ]
  },
  {
   "cell_type": "code",
   "execution_count": null,
   "metadata": {},
   "outputs": [],
   "source": [
    "y = 8\n",
    "z = x+y"
   ]
  },
  {
   "cell_type": "code",
   "execution_count": null,
   "metadata": {},
   "outputs": [],
   "source": [
    "z"
   ]
  },
  {
   "cell_type": "markdown",
   "metadata": {
    "user_expressions": []
   },
   "source": [
    "Finally, variable names must follow certain rules.\n",
    "\n",
    "1. A variable name must start with a letter or the underscore character `[A-Za-z]` \n",
    "2. A variable name can only contain alpha-numeric characters and underscores `[\\w_]`\n",
    "3. Variable names are case-sensitive\n",
    "4. A variable name cannot be any of the Python [keywords](https://docs.python.org/3/reference/lexical_analysis.html#keywords), also listed below\n",
    "\n",
    "```\n",
    "False      await      else       import     pass\n",
    "None       break      except     in         raise\n",
    "True       class      finally    is         return\n",
    "and        continue   for        lambda     try\n",
    "as         def        from       nonlocal   while\n",
    "assert     del        global     not        with\n",
    "async      elif       if         or         yield\n",
    "```\n"
   ]
  },
  {
   "cell_type": "markdown",
   "metadata": {},
   "source": [
    "### Strings"
   ]
  },
  {
   "cell_type": "markdown",
   "metadata": {},
   "source": [
    "The phrases and words in Python are always stored inbetween double or single quotation marks. They are formally called strings."
   ]
  },
  {
   "cell_type": "code",
   "execution_count": 26,
   "metadata": {
    "tags": []
   },
   "outputs": [
    {
     "data": {
      "text/plain": [
       "'My name is Jean Valjean'"
      ]
     },
     "execution_count": 26,
     "metadata": {},
     "output_type": "execute_result"
    }
   ],
   "source": [
    "\"My name is Jean Valjean\""
   ]
  },
  {
   "cell_type": "markdown",
   "metadata": {},
   "source": [
    "Also, you can use both single and double quotes for the strings, but sometimes you need to use single quotes inside of the string and that might cause a problem (it will \"exit it out\"). \n",
    "\n",
    "You can just always use the double quotation marks on the outside to avoid such problem. Or, you can use a backslash before the single quotation mark. It will tell Python to ignore it and not to exit it out. You can see an example of it below:"
   ]
  },
  {
   "cell_type": "code",
   "execution_count": 27,
   "metadata": {
    "tags": []
   },
   "outputs": [
    {
     "name": "stdout",
     "output_type": "stream",
     "text": [
      "You were the honest Bishop's guest\n",
      "And still I dream he'll come to me\n"
     ]
    }
   ],
   "source": [
    "print(\"You were the honest Bishop's guest\")\n",
    "print('And still I dream he\\'ll come to me')"
   ]
  },
  {
   "cell_type": "markdown",
   "metadata": {},
   "source": [
    "The strings can also be \"added\" onto one another. Run the cell below to see how it works."
   ]
  },
  {
   "cell_type": "code",
   "execution_count": 28,
   "metadata": {
    "tags": []
   },
   "outputs": [
    {
     "data": {
      "text/plain": [
       "'24601'"
      ]
     },
     "execution_count": 28,
     "metadata": {},
     "output_type": "execute_result"
    }
   ],
   "source": [
    "\"246\"+\"01\""
   ]
  },
  {
   "cell_type": "code",
   "execution_count": 29,
   "metadata": {
    "tags": []
   },
   "outputs": [
    {
     "data": {
      "text/plain": [
       "'University of Toronto'"
      ]
     },
     "execution_count": 29,
     "metadata": {},
     "output_type": "execute_result"
    }
   ],
   "source": [
    "\"University\"+\" \"+\"of\"+\" \"+\"Toronto\""
   ]
  },
  {
   "cell_type": "markdown",
   "metadata": {},
   "source": [
    "When we are using Jupyter Notebooks, the last line is printed out automatically (unless it is performing some other operation, eg. getting assigned to a specific value). But if you would like to print more than just the last line, you can use the print( ) method. If you just run the next cell, it will not give you any output."
   ]
  },
  {
   "cell_type": "code",
   "execution_count": 35,
   "metadata": {
    "tags": []
   },
   "outputs": [],
   "source": [
    "valjean = \"My name is Jean Valjean\"\n",
    "javert = \"And I am Javert\"\n",
    "ij = \"Do not forget my name!\\nDo not forget me,\\n24601.\""
   ]
  },
  {
   "cell_type": "markdown",
   "metadata": {
    "user_expressions": []
   },
   "source": [
    "## Your turn:\n",
    "\n",
    "Try using `print(...)` in the cell below to output the variables in the previous cell containing lyrics of \"Work Song\". \n",
    "\n",
    "**Hint:**  you'll need to use it three times."
   ]
  },
  {
   "cell_type": "code",
   "execution_count": 36,
   "metadata": {
    "tags": []
   },
   "outputs": [],
   "source": [
    "### YOUR CODE HERE ###"
   ]
  },
  {
   "cell_type": "markdown",
   "metadata": {},
   "source": [
    "A string is a sequence of characters. If you want to see how many characters your string has, use the len() method. Do you think spaces are considered characters in Python? Check if your intuition was correct by running the cell below."
   ]
  },
  {
   "cell_type": "code",
   "execution_count": 37,
   "metadata": {
    "tags": []
   },
   "outputs": [
    {
     "data": {
      "text/plain": [
       "'Look down, look down'"
      ]
     },
     "execution_count": 37,
     "metadata": {},
     "output_type": "execute_result"
    }
   ],
   "source": [
    "chorus"
   ]
  },
  {
   "cell_type": "code",
   "execution_count": 38,
   "metadata": {
    "tags": []
   },
   "outputs": [
    {
     "data": {
      "text/plain": [
       "20"
      ]
     },
     "execution_count": 38,
     "metadata": {},
     "output_type": "execute_result"
    }
   ],
   "source": [
    "len(chrous)"
   ]
  },
  {
   "cell_type": "markdown",
   "metadata": {},
   "source": [
    "<div class=\"alert alert-success\" style=\"font-size:120%\">\n",
    "<b>YOUR TURN</b>: <br>\n",
    " Now create a variable name in which you will save your full name. Note that you need to call the variable once again in order to get an output.\n",
    "</div>"
   ]
  },
  {
   "cell_type": "code",
   "execution_count": null,
   "metadata": {},
   "outputs": [],
   "source": [
    "### YOUR CODE HERE ###\n"
   ]
  },
  {
   "cell_type": "markdown",
   "metadata": {
    "user_expressions": []
   },
   "source": [
    "Sometimes you need to switch the values in two variables. \n",
    "In the cell below we have the last names mixed up. The variable `eponine` should have an output \"éponine\" and `thenardier` should return \"thénardier\".\n",
    "How would you approach this problem without manually retyping the outputs?\n",
    "\n",
    "**Hint:** Use a temporary variable in which you can temporarily save the value of one of the other variables. "
   ]
  },
  {
   "cell_type": "code",
   "execution_count": 39,
   "metadata": {
    "tags": []
   },
   "outputs": [],
   "source": [
    "eponine = \"thénardier\"\n",
    "thenardier = \"éponine\""
   ]
  },
  {
   "cell_type": "code",
   "execution_count": 40,
   "metadata": {
    "tags": []
   },
   "outputs": [
    {
     "name": "stdout",
     "output_type": "stream",
     "text": [
      "thénardier\n",
      "éponine\n"
     ]
    }
   ],
   "source": [
    "print(eponine)\n",
    "print(thenardier)"
   ]
  },
  {
   "cell_type": "code",
   "execution_count": null,
   "metadata": {},
   "outputs": [],
   "source": [
    "##YOUR CODE HERE## \n"
   ]
  },
  {
   "cell_type": "code",
   "execution_count": null,
   "metadata": {},
   "outputs": [],
   "source": [
    "print(eponine)\n",
    "print(thenardier)"
   ]
  },
  {
   "cell_type": "markdown",
   "metadata": {},
   "source": [
    "### Lists"
   ]
  },
  {
   "cell_type": "markdown",
   "metadata": {},
   "source": [
    "You have learned about the strings and numerals, it's time to take it up a notch. Another useful and very popular data type is a Python list.\n",
    "Lists can take various data types (both numerals, strings, arrays, other lists, etc). \n",
    "\n",
    "To create an empty list just make your variable equal to \"[ ]\", like so:"
   ]
  },
  {
   "cell_type": "code",
   "execution_count": 43,
   "metadata": {
    "tags": []
   },
   "outputs": [
    {
     "data": {
      "text/plain": [
       "[]"
      ]
     },
     "execution_count": 43,
     "metadata": {},
     "output_type": "execute_result"
    }
   ],
   "source": [
    "fantine = []\n",
    "fantine"
   ]
  },
  {
   "cell_type": "markdown",
   "metadata": {},
   "source": [
    "To add the values into your list you can either use lst.append( ), lst.insert( ), or lst.extend( )."
   ]
  },
  {
   "cell_type": "code",
   "execution_count": 44,
   "metadata": {
    "tags": []
   },
   "outputs": [
    {
     "data": {
      "text/plain": [
       "['in time gone by']"
      ]
     },
     "execution_count": 44,
     "metadata": {},
     "output_type": "execute_result"
    }
   ],
   "source": [
    "fantine.extend([\"in time gone by\"])\n",
    "fantine"
   ]
  },
  {
   "cell_type": "code",
   "execution_count": 45,
   "metadata": {
    "tags": []
   },
   "outputs": [
    {
     "data": {
      "text/plain": [
       "['I dreamed a dream', 'in time gone by']"
      ]
     },
     "execution_count": 45,
     "metadata": {},
     "output_type": "execute_result"
    }
   ],
   "source": [
    "fantine.insert(0, \"I dreamed a dream\")\n",
    "fantine"
   ]
  },
  {
   "cell_type": "code",
   "execution_count": 46,
   "metadata": {
    "tags": []
   },
   "outputs": [
    {
     "data": {
      "text/plain": [
       "['I dreamed a dream',\n",
       " 'in time gone by',\n",
       " 'When hope was high and life, worth living.']"
      ]
     },
     "execution_count": 46,
     "metadata": {},
     "output_type": "execute_result"
    }
   ],
   "source": [
    "fantine.append(\"When hope was high and life, worth living.\")\n",
    "fantine"
   ]
  },
  {
   "cell_type": "markdown",
   "metadata": {},
   "source": [
    "Notice, that the `insert` method takes two positional values. You need to specify the index in the list at which it will be inserted, whilst `append` just adds the value to the end of the list. \n",
    "`extend` takes another list as its input. If you try to use a string or a number by itself, it will give you an error."
   ]
  },
  {
   "cell_type": "markdown",
   "metadata": {},
   "source": [
    "When you need to access an element at a specific index, that is the code you can use The code below returns the second element of the list."
   ]
  },
  {
   "cell_type": "code",
   "execution_count": 48,
   "metadata": {
    "tags": []
   },
   "outputs": [
    {
     "data": {
      "text/plain": [
       "'in time gone by'"
      ]
     },
     "execution_count": 48,
     "metadata": {},
     "output_type": "execute_result"
    }
   ],
   "source": [
    "fantine[1]"
   ]
  },
  {
   "cell_type": "markdown",
   "metadata": {},
   "source": [
    "**Note:** Python starts counting at 0, not 1."
   ]
  },
  {
   "cell_type": "markdown",
   "metadata": {
    "user_expressions": []
   },
   "source": [
    "Sometimes you just need to use part of the list or copy the whole list into a new variable. In this\n",
    "case you can use `:` to modify your list.\n",
    "The notation is:\n",
    "\n",
    "`a = b[start:stop:step]`\n",
    "\n",
    "`start`: the index you want to start with. (the default is 0)\n",
    "\n",
    "`stop`: the index you want to end with. (the default is the last number)\n",
    "\n",
    "`step`: use it, if you wish to skip some indeces (eg. use only every other value). For example, if you start with index 1 and step is 2, you will iterate through the 1st index, then 3rd, then 5th, etc. until you get to the stopping index. (the default is 1)\n",
    "\n",
    "Note that Python will stop iterating at the value before the last index. See the following example:"
   ]
  },
  {
   "cell_type": "code",
   "execution_count": 49,
   "metadata": {
    "tags": []
   },
   "outputs": [],
   "source": [
    "lst = [1,2,3,4,5]"
   ]
  },
  {
   "cell_type": "code",
   "execution_count": 50,
   "metadata": {
    "tags": []
   },
   "outputs": [
    {
     "data": {
      "text/plain": [
       "[1, 2, 3, 4, 5]"
      ]
     },
     "execution_count": 50,
     "metadata": {},
     "output_type": "execute_result"
    }
   ],
   "source": [
    "lst"
   ]
  },
  {
   "cell_type": "code",
   "execution_count": 51,
   "metadata": {
    "tags": []
   },
   "outputs": [],
   "source": [
    "lst2=list(range(1,6))"
   ]
  },
  {
   "cell_type": "code",
   "execution_count": 52,
   "metadata": {
    "tags": []
   },
   "outputs": [
    {
     "data": {
      "text/plain": [
       "[1, 2, 3, 4, 5]"
      ]
     },
     "execution_count": 52,
     "metadata": {},
     "output_type": "execute_result"
    }
   ],
   "source": [
    "lst2"
   ]
  },
  {
   "cell_type": "code",
   "execution_count": 53,
   "metadata": {
    "scrolled": true,
    "tags": []
   },
   "outputs": [
    {
     "data": {
      "text/plain": [
       "[1, 2, 3, 4, 5]"
      ]
     },
     "execution_count": 53,
     "metadata": {},
     "output_type": "execute_result"
    }
   ],
   "source": [
    "lst[0:5:1]"
   ]
  },
  {
   "cell_type": "code",
   "execution_count": 56,
   "metadata": {
    "tags": []
   },
   "outputs": [],
   "source": [
    "lst3=list(range(1,21))"
   ]
  },
  {
   "cell_type": "code",
   "execution_count": 57,
   "metadata": {
    "tags": []
   },
   "outputs": [
    {
     "data": {
      "text/plain": [
       "[1, 2, 3, 4, 5, 6, 7, 8, 9, 10, 11, 12, 13, 14, 15, 16, 17, 18, 19, 20]"
      ]
     },
     "execution_count": 57,
     "metadata": {},
     "output_type": "execute_result"
    }
   ],
   "source": [
    "lst3"
   ]
  },
  {
   "cell_type": "code",
   "execution_count": 58,
   "metadata": {
    "tags": []
   },
   "outputs": [
    {
     "data": {
      "text/plain": [
       "[2, 4, 6, 8, 10, 12, 14, 16, 18, 20]"
      ]
     },
     "execution_count": 58,
     "metadata": {},
     "output_type": "execute_result"
    }
   ],
   "source": [
    "lst3[1:20:2]"
   ]
  },
  {
   "cell_type": "markdown",
   "metadata": {
    "user_expressions": []
   },
   "source": [
    "Note: if you wish to start iterating from the end of a list backwards, we use a negative step:"
   ]
  },
  {
   "cell_type": "code",
   "execution_count": 59,
   "metadata": {
    "tags": []
   },
   "outputs": [
    {
     "data": {
      "text/plain": [
       "[5, 4, 3, 2, 1]"
      ]
     },
     "execution_count": 59,
     "metadata": {},
     "output_type": "execute_result"
    }
   ],
   "source": [
    "lst[::-1]"
   ]
  },
  {
   "cell_type": "code",
   "execution_count": 65,
   "metadata": {
    "tags": []
   },
   "outputs": [
    {
     "data": {
      "text/plain": [
       "['Work Song',\n",
       " 'What Have I Done?',\n",
       " 'I Dreamed a Dream',\n",
       " 'Master of the House',\n",
       " 'Do You Hear the People Sing?',\n",
       " 'One Day More!']"
      ]
     },
     "execution_count": 65,
     "metadata": {},
     "output_type": "execute_result"
    }
   ],
   "source": [
    "les_mis_songs = [\"Work Song\", \"ValjeanArrested\\/Valjean Forgiven\", \"What Have I Done?\", \\\n",
    "             \"At the End of the Day\", \"I Dreamed a Dream\", \"Loveley Ladies\",\n",
    "             \"Master of the House\", \"Red & Black\", \"Do You Hear the People Sing?\", \\\n",
    "             \"In My Life\", \"One Day More!\"]\n",
    "\n",
    "every_other = les_mis_songs[::2] \n",
    "every_other"
   ]
  },
  {
   "cell_type": "code",
   "execution_count": 67,
   "metadata": {
    "tags": []
   },
   "outputs": [
    {
     "data": {
      "text/plain": [
       "['I',\n",
       " 'am',\n",
       " 'agog!',\n",
       " 'I',\n",
       " 'am',\n",
       " 'aghast!',\n",
       " 'Is',\n",
       " 'Marius',\n",
       " 'in',\n",
       " 'love',\n",
       " 'at',\n",
       " 'last?']"
      ]
     },
     "execution_count": 67,
     "metadata": {},
     "output_type": "execute_result"
    }
   ],
   "source": [
    "lyrics = [\"I\", \"am\", \"agog!\", \"I\", \"am\", \"aghast!\", \"Is\", \"Marius\", \"in\", \"love\", \"at\", \"last?\"]\n",
    "lyrics"
   ]
  },
  {
   "cell_type": "markdown",
   "metadata": {},
   "source": [
    "Let's say you want to save only the two last words from your old list into your new list. That's what you will need to do then:"
   ]
  },
  {
   "cell_type": "code",
   "execution_count": 68,
   "metadata": {
    "tags": []
   },
   "outputs": [
    {
     "data": {
      "text/plain": [
       "['at', 'last?']"
      ]
     },
     "execution_count": 68,
     "metadata": {},
     "output_type": "execute_result"
    }
   ],
   "source": [
    "grantaire = lyrics[-2:]\n",
    "grantaire\n",
    "\n",
    "# alternatively you can use lyrics[5:]"
   ]
  },
  {
   "cell_type": "markdown",
   "metadata": {},
   "source": [
    "Notice also that if you want to learn the length of your list, you can use the same method \"len( )\", but it will not count all the characters anymore. Instead, it will count all the elements in it. Like so:"
   ]
  },
  {
   "cell_type": "code",
   "execution_count": 60,
   "metadata": {
    "tags": []
   },
   "outputs": [
    {
     "data": {
      "text/plain": [
       "['I dreamed a dream',\n",
       " 'in time gone by',\n",
       " 'When hope was high and life, worth living.']"
      ]
     },
     "execution_count": 60,
     "metadata": {},
     "output_type": "execute_result"
    }
   ],
   "source": [
    "fantine"
   ]
  },
  {
   "cell_type": "code",
   "execution_count": 61,
   "metadata": {
    "tags": []
   },
   "outputs": [
    {
     "data": {
      "text/plain": [
       "3"
      ]
     },
     "execution_count": 61,
     "metadata": {},
     "output_type": "execute_result"
    }
   ],
   "source": [
    "len(fantine)"
   ]
  },
  {
   "cell_type": "markdown",
   "metadata": {
    "user_expressions": []
   },
   "source": [
    "## Your turn:\n",
    "Create a list with the values 1, 2, 3, 4, and 5 and only get the values 2 and 4"
   ]
  },
  {
   "cell_type": "code",
   "execution_count": null,
   "metadata": {},
   "outputs": [],
   "source": [
    "### YOUR CODE HERE ###\n"
   ]
  },
  {
   "cell_type": "markdown",
   "metadata": {},
   "source": [
    "### Arrays"
   ]
  },
  {
   "cell_type": "code",
   "execution_count": 69,
   "metadata": {
    "tags": []
   },
   "outputs": [],
   "source": [
    "import numpy as np"
   ]
  },
  {
   "cell_type": "markdown",
   "metadata": {
    "user_expressions": []
   },
   "source": [
    "With the help of numpy we can introduce a new data type - arrays. Arrays are commonly used with Data Frames (basically, tables of values). There are a lot of functions and methods that can be used with arrays when we are analyzing data. The main difference between the lists and arrays is that an array can take only one type of data (eg. only numerals, or strings, but never both).\n",
    "\n",
    "To create an array with values, just make your variable equal to `np.array(\"your value\")`"
   ]
  },
  {
   "cell_type": "code",
   "execution_count": 70,
   "metadata": {
    "tags": []
   },
   "outputs": [
    {
     "data": {
      "text/plain": [
       "array(10)"
      ]
     },
     "execution_count": 70,
     "metadata": {},
     "output_type": "execute_result"
    }
   ],
   "source": [
    "arr = np.array(10)\n",
    "arr"
   ]
  },
  {
   "cell_type": "markdown",
   "metadata": {
    "user_expressions": []
   },
   "source": [
    "A very useful method that can be used with an array of numbers is np.arange( ). It takes at least 2, sometimes 3 positional arguments. The first number will be the starting point of your array, the last one will identify up to which number your array will go (not inclusive). The third positional argument is optional, it shows how many steps an array should skip through. (This is very similar to lists)\n",
    "\n",
    "For example, if you need an array with numbers from 0 to 20, but you only want for it to include every other number, you will need add a third positional argument."
   ]
  },
  {
   "cell_type": "code",
   "execution_count": 71,
   "metadata": {
    "tags": []
   },
   "outputs": [
    {
     "data": {
      "text/plain": [
       "array([ 0,  2,  4,  6,  8, 10, 12, 14, 16, 18, 20])"
      ]
     },
     "execution_count": 71,
     "metadata": {},
     "output_type": "execute_result"
    }
   ],
   "source": [
    "every_other = np.arange(0, 21, 2)\n",
    "every_other"
   ]
  },
  {
   "cell_type": "markdown",
   "metadata": {},
   "source": [
    "You can also convert a list of numbers in Python into an array:"
   ]
  },
  {
   "cell_type": "code",
   "execution_count": 72,
   "metadata": {
    "tags": []
   },
   "outputs": [
    {
     "data": {
      "text/plain": [
       "array([1, 2, 3, 4, 5])"
      ]
     },
     "execution_count": 72,
     "metadata": {},
     "output_type": "execute_result"
    }
   ],
   "source": [
    "num_lst = [1, 2, 3, 4, 5]\n",
    "num_arr = np.array(num_lst)\n",
    "num_arr"
   ]
  },
  {
   "cell_type": "markdown",
   "metadata": {
    "user_expressions": []
   },
   "source": [
    "You can do some arithmetic with arrays. Guess what will be the output of this line of code before you run it:"
   ]
  },
  {
   "cell_type": "code",
   "execution_count": 73,
   "metadata": {
    "tags": []
   },
   "outputs": [
    {
     "data": {
      "text/plain": [
       "array([ 2,  4,  6,  8, 10])"
      ]
     },
     "execution_count": 73,
     "metadata": {},
     "output_type": "execute_result"
    }
   ],
   "source": [
    "num_arr*2"
   ]
  },
  {
   "cell_type": "markdown",
   "metadata": {
    "user_expressions": []
   },
   "source": [
    "As you can see, all the values in our array got mutliplied by 2."
   ]
  },
  {
   "cell_type": "markdown",
   "metadata": {
    "user_expressions": []
   },
   "source": [
    "Try performing the same operation with the initial list of numbers instead. What do you think the output will be in the cell below?"
   ]
  },
  {
   "cell_type": "code",
   "execution_count": 74,
   "metadata": {
    "tags": []
   },
   "outputs": [
    {
     "data": {
      "text/plain": [
       "[1, 2, 3, 4, 5, 1, 2, 3, 4, 5]"
      ]
     },
     "execution_count": 74,
     "metadata": {},
     "output_type": "execute_result"
    }
   ],
   "source": [
    "num_lst*2"
   ]
  },
  {
   "cell_type": "markdown",
   "metadata": {},
   "source": [
    "As you can see, lists and arrays not only can be used differently, but they also give different outputs when we are using the same operations on them."
   ]
  },
  {
   "cell_type": "markdown",
   "metadata": {},
   "source": [
    "### **How to know what data type are we talking about?**"
   ]
  },
  {
   "cell_type": "code",
   "execution_count": 75,
   "metadata": {
    "tags": []
   },
   "outputs": [
    {
     "data": {
      "text/plain": [
       "['I',\n",
       " 'am',\n",
       " 'agog!',\n",
       " 'I',\n",
       " 'am',\n",
       " 'aghast!',\n",
       " 'Is',\n",
       " 'Marius',\n",
       " 'in',\n",
       " 'love',\n",
       " 'at',\n",
       " 'last?']"
      ]
     },
     "execution_count": 75,
     "metadata": {},
     "output_type": "execute_result"
    }
   ],
   "source": [
    "lyrics"
   ]
  },
  {
   "cell_type": "code",
   "execution_count": 76,
   "metadata": {
    "tags": []
   },
   "outputs": [
    {
     "data": {
      "text/plain": [
       "list"
      ]
     },
     "execution_count": 76,
     "metadata": {},
     "output_type": "execute_result"
    }
   ],
   "source": [
    "# Using type() and inside the parentheses including the object\n",
    "type(lyrics)"
   ]
  },
  {
   "cell_type": "code",
   "execution_count": 77,
   "metadata": {
    "tags": []
   },
   "outputs": [
    {
     "data": {
      "text/plain": [
       "'GGR377'"
      ]
     },
     "execution_count": 77,
     "metadata": {},
     "output_type": "execute_result"
    }
   ],
   "source": [
    "\"GGR377\""
   ]
  },
  {
   "cell_type": "code",
   "execution_count": 78,
   "metadata": {
    "tags": []
   },
   "outputs": [
    {
     "data": {
      "text/plain": [
       "str"
      ]
     },
     "execution_count": 78,
     "metadata": {},
     "output_type": "execute_result"
    }
   ],
   "source": [
    "type(\"GGR377\")"
   ]
  },
  {
   "cell_type": "code",
   "execution_count": 79,
   "metadata": {
    "tags": []
   },
   "outputs": [
    {
     "data": {
      "text/plain": [
       "int"
      ]
     },
     "execution_count": 79,
     "metadata": {},
     "output_type": "execute_result"
    }
   ],
   "source": [
    "type(5)"
   ]
  },
  {
   "cell_type": "code",
   "execution_count": 80,
   "metadata": {
    "tags": []
   },
   "outputs": [
    {
     "data": {
      "text/plain": [
       "float"
      ]
     },
     "execution_count": 80,
     "metadata": {},
     "output_type": "execute_result"
    }
   ],
   "source": [
    "type(5.4)"
   ]
  },
  {
   "cell_type": "markdown",
   "metadata": {},
   "source": [
    "## <font color='red'> 2. Visualizations - introducing matplotlib!"
   ]
  },
  {
   "cell_type": "markdown",
   "metadata": {},
   "source": [
    "[Click here to check out the types of visualization you can output using matplotlib!](https://matplotlib.org/gallery/index.html)"
   ]
  },
  {
   "cell_type": "markdown",
   "metadata": {},
   "source": [
    "It is time for us to revisit Python libraries. What makes it powerful are the libraries people wrote for it. Libraries are the sets of different functions that you can import and use. The most popular libraries are numpy, pandas, and matplotlib.\n",
    "\n",
    "\n",
    "Since we are using Anaconda, a lot of libraries have been preloaded for you. You just need to \"call\" them. Just run the cell below. It will make our notebook know that we will be using these preinstalled libraries from that point on. \n",
    "\n",
    "Libraries are used to make Python more efficient. By itself (solely with built-in functions and methods), Python is not a very useful language, hence people keep building libraries (sets of functions and methods) that can be used together with Python in order to make it more useful."
   ]
  },
  {
   "cell_type": "markdown",
   "metadata": {},
   "source": [
    "### Pandas - read in data"
   ]
  },
  {
   "cell_type": "code",
   "execution_count": 81,
   "metadata": {
    "tags": []
   },
   "outputs": [],
   "source": [
    "import pandas as pd\n",
    "import matplotlib.pyplot as plt"
   ]
  },
  {
   "cell_type": "code",
   "execution_count": 82,
   "metadata": {
    "tags": []
   },
   "outputs": [],
   "source": [
    "# First let's upload the dataset we have selected to work on, using the pd.read_csv command.\n",
    "broadway = pd.read_csv(\"broadway.csv\")"
   ]
  },
  {
   "cell_type": "code",
   "execution_count": 83,
   "metadata": {
    "tags": []
   },
   "outputs": [
    {
     "name": "stdout",
     "output_type": "stream",
     "text": [
      "<class 'pandas.core.frame.DataFrame'>\n"
     ]
    },
    {
     "data": {
      "text/html": [
       "<div>\n",
       "<style scoped>\n",
       "    .dataframe tbody tr th:only-of-type {\n",
       "        vertical-align: middle;\n",
       "    }\n",
       "\n",
       "    .dataframe tbody tr th {\n",
       "        vertical-align: top;\n",
       "    }\n",
       "\n",
       "    .dataframe thead th {\n",
       "        text-align: right;\n",
       "    }\n",
       "</style>\n",
       "<table border=\"1\" class=\"dataframe\">\n",
       "  <thead>\n",
       "    <tr style=\"text-align: right;\">\n",
       "      <th></th>\n",
       "      <th>Attendance</th>\n",
       "      <th>Capacity</th>\n",
       "      <th>Day</th>\n",
       "      <th>Full</th>\n",
       "      <th>Gross</th>\n",
       "      <th>Gross Potential</th>\n",
       "      <th>Month</th>\n",
       "      <th>Name</th>\n",
       "      <th>Performances</th>\n",
       "      <th>Theatre</th>\n",
       "      <th>Type</th>\n",
       "      <th>Year</th>\n",
       "    </tr>\n",
       "  </thead>\n",
       "  <tbody>\n",
       "    <tr>\n",
       "      <th>0</th>\n",
       "      <td>5500</td>\n",
       "      <td>88</td>\n",
       "      <td>26</td>\n",
       "      <td>08/26/1990</td>\n",
       "      <td>134456</td>\n",
       "      <td>0</td>\n",
       "      <td>8</td>\n",
       "      <td>Tru</td>\n",
       "      <td>8</td>\n",
       "      <td>Booth</td>\n",
       "      <td>Play</td>\n",
       "      <td>1990</td>\n",
       "    </tr>\n",
       "    <tr>\n",
       "      <th>1</th>\n",
       "      <td>1737</td>\n",
       "      <td>100</td>\n",
       "      <td>24</td>\n",
       "      <td>03/24/1991</td>\n",
       "      <td>100647</td>\n",
       "      <td>0</td>\n",
       "      <td>3</td>\n",
       "      <td>Miss Saigon</td>\n",
       "      <td>0</td>\n",
       "      <td>Broadway</td>\n",
       "      <td>Musical</td>\n",
       "      <td>1991</td>\n",
       "    </tr>\n",
       "    <tr>\n",
       "      <th>2</th>\n",
       "      <td>12160</td>\n",
       "      <td>100</td>\n",
       "      <td>31</td>\n",
       "      <td>03/31/1991</td>\n",
       "      <td>634424</td>\n",
       "      <td>0</td>\n",
       "      <td>3</td>\n",
       "      <td>Miss Saigon</td>\n",
       "      <td>0</td>\n",
       "      <td>Broadway</td>\n",
       "      <td>Musical</td>\n",
       "      <td>1991</td>\n",
       "    </tr>\n",
       "    <tr>\n",
       "      <th>3</th>\n",
       "      <td>13921</td>\n",
       "      <td>100</td>\n",
       "      <td>7</td>\n",
       "      <td>04/07/1991</td>\n",
       "      <td>713353</td>\n",
       "      <td>0</td>\n",
       "      <td>4</td>\n",
       "      <td>Miss Saigon</td>\n",
       "      <td>0</td>\n",
       "      <td>Broadway</td>\n",
       "      <td>Musical</td>\n",
       "      <td>1991</td>\n",
       "    </tr>\n",
       "    <tr>\n",
       "      <th>4</th>\n",
       "      <td>10973</td>\n",
       "      <td>90</td>\n",
       "      <td>14</td>\n",
       "      <td>04/14/1991</td>\n",
       "      <td>573981</td>\n",
       "      <td>0</td>\n",
       "      <td>4</td>\n",
       "      <td>Miss Saigon</td>\n",
       "      <td>4</td>\n",
       "      <td>Broadway</td>\n",
       "      <td>Musical</td>\n",
       "      <td>1991</td>\n",
       "    </tr>\n",
       "  </tbody>\n",
       "</table>\n",
       "</div>"
      ],
      "text/plain": [
       "   Attendance  Capacity  Day        Full   Gross  Gross Potential  Month  \\\n",
       "0        5500        88   26  08/26/1990  134456                0      8   \n",
       "1        1737       100   24  03/24/1991  100647                0      3   \n",
       "2       12160       100   31  03/31/1991  634424                0      3   \n",
       "3       13921       100    7  04/07/1991  713353                0      4   \n",
       "4       10973        90   14  04/14/1991  573981                0      4   \n",
       "\n",
       "          Name  Performances   Theatre     Type  Year  \n",
       "0          Tru             8     Booth     Play  1990  \n",
       "1  Miss Saigon             0  Broadway  Musical  1991  \n",
       "2  Miss Saigon             0  Broadway  Musical  1991  \n",
       "3  Miss Saigon             0  Broadway  Musical  1991  \n",
       "4  Miss Saigon             4  Broadway  Musical  1991  "
      ]
     },
     "execution_count": 83,
     "metadata": {},
     "output_type": "execute_result"
    }
   ],
   "source": [
    "print(type(broadway))\n",
    "broadway.head()"
   ]
  },
  {
   "cell_type": "code",
   "execution_count": 84,
   "metadata": {
    "tags": []
   },
   "outputs": [
    {
     "data": {
      "text/html": [
       "<div>\n",
       "<style scoped>\n",
       "    .dataframe tbody tr th:only-of-type {\n",
       "        vertical-align: middle;\n",
       "    }\n",
       "\n",
       "    .dataframe tbody tr th {\n",
       "        vertical-align: top;\n",
       "    }\n",
       "\n",
       "    .dataframe thead th {\n",
       "        text-align: right;\n",
       "    }\n",
       "</style>\n",
       "<table border=\"1\" class=\"dataframe\">\n",
       "  <thead>\n",
       "    <tr style=\"text-align: right;\">\n",
       "      <th></th>\n",
       "      <th>Attendance</th>\n",
       "      <th>Capacity</th>\n",
       "      <th>Day</th>\n",
       "      <th>Full</th>\n",
       "      <th>Gross</th>\n",
       "      <th>Gross Potential</th>\n",
       "      <th>Month</th>\n",
       "      <th>Name</th>\n",
       "      <th>Performances</th>\n",
       "      <th>Theatre</th>\n",
       "      <th>Type</th>\n",
       "      <th>Year</th>\n",
       "    </tr>\n",
       "  </thead>\n",
       "  <tbody>\n",
       "    <tr>\n",
       "      <th>31286</th>\n",
       "      <td>11342</td>\n",
       "      <td>95</td>\n",
       "      <td>14</td>\n",
       "      <td>08/14/2016</td>\n",
       "      <td>1160694</td>\n",
       "      <td>76</td>\n",
       "      <td>8</td>\n",
       "      <td>School Of Rock</td>\n",
       "      <td>8</td>\n",
       "      <td>Winter Garden</td>\n",
       "      <td>Musical</td>\n",
       "      <td>2016</td>\n",
       "    </tr>\n",
       "    <tr>\n",
       "      <th>31287</th>\n",
       "      <td>7239</td>\n",
       "      <td>67</td>\n",
       "      <td>14</td>\n",
       "      <td>08/14/2016</td>\n",
       "      <td>584022</td>\n",
       "      <td>46</td>\n",
       "      <td>8</td>\n",
       "      <td>Something Rotten!</td>\n",
       "      <td>8</td>\n",
       "      <td>St. James</td>\n",
       "      <td>Musical</td>\n",
       "      <td>2016</td>\n",
       "    </tr>\n",
       "    <tr>\n",
       "      <th>31288</th>\n",
       "      <td>8731</td>\n",
       "      <td>102</td>\n",
       "      <td>14</td>\n",
       "      <td>08/14/2016</td>\n",
       "      <td>1305962</td>\n",
       "      <td>97</td>\n",
       "      <td>8</td>\n",
       "      <td>The Book Of Mormon</td>\n",
       "      <td>8</td>\n",
       "      <td>Eugene O'Neill</td>\n",
       "      <td>Musical</td>\n",
       "      <td>2016</td>\n",
       "    </tr>\n",
       "    <tr>\n",
       "      <th>31289</th>\n",
       "      <td>7367</td>\n",
       "      <td>88</td>\n",
       "      <td>14</td>\n",
       "      <td>08/14/2016</td>\n",
       "      <td>718400</td>\n",
       "      <td>70</td>\n",
       "      <td>8</td>\n",
       "      <td>The Color Purple 2015</td>\n",
       "      <td>8</td>\n",
       "      <td>Jacobs</td>\n",
       "      <td>Musical</td>\n",
       "      <td>2016</td>\n",
       "    </tr>\n",
       "    <tr>\n",
       "      <th>31290</th>\n",
       "      <td>6407</td>\n",
       "      <td>79</td>\n",
       "      <td>14</td>\n",
       "      <td>08/14/2016</td>\n",
       "      <td>464058</td>\n",
       "      <td>54</td>\n",
       "      <td>8</td>\n",
       "      <td>The Curious Incident Of The Dog In The Night-Time</td>\n",
       "      <td>8</td>\n",
       "      <td>Ethel Barrymore</td>\n",
       "      <td>Play</td>\n",
       "      <td>2016</td>\n",
       "    </tr>\n",
       "    <tr>\n",
       "      <th>31291</th>\n",
       "      <td>7234</td>\n",
       "      <td>87</td>\n",
       "      <td>14</td>\n",
       "      <td>08/14/2016</td>\n",
       "      <td>603770</td>\n",
       "      <td>62</td>\n",
       "      <td>8</td>\n",
       "      <td>The Humans</td>\n",
       "      <td>8</td>\n",
       "      <td>Schoenfeld</td>\n",
       "      <td>Play</td>\n",
       "      <td>2016</td>\n",
       "    </tr>\n",
       "    <tr>\n",
       "      <th>31292</th>\n",
       "      <td>13485</td>\n",
       "      <td>99</td>\n",
       "      <td>14</td>\n",
       "      <td>08/14/2016</td>\n",
       "      <td>2233894</td>\n",
       "      <td>97</td>\n",
       "      <td>8</td>\n",
       "      <td>The Lion King</td>\n",
       "      <td>8</td>\n",
       "      <td>Minskoff</td>\n",
       "      <td>Musical</td>\n",
       "      <td>2016</td>\n",
       "    </tr>\n",
       "    <tr>\n",
       "      <th>31293</th>\n",
       "      <td>10966</td>\n",
       "      <td>85</td>\n",
       "      <td>14</td>\n",
       "      <td>08/14/2016</td>\n",
       "      <td>999632</td>\n",
       "      <td>66</td>\n",
       "      <td>8</td>\n",
       "      <td>The Phantom Of The Opera</td>\n",
       "      <td>8</td>\n",
       "      <td>Majestic</td>\n",
       "      <td>Musical</td>\n",
       "      <td>2016</td>\n",
       "    </tr>\n",
       "    <tr>\n",
       "      <th>31294</th>\n",
       "      <td>8058</td>\n",
       "      <td>96</td>\n",
       "      <td>14</td>\n",
       "      <td>08/14/2016</td>\n",
       "      <td>990128</td>\n",
       "      <td>97</td>\n",
       "      <td>8</td>\n",
       "      <td>Waitress</td>\n",
       "      <td>8</td>\n",
       "      <td>Brooks Atkinson</td>\n",
       "      <td>Musical</td>\n",
       "      <td>2016</td>\n",
       "    </tr>\n",
       "    <tr>\n",
       "      <th>31295</th>\n",
       "      <td>13804</td>\n",
       "      <td>95</td>\n",
       "      <td>14</td>\n",
       "      <td>08/14/2016</td>\n",
       "      <td>1779664</td>\n",
       "      <td>100</td>\n",
       "      <td>8</td>\n",
       "      <td>Wicked</td>\n",
       "      <td>8</td>\n",
       "      <td>Gershwin</td>\n",
       "      <td>Musical</td>\n",
       "      <td>2016</td>\n",
       "    </tr>\n",
       "  </tbody>\n",
       "</table>\n",
       "</div>"
      ],
      "text/plain": [
       "       Attendance  Capacity  Day        Full    Gross  Gross Potential  Month  \\\n",
       "31286       11342        95   14  08/14/2016  1160694               76      8   \n",
       "31287        7239        67   14  08/14/2016   584022               46      8   \n",
       "31288        8731       102   14  08/14/2016  1305962               97      8   \n",
       "31289        7367        88   14  08/14/2016   718400               70      8   \n",
       "31290        6407        79   14  08/14/2016   464058               54      8   \n",
       "31291        7234        87   14  08/14/2016   603770               62      8   \n",
       "31292       13485        99   14  08/14/2016  2233894               97      8   \n",
       "31293       10966        85   14  08/14/2016   999632               66      8   \n",
       "31294        8058        96   14  08/14/2016   990128               97      8   \n",
       "31295       13804        95   14  08/14/2016  1779664              100      8   \n",
       "\n",
       "                                                    Name  Performances  \\\n",
       "31286                                     School Of Rock             8   \n",
       "31287                                  Something Rotten!             8   \n",
       "31288                                 The Book Of Mormon             8   \n",
       "31289                              The Color Purple 2015             8   \n",
       "31290  The Curious Incident Of The Dog In The Night-Time             8   \n",
       "31291                                         The Humans             8   \n",
       "31292                                      The Lion King             8   \n",
       "31293                           The Phantom Of The Opera             8   \n",
       "31294                                           Waitress             8   \n",
       "31295                                             Wicked             8   \n",
       "\n",
       "               Theatre     Type  Year  \n",
       "31286    Winter Garden  Musical  2016  \n",
       "31287        St. James  Musical  2016  \n",
       "31288   Eugene O'Neill  Musical  2016  \n",
       "31289           Jacobs  Musical  2016  \n",
       "31290  Ethel Barrymore     Play  2016  \n",
       "31291       Schoenfeld     Play  2016  \n",
       "31292         Minskoff  Musical  2016  \n",
       "31293         Majestic  Musical  2016  \n",
       "31294  Brooks Atkinson  Musical  2016  \n",
       "31295         Gershwin  Musical  2016  "
      ]
     },
     "execution_count": 84,
     "metadata": {},
     "output_type": "execute_result"
    }
   ],
   "source": [
    "broadway.tail(10)"
   ]
  },
  {
   "cell_type": "markdown",
   "metadata": {
    "user_expressions": []
   },
   "source": [
    "Sometimes it is easier to see a certain trend in our data by simply plotting the values from a few columns together. Like so:"
   ]
  },
  {
   "cell_type": "code",
   "execution_count": 85,
   "metadata": {
    "tags": []
   },
   "outputs": [
    {
     "data": {
      "image/png": "[encoded data removed]",
      "text/plain": [
       "<Figure size 640x480 with 1 Axes>"
      ]
     },
     "metadata": {},
     "output_type": "display_data"
    }
   ],
   "source": [
    "plt.scatter(broadway['Year'], broadway['Gross'])\n",
    "plt.show()"
   ]
  },
  {
   "cell_type": "markdown",
   "metadata": {
    "user_expressions": []
   },
   "source": [
    "So we can see that the Gross amount for the shows were growing in the course of years. Which makes perfect sense. What if we wanted to see the same trend for a specific show? How about we see the changes in gross amount by week for all the years Les Misérables was on stage?\n",
    "\n",
    "Note that before we do this, it is helpful to look at the names of the musicals listed. Many datasets you will work with are rife with missing information, spelling errors, and so on. Let's see if we can figure out a better way to filter on a name other than a direct string comparison using the `==` operator."
   ]
  },
  {
   "cell_type": "code",
   "execution_count": 91,
   "metadata": {
    "tags": []
   },
   "outputs": [
    {
     "data": {
      "text/plain": [
       "array([\"'Night Mother\", '110 In The Shade', '13', '1776', '33 Variations',\n",
       "       \"42Nd Street '01\", '45 Seconds From Broadway', '700 Sundays',\n",
       "       \"700 Sundays '13\", '9 To 5', 'A Behanding In Spokane',\n",
       "       'A Bronx Tale', 'A Catered Affair', \"A Chorus Line '06\",\n",
       "       \"A Christmas Carol '01\", 'A Christmas Story', 'A Class Act',\n",
       "       'A Day In The Death Of Joe Egg', 'A Delicate Balance',\n",
       "       'A Delicate Balance 2014', \"A Doll'S House\", 'A Free Man Of Color',\n",
       "       'A Funny Thing Happened On The Way To The Forum',\n",
       "       \"A Gentleman'S Guide To Love And Murder\", 'A Life In The Theatre',\n",
       "       'A Little More Magic', 'A Little Night Music',\n",
       "       'A Man For All Seasons', \"A Midsummer Night'S Dream\",\n",
       "       \"A Mom'S Life\", 'A Month In The Country',\n",
       "       'A Moon For The Misbegotten 00', 'A Moon For The Misbegotten 07',\n",
       "       'A Naked Girl On The Appian Way', 'A Night With Janis Joplin',\n",
       "       'A Raisin In The Sun', \"A Raisin In The Sun '14\", 'A Steady Rain',\n",
       "       \"A Streetcar Named Desire '12\", 'A Streetcar Named Desire 05',\n",
       "       'A Streetcar Named Desire 92', 'A Tale Of Two Cities',\n",
       "       'A Thousand Clowns', 'A Thousand Clowns 01', 'A Time To Kill',\n",
       "       'A Touch Of The Poet', 'A View From The Bridge',\n",
       "       \"A View From The Bridge '10\", 'A View From The Bridge 2015',\n",
       "       'A Year With Frog And Toad', 'Absurd Person Singular',\n",
       "       'Accent On Youth', 'Act One', 'After Midnight', 'After Miss Julie',\n",
       "       'After The Fall', 'After The Night And The Music',\n",
       "       'Ah, Wilderness', 'Aida', 'Airline Highway', 'Aladdin',\n",
       "       'All About Me', 'All My Sons 08', 'All Shook Up', 'All The Way',\n",
       "       'Allegiance', 'Amadeus', 'Amazing Grace', 'American Buffalo',\n",
       "       'American Idiot', 'American Psycho', 'Amour', \"Amy'S View\",\n",
       "       'An Act Of God', 'An Act Of God 2016', 'An Almost Holy Picture',\n",
       "       'An American Daughter', 'An American In Paris',\n",
       "       'An Enemy Of The People', 'An Evening With Jerry Herman',\n",
       "       'An Evening With Patti Lupone And Mandy Patinkin',\n",
       "       'An Ideal Husband', 'Ann', 'Anna In The Tropics', 'Annie',\n",
       "       \"Annie '12\", 'Annie Get Your Gun', \"Anything Goes '11\", 'Arcadia',\n",
       "       \"Arcadia '11\", 'Art', 'As Long As We Both Shall Laugh',\n",
       "       'Assassins', 'August: Osage County', 'Avenue Q', 'Awake And Sing!',\n",
       "       'Aznavour', \"Baby It'S You!\", 'Band In Berlin',\n",
       "       \"Barbara Cook'S Broadway\", 'Barbara Cook: Mostly Sondheim',\n",
       "       'Barefoot In The Park', 'Barrymore', 'Bea Arthur On Broadway',\n",
       "       'Beautiful', 'Beauty And The Beast', 'Bells Are Ringing',\n",
       "       'Bengal Tiger At The Bagdhad Zoo', 'Betrayal', \"Betrayal '13\",\n",
       "       'Big', 'Big Fish', \"Big River '03\",\n",
       "       'Bill Maher: Victory Begins At Home', 'Billy Elliot: The Musical',\n",
       "       'Blackbird', 'Blast!', \"Blithe Spirit '09\",\n",
       "       'Bloody Bloody Andrew Jackson', 'Bobbi Boland', 'Boeing-Boeing',\n",
       "       'Bombay Dreams', 'Bonnie And Clyde', \"Born Yesterday '11\",\n",
       "       \"Breakfast At Tiffany'S\", 'Bridge And Tunnel', 'Brief Encounter',\n",
       "       'Bright Star', \"Brighton Beach Memoirs '09\",\n",
       "       'Bring In Da Noise, Bring In Da Funk', 'Bring It On The Musical',\n",
       "       'Broken Glass', 'Bronx Bombers', 'Brooklyn', 'Brooklyn Boy',\n",
       "       'Bullets Over Broadway', 'Buried Child', 'Burn The Floor',\n",
       "       'Bus Stop', 'Butley', 'Buttons On Broadway', 'By Jeeves',\n",
       "       'Bye Bye Birdie', \"Cabaret '14\", 'Cabaret 98', 'Candide',\n",
       "       'Caroline, Or Change', 'Casa Valentina',\n",
       "       \"Cat On A Hot Tin Roof '12\", 'Cat On A Hot Tin Roof 03',\n",
       "       'Cat On A Hot Tin Roof 08', 'Catch Me If You Can', 'Cats',\n",
       "       'Cats 2016', 'Chaplin', 'Chicago', 'China Doll', 'Chinglish',\n",
       "       \"Chita Rivera: The Dancer'S Life\", 'Chitty Chitty Bang Bang',\n",
       "       'Chronicle Of A Death Foretold', 'Cinderella',\n",
       "       'Cirque Dreams: Jungle Fantasy', 'Closer', 'Clybourne Park',\n",
       "       'Colin Quinn - An Irish Wake', 'Colin Quinn: Long Story Short',\n",
       "       'Collected Stories', 'Come Back, Little Sheba', 'Come Fly Away',\n",
       "       'Company 06', 'Company 95', 'Constellations', 'Contact',\n",
       "       'Copenhagen', 'Coram Boy', 'Cry Baby', 'Curtains', 'Cymbeline',\n",
       "       'Cyrano De Bergerac', \"Cyrano De Bergerac '12\",\n",
       "       'Dame Edna:  Back With A Vengeance', 'Dame Edna: The Royal Tour',\n",
       "       'Dames At Sea', 'Dance Of Death', 'Dance Of The Vampires',\n",
       "       'Danny Gans On Broadway', 'Dead Accounts',\n",
       "       \"Death Of A Salesman '12\", 'Death Of A Salesman 99',\n",
       "       'Def Poetry Jam', 'Defending The Caveman', 'Democracy',\n",
       "       'Design For Living 01', 'Desire Under The Elms', 'Deuce',\n",
       "       'Dinner At Eight', 'Dirty Blonde', 'Dirty Rotten Scoundrels',\n",
       "       'Disaster!', 'Disgraced', 'Dividing The Estate', 'Doctor Zhivago',\n",
       "       \"Don'T Dress For Dinner\", 'Donny & Marie: A Broadway Christmas',\n",
       "       'Doubt', \"Dr. Seuss' How The Grinch Stole Christmas!\",\n",
       "       \"Dr. Seuss' How The Grinch Stole Christmas! 07\",\n",
       "       'Dracula, The Musical', 'Dream: The Johnny Mercer Musical',\n",
       "       'Dreams And Nightmares', 'Driving Miss Daisy', 'Drowning Crow',\n",
       "       'Eclipsed', 'Elaine Stritch At Liberty', 'Electra', 'Elf',\n",
       "       \"Elf '12\", 'Elling', 'Enchanted April', 'End Of The Rainbow',\n",
       "       'Enron', 'Epic Proportions', 'Equus', 'Eugene Onegin',\n",
       "       'Everyday Rapture', 'Evita', 'Exit The King', 'Faith Healer',\n",
       "       'Fela!', \"Fela! '12\", \"Fences '10\", 'Festen',\n",
       "       'Fiddler On The Roof 04', 'Fiddler On The Roof 2015',\n",
       "       'Finding Neverland', \"Finian'S Rainbow\", 'First Date',\n",
       "       'Fish In The Dark', 'Flower Drum Song', 'Follies', \"Follies '11\",\n",
       "       'Fool For Love', \"Fool Moon '98\", 'Footloose', \"Forever Tango '04\",\n",
       "       \"Forever Tango '13\", \"Forever Tango '97\", \"Fortune'S Fool\",\n",
       "       'Fosse', 'Frankie And Johnny In The Claire De Lune',\n",
       "       'Frankie Valli And The Four Seasons On Broadway', 'Freak',\n",
       "       'Frost/Nixon', 'Frozen', 'Fully Committed', 'Fun Home',\n",
       "       'Garden District', 'Gem Of The Ocean', 'George Gershwin Alone',\n",
       "       'Getting And Spending', 'Ghetto Klown', 'Ghost', 'Gigi',\n",
       "       \"Glengarry Glen Ross '05\", \"Glengarry Glen Ross '12\", 'Glory Days',\n",
       "       'God Of Carnage', 'God Said \"Ha\"', 'Godspell', \"Golda'S Balcony\",\n",
       "       'Golden Boy', 'Golden Child', 'Good People', 'Good Vibrations',\n",
       "       \"Gore Vidal'S The Best Man\", \"Gore Vidal'S The Best Man '12\",\n",
       "       'Grace', 'Grease', 'Grease 07', 'Grey Gardens',\n",
       "       \"Guys And Dolls '09\", \"Gypsy '03\", \"Gypsy '08\", 'Hair', \"Hair '11\",\n",
       "       'Hairspray', 'Hamilton', \"Hamlet '09\", 'Hamlet 95', 'Hand To God',\n",
       "       'Hands On A Hardbody', \"Harry Connick, Jr. '10\", 'Harvey',\n",
       "       'Having Our Say', 'Heartbreak House', 'Hedda Gabler 01',\n",
       "       'Hedda Gabler 09', 'Hedwig And The Angry Inch', 'Hello, Dolly!',\n",
       "       'Henry Iv', 'High', 'High Fidelity', 'High Society', 'Holiday',\n",
       "       'Holler If Ya Hear Me', 'Hollywood Arms', 'Honeymoon In Vegas',\n",
       "       'Honour', 'Hot Feet',\n",
       "       'How To Succeed In Business Without Really Trying',\n",
       "       \"How To Succeed In Business Without Really Trying '11\",\n",
       "       'Hugh Jackman, Back On Broadway', 'Hughie', 'Hughie 2016',\n",
       "       'I Am My Own Wife', \"I'Ll Eat You Last: A Chat With Sue Mengers\",\n",
       "       \"I'M Not Rappaport '02\", \"I'M Still Here...Damn It!\",\n",
       "       \"If You Ever Leave MeI'M Going With You\", 'If/Then',\n",
       "       'Il Divo - A Musical Affair', 'Imaginary Friends', 'Impressionism',\n",
       "       'In My Life', 'In The Heights',\n",
       "       'In The Next Room Or The Vibrator Play', 'Indiscretions',\n",
       "       'Inherit The Wind 07', \"Into The Woods '02\", \"Irena'S Vow\",\n",
       "       \"Irving Berlin'S White Christmas\",\n",
       "       \"Irving Berlin'S White Christmas '09\", 'Is He Dead?',\n",
       "       \"It Ain'T Nothin' But The Blues\", 'It Shoulda Been You',\n",
       "       \"It'S A Slippery Slope\", \"It'S Only A Play\", 'Ivanov',\n",
       "       \"Jackie Mason'S Laughing Room Only\",\n",
       "       'Jackie Mason:  Freshly Squeezed',\n",
       "       'Jackie Mason:  Politically Incorrect',\n",
       "       'Jackie Mason: Much Ado About Everything',\n",
       "       'Jackie: An American Life', \"James Joyce'S The Dead\", 'Jane Eyre',\n",
       "       'Jay Johnson: The Two And Only', 'Jekyll & Hyde',\n",
       "       \"Jekyll & Hyde '13\", 'Jerry Seinfeld', 'Jersey Boys', 'Jerusalem',\n",
       "       'Jesus Christ Superstar', \"Jesus Christ Superstar '12\",\n",
       "       \"Joe Turner'S Come And Gone '09\", \"Journey'S End\", 'Juan Darien',\n",
       "       'Judgment At Nuremberg', 'Julius Caesar', 'Jumpers',\n",
       "       'Kat And The Kings', 'Kathy Griffin Wants A Tony',\n",
       "       'Kiki & Herb: Alive On Broadway', 'King Charles Iii', 'King David',\n",
       "       'King Hedley Ii', 'King Lear', 'Kinky Boots', 'Kiss Me, Kate',\n",
       "       'Kiss Of The Spider Woman', \"La Bete '10\", 'La Bohme',\n",
       "       \"La Cage Aux Folles '04\", \"La Cage Aux Folles '10\",\n",
       "       \"Lady Day At Emerson'S Bar & Grill\", 'Latinologues', 'Laugh Whore',\n",
       "       'Leap Of Faith', 'Legally Blonde', \"Lend Me A Tenor '10\", 'Lennon',\n",
       "       'Les Liaisons Dangereuses 08', 'Les Misrables',\n",
       "       \"Les Misrables '14\", 'Les Misrables 2006', 'Lestat', 'Let It Be',\n",
       "       'Life X 3', 'Little Me', 'Little Shop Of Horrors', 'Little Women',\n",
       "       'Living On Love', \"Liza'S At The Palace\", 'Lombardi',\n",
       "       'London Assurance', \"Long Day'S Journey Into Night 03\",\n",
       "       \"Long Day'S Journey Into Night 2016\", 'Looped',\n",
       "       'Lord Of The Dance: Dangerous Games', 'Losing Louie',\n",
       "       'Love / Life', 'Love Letters 2014', 'Love Thy Neighbor',\n",
       "       'Love! Valour! Compassion!', 'Lovemusik', 'Lucky Guy',\n",
       "       'Lysistrata Jones', \"Ma Rainey'S Black Bottom '03\", \"Macbeth '13\",\n",
       "       \"Macbeth '13 (Lct)\", 'Macbeth 00', 'Macbeth 08', 'Machinal',\n",
       "       'Magic/Bird', 'Major Barbara', 'Mamma Mia!', 'Man And Boy',\n",
       "       'Man Of La Mancha 02', 'Mandy Patinkin',\n",
       "       'Mandy Patinkin In Concert: Mamaloshen', 'Manilow On Broadway',\n",
       "       \"Marc Salem'S Mind Games\", 'Marie Christine',\n",
       "       'Mark Twain Tonight!', 'Marlene', 'Martin Short: Fame Becomes Me',\n",
       "       'Mary Poppins', 'Mary Stuart', 'Master Class', \"Master Class '11\",\n",
       "       'Master HaroldAnd The Boys', 'Match', 'Matilda',\n",
       "       'Matters Of The Heart', 'Mauritius', 'Medea 02', 'Memphis',\n",
       "       'Men Are From Mars, Women Are From Venus', 'Metamorphoses',\n",
       "       'Mike Tyson: Undisputed Truth', 'Million Dollar Quartet',\n",
       "       'Minnelli On Minnelli', 'Misery', 'Miss Saigon',\n",
       "       \"Monty Python'S Spamalot\", 'Moon Over Buffalo',\n",
       "       'More To Love: A Big Fat Comedy', \"Morning'S At Seven\",\n",
       "       'Morning, Noon And Night', 'Mothers And Sons',\n",
       "       'Motown The Musical', 'Motown The Musical 2016', \"Movin' Out\",\n",
       "       \"Mrs. Warren'S Profession\", 'Never Gonna Dance', 'Newsies',\n",
       "       'Next Fall', 'Next To Normal', 'Nice Work If You Can Get It',\n",
       "       'Night Must Fall', 'Nine', \"No Man'S Land/Waiting For Godot\",\n",
       "       \"Noises Off '01\", 'Noises Off 2016', 'Not About Nightingales',\n",
       "       'November', 'Of Mice And Men', 'Oklahoma!', 'Old Acquaintance',\n",
       "       'Old Times', 'Oldest Living Confederate Widow Tells All',\n",
       "       'Oleanna', 'On A Clear Day You Can See Forever', 'On Golden Pond',\n",
       "       'On The Town', 'On The Town 2014', 'On The Twentieth Century',\n",
       "       'On Your Feet!', 'Once', 'Once Upon A Mattress',\n",
       "       \"One Flew Over The Cuckoo'S Nest\", 'One Man, Two Guvnors',\n",
       "       \"One Mo' Time\", 'Orphans', 'Other Desert Cities',\n",
       "       \"Our Mother'S Brief Affair\", 'Our Town 02', 'Outside Mullingar',\n",
       "       'Pacific Overtures', 'Pal Joey', 'Parade', 'Paramour',\n",
       "       'Passing Strange', 'Patti Labelle On Broadway',\n",
       "       'Patti Lupone On Broadway', 'Penn & Teller On Broadway',\n",
       "       'Peter And The Starcatcher', 'Peter Pan 98', \"Picnic '12\",\n",
       "       'Pippin', 'Play On!', \"Porgy And Bess '11\",\n",
       "       'Prelude To A Kiss 2007', 'Present Laughter',\n",
       "       \"Present Laughter '10\", 'Primo', 'Priscilla Queen Of The Desert',\n",
       "       \"Private Lives '11\", 'Private Lives 02', 'Promises, Promises',\n",
       "       'Proof', 'Proposals', 'Prune Danish', 'Prymate',\n",
       "       'Putting It Together', 'Pygmalion 07', 'Qed', 'Rabbit Hole',\n",
       "       'Race', 'Radio Golf', 'Ragtime', \"Ragtime '09\",\n",
       "       'Rain: A Tribute To The Beatles On Broadway',\n",
       "       'Reasons To Be Pretty', 'Reckless', 'Red', 'Relatively Speaking',\n",
       "       'Rent', 'Ring Of Fire', 'Ring Round The Moon', 'Riverdance',\n",
       "       \"Rock 'N' Roll\", 'Rock Of Ages', 'Rocky', 'Romeo And Juliet',\n",
       "       'Rose', 'Running On Empty', 'Sacrilege', 'Salome',\n",
       "       'Saturday Night Fever', 'Say Goodnight, Gracie', 'Scandalous',\n",
       "       'School For Scandal', 'School Of Rock', 'Seascape', 'Seminar',\n",
       "       'Seussical', 'Seven Guitars', 'Sex And Longing', \"Sexaholix '01\",\n",
       "       \"Sexaholix '03\", \"Shatner'S World: We Just Live In It\",\n",
       "       'She Loves Me 2016', 'Shining City', 'Show Boat',\n",
       "       'Shrek The Musical', 'Shuffle Along', 'Side Man', 'Side Show',\n",
       "       'Side Show 2014', 'Sight Unseen', 'Sister Act',\n",
       "       'Six Dance Lessons In Six Weeks', 'Sixteen Wounded', 'Skylight',\n",
       "       'Skylight 2015', \"Slava'S Snowshow\", 'Sly Fox',\n",
       "       \"Smokey Joe'S Cafe\", 'Something Rotten!', 'Sondheim On Sondheim',\n",
       "       'Soul Doctor', 'Soul Of Shaolin', 'South Pacific', 'Souvenir',\n",
       "       \"Speed The Plow '08\", 'Spider-Man Turn Off The Dark',\n",
       "       'Spring Awakening', 'Spring Awakening 2015', 'Squonk', 'Stanley',\n",
       "       'State Fair', 'Steel Magnolias', 'Steel Pier', 'Stick Fly',\n",
       "       'Stones In His Pockets', 'Street Corner Symphony',\n",
       "       'Summer And Smoke', \"Sunday In The Park With George '08\",\n",
       "       'Sunset Boulevard', 'Superior Donuts', 'Swan Lake',\n",
       "       'Sweeney Todd 05', 'Sweet Charity 05', 'Sweet Smell Of Success',\n",
       "       'Swing!', 'Sylvia', 'Taboo', 'Take Me Out', 'Taking Sides',\n",
       "       'Talk Radio', 'Taller Than A Dwarf', \"Tango Argentino '99\",\n",
       "       'Tartuffe 03', 'Tartuffe 96', 'Tarzan', 'That Championship Season',\n",
       "       'The 25Th Annual Putnam County Spelling Bee', 'The 39 Steps',\n",
       "       'The Addams Family', 'The Adventures Of Tom Sawyer',\n",
       "       'The American Plan', 'The Anarchist', 'The Apple Tree',\n",
       "       'The Assembled Parties', 'The Audience',\n",
       "       'The Beauty Queen Of Leenane', 'The Big Knife',\n",
       "       'The Blonde In The Thunderbird', 'The Blue Room',\n",
       "       'The Book Of Mormon', 'The Boy From Oz', 'The Boys From Syracuse',\n",
       "       'The Bridges Of Madison County', 'The Caine Mutiny Court-Martial',\n",
       "       'The Capeman', 'The Caretaker 03', 'The Chairs',\n",
       "       'The Cherry Orchard', 'The Civil War', 'The Coast Of Utopia',\n",
       "       'The Color Purple', 'The Color Purple 2015', 'The Columnist',\n",
       "       'The Constant Wife', 'The Country Girl', 'The Country House',\n",
       "       'The Cripple Of Inishmaan', 'The Crucible 02', 'The Crucible 2016',\n",
       "       'The Curious Incident Of The Dog In The Night-Time',\n",
       "       'The Deep Blue Sea', 'The Diary Of Anne Frank', 'The Dinner Party',\n",
       "       'The Drowsy Chaperone', 'The Elephant Man',\n",
       "       'The Elephant Man 2014', 'The Farnsworth Invention',\n",
       "       'The Father 2016', 'The Frogs', 'The Full Monty', 'The Gathering',\n",
       "       \"The Gershwins' Fascinating Rhythm\", 'The Gin Game',\n",
       "       'The Gin Game 2015', \"The Glass Menagerie '13\",\n",
       "       'The Glass Menagerie 05', 'The Goat, Or Who Is Sylvia?',\n",
       "       'The Good Body', 'The Graduate', 'The Green Bird',\n",
       "       'The Heidi Chronicles 2015', \"The Heiress '12\", 'The Herbal Bed',\n",
       "       'The History Boys', 'The Homecoming 07',\n",
       "       \"The House Of Blue Leaves '11\", 'The Humans',\n",
       "       'The Iceman Cometh 99', 'The Illusionists - Live On Broadway',\n",
       "       'The Illusionists - Witness The Impossible',\n",
       "       'The Importance Of Being Earnest', 'The Invention Of Love',\n",
       "       'The Judas Kiss', 'The King And I 2015', 'The King And I 96',\n",
       "       'The Last Night Of Ballyhoo', 'The Last Ship',\n",
       "       'The Lieutenant Of Inishmore', 'The Life',\n",
       "       'The Light In The Piazza', 'The Lion In Winter', 'The Lion King',\n",
       "       'The Little Dog Laughed', 'The Little Foxes', 'The Little Mermaid',\n",
       "       'The Lonesome West', 'The Look Of Love', 'The Lyons',\n",
       "       'The Man Who Came To Dinner', 'The Man Who Had All The Luck',\n",
       "       \"The Merchant Of Venice '10\", 'The Miracle Worker',\n",
       "       'The Motherf**Ker With The Hat', 'The Mountaintop',\n",
       "       'The Music Man', 'The Mystery Of Charles Dickens',\n",
       "       \"The Mystery Of Edwin Drood '12\", 'The Nance', 'The Normal Heart',\n",
       "       'The Norman Conquests', 'The Odd Couple 05',\n",
       "       'The Old Neighborhood', 'The Other Place', 'The Pajama Game',\n",
       "       'The Pee-Wee Herman Show', 'The People In The Picture',\n",
       "       'The Performers', 'The Phantom Of The Opera', 'The Philanthropist',\n",
       "       'The Pillowman', 'The Pirate Queen', 'The Pitmen Painters',\n",
       "       'The Play What I Wrote', \"The Play'S The Thing\", 'The Price 99',\n",
       "       'The Producers', 'The Rainmaker', 'The Rascals: Once Upon A Dream',\n",
       "       \"The Real Thing '00\", 'The Real Thing 2014',\n",
       "       'The Realistic Joneses', 'The Rehearsal',\n",
       "       'The Retreat From Moscow', 'The Ride Down Mt. Morgan', 'The Ritz',\n",
       "       'The Rivals', 'The River', 'The Road To Mecca',\n",
       "       'The Rocky Horror Show', 'The Rose Tattoo', 'The Royal Family',\n",
       "       'The Scarlet Pimpernel', 'The Scottsboro Boys', 'The Seafarer',\n",
       "       'The Seagull 08',\n",
       "       'The Search For Signs Of Intelligent Life In The Universe 00',\n",
       "       'The Shadow Box', 'The Sisters Rosensweig',\n",
       "       'The Smell Of The Kill', 'The Snow Geese', 'The Sound Of Music',\n",
       "       'The Story Of My Life', 'The Sunshine Boys',\n",
       "       \"The Tale Of The Allergist'S Wife\", 'The Tempest',\n",
       "       'The Temptations And The Four Tops On Broadway',\n",
       "       'The Testament Of Mary', 'The Threepenny Opera',\n",
       "       \"The Times They Are A-Changin'\", 'The Trip To Bountiful',\n",
       "       'The Velocity Of Autumn', 'The Vertical Hour', 'The Violet Hour',\n",
       "       'The Visit 2015', 'The Wedding Singer', 'The Weir',\n",
       "       'The Wild Party', 'The Winslow Boy', 'The Woman In White',\n",
       "       'The Women', 'The Year Of Magical Thinking',\n",
       "       'The Young Man From Atlanta', 'This Is Our Youth',\n",
       "       'Thoroughly Modern Millie', 'Thou Shalt Not', 'Three Days Of Rain',\n",
       "       'Three Sisters', 'Thrse Raquin', 'Thurgood', 'Time Stands Still',\n",
       "       'Titanic', 'Title Of Show', 'To Be Or Not To Be', 'Tommy',\n",
       "       'Top Girls', 'Topdog / Underdog', 'Translations 06',\n",
       "       'Triumph Of Love', 'Tru', 'True West', 'Tuck Everlasting',\n",
       "       'Twelfth Night', 'Twelfth Night/Richard Iii', 'Twelve Angry Men',\n",
       "       'Twentieth Century', 'Uncle Vanya', 'Uncle Vanya 00',\n",
       "       'Urban Cowboy', 'Urinetown', 'Vanya And Sonia And Masha And Spike',\n",
       "       'Venus In Fur', 'Via Dolorosa', 'Victor/Victoria',\n",
       "       'Vincent In Brixton', 'Violet', 'Voices In The Dark',\n",
       "       'Wait Until Dark', 'Waiting For Godot', 'Waiting In The Wings',\n",
       "       'Waitress', 'War Horse', 'Well', 'West Side Story',\n",
       "       \"Who'S Afraid Of Virginia Woolf?\",\n",
       "       \"Who'S Afraid Of Virginia Woolf? '12\", 'Whoopi', 'Wicked',\n",
       "       'Wishful Drinking', 'Wit', 'Wolf Hall Parts One & Two',\n",
       "       'Women On The Verge Of A Nervous Breakdown', 'Wonderful Town',\n",
       "       'Wonderland', 'Wrong Mountain', 'Xanadu',\n",
       "       \"You Can'T Take It With You\", \"You'Re A Good Man, Charlie Brown\",\n",
       "       \"You'Re Welcome America. A Final Night With George W. Bush\",\n",
       "       'Young Frankenstein'], dtype=object)"
      ]
     },
     "execution_count": 91,
     "metadata": {},
     "output_type": "execute_result"
    }
   ],
   "source": [
    "broadway.sort_values(by = 'Name', ascending = True)['Name'].unique()"
   ]
  },
  {
   "cell_type": "markdown",
   "metadata": {
    "user_expressions": []
   },
   "source": [
    "One thing that is immediately apparent is that the name is misspelled. This is likley due to the source stripping the character `é`, among others from the data before saving it. Generally this is bad practice and you should always take care when encoding your data to preserve important information.\n",
    "\n",
    "But at any rate, we see three separate runs of Les 'Misrables': `'Les Misrables', \"Les Misrables '14\", 'Les Misrables 2006'`. We not only have a misspelled musical name, but we have inconcistency in the year naming convention!\n",
    "\n",
    "This is not uncommon given the nature of the dataset, but give it another glance and see if you can find any other musicals that you might miss if you were to strictly compare the name to a string or other musicals that do not follow a standard naming convention.\n",
    "\n",
    "Note the difference between the two filtering methods below:"
   ]
  },
  {
   "cell_type": "code",
   "execution_count": 96,
   "metadata": {
    "tags": []
   },
   "outputs": [
    {
     "data": {
      "text/plain": [
       "(365, 12)"
      ]
     },
     "execution_count": 96,
     "metadata": {},
     "output_type": "execute_result"
    }
   ],
   "source": [
    "# only extracts runs with the name Les Misrables\n",
    "broadway[broadway['Name'] == \"Les Misrables\"].shape"
   ]
  },
  {
   "cell_type": "code",
   "execution_count": 97,
   "metadata": {
    "tags": []
   },
   "outputs": [
    {
     "data": {
      "text/plain": [
       "(555, 12)"
      ]
     },
     "execution_count": 97,
     "metadata": {},
     "output_type": "execute_result"
    }
   ],
   "source": [
    "# includes 'Les Misrables', \"Les Misrables '14\", and 'Les Misrables 2006'\n",
    "broadway[broadway['Name'].str.contains(\"Misrables\")].shape"
   ]
  },
  {
   "cell_type": "code",
   "execution_count": 98,
   "metadata": {
    "tags": []
   },
   "outputs": [],
   "source": [
    "les_miserables = broadway[broadway['Name'].str.contains(\"Misrables\")]"
   ]
  },
  {
   "cell_type": "code",
   "execution_count": 99,
   "metadata": {
    "tags": []
   },
   "outputs": [
    {
     "data": {
      "image/png": "[encoded data removed]",
      "text/plain": [
       "<Figure size 640x480 with 1 Axes>"
      ]
     },
     "metadata": {},
     "output_type": "display_data"
    }
   ],
   "source": [
    "plt.scatter(les_miserables['Year'], les_miserables['Gross'])\n",
    "plt.show()"
   ]
  },
  {
   "cell_type": "markdown",
   "metadata": {},
   "source": [
    "<div class=\"alert alert-success\" style=\"font-size:120%\">\n",
    "<b>YOUR TURN</b>: <br>\n",
    " Use the same code for any other show you are interested in.\n",
    "</div>"
   ]
  },
  {
   "cell_type": "code",
   "execution_count": null,
   "metadata": {},
   "outputs": [],
   "source": [
    "### YOUR CODE HERE ###\n"
   ]
  },
  {
   "cell_type": "markdown",
   "metadata": {},
   "source": [
    "## <font color='red'> 3. Conditionals"
   ]
  },
  {
   "cell_type": "markdown",
   "metadata": {},
   "source": [
    "Conditionals are also known as **booleans**. With conditional statements we can let the computer know when (aka under which condition) we want a specific operation to be executed. Under the hood the computer evaluates if the condition is True and performs a specific operation (like print( ), return( ), etc). Some of the most popular conditional statements are:"
   ]
  },
  {
   "cell_type": "markdown",
   "metadata": {},
   "source": [
    "**A == B: True if A equals B**\n",
    "\n",
    "**A != B: True if A is not equal to B**\n",
    "\n",
    "**A > B: True if A is greater than B. Same syntax for \"<\"**\n",
    "\n",
    "**A >= B: True if A is greater than or equal to B. Same syntax for \"<=\"**"
   ]
  },
  {
   "cell_type": "markdown",
   "metadata": {},
   "source": [
    "We have three types of statements in the Python conditionals: if, elif, and else. We always start with \"if\", we always end with \"else\". The \"elif\" statement is optional. It literally means \"else if\". While both \"if\" and \"else\" can only be used once, \"elif\" can be used multiple times, and let you add many more conditions to your statement.\n",
    "\n",
    "If the condition in the if case is False, then we move to the elif case. If the elif case is false, then we will move to the else case and perform whatever is inside the else condition. We move into the condition that has a True conditional value first and evaluate that."
   ]
  },
  {
   "cell_type": "code",
   "execution_count": 100,
   "metadata": {
    "tags": []
   },
   "outputs": [
    {
     "name": "stdout",
     "output_type": "stream",
     "text": [
      "True\n"
     ]
    }
   ],
   "source": [
    "author = \"Victor Hugo\"\n",
    "\n",
    "if author == \"Victor Hugo\":\n",
    "    print (True)\n",
    "else:\n",
    "    print (False)"
   ]
  },
  {
   "cell_type": "markdown",
   "metadata": {
    "user_expressions": []
   },
   "source": [
    "**Note:** \"=\" and \"==\" are not the same operations in Python. A single equals sign (=) assignes the value to the right of it to the variable name to the left of it. While the double equals sign (==) compares if the value on the right is equal to the value to the left of it. "
   ]
  },
  {
   "cell_type": "markdown",
   "metadata": {
    "user_expressions": []
   },
   "source": [
    "In the next line, let's ask Python to print the voice type two of the main characters have based on their name. Feel free to change the string our \"name\" variable is assigned to."
   ]
  },
  {
   "cell_type": "code",
   "execution_count": 101,
   "metadata": {
    "tags": []
   },
   "outputs": [
    {
     "name": "stdout",
     "output_type": "stream",
     "text": [
      "Tenor\n"
     ]
    }
   ],
   "source": [
    "name = \"Valjean\"\n",
    "\n",
    "# Feel free to change the value of the variable \"name\"\n",
    "\n",
    "if name == \"Valjean\":\n",
    "    print(\"Tenor\")\n",
    "elif name == \"Javert\":\n",
    "    print(\"Baritone\")\n",
    "else:\n",
    "    print(\"I don't know\")"
   ]
  },
  {
   "cell_type": "markdown",
   "metadata": {
    "user_expressions": []
   },
   "source": [
    "In the cell below guess what the output will be, before you run it. Feel free to change the numeral under the variable \"year\"."
   ]
  },
  {
   "cell_type": "code",
   "execution_count": 113,
   "metadata": {
    "tags": []
   },
   "outputs": [
    {
     "name": "stdout",
     "output_type": "stream",
     "text": [
      "Yes!\n"
     ]
    }
   ],
   "source": [
    "import datetime as dt\n",
    "year = 1819\n",
    "\n",
    "# set during the novel / musical?\n",
    "\n",
    "if year>=1815 and year<=1832:\n",
    "    print(\"Yes!\")\n",
    "elif year < 1815 and year >= 0:\n",
    "    print(\"Earlier.\")\n",
    "elif year < 0:\n",
    "    print(\"Not designed for BC years.\") \n",
    "elif year > dt.date.isocalendar(dt.date.today())[0]:\n",
    "    print(\"This is the future.\")\n",
    "else:\n",
    "    print(\"Later.\")"
   ]
  },
  {
   "cell_type": "markdown",
   "metadata": {},
   "source": [
    "We can also search through lists of values in our conditional statements to see if a word is in our list using the keyword 'in':"
   ]
  },
  {
   "cell_type": "code",
   "execution_count": 114,
   "metadata": {
    "tags": []
   },
   "outputs": [
    {
     "name": "stdout",
     "output_type": "stream",
     "text": [
      "One day more!\n"
     ]
    }
   ],
   "source": [
    "friends_of_the_abc = [\"Bahorel\", \"Combeferre\", \"de Courfeyrac\", \"Enjolras\", \"Feuilly\", \"Grantaire\", \"Jean Prouvaire\", \"Joly\", \"Lesgle\"]\n",
    "\n",
    "# change the name in \"any_name\"\n",
    "if \"any_name\" in friends_of_the_abc:\n",
    "    print(\"Do you hear the people sing?\")\n",
    "else:\n",
    "    print(\"One day more!\")"
   ]
  },
  {
   "cell_type": "markdown",
   "metadata": {},
   "source": [
    "## <font color='red'> 4. For-loops"
   ]
  },
  {
   "cell_type": "markdown",
   "metadata": {},
   "source": [
    "Loops (aka for-loops) allow for some code to be executed repeatedly. For example, if you wish to print the numbers from 0 to 10, you can do that with the for-loop. \n",
    "\n",
    "A for-loop iterates through a sequence of elements (list, string, array, etc.) and reassigns an element (which can have any name, most common are \"x\", \"i\", \"elem\", the name in itself doesn't matter) to each element of the sequence sequentially. "
   ]
  },
  {
   "cell_type": "code",
   "execution_count": 115,
   "metadata": {
    "tags": []
   },
   "outputs": [
    {
     "name": "stdout",
     "output_type": "stream",
     "text": [
      "a\n",
      "b\n",
      "c\n"
     ]
    },
    {
     "data": {
      "text/plain": [
       "'c'"
      ]
     },
     "execution_count": 115,
     "metadata": {},
     "output_type": "execute_result"
    }
   ],
   "source": [
    "for elem in ['a', 'b', 'c']:   \n",
    "    print(elem)\n",
    "\n",
    "elem"
   ]
  },
  {
   "cell_type": "markdown",
   "metadata": {},
   "source": [
    "That is why in the previous code cell we can see that when an \"elem\" is called at the end of the loop, it is equal to \"c\" which is the last element of the sequence."
   ]
  },
  {
   "cell_type": "markdown",
   "metadata": {},
   "source": [
    "\n",
    "In the cell below we will be using the built-in function called range( ). It enumerates the numbers from 0 up to a number you put in (exclusive of that last number).\n",
    "\n",
    "**Note:** remember that Python starts to count from 0, hence the last number you specify is not going to be included."
   ]
  },
  {
   "cell_type": "code",
   "execution_count": 116,
   "metadata": {
    "tags": []
   },
   "outputs": [
    {
     "name": "stdout",
     "output_type": "stream",
     "text": [
      "0\n",
      "1\n",
      "2\n",
      "3\n",
      "4\n",
      "5\n",
      "6\n",
      "7\n",
      "8\n",
      "9\n",
      "10\n"
     ]
    }
   ],
   "source": [
    "for i in range(11):\n",
    "    print(i)"
   ]
  },
  {
   "cell_type": "markdown",
   "metadata": {},
   "source": [
    "<div class=\"alert alert-success\" style=\"font-size:120%\">\n",
    "<b>YOUR TURN</b>: <br>\n",
    " Let's combine what you know so far about lists, conditionals, and for loops:   \n",
    " \n",
    " Create a list with values 1, 2, 3, 4, 5. Iterate through the list with a for loop, and print only the values that are greater than 2.  \n",
    " Otherwise, print the statement \"This value is not greater than 2.\"\n",
    "</div>"
   ]
  },
  {
   "cell_type": "code",
   "execution_count": null,
   "metadata": {},
   "outputs": [],
   "source": [
    "### YOUR CODE HERE ###"
   ]
  },
  {
   "cell_type": "code",
   "execution_count": null,
   "metadata": {},
   "outputs": [],
   "source": []
  }
 ],
 "metadata": {
  "kernelspec": {
   "display_name": "Python 3 (ipykernel)",
   "language": "python",
   "name": "python3"
  },
  "language_info": {
   "codemirror_mode": {
    "name": "ipython",
    "version": 3
   },
   "file_extension": ".py",
   "mimetype": "text/x-python",
   "name": "python",
   "nbconvert_exporter": "python",
   "pygments_lexer": "ipython3",
   "version": "3.11.0"
  }
 },
 "nbformat": 4,
 "nbformat_minor": 4
}
