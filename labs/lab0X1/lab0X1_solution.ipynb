{
 "cells": [
  {
   "cell_type": "markdown",
   "metadata": {},
   "source": [
    "# Lab 9 - Web Scraping\n",
    "---\n",
    "### <font color='red'> install_tutorial start\n",
    "In today's lab, we are going to download data from the internet using an API. API stands for application programming interface. Companies often create APIs as a way to allow users to more directly interact with their servers to retrieve data. Today, we are going to be using Twitter's API to download tweets to get some experience with larger datasets."
   ]
  },
  {
   "cell_type": "code",
   "execution_count": 1,
   "metadata": {},
   "outputs": [],
   "source": [
    "# Run this cell to set up your notebook\n",
    "import csv\n",
    "import numpy as np\n",
    "import pandas as pd\n",
    "import matplotlib.pyplot as plt\n",
    "import zipfile\n",
    "import warnings\n",
    "\n",
    "# These are the utility functions in the twitter_utils.py file\n",
    "from twitter_utils import *\n",
    "\n",
    "# Ensure that Pandas shows at least 280 characters in columns, so we can see full tweets\n",
    "pd.set_option('max_colwidth', 280)\n",
    "\n",
    "%matplotlib inline\n",
    "import re\n",
    "import json"
   ]
  },
  {
   "cell_type": "markdown",
   "metadata": {},
   "source": [
    "## Setup\n",
    "---\n",
    "For this lab, we will be importing utility functions to interact with Twitter's API. Underneath the hood, these utility functions use the `tweepy` package, which is the how you can interface with Twitter's API using `python`. First, we need to install `tweepy` so that our utility functions will be able to use use it. If you have time at the end of this lab, you can look in the `twitter_utils.py` file in this folder and try to understand how the utility functions work."
   ]
  },
  {
   "cell_type": "code",
   "execution_count": 2,
   "metadata": {},
   "outputs": [
    {
     "name": "stdout",
     "output_type": "stream",
     "text": [
      "Requirement already satisfied: tweepy in /usr/local/lib/python3.8/site-packages (3.10.0)\n",
      "Requirement already satisfied: requests[socks]>=2.11.1 in /usr/local/lib/python3.8/site-packages (from tweepy) (2.24.0)\n",
      "Requirement already satisfied: six>=1.10.0 in /usr/local/lib/python3.8/site-packages (from tweepy) (1.12.0)\n",
      "Requirement already satisfied: requests-oauthlib>=0.7.0 in /usr/local/lib/python3.8/site-packages (from tweepy) (1.3.0)\n",
      "Requirement already satisfied: chardet<4,>=3.0.2 in /usr/local/lib/python3.8/site-packages (from requests[socks]>=2.11.1->tweepy) (3.0.4)\n",
      "Requirement already satisfied: urllib3!=1.25.0,!=1.25.1,<1.26,>=1.21.1 in /usr/local/lib/python3.8/site-packages (from requests[socks]>=2.11.1->tweepy) (1.25.10)\n",
      "Requirement already satisfied: certifi>=2017.4.17 in /usr/local/lib/python3.8/site-packages (from requests[socks]>=2.11.1->tweepy) (2020.6.20)\n",
      "Requirement already satisfied: idna<3,>=2.5 in /usr/local/lib/python3.8/site-packages (from requests[socks]>=2.11.1->tweepy) (2.10)\n",
      "Requirement already satisfied: PySocks!=1.5.7,>=1.5.6; extra == \"socks\" in /usr/local/lib/python3.8/site-packages (from requests[socks]>=2.11.1->tweepy) (1.7.1)\n",
      "Requirement already satisfied: oauthlib>=3.0.0 in /usr/local/lib/python3.8/site-packages (from requests-oauthlib>=0.7.0->tweepy) (3.1.0)\n",
      "\u001b[33mWARNING: You are using pip version 20.2.4; however, version 21.0.1 is available.\n",
      "You should consider upgrading via the '/usr/local/opt/python@3.8/bin/python3.8 -m pip install --upgrade pip' command.\u001b[0m\n"
     ]
    }
   ],
   "source": [
    "!pip install tweepy"
   ]
  },
  {
   "cell_type": "markdown",
   "metadata": {},
   "source": [
    "Twitter requires you to have authentication keys to access their API.  To get your keys, you'll have to sign up for a Twitter developer account. Note that **anyone who has your authentication keys can post as you**. In order to protect your keys, you will be storing them in a separate file, which we have called `keys.json`, and reading them into this notebook from that file. Also note that **Twitter limits developers to a certain rate of data requests**. This means that if you make too many API calls in a short period of time, Twitter may block you from retrieving data for a certain period of time. Avoid rerunning cells that retrieve new tweets."
   ]
  },
  {
   "cell_type": "markdown",
   "metadata": {},
   "source": [
    "Follow the instructions below to get your Twitter API keys.  **Read the instructions completely before starting.**\n",
    "\n",
    "1. [Create a Twitter account](https://twitter.com).  You can use an existing account if you have one; if you prefer to not do this assignment under your regular account, feel free to create a throw-away account.\n",
    "2. Under account settings, add your phone number to the account.\n",
    "3. [Create a Twitter developer account](https://dev.twitter.com/resources/signup) by clicking the 'Apply' button on the top right of the page. Attach it to your Twitter account. You'll have to fill out a form describing what you want to do with the developer account. Explain that you are doing this for a class at UC Berkeley and that you don't know exactly what you're building yet and just need the account to get started. These applications are approved by some sort of AI system, so it doesn't matter exactly what you write.\n",
    "4. Once you're logged into your developer account, [create an application for this assignment](https://apps.twitter.com/app/new).  You can call it whatever you want, and you can write any URL when it asks for a web site.  You don't need to provide a callback URL.\n",
    "5. On the page for that application, find your Consumer Key and Consumer Secret.\n",
    "6. On the same page, create an Access Token.  Record the resulting Access Token and Access Token Secret.\n",
    "7. Edit the file `keys.json` in the same folder as this file and replace the placeholders with your keys."
   ]
  },
  {
   "cell_type": "markdown",
   "metadata": {},
   "source": [
    "Now you should be all ready to go! Let's test that you have correctly set up your developer account and the `keys.json` folder. The following cell loads your keys into this notebook, then validates them with the Twitter API. It should display your Twitter username without any warnings."
   ]
  },
  {
   "cell_type": "code",
   "execution_count": 3,
   "metadata": {},
   "outputs": [
    {
     "name": "stdout",
     "output_type": "stream",
     "text": [
      "The keys are valid. Your username is: IreneFarah\n"
     ]
    }
   ],
   "source": [
    "import json\n",
    "key_file = \"keys.json\" # Add your keys to keys.json before running this cell\n",
    "\n",
    "# Loading your keys from keys.json\n",
    "with open(key_file) as f:\n",
    "    keys = json.load(f)\n",
    "# if you print or view the contents of keys be sure to delete the cell!\n",
    "\n",
    "# Validate keys.\n",
    "# If your notebook does not print out \"The keys are valid. Your username is: <your username>\"\n",
    "# you may have copied and pasted your keys incorrectly.\n",
    "validate_authentication(keys)"
   ]
  },
  {
   "cell_type": "markdown",
   "metadata": {},
   "source": [
    "If you are getting any errors in this cell, ask a TA for help. If you do not have valid keys, you will not be able to use the API."
   ]
  },
  {
   "cell_type": "markdown",
   "metadata": {},
   "source": [
    "## Downloading Tweets\n",
    "---\n",
    "### <font color='red'> webscraping_tutorial start\n",
    "Now we should be ready to download some tweets! In the following cell, we use one of the utility functions to download recent tweets with the hashtag \"#gentrification\". This cell can take a few minutes to finish running."
   ]
  },
  {
   "cell_type": "code",
   "execution_count": 4,
   "metadata": {},
   "outputs": [],
   "source": [
    "# Note that you do not write the actual hashtag symbol\n",
    "gentrification = download_recent_tweets_by_hashtag(hashtag = \"gentrification\",\n",
    "                                                   keys = keys,\n",
    "                                                   count = 100)"
   ]
  },
  {
   "cell_type": "markdown",
   "metadata": {},
   "source": [
    "If you are running into errors downloading these tweets, uncomment and run the following cell to load in tweets that we scraped earlier."
   ]
  },
  {
   "cell_type": "code",
   "execution_count": 5,
   "metadata": {},
   "outputs": [],
   "source": [
    "# gentrification = load_tweets('gentrification.json')"
   ]
  },
  {
   "cell_type": "markdown",
   "metadata": {},
   "source": [
    "Similarly, if you download any datasets during this lab that you would like to save for later, you can use the `save_tweets()` function, which takes as its arguments a list of dictionaries and a name for the new file you are writing."
   ]
  },
  {
   "cell_type": "markdown",
   "metadata": {},
   "source": [
    "We now have `gentrification` assigned to a list with each element corresponding to a tweet. Let's examine one of these elements to get a better understanding of our data."
   ]
  },
  {
   "cell_type": "code",
   "execution_count": 6,
   "metadata": {},
   "outputs": [
    {
     "data": {
      "text/plain": [
       "{'created_at': 'Mon Apr 05 04:21:46 +0000 2021',\n",
       " 'id': 1378925806538350594,\n",
       " 'id_str': '1378925806538350594',\n",
       " 'text': 'RT @DonnieReid16: @mims Tell me why Im not shocked? Its done everywhere.\\nThey pick minority neighborhood, label it as historic, jack up the…',\n",
       " 'truncated': False,\n",
       " 'entities': {'hashtags': [],\n",
       "  'symbols': [],\n",
       "  'user_mentions': [{'screen_name': 'DonnieReid16',\n",
       "    'name': 'SgtPapaBear',\n",
       "    'id': 951991910436139010,\n",
       "    'id_str': '951991910436139010',\n",
       "    'indices': [3, 16]},\n",
       "   {'screen_name': 'mims',\n",
       "    'name': 'Christopher Mims',\n",
       "    'id': 1769191,\n",
       "    'id_str': '1769191',\n",
       "    'indices': [18, 23]}],\n",
       "  'urls': []},\n",
       " 'metadata': {'iso_language_code': 'en', 'result_type': 'recent'},\n",
       " 'source': '<a href=\"http://twitter.com/download/iphone\" rel=\"nofollow\">Twitter for iPhone</a>',\n",
       " 'in_reply_to_status_id': None,\n",
       " 'in_reply_to_status_id_str': None,\n",
       " 'in_reply_to_user_id': None,\n",
       " 'in_reply_to_user_id_str': None,\n",
       " 'in_reply_to_screen_name': None,\n",
       " 'user': {'id': 870877024260419584,\n",
       "  'id_str': '870877024260419584',\n",
       "  'name': 'Jaclyn Jemison',\n",
       "  'screen_name': 'JemisonJaclyn',\n",
       "  'location': 'Philadelphia, PA',\n",
       "  'description': '',\n",
       "  'url': None,\n",
       "  'entities': {'description': {'urls': []}},\n",
       "  'protected': False,\n",
       "  'followers_count': 4227,\n",
       "  'friends_count': 5002,\n",
       "  'listed_count': 12,\n",
       "  'created_at': 'Sat Jun 03 05:37:17 +0000 2017',\n",
       "  'favourites_count': 86096,\n",
       "  'utc_offset': None,\n",
       "  'time_zone': None,\n",
       "  'geo_enabled': False,\n",
       "  'verified': False,\n",
       "  'statuses_count': 92682,\n",
       "  'lang': None,\n",
       "  'contributors_enabled': False,\n",
       "  'is_translator': False,\n",
       "  'is_translation_enabled': False,\n",
       "  'profile_background_color': 'F5F8FA',\n",
       "  'profile_background_image_url': None,\n",
       "  'profile_background_image_url_https': None,\n",
       "  'profile_background_tile': False,\n",
       "  'profile_image_url': 'http://pbs.twimg.com/profile_images/1348687057007345665/AkvQo-bU_normal.jpg',\n",
       "  'profile_image_url_https': 'https://pbs.twimg.com/profile_images/1348687057007345665/AkvQo-bU_normal.jpg',\n",
       "  'profile_banner_url': 'https://pbs.twimg.com/profile_banners/870877024260419584/1611089293',\n",
       "  'profile_link_color': '1DA1F2',\n",
       "  'profile_sidebar_border_color': 'C0DEED',\n",
       "  'profile_sidebar_fill_color': 'DDEEF6',\n",
       "  'profile_text_color': '333333',\n",
       "  'profile_use_background_image': True,\n",
       "  'has_extended_profile': False,\n",
       "  'default_profile': True,\n",
       "  'default_profile_image': False,\n",
       "  'following': False,\n",
       "  'follow_request_sent': False,\n",
       "  'notifications': False,\n",
       "  'translator_type': 'none'},\n",
       " 'geo': None,\n",
       " 'coordinates': None,\n",
       " 'place': None,\n",
       " 'contributors': None,\n",
       " 'retweeted_status': {'created_at': 'Sun Apr 04 23:55:36 +0000 2021',\n",
       "  'id': 1378858823633473539,\n",
       "  'id_str': '1378858823633473539',\n",
       "  'text': '@mims Tell me why Im not shocked? Its done everywhere.\\nThey pick minority neighborhood, label it as historic, jack… https://t.co/VBiMUdkHNd',\n",
       "  'truncated': True,\n",
       "  'entities': {'hashtags': [],\n",
       "   'symbols': [],\n",
       "   'user_mentions': [{'screen_name': 'mims',\n",
       "     'name': 'Christopher Mims',\n",
       "     'id': 1769191,\n",
       "     'id_str': '1769191',\n",
       "     'indices': [0, 5]}],\n",
       "   'urls': [{'url': 'https://t.co/VBiMUdkHNd',\n",
       "     'expanded_url': 'https://twitter.com/i/web/status/1378858823633473539',\n",
       "     'display_url': 'twitter.com/i/web/status/1…',\n",
       "     'indices': [116, 139]}]},\n",
       "  'metadata': {'iso_language_code': 'en', 'result_type': 'recent'},\n",
       "  'source': '<a href=\"https://mobile.twitter.com\" rel=\"nofollow\">Twitter Web App</a>',\n",
       "  'in_reply_to_status_id': 1378710136131358720,\n",
       "  'in_reply_to_status_id_str': '1378710136131358720',\n",
       "  'in_reply_to_user_id': 1769191,\n",
       "  'in_reply_to_user_id_str': '1769191',\n",
       "  'in_reply_to_screen_name': 'mims',\n",
       "  'user': {'id': 951991910436139010,\n",
       "   'id_str': '951991910436139010',\n",
       "   'name': 'SgtPapaBear',\n",
       "   'screen_name': 'DonnieReid16',\n",
       "   'location': 'BumFucked Egypt',\n",
       "   'description': 'DEMOCRAT | USMC | Law Enforcement | Trend Trader | Stay tuned for the Warm & Fuzzies | Goals = Unending Happiness | Opinions are mine ! | Scorpio ♏️',\n",
       "   'url': None,\n",
       "   'entities': {'description': {'urls': []}},\n",
       "   'protected': False,\n",
       "   'followers_count': 2107,\n",
       "   'friends_count': 2077,\n",
       "   'listed_count': 6,\n",
       "   'created_at': 'Sat Jan 13 01:38:53 +0000 2018',\n",
       "   'favourites_count': 202520,\n",
       "   'utc_offset': None,\n",
       "   'time_zone': None,\n",
       "   'geo_enabled': True,\n",
       "   'verified': False,\n",
       "   'statuses_count': 52970,\n",
       "   'lang': None,\n",
       "   'contributors_enabled': False,\n",
       "   'is_translator': False,\n",
       "   'is_translation_enabled': False,\n",
       "   'profile_background_color': 'F5F8FA',\n",
       "   'profile_background_image_url': None,\n",
       "   'profile_background_image_url_https': None,\n",
       "   'profile_background_tile': False,\n",
       "   'profile_image_url': 'http://pbs.twimg.com/profile_images/1363307000491356163/YnRdWHG1_normal.jpg',\n",
       "   'profile_image_url_https': 'https://pbs.twimg.com/profile_images/1363307000491356163/YnRdWHG1_normal.jpg',\n",
       "   'profile_banner_url': 'https://pbs.twimg.com/profile_banners/951991910436139010/1608727685',\n",
       "   'profile_link_color': '1DA1F2',\n",
       "   'profile_sidebar_border_color': 'C0DEED',\n",
       "   'profile_sidebar_fill_color': 'DDEEF6',\n",
       "   'profile_text_color': '333333',\n",
       "   'profile_use_background_image': True,\n",
       "   'has_extended_profile': True,\n",
       "   'default_profile': True,\n",
       "   'default_profile_image': False,\n",
       "   'following': False,\n",
       "   'follow_request_sent': False,\n",
       "   'notifications': False,\n",
       "   'translator_type': 'none'},\n",
       "  'geo': None,\n",
       "  'coordinates': None,\n",
       "  'place': None,\n",
       "  'contributors': None,\n",
       "  'is_quote_status': False,\n",
       "  'retweet_count': 5,\n",
       "  'favorite_count': 7,\n",
       "  'favorited': False,\n",
       "  'retweeted': False,\n",
       "  'possibly_sensitive': False,\n",
       "  'lang': 'en'},\n",
       " 'is_quote_status': False,\n",
       " 'retweet_count': 5,\n",
       " 'favorite_count': 0,\n",
       " 'favorited': False,\n",
       " 'retweeted': False,\n",
       " 'lang': 'en'}"
      ]
     },
     "execution_count": 6,
     "metadata": {},
     "output_type": "execute_result"
    }
   ],
   "source": [
    "# This accesses the first (zero index) element of the list\n",
    "gentrification[0]"
   ]
  },
  {
   "cell_type": "markdown",
   "metadata": {},
   "source": [
    "This is an example of another `python` data structure called a *dictionary*. Dictionaries store *values* by associating them with a *key* rather than by an integer index. You can access the values stored in a dictionary using bracket notation just like a list. For example:"
   ]
  },
  {
   "cell_type": "code",
   "execution_count": 7,
   "metadata": {},
   "outputs": [
    {
     "data": {
      "text/plain": [
       "1"
      ]
     },
     "execution_count": 7,
     "metadata": {},
     "output_type": "execute_result"
    }
   ],
   "source": [
    "# In this dictionary, the keys are strings, and the values are all numbers\n",
    "d = {'a': 1,\n",
    "    'b': 2,\n",
    "    'c': 3}\n",
    "\n",
    "d['a']"
   ]
  },
  {
   "cell_type": "markdown",
   "metadata": {},
   "source": [
    "## Data Cleaning\n",
    "### <font color='red'> Minute 4:20\n",
    "---\n",
    "The dictionary we were looking at above is a little bit hard to interpret because there dictionaries nested inside of some our keys. We can look only at the first level of keys in our dictionary by using the `.keys()` method."
   ]
  },
  {
   "cell_type": "code",
   "execution_count": 8,
   "metadata": {},
   "outputs": [
    {
     "data": {
      "text/plain": [
       "dict_keys(['created_at', 'id', 'id_str', 'text', 'truncated', 'entities', 'metadata', 'source', 'in_reply_to_status_id', 'in_reply_to_status_id_str', 'in_reply_to_user_id', 'in_reply_to_user_id_str', 'in_reply_to_screen_name', 'user', 'geo', 'coordinates', 'place', 'contributors', 'retweeted_status', 'is_quote_status', 'retweet_count', 'favorite_count', 'favorited', 'retweeted', 'lang'])"
      ]
     },
     "execution_count": 8,
     "metadata": {},
     "output_type": "execute_result"
    }
   ],
   "source": [
    "gentrification[0].keys()\n",
    "# You can also use .values() to access all of the values"
   ]
  },
  {
   "cell_type": "markdown",
   "metadata": {},
   "source": [
    "Unfortunately, Twitter by default does not attach geographic data to the metadata of each tweet. To get around this, we can use the location associated to the account of each poster. First, we want to extract only the parts of the data that are relevant to what we are looking for. To do this, we first need to turn our list of dictionaries into a `pandas DataFrame`. Fortunately, there is a function that can do this easily for us."
   ]
  },
  {
   "cell_type": "code",
   "execution_count": 9,
   "metadata": {},
   "outputs": [
    {
     "data": {
      "text/html": [
       "<div>\n",
       "<style scoped>\n",
       "    .dataframe tbody tr th:only-of-type {\n",
       "        vertical-align: middle;\n",
       "    }\n",
       "\n",
       "    .dataframe tbody tr th {\n",
       "        vertical-align: top;\n",
       "    }\n",
       "\n",
       "    .dataframe thead th {\n",
       "        text-align: right;\n",
       "    }\n",
       "</style>\n",
       "<table border=\"1\" class=\"dataframe\">\n",
       "  <thead>\n",
       "    <tr style=\"text-align: right;\">\n",
       "      <th></th>\n",
       "      <th>created_at</th>\n",
       "      <th>id</th>\n",
       "      <th>id_str</th>\n",
       "      <th>text</th>\n",
       "      <th>truncated</th>\n",
       "      <th>entities</th>\n",
       "      <th>metadata</th>\n",
       "      <th>source</th>\n",
       "      <th>in_reply_to_status_id</th>\n",
       "      <th>in_reply_to_status_id_str</th>\n",
       "      <th>...</th>\n",
       "      <th>retweet_count</th>\n",
       "      <th>favorite_count</th>\n",
       "      <th>favorited</th>\n",
       "      <th>retweeted</th>\n",
       "      <th>lang</th>\n",
       "      <th>possibly_sensitive</th>\n",
       "      <th>quoted_status_id</th>\n",
       "      <th>quoted_status_id_str</th>\n",
       "      <th>quoted_status</th>\n",
       "      <th>extended_entities</th>\n",
       "    </tr>\n",
       "  </thead>\n",
       "  <tbody>\n",
       "    <tr>\n",
       "      <th>0</th>\n",
       "      <td>Mon Apr 05 04:21:46 +0000 2021</td>\n",
       "      <td>1378925806538350594</td>\n",
       "      <td>1378925806538350594</td>\n",
       "      <td>RT @DonnieReid16: @mims Tell me why Im not shocked? Its done everywhere.\\nThey pick minority neighborhood, label it as historic, jack up the…</td>\n",
       "      <td>False</td>\n",
       "      <td>{'hashtags': [], 'symbols': [], 'user_mentions': [{'screen_name': 'DonnieReid16', 'name': 'SgtPapaBear', 'id': 951991910436139010, 'id_str': '951991910436139010', 'indices': [3, 16]}, {'screen_name': 'mims', 'name': 'Christopher Mims', 'id': 1769191, 'id_str': '1769191', 'ind...</td>\n",
       "      <td>{'iso_language_code': 'en', 'result_type': 'recent'}</td>\n",
       "      <td>&lt;a href=\"http://twitter.com/download/iphone\" rel=\"nofollow\"&gt;Twitter for iPhone&lt;/a&gt;</td>\n",
       "      <td>NaN</td>\n",
       "      <td>None</td>\n",
       "      <td>...</td>\n",
       "      <td>5</td>\n",
       "      <td>0</td>\n",
       "      <td>False</td>\n",
       "      <td>False</td>\n",
       "      <td>en</td>\n",
       "      <td>NaN</td>\n",
       "      <td>NaN</td>\n",
       "      <td>NaN</td>\n",
       "      <td>NaN</td>\n",
       "      <td>NaN</td>\n",
       "    </tr>\n",
       "    <tr>\n",
       "      <th>1</th>\n",
       "      <td>Mon Apr 05 03:29:03 +0000 2021</td>\n",
       "      <td>1378912541473181696</td>\n",
       "      <td>1378912541473181696</td>\n",
       "      <td>” #WorkingClass artist is #CanaryInTheCoalMine of #culture. She represents free-spirit. My work seeks to #nourish +… https://t.co/ydkyumuNtd</td>\n",
       "      <td>True</td>\n",
       "      <td>{'hashtags': [{'text': 'WorkingClass', 'indices': [2, 15]}, {'text': 'CanaryInTheCoalMine', 'indices': [26, 46]}, {'text': 'culture', 'indices': [50, 58]}, {'text': 'nourish', 'indices': [105, 113]}], 'symbols': [], 'user_mentions': [], 'urls': [{'url': 'https://t.co/ydkyumuN...</td>\n",
       "      <td>{'iso_language_code': 'en', 'result_type': 'recent'}</td>\n",
       "      <td>&lt;a href=\"http://publicize.wp.com/\" rel=\"nofollow\"&gt;WordPress.com&lt;/a&gt;</td>\n",
       "      <td>NaN</td>\n",
       "      <td>None</td>\n",
       "      <td>...</td>\n",
       "      <td>0</td>\n",
       "      <td>0</td>\n",
       "      <td>False</td>\n",
       "      <td>False</td>\n",
       "      <td>en</td>\n",
       "      <td>False</td>\n",
       "      <td>NaN</td>\n",
       "      <td>NaN</td>\n",
       "      <td>NaN</td>\n",
       "      <td>NaN</td>\n",
       "    </tr>\n",
       "    <tr>\n",
       "      <th>2</th>\n",
       "      <td>Mon Apr 05 02:48:25 +0000 2021</td>\n",
       "      <td>1378902315344666624</td>\n",
       "      <td>1378902315344666624</td>\n",
       "      <td>RT @CaliLiliIndies: ” #WorkingClass artist is #CanaryInTheCoalMine of #culture. She represents free-spirit. My work seeks to #nourish +stre…</td>\n",
       "      <td>False</td>\n",
       "      <td>{'hashtags': [{'text': 'WorkingClass', 'indices': [22, 35]}, {'text': 'CanaryInTheCoalMine', 'indices': [46, 66]}, {'text': 'culture', 'indices': [70, 78]}, {'text': 'nourish', 'indices': [125, 133]}], 'symbols': [], 'user_mentions': [{'screen_name': 'CaliLiliIndies', 'name':...</td>\n",
       "      <td>{'iso_language_code': 'en', 'result_type': 'recent'}</td>\n",
       "      <td>&lt;a href=\"http://twitter.com/download/android\" rel=\"nofollow\"&gt;Twitter for Android&lt;/a&gt;</td>\n",
       "      <td>NaN</td>\n",
       "      <td>None</td>\n",
       "      <td>...</td>\n",
       "      <td>1</td>\n",
       "      <td>0</td>\n",
       "      <td>False</td>\n",
       "      <td>False</td>\n",
       "      <td>en</td>\n",
       "      <td>NaN</td>\n",
       "      <td>NaN</td>\n",
       "      <td>NaN</td>\n",
       "      <td>NaN</td>\n",
       "      <td>NaN</td>\n",
       "    </tr>\n",
       "    <tr>\n",
       "      <th>3</th>\n",
       "      <td>Mon Apr 05 02:20:20 +0000 2021</td>\n",
       "      <td>1378895247833493504</td>\n",
       "      <td>1378895247833493504</td>\n",
       "      <td>@CReinhardtz @DenverWestword 💥#ForTheRecord, pop. growth in #Denver--by way of @MayorHancock &amp;amp; @DenCityCouncil allo… https://t.co/TEP5cU16ec</td>\n",
       "      <td>True</td>\n",
       "      <td>{'hashtags': [{'text': 'ForTheRecord', 'indices': [30, 43]}, {'text': 'Denver', 'indices': [60, 67]}], 'symbols': [], 'user_mentions': [{'screen_name': 'CReinhardtz', 'name': 'Charles Reinhardt McGarvey', 'id': 238646241, 'id_str': '238646241', 'indices': [0, 12]}, {'screen_n...</td>\n",
       "      <td>{'iso_language_code': 'en', 'result_type': 'recent'}</td>\n",
       "      <td>&lt;a href=\"https://mobile.twitter.com\" rel=\"nofollow\"&gt;Twitter Web App&lt;/a&gt;</td>\n",
       "      <td>1.378852e+18</td>\n",
       "      <td>1378851887672221696</td>\n",
       "      <td>...</td>\n",
       "      <td>0</td>\n",
       "      <td>1</td>\n",
       "      <td>False</td>\n",
       "      <td>False</td>\n",
       "      <td>en</td>\n",
       "      <td>NaN</td>\n",
       "      <td>NaN</td>\n",
       "      <td>NaN</td>\n",
       "      <td>NaN</td>\n",
       "      <td>NaN</td>\n",
       "    </tr>\n",
       "    <tr>\n",
       "      <th>4</th>\n",
       "      <td>Mon Apr 05 01:28:51 +0000 2021</td>\n",
       "      <td>1378882294182768640</td>\n",
       "      <td>1378882294182768640</td>\n",
       "      <td>#ConcreteCowboy was a bit more upbeat than #TheLastBlackManinSanFrancisco, both offer commentary on home and displa… https://t.co/IQccb2O11f</td>\n",
       "      <td>True</td>\n",
       "      <td>{'hashtags': [{'text': 'ConcreteCowboy', 'indices': [0, 15]}, {'text': 'TheLastBlackManinSanFrancisco', 'indices': [43, 73]}], 'symbols': [], 'user_mentions': [], 'urls': [{'url': 'https://t.co/IQccb2O11f', 'expanded_url': 'https://twitter.com/i/web/status/1378882294182768640...</td>\n",
       "      <td>{'iso_language_code': 'en', 'result_type': 'recent'}</td>\n",
       "      <td>&lt;a href=\"http://twitter.com/#!/download/ipad\" rel=\"nofollow\"&gt;Twitter for iPad&lt;/a&gt;</td>\n",
       "      <td>1.378776e+18</td>\n",
       "      <td>1378776386513596418</td>\n",
       "      <td>...</td>\n",
       "      <td>0</td>\n",
       "      <td>0</td>\n",
       "      <td>False</td>\n",
       "      <td>False</td>\n",
       "      <td>en</td>\n",
       "      <td>NaN</td>\n",
       "      <td>NaN</td>\n",
       "      <td>NaN</td>\n",
       "      <td>NaN</td>\n",
       "      <td>NaN</td>\n",
       "    </tr>\n",
       "  </tbody>\n",
       "</table>\n",
       "<p>5 rows × 30 columns</p>\n",
       "</div>"
      ],
      "text/plain": [
       "                       created_at                   id               id_str  \\\n",
       "0  Mon Apr 05 04:21:46 +0000 2021  1378925806538350594  1378925806538350594   \n",
       "1  Mon Apr 05 03:29:03 +0000 2021  1378912541473181696  1378912541473181696   \n",
       "2  Mon Apr 05 02:48:25 +0000 2021  1378902315344666624  1378902315344666624   \n",
       "3  Mon Apr 05 02:20:20 +0000 2021  1378895247833493504  1378895247833493504   \n",
       "4  Mon Apr 05 01:28:51 +0000 2021  1378882294182768640  1378882294182768640   \n",
       "\n",
       "                                                                                                                                               text  \\\n",
       "0     RT @DonnieReid16: @mims Tell me why Im not shocked? Its done everywhere.\\nThey pick minority neighborhood, label it as historic, jack up the…   \n",
       "1      ” #WorkingClass artist is #CanaryInTheCoalMine of #culture. She represents free-spirit. My work seeks to #nourish +… https://t.co/ydkyumuNtd   \n",
       "2      RT @CaliLiliIndies: ” #WorkingClass artist is #CanaryInTheCoalMine of #culture. She represents free-spirit. My work seeks to #nourish +stre…   \n",
       "3  @CReinhardtz @DenverWestword 💥#ForTheRecord, pop. growth in #Denver--by way of @MayorHancock &amp; @DenCityCouncil allo… https://t.co/TEP5cU16ec   \n",
       "4      #ConcreteCowboy was a bit more upbeat than #TheLastBlackManinSanFrancisco, both offer commentary on home and displa… https://t.co/IQccb2O11f   \n",
       "\n",
       "   truncated  \\\n",
       "0      False   \n",
       "1       True   \n",
       "2      False   \n",
       "3       True   \n",
       "4       True   \n",
       "\n",
       "                                                                                                                                                                                                                                                                                  entities  \\\n",
       "0  {'hashtags': [], 'symbols': [], 'user_mentions': [{'screen_name': 'DonnieReid16', 'name': 'SgtPapaBear', 'id': 951991910436139010, 'id_str': '951991910436139010', 'indices': [3, 16]}, {'screen_name': 'mims', 'name': 'Christopher Mims', 'id': 1769191, 'id_str': '1769191', 'ind...   \n",
       "1  {'hashtags': [{'text': 'WorkingClass', 'indices': [2, 15]}, {'text': 'CanaryInTheCoalMine', 'indices': [26, 46]}, {'text': 'culture', 'indices': [50, 58]}, {'text': 'nourish', 'indices': [105, 113]}], 'symbols': [], 'user_mentions': [], 'urls': [{'url': 'https://t.co/ydkyumuN...   \n",
       "2  {'hashtags': [{'text': 'WorkingClass', 'indices': [22, 35]}, {'text': 'CanaryInTheCoalMine', 'indices': [46, 66]}, {'text': 'culture', 'indices': [70, 78]}, {'text': 'nourish', 'indices': [125, 133]}], 'symbols': [], 'user_mentions': [{'screen_name': 'CaliLiliIndies', 'name':...   \n",
       "3  {'hashtags': [{'text': 'ForTheRecord', 'indices': [30, 43]}, {'text': 'Denver', 'indices': [60, 67]}], 'symbols': [], 'user_mentions': [{'screen_name': 'CReinhardtz', 'name': 'Charles Reinhardt McGarvey', 'id': 238646241, 'id_str': '238646241', 'indices': [0, 12]}, {'screen_n...   \n",
       "4  {'hashtags': [{'text': 'ConcreteCowboy', 'indices': [0, 15]}, {'text': 'TheLastBlackManinSanFrancisco', 'indices': [43, 73]}], 'symbols': [], 'user_mentions': [], 'urls': [{'url': 'https://t.co/IQccb2O11f', 'expanded_url': 'https://twitter.com/i/web/status/1378882294182768640...   \n",
       "\n",
       "                                               metadata  \\\n",
       "0  {'iso_language_code': 'en', 'result_type': 'recent'}   \n",
       "1  {'iso_language_code': 'en', 'result_type': 'recent'}   \n",
       "2  {'iso_language_code': 'en', 'result_type': 'recent'}   \n",
       "3  {'iso_language_code': 'en', 'result_type': 'recent'}   \n",
       "4  {'iso_language_code': 'en', 'result_type': 'recent'}   \n",
       "\n",
       "                                                                                 source  \\\n",
       "0    <a href=\"http://twitter.com/download/iphone\" rel=\"nofollow\">Twitter for iPhone</a>   \n",
       "1                   <a href=\"http://publicize.wp.com/\" rel=\"nofollow\">WordPress.com</a>   \n",
       "2  <a href=\"http://twitter.com/download/android\" rel=\"nofollow\">Twitter for Android</a>   \n",
       "3               <a href=\"https://mobile.twitter.com\" rel=\"nofollow\">Twitter Web App</a>   \n",
       "4     <a href=\"http://twitter.com/#!/download/ipad\" rel=\"nofollow\">Twitter for iPad</a>   \n",
       "\n",
       "   in_reply_to_status_id in_reply_to_status_id_str  ...  retweet_count  \\\n",
       "0                    NaN                      None  ...              5   \n",
       "1                    NaN                      None  ...              0   \n",
       "2                    NaN                      None  ...              1   \n",
       "3           1.378852e+18       1378851887672221696  ...              0   \n",
       "4           1.378776e+18       1378776386513596418  ...              0   \n",
       "\n",
       "  favorite_count favorited retweeted lang possibly_sensitive quoted_status_id  \\\n",
       "0              0     False     False   en                NaN              NaN   \n",
       "1              0     False     False   en              False              NaN   \n",
       "2              0     False     False   en                NaN              NaN   \n",
       "3              1     False     False   en                NaN              NaN   \n",
       "4              0     False     False   en                NaN              NaN   \n",
       "\n",
       "  quoted_status_id_str quoted_status  extended_entities  \n",
       "0                  NaN           NaN                NaN  \n",
       "1                  NaN           NaN                NaN  \n",
       "2                  NaN           NaN                NaN  \n",
       "3                  NaN           NaN                NaN  \n",
       "4                  NaN           NaN                NaN  \n",
       "\n",
       "[5 rows x 30 columns]"
      ]
     },
     "execution_count": 9,
     "metadata": {},
     "output_type": "execute_result"
    }
   ],
   "source": [
    "gentrification_df = pd.DataFrame(gentrification)\n",
    "gentrification_df.head()"
   ]
  },
  {
   "cell_type": "markdown",
   "metadata": {},
   "source": [
    "### <font color='red'> Minute 7:17  \n",
    "Next, we want to extract out only the columns that are relevant to us. Discarding columns that do not help us answer our question can be helpful because it prevents the computer from having to do unnecessary computations. However, if we want to be able to connect any conclusions we make after we get rid of columns, it is helpful to keep an identifying column in your `DataFrame` even if you are not performing analyses on it."
   ]
  },
  {
   "cell_type": "code",
   "execution_count": 10,
   "metadata": {},
   "outputs": [],
   "source": [
    "users = gentrification_df[['id', 'user']]"
   ]
  },
  {
   "cell_type": "markdown",
   "metadata": {},
   "source": [
    "Let's take a closer look at an element of the `user` column."
   ]
  },
  {
   "cell_type": "code",
   "execution_count": 11,
   "metadata": {},
   "outputs": [
    {
     "data": {
      "text/plain": [
       "{'id': 870877024260419584,\n",
       " 'id_str': '870877024260419584',\n",
       " 'name': 'Jaclyn Jemison',\n",
       " 'screen_name': 'JemisonJaclyn',\n",
       " 'location': 'Philadelphia, PA',\n",
       " 'description': '',\n",
       " 'url': None,\n",
       " 'entities': {'description': {'urls': []}},\n",
       " 'protected': False,\n",
       " 'followers_count': 4227,\n",
       " 'friends_count': 5002,\n",
       " 'listed_count': 12,\n",
       " 'created_at': 'Sat Jun 03 05:37:17 +0000 2017',\n",
       " 'favourites_count': 86096,\n",
       " 'utc_offset': None,\n",
       " 'time_zone': None,\n",
       " 'geo_enabled': False,\n",
       " 'verified': False,\n",
       " 'statuses_count': 92682,\n",
       " 'lang': None,\n",
       " 'contributors_enabled': False,\n",
       " 'is_translator': False,\n",
       " 'is_translation_enabled': False,\n",
       " 'profile_background_color': 'F5F8FA',\n",
       " 'profile_background_image_url': None,\n",
       " 'profile_background_image_url_https': None,\n",
       " 'profile_background_tile': False,\n",
       " 'profile_image_url': 'http://pbs.twimg.com/profile_images/1348687057007345665/AkvQo-bU_normal.jpg',\n",
       " 'profile_image_url_https': 'https://pbs.twimg.com/profile_images/1348687057007345665/AkvQo-bU_normal.jpg',\n",
       " 'profile_banner_url': 'https://pbs.twimg.com/profile_banners/870877024260419584/1611089293',\n",
       " 'profile_link_color': '1DA1F2',\n",
       " 'profile_sidebar_border_color': 'C0DEED',\n",
       " 'profile_sidebar_fill_color': 'DDEEF6',\n",
       " 'profile_text_color': '333333',\n",
       " 'profile_use_background_image': True,\n",
       " 'has_extended_profile': False,\n",
       " 'default_profile': True,\n",
       " 'default_profile_image': False,\n",
       " 'following': False,\n",
       " 'follow_request_sent': False,\n",
       " 'notifications': False,\n",
       " 'translator_type': 'none'}"
      ]
     },
     "execution_count": 11,
     "metadata": {},
     "output_type": "execute_result"
    }
   ],
   "source": [
    "users.loc[0, 'user']"
   ]
  },
  {
   "cell_type": "markdown",
   "metadata": {},
   "source": [
    "### <font color='red'> Minute 10:50\n",
    "In each row, the `user` column contains another dictionary with information about the user who posted the tweet. We can access the user's location using the `location` key.\n",
    "\n",
    "The strategy that we are going to use to extract the locations from each user will be to iterate through the rows of `users`; at each row we will add the tweet id and the user location to a new dictionary. This dictionary will then be added to a list. Once we have iterated through all of the rows of `users`, we will convert our final list of dictionaries into a `DataFrame`."
   ]
  },
  {
   "cell_type": "code",
   "execution_count": 12,
   "metadata": {},
   "outputs": [
    {
     "data": {
      "text/html": [
       "<div>\n",
       "<style scoped>\n",
       "    .dataframe tbody tr th:only-of-type {\n",
       "        vertical-align: middle;\n",
       "    }\n",
       "\n",
       "    .dataframe tbody tr th {\n",
       "        vertical-align: top;\n",
       "    }\n",
       "\n",
       "    .dataframe thead th {\n",
       "        text-align: right;\n",
       "    }\n",
       "</style>\n",
       "<table border=\"1\" class=\"dataframe\">\n",
       "  <thead>\n",
       "    <tr style=\"text-align: right;\">\n",
       "      <th></th>\n",
       "      <th>id</th>\n",
       "      <th>location</th>\n",
       "    </tr>\n",
       "  </thead>\n",
       "  <tbody>\n",
       "    <tr>\n",
       "      <th>0</th>\n",
       "      <td>1378925806538350594</td>\n",
       "      <td>Philadelphia, PA</td>\n",
       "    </tr>\n",
       "    <tr>\n",
       "      <th>1</th>\n",
       "      <td>1378912541473181696</td>\n",
       "      <td>calililiindies.com</td>\n",
       "    </tr>\n",
       "    <tr>\n",
       "      <th>2</th>\n",
       "      <td>1378902315344666624</td>\n",
       "      <td>calililiindies.com</td>\n",
       "    </tr>\n",
       "    <tr>\n",
       "      <th>3</th>\n",
       "      <td>1378895247833493504</td>\n",
       "      <td>Denver, CO</td>\n",
       "    </tr>\n",
       "    <tr>\n",
       "      <th>4</th>\n",
       "      <td>1378882294182768640</td>\n",
       "      <td>Kansas, USA</td>\n",
       "    </tr>\n",
       "    <tr>\n",
       "      <th>5</th>\n",
       "      <td>1378876481934405636</td>\n",
       "      <td>Florida, USA</td>\n",
       "    </tr>\n",
       "    <tr>\n",
       "      <th>6</th>\n",
       "      <td>1378873246058221570</td>\n",
       "      <td></td>\n",
       "    </tr>\n",
       "    <tr>\n",
       "      <th>7</th>\n",
       "      <td>1378869383234256896</td>\n",
       "      <td>United States</td>\n",
       "    </tr>\n",
       "    <tr>\n",
       "      <th>8</th>\n",
       "      <td>1378865393633230852</td>\n",
       "      <td></td>\n",
       "    </tr>\n",
       "    <tr>\n",
       "      <th>9</th>\n",
       "      <td>1378863408985030665</td>\n",
       "      <td>Ministry of Magic, London</td>\n",
       "    </tr>\n",
       "  </tbody>\n",
       "</table>\n",
       "</div>"
      ],
      "text/plain": [
       "                    id                   location\n",
       "0  1378925806538350594           Philadelphia, PA\n",
       "1  1378912541473181696        calililiindies.com \n",
       "2  1378902315344666624        calililiindies.com \n",
       "3  1378895247833493504                 Denver, CO\n",
       "4  1378882294182768640                Kansas, USA\n",
       "5  1378876481934405636               Florida, USA\n",
       "6  1378873246058221570                           \n",
       "7  1378869383234256896              United States\n",
       "8  1378865393633230852                           \n",
       "9  1378863408985030665  Ministry of Magic, London"
      ]
     },
     "execution_count": 12,
     "metadata": {},
     "output_type": "execute_result"
    }
   ],
   "source": [
    "# Create an empty list.\n",
    "locations_list = list()\n",
    "\n",
    "for i in range(len(users)):\n",
    "    # Create an empty dictionary.\n",
    "    new_entry = {}\n",
    "    # Copy the tweet id into the new dictionary.\n",
    "    new_entry['id'] = users.loc[i, 'id']\n",
    "    # Create a new key ('location') and assign it to the location of the user who\n",
    "    # wrote that tweet.\n",
    "    new_entry['location'] = users.loc[i, 'user']['location']\n",
    "    # Append the dictionary as another element of our list.\n",
    "    locations_list.append(new_entry)\n",
    "    \n",
    "# Transform our list into a DataFrame. As before, each element of the list becomes\n",
    "# a row in the DataFrame, and each key becomes a column.\n",
    "all_locations = pd.DataFrame(locations_list)\n",
    "\n",
    "# Display the first 10 tweets.\n",
    "all_locations.head(10)"
   ]
  },
  {
   "cell_type": "markdown",
   "metadata": {},
   "source": [
    "### <font color='red'> Minute 17:59\n",
    "Clearly this isn't a foolproof method, since the location associated with an account may have little bearing on the actual location from which a tweet was posted. Also, not all users have a specific location connected to their account. Depending on the data you have pulled from Twitter, you may also notice that some of the \"locations\" are not actually real places. We can do a bit of data cleaning to filter out the rows that contain true locations. First, let's get rid of the rows that do not contain any text at all in the `location` column."
   ]
  },
  {
   "cell_type": "code",
   "execution_count": 13,
   "metadata": {},
   "outputs": [
    {
     "data": {
      "text/html": [
       "<div>\n",
       "<style scoped>\n",
       "    .dataframe tbody tr th:only-of-type {\n",
       "        vertical-align: middle;\n",
       "    }\n",
       "\n",
       "    .dataframe tbody tr th {\n",
       "        vertical-align: top;\n",
       "    }\n",
       "\n",
       "    .dataframe thead th {\n",
       "        text-align: right;\n",
       "    }\n",
       "</style>\n",
       "<table border=\"1\" class=\"dataframe\">\n",
       "  <thead>\n",
       "    <tr style=\"text-align: right;\">\n",
       "      <th></th>\n",
       "      <th>id</th>\n",
       "      <th>location</th>\n",
       "    </tr>\n",
       "  </thead>\n",
       "  <tbody>\n",
       "    <tr>\n",
       "      <th>0</th>\n",
       "      <td>1378925806538350594</td>\n",
       "      <td>Philadelphia, PA</td>\n",
       "    </tr>\n",
       "    <tr>\n",
       "      <th>1</th>\n",
       "      <td>1378912541473181696</td>\n",
       "      <td>calililiindies.com</td>\n",
       "    </tr>\n",
       "    <tr>\n",
       "      <th>2</th>\n",
       "      <td>1378902315344666624</td>\n",
       "      <td>calililiindies.com</td>\n",
       "    </tr>\n",
       "    <tr>\n",
       "      <th>3</th>\n",
       "      <td>1378895247833493504</td>\n",
       "      <td>Denver, CO</td>\n",
       "    </tr>\n",
       "    <tr>\n",
       "      <th>4</th>\n",
       "      <td>1378882294182768640</td>\n",
       "      <td>Kansas, USA</td>\n",
       "    </tr>\n",
       "    <tr>\n",
       "      <th>5</th>\n",
       "      <td>1378876481934405636</td>\n",
       "      <td>Florida, USA</td>\n",
       "    </tr>\n",
       "    <tr>\n",
       "      <th>7</th>\n",
       "      <td>1378869383234256896</td>\n",
       "      <td>United States</td>\n",
       "    </tr>\n",
       "    <tr>\n",
       "      <th>9</th>\n",
       "      <td>1378863408985030665</td>\n",
       "      <td>Ministry of Magic, London</td>\n",
       "    </tr>\n",
       "    <tr>\n",
       "      <th>10</th>\n",
       "      <td>1378858823633473539</td>\n",
       "      <td>BumFucked Egypt</td>\n",
       "    </tr>\n",
       "    <tr>\n",
       "      <th>11</th>\n",
       "      <td>1378805448422391814</td>\n",
       "      <td>near, not in, Lake Ontario</td>\n",
       "    </tr>\n",
       "  </tbody>\n",
       "</table>\n",
       "</div>"
      ],
      "text/plain": [
       "                     id                     location\n",
       "0   1378925806538350594             Philadelphia, PA\n",
       "1   1378912541473181696          calililiindies.com \n",
       "2   1378902315344666624          calililiindies.com \n",
       "3   1378895247833493504                   Denver, CO\n",
       "4   1378882294182768640                  Kansas, USA\n",
       "5   1378876481934405636                 Florida, USA\n",
       "7   1378869383234256896                United States\n",
       "9   1378863408985030665    Ministry of Magic, London\n",
       "10  1378858823633473539              BumFucked Egypt\n",
       "11  1378805448422391814  near, not in, Lake Ontario "
      ]
     },
     "execution_count": 13,
     "metadata": {},
     "output_type": "execute_result"
    }
   ],
   "source": [
    "# Create an empty DataFrame with the columns 'location' and 'id'\n",
    "no_empties = pd.DataFrame(columns = ['id', 'location'])\n",
    "for i in range(len(all_locations)):\n",
    "    # This filters out tweets whose location column is an empty string.\n",
    "    if all_locations.loc[i, \"location\"] != '':\n",
    "        no_empties = no_empties.append(all_locations.loc[i,:])\n",
    "no_empties.head(10)"
   ]
  },
  {
   "cell_type": "markdown",
   "metadata": {},
   "source": [
    "This looks pretty good! We would still like to filter through our locations for places that actually exist. Let's use the `.groupby()` method to take a look at what locations we have in our data.\n",
    "\n",
    "The `.groupby()` method takes in a table, a column, and optionally, an aggregate function (the default is count() which counts how many rows have the same value for the column we are grouping by. Other options include sum() and max() or min()). Groupby goes through each row, looks at the column that has been given to it of the current row, and groups each row based on if they have the same value at given column. After it has a list of rows for each distinct column value, it applies the aggregate function for each list, and returns a table of each distinct column value with the aggregate function applied to the rows that corresponded with the column."
   ]
  },
  {
   "cell_type": "code",
   "execution_count": 14,
   "metadata": {},
   "outputs": [
    {
     "data": {
      "text/html": [
       "<div>\n",
       "<style scoped>\n",
       "    .dataframe tbody tr th:only-of-type {\n",
       "        vertical-align: middle;\n",
       "    }\n",
       "\n",
       "    .dataframe tbody tr th {\n",
       "        vertical-align: top;\n",
       "    }\n",
       "\n",
       "    .dataframe thead th {\n",
       "        text-align: right;\n",
       "    }\n",
       "</style>\n",
       "<table border=\"1\" class=\"dataframe\">\n",
       "  <thead>\n",
       "    <tr style=\"text-align: right;\">\n",
       "      <th></th>\n",
       "      <th>id</th>\n",
       "    </tr>\n",
       "    <tr>\n",
       "      <th>location</th>\n",
       "      <th></th>\n",
       "    </tr>\n",
       "  </thead>\n",
       "  <tbody>\n",
       "    <tr>\n",
       "      <th>A Galaxy Near You!</th>\n",
       "      <td>1</td>\n",
       "    </tr>\n",
       "    <tr>\n",
       "      <th>Arab world</th>\n",
       "      <td>1</td>\n",
       "    </tr>\n",
       "    <tr>\n",
       "      <th>Atlanta, GA</th>\n",
       "      <td>2</td>\n",
       "    </tr>\n",
       "    <tr>\n",
       "      <th>BALTIMORE,MD</th>\n",
       "      <td>1</td>\n",
       "    </tr>\n",
       "    <tr>\n",
       "      <th>Barcelona</th>\n",
       "      <td>2</td>\n",
       "    </tr>\n",
       "    <tr>\n",
       "      <th>...</th>\n",
       "      <td>...</td>\n",
       "    </tr>\n",
       "    <tr>\n",
       "      <th>near, not in, Lake Ontario</th>\n",
       "      <td>1</td>\n",
       "    </tr>\n",
       "    <tr>\n",
       "      <th>north charlotte nc</th>\n",
       "      <td>1</td>\n",
       "    </tr>\n",
       "    <tr>\n",
       "      <th>she!her | 17 | ebony</th>\n",
       "      <td>1</td>\n",
       "    </tr>\n",
       "    <tr>\n",
       "      <th>she/they</th>\n",
       "      <td>1</td>\n",
       "    </tr>\n",
       "    <tr>\n",
       "      <th>ÜT: 53.671829,-1.521368</th>\n",
       "      <td>1</td>\n",
       "    </tr>\n",
       "  </tbody>\n",
       "</table>\n",
       "<p>62 rows × 1 columns</p>\n",
       "</div>"
      ],
      "text/plain": [
       "                             id\n",
       "location                       \n",
       "A Galaxy Near You!            1\n",
       "Arab world                    1\n",
       "Atlanta, GA                   2\n",
       "BALTIMORE,MD                  1\n",
       "Barcelona                     2\n",
       "...                          ..\n",
       "near, not in, Lake Ontario    1\n",
       "north charlotte nc            1\n",
       "she!her | 17 | ebony          1\n",
       "she/they                      1\n",
       "ÜT: 53.671829,-1.521368       1\n",
       "\n",
       "[62 rows x 1 columns]"
      ]
     },
     "execution_count": 14,
     "metadata": {},
     "output_type": "execute_result"
    }
   ],
   "source": [
    "no_empties.groupby('location').count()"
   ]
  },
  {
   "cell_type": "markdown",
   "metadata": {},
   "source": [
    "If you scroll through this list, you will likely see a whole litany of \"locations\" that do not resemble locations since the user is allowed to write whatever they like as their location. We do not have time to day to sort through all of these right now, so we are goign to move on to a few other techniques that we can use to analyze these kinds of data."
   ]
  },
  {
   "cell_type": "markdown",
   "metadata": {},
   "source": [
    "## Scraping Tweets by Location\n",
    "### <font color='red'> Minute 25:25\n",
    "---\n",
    "Since many of the tweets we scraped earlier do not have useful locations, we may want to filter by location when we ask the API for tweets. We can use the same function as before, using the optional `location` argument. The format of the location argument is `\"latitude,longitude,radius\"`. The following code searches for tweets hashtagged \"gentrification\" within a 5 km radius of the Temescal Oakland area."
   ]
  },
  {
   "cell_type": "code",
   "execution_count": 15,
   "metadata": {},
   "outputs": [],
   "source": [
    "gentrification_oak = download_recent_tweets_by_hashtag(hashtag = \"gentrification\",\n",
    "                                                       keys = keys,\n",
    "                                                       location = \"37.829314,-122.264433,5km\",\n",
    "                                                       count = 100)"
   ]
  },
  {
   "cell_type": "markdown",
   "metadata": {},
   "source": [
    "If you are running into errors downloading these tweets, uncomment and run the following cell to load in tweets that we scraped earlier."
   ]
  },
  {
   "cell_type": "code",
   "execution_count": 16,
   "metadata": {},
   "outputs": [],
   "source": [
    "# gentrification_oak = load_tweets('gentrification_oak.json')"
   ]
  },
  {
   "cell_type": "markdown",
   "metadata": {},
   "source": [
    "**Your turn:** Let's use the procedure we went through earlier to find the most common user location in the `gentrification_oak` tweets. We've provided some starter code, but you need to fill in wherever you see a `...`!"
   ]
  },
  {
   "cell_type": "code",
   "execution_count": 17,
   "metadata": {},
   "outputs": [
    {
     "data": {
      "text/html": [
       "<div>\n",
       "<style scoped>\n",
       "    .dataframe tbody tr th:only-of-type {\n",
       "        vertical-align: middle;\n",
       "    }\n",
       "\n",
       "    .dataframe tbody tr th {\n",
       "        vertical-align: top;\n",
       "    }\n",
       "\n",
       "    .dataframe thead th {\n",
       "        text-align: right;\n",
       "    }\n",
       "</style>\n",
       "<table border=\"1\" class=\"dataframe\">\n",
       "  <thead>\n",
       "    <tr style=\"text-align: right;\">\n",
       "      <th></th>\n",
       "      <th>id</th>\n",
       "      <th>user</th>\n",
       "    </tr>\n",
       "  </thead>\n",
       "  <tbody>\n",
       "    <tr>\n",
       "      <th>0</th>\n",
       "      <td>1378925806538350594</td>\n",
       "      <td>{'id': 870877024260419584, 'id_str': '870877024260419584', 'name': 'Jaclyn Jemison', 'screen_name': 'JemisonJaclyn', 'location': 'Philadelphia, PA', 'description': '', 'url': None, 'entities': {'description': {'urls': []}}, 'protected': False, 'followers_count': 4227, 'friend...</td>\n",
       "    </tr>\n",
       "    <tr>\n",
       "      <th>1</th>\n",
       "      <td>1378912541473181696</td>\n",
       "      <td>{'id': 594100783, 'id_str': '594100783', 'name': 'CaliLili™🧜🏾🧜🏼‍♀️🧜🏽‍♀️🏄🏼‍♀️🏄🏾‍♀️🦀🎬🎼🏝️', 'screen_name': 'CaliLiliIndies', 'location': 'calililiindies.com ', 'description': '©clili™CaliLiliIndies™🏝️PicturesWordsMusicInMotion™🎬🎶\n",
       "feMt0™studi0🌸CuttingEdgeOfThePacific™🦀Declaration...</td>\n",
       "    </tr>\n",
       "    <tr>\n",
       "      <th>2</th>\n",
       "      <td>1378902315344666624</td>\n",
       "      <td>{'id': 594100783, 'id_str': '594100783', 'name': 'CaliLili™🧜🏾🧜🏼‍♀️🧜🏽‍♀️🏄🏼‍♀️🏄🏾‍♀️🦀🎬🎼🏝️', 'screen_name': 'CaliLiliIndies', 'location': 'calililiindies.com ', 'description': '©clili™CaliLiliIndies™🏝️PicturesWordsMusicInMotion™🎬🎶\n",
       "feMt0™studi0🌸CuttingEdgeOfThePacific™🦀Declaration...</td>\n",
       "    </tr>\n",
       "    <tr>\n",
       "      <th>3</th>\n",
       "      <td>1378895247833493504</td>\n",
       "      <td>{'id': 1269650482911301632, 'id_str': '1269650482911301632', 'name': 'Susan-Karen', 'screen_name': 'realsusankaren', 'location': 'Denver, CO', 'description': 'Tax the Rich • Abolish the Police • Demand Justice • Speak up • Show up • #BLM\n",
       "☞#MessageToTheMayor ⇨ #StopTheSweeps 🚫...</td>\n",
       "    </tr>\n",
       "    <tr>\n",
       "      <th>4</th>\n",
       "      <td>1378882294182768640</td>\n",
       "      <td>{'id': 29109727, 'id_str': '29109727', 'name': 'Randal Maurice Jelks', 'screen_name': 'drjelks', 'location': 'Kansas, USA', 'description': 'Author, EP @i_americafilm, A knee-grow from #NOLA byway of #Chicago, #GrandRapids and #LawrenceKS and all other parts of the globe', 'ur...</td>\n",
       "    </tr>\n",
       "  </tbody>\n",
       "</table>\n",
       "</div>"
      ],
      "text/plain": [
       "                    id  \\\n",
       "0  1378925806538350594   \n",
       "1  1378912541473181696   \n",
       "2  1378902315344666624   \n",
       "3  1378895247833493504   \n",
       "4  1378882294182768640   \n",
       "\n",
       "                                                                                                                                                                                                                                                                                      user  \n",
       "0  {'id': 870877024260419584, 'id_str': '870877024260419584', 'name': 'Jaclyn Jemison', 'screen_name': 'JemisonJaclyn', 'location': 'Philadelphia, PA', 'description': '', 'url': None, 'entities': {'description': {'urls': []}}, 'protected': False, 'followers_count': 4227, 'friend...  \n",
       "1  {'id': 594100783, 'id_str': '594100783', 'name': 'CaliLili™🧜🏾🧜🏼‍♀️🧜🏽‍♀️🏄🏼‍♀️🏄🏾‍♀️🦀🎬🎼🏝️', 'screen_name': 'CaliLiliIndies', 'location': 'calililiindies.com ', 'description': '©clili™CaliLiliIndies™🏝️PicturesWordsMusicInMotion™🎬🎶\n",
       "feMt0™studi0🌸CuttingEdgeOfThePacific™🦀Declaration...  \n",
       "2  {'id': 594100783, 'id_str': '594100783', 'name': 'CaliLili™🧜🏾🧜🏼‍♀️🧜🏽‍♀️🏄🏼‍♀️🏄🏾‍♀️🦀🎬🎼🏝️', 'screen_name': 'CaliLiliIndies', 'location': 'calililiindies.com ', 'description': '©clili™CaliLiliIndies™🏝️PicturesWordsMusicInMotion™🎬🎶\n",
       "feMt0™studi0🌸CuttingEdgeOfThePacific™🦀Declaration...  \n",
       "3  {'id': 1269650482911301632, 'id_str': '1269650482911301632', 'name': 'Susan-Karen', 'screen_name': 'realsusankaren', 'location': 'Denver, CO', 'description': 'Tax the Rich • Abolish the Police • Demand Justice • Speak up • Show up • #BLM\n",
       "☞#MessageToTheMayor ⇨ #StopTheSweeps 🚫...  \n",
       "4  {'id': 29109727, 'id_str': '29109727', 'name': 'Randal Maurice Jelks', 'screen_name': 'drjelks', 'location': 'Kansas, USA', 'description': 'Author, EP @i_americafilm, A knee-grow from #NOLA byway of #Chicago, #GrandRapids and #LawrenceKS and all other parts of the globe', 'ur...  "
      ]
     },
     "execution_count": 17,
     "metadata": {},
     "output_type": "execute_result"
    }
   ],
   "source": [
    "users_oak = pd.DataFrame(gentrification_oak)\n",
    "users_oak = users_oak [['id', 'user']] # select columns of interest\n",
    "users_oak.head()"
   ]
  },
  {
   "cell_type": "code",
   "execution_count": 18,
   "metadata": {},
   "outputs": [
    {
     "data": {
      "text/html": [
       "<div>\n",
       "<style scoped>\n",
       "    .dataframe tbody tr th:only-of-type {\n",
       "        vertical-align: middle;\n",
       "    }\n",
       "\n",
       "    .dataframe tbody tr th {\n",
       "        vertical-align: top;\n",
       "    }\n",
       "\n",
       "    .dataframe thead th {\n",
       "        text-align: right;\n",
       "    }\n",
       "</style>\n",
       "<table border=\"1\" class=\"dataframe\">\n",
       "  <thead>\n",
       "    <tr style=\"text-align: right;\">\n",
       "      <th></th>\n",
       "      <th>id</th>\n",
       "    </tr>\n",
       "    <tr>\n",
       "      <th>location</th>\n",
       "      <th></th>\n",
       "    </tr>\n",
       "  </thead>\n",
       "  <tbody>\n",
       "    <tr>\n",
       "      <th>A Galaxy Near You!</th>\n",
       "      <td>1</td>\n",
       "    </tr>\n",
       "    <tr>\n",
       "      <th>Arab world</th>\n",
       "      <td>1</td>\n",
       "    </tr>\n",
       "    <tr>\n",
       "      <th>Atlanta, GA</th>\n",
       "      <td>2</td>\n",
       "    </tr>\n",
       "    <tr>\n",
       "      <th>BALTIMORE,MD</th>\n",
       "      <td>1</td>\n",
       "    </tr>\n",
       "    <tr>\n",
       "      <th>Barcelona</th>\n",
       "      <td>2</td>\n",
       "    </tr>\n",
       "  </tbody>\n",
       "</table>\n",
       "</div>"
      ],
      "text/plain": [
       "                    id\n",
       "location              \n",
       "A Galaxy Near You!   1\n",
       "Arab world           1\n",
       "Atlanta, GA          2\n",
       "BALTIMORE,MD         1\n",
       "Barcelona            2"
      ]
     },
     "execution_count": 18,
     "metadata": {},
     "output_type": "execute_result"
    }
   ],
   "source": [
    "locations_list_oak = list()\n",
    "for i in range(len(users_oak)):\n",
    "    new_entry = {}\n",
    "    new_entry['id'] = users_oak.loc[i, 'id']\n",
    "    new_entry['location'] = users_oak.loc[i, 'user']['location']\n",
    "    locations_list_oak.append(new_entry) # we want to add the new entry to our list\n",
    "all_locations_oak = pd.DataFrame(locations_list_oak) # turn the list into a DataFrame\n",
    "\n",
    "no_empties_oak = pd.DataFrame(columns = ['id', 'location'])\n",
    "for i in range(len(all_locations_oak)):\n",
    "    if all_locations_oak.loc[i, \"location\"] != '':\n",
    "        no_empties_oak = no_empties_oak.append(all_locations_oak.loc[i,:])\n",
    "        \n",
    "grouped_locations = no_empties_oak.groupby('location').count()\n",
    "\n",
    "grouped_locations.head()"
   ]
  },
  {
   "cell_type": "markdown",
   "metadata": {},
   "source": [
    "## Temporal Data\n",
    "### <font color='red'> Minute 29:45\n",
    "---\n",
    "Another facet of the tweets that you may want to analyze is the time at which they were posted. Currently, the only way we have information about the time the tweets were posted is in the `'created_at'` column, which is a string. As you may remember from the Introductory lab, `python` compares strings by assigning values to the letters themselves based on their position in the alphabet. We want to convert these strings to `datetime` objects, which will tell `python` at what time tweets were posted."
   ]
  },
  {
   "cell_type": "code",
   "execution_count": 19,
   "metadata": {},
   "outputs": [
    {
     "data": {
      "text/plain": [
       "0   2021-04-05 04:21:46+00:00\n",
       "1   2021-04-05 03:29:03+00:00\n",
       "2   2021-04-05 02:48:25+00:00\n",
       "3   2021-04-05 02:20:20+00:00\n",
       "4   2021-04-05 01:28:51+00:00\n",
       "Name: time, dtype: datetime64[ns, UTC]"
      ]
     },
     "execution_count": 19,
     "metadata": {},
     "output_type": "execute_result"
    }
   ],
   "source": [
    "post_time = pd.DataFrame(gentrification_oak)[['id', 'created_at']]\n",
    "post_time['time'] = pd.to_datetime(post_time['created_at'])\n",
    "post_time['time'].head()"
   ]
  },
  {
   "cell_type": "markdown",
   "metadata": {},
   "source": [
    "Now that each string has been converted into a `datetime` object, we can extract the day, hour, minute, etc. of each time point like so"
   ]
  },
  {
   "cell_type": "code",
   "execution_count": 20,
   "metadata": {},
   "outputs": [
    {
     "data": {
      "text/plain": [
       "5"
      ]
     },
     "execution_count": 20,
     "metadata": {},
     "output_type": "execute_result"
    }
   ],
   "source": [
    "post_time.loc[0, 'time'].day"
   ]
  },
  {
   "cell_type": "code",
   "execution_count": 21,
   "metadata": {},
   "outputs": [
    {
     "data": {
      "text/plain": [
       "4"
      ]
     },
     "execution_count": 21,
     "metadata": {},
     "output_type": "execute_result"
    }
   ],
   "source": [
    "post_time.loc[0, 'time'].hour"
   ]
  },
  {
   "cell_type": "code",
   "execution_count": 22,
   "metadata": {},
   "outputs": [
    {
     "data": {
      "text/plain": [
       "21"
      ]
     },
     "execution_count": 22,
     "metadata": {},
     "output_type": "execute_result"
    }
   ],
   "source": [
    "post_time.loc[0, 'time'].minute"
   ]
  },
  {
   "cell_type": "markdown",
   "metadata": {},
   "source": [
    "Notice that we are not adding parentheses at the end of each line. That is because the `.day`, `.hour`, and `.minute` are not *functions* we are calling, but rather *attributes* of the particular `datetime` object. If we want to look at the time of day that people tend to tweet about #gentrification, we can extract these attributes."
   ]
  },
  {
   "cell_type": "code",
   "execution_count": 23,
   "metadata": {},
   "outputs": [
    {
     "data": {
      "image/png": "[encoded data removed]",
      "text/plain": [
       "<Figure size 432x288 with 1 Axes>"
      ]
     },
     "metadata": {
      "needs_background": "light"
     },
     "output_type": "display_data"
    }
   ],
   "source": [
    "post_time['hour'] = [post_time.loc[i, 'time'].hour + post_time.loc[i, 'time'].minute/60 +\n",
    "                     post_time.loc[i, 'time'].second/3600 for i in range(len(post_time))]\n",
    "post_time['hour'].hist()\n",
    "plt.xlabel(\"Hour (UTC)\")\n",
    "plt.ylabel(\"Number of Tweets\");"
   ]
  },
  {
   "cell_type": "markdown",
   "metadata": {},
   "source": [
    "**Question:** What observations or trends do you notice about this graph?"
   ]
  },
  {
   "cell_type": "markdown",
   "metadata": {},
   "source": [
    "**Question:** What could be improved about this graph or the process we used to obtain the data that generated it?"
   ]
  },
  {
   "cell_type": "markdown",
   "metadata": {},
   "source": [
    "## Sentiment Analysis\n",
    "### <font color='red'> Minute 32:27\n",
    "---\n",
    "We can use the words the tweets to measure the sentiment, or the positive/negative feeling generated by the tweet. To do so we will be using the [VADER (Valence Aware Dictionary and sEntiment Reasoner)](https://github.com/cjhutto/vaderSentiment), which is a rule-based sentiment analysis tool specifically designed for social media. It even includes emojis! Run the following cell to load in the lexicon."
   ]
  },
  {
   "cell_type": "code",
   "execution_count": 24,
   "metadata": {
    "scrolled": true
   },
   "outputs": [
    {
     "data": {
      "text/html": [
       "<div>\n",
       "<style scoped>\n",
       "    .dataframe tbody tr th:only-of-type {\n",
       "        vertical-align: middle;\n",
       "    }\n",
       "\n",
       "    .dataframe tbody tr th {\n",
       "        vertical-align: top;\n",
       "    }\n",
       "\n",
       "    .dataframe thead th {\n",
       "        text-align: right;\n",
       "    }\n",
       "</style>\n",
       "<table border=\"1\" class=\"dataframe\">\n",
       "  <thead>\n",
       "    <tr style=\"text-align: right;\">\n",
       "      <th></th>\n",
       "      <th>polarity</th>\n",
       "    </tr>\n",
       "    <tr>\n",
       "      <th>sent</th>\n",
       "      <th></th>\n",
       "    </tr>\n",
       "  </thead>\n",
       "  <tbody>\n",
       "    <tr>\n",
       "      <th>ache</th>\n",
       "      <td>-1.6</td>\n",
       "    </tr>\n",
       "    <tr>\n",
       "      <th>ached</th>\n",
       "      <td>-1.6</td>\n",
       "    </tr>\n",
       "    <tr>\n",
       "      <th>aches</th>\n",
       "      <td>-1.0</td>\n",
       "    </tr>\n",
       "    <tr>\n",
       "      <th>achievable</th>\n",
       "      <td>1.3</td>\n",
       "    </tr>\n",
       "    <tr>\n",
       "      <th>aching</th>\n",
       "      <td>-2.2</td>\n",
       "    </tr>\n",
       "    <tr>\n",
       "      <th>acquit</th>\n",
       "      <td>0.8</td>\n",
       "    </tr>\n",
       "    <tr>\n",
       "      <th>acquits</th>\n",
       "      <td>0.1</td>\n",
       "    </tr>\n",
       "    <tr>\n",
       "      <th>acquitted</th>\n",
       "      <td>1.0</td>\n",
       "    </tr>\n",
       "    <tr>\n",
       "      <th>acquitting</th>\n",
       "      <td>1.3</td>\n",
       "    </tr>\n",
       "    <tr>\n",
       "      <th>acrimonious</th>\n",
       "      <td>-1.7</td>\n",
       "    </tr>\n",
       "  </tbody>\n",
       "</table>\n",
       "</div>"
      ],
      "text/plain": [
       "             polarity\n",
       "sent                 \n",
       "ache             -1.6\n",
       "ached            -1.6\n",
       "aches            -1.0\n",
       "achievable        1.3\n",
       "aching           -2.2\n",
       "acquit            0.8\n",
       "acquits           0.1\n",
       "acquitted         1.0\n",
       "acquitting        1.3\n",
       "acrimonious      -1.7"
      ]
     },
     "execution_count": 24,
     "metadata": {},
     "output_type": "execute_result"
    }
   ],
   "source": [
    "vader = load_vader()\n",
    "vader.iloc[500:510, :]"
   ]
  },
  {
   "cell_type": "markdown",
   "metadata": {},
   "source": [
    "The more positive the polarity of a word, the more positive feeling the word evokes in the reader. All of the words in `vader` are all lowercase, while many of our tweets are not. We need to modify the text in the tweets so that the words in our tweets will match up with the words stored in `vader`. Additionally, we need to remove punctuation since that will cause the words to not match up as well. We will put these modified tweets into another column in our `DataFrame` so that we can still have access to them later."
   ]
  },
  {
   "cell_type": "code",
   "execution_count": 25,
   "metadata": {},
   "outputs": [
    {
     "data": {
      "text/html": [
       "<div>\n",
       "<style scoped>\n",
       "    .dataframe tbody tr th:only-of-type {\n",
       "        vertical-align: middle;\n",
       "    }\n",
       "\n",
       "    .dataframe tbody tr th {\n",
       "        vertical-align: top;\n",
       "    }\n",
       "\n",
       "    .dataframe thead th {\n",
       "        text-align: right;\n",
       "    }\n",
       "</style>\n",
       "<table border=\"1\" class=\"dataframe\">\n",
       "  <thead>\n",
       "    <tr style=\"text-align: right;\">\n",
       "      <th></th>\n",
       "      <th>text</th>\n",
       "      <th>retweet_count</th>\n",
       "      <th>cleaned</th>\n",
       "    </tr>\n",
       "    <tr>\n",
       "      <th>id</th>\n",
       "      <th></th>\n",
       "      <th></th>\n",
       "      <th></th>\n",
       "    </tr>\n",
       "  </thead>\n",
       "  <tbody>\n",
       "    <tr>\n",
       "      <th>1378925806538350594</th>\n",
       "      <td>RT @DonnieReid16: @mims Tell me why Im not shocked? Its done everywhere.\\nThey pick minority neighborhood, label it as historic, jack up the…</td>\n",
       "      <td>5</td>\n",
       "      <td>rt  donniereid16   mims tell me why im not shocked  its done everywhere \\nthey pick minority neighborhood  label it as historic  jack up the</td>\n",
       "    </tr>\n",
       "    <tr>\n",
       "      <th>1378912541473181696</th>\n",
       "      <td>” #WorkingClass artist is #CanaryInTheCoalMine of #culture. She represents free-spirit. My work seeks to #nourish +… https://t.co/ydkyumuNtd</td>\n",
       "      <td>0</td>\n",
       "      <td>workingclass artist is  canaryinthecoalmine of  culture  she represents free spirit  my work seeks to  nourish    https   t co ydkyumuntd</td>\n",
       "    </tr>\n",
       "    <tr>\n",
       "      <th>1378902315344666624</th>\n",
       "      <td>RT @CaliLiliIndies: ” #WorkingClass artist is #CanaryInTheCoalMine of #culture. She represents free-spirit. My work seeks to #nourish +stre…</td>\n",
       "      <td>1</td>\n",
       "      <td>rt  calililiindies     workingclass artist is  canaryinthecoalmine of  culture  she represents free spirit  my work seeks to  nourish  stre</td>\n",
       "    </tr>\n",
       "    <tr>\n",
       "      <th>1378895247833493504</th>\n",
       "      <td>@CReinhardtz @DenverWestword 💥#ForTheRecord, pop. growth in #Denver--by way of @MayorHancock &amp;amp; @DenCityCouncil allo… https://t.co/TEP5cU16ec</td>\n",
       "      <td>0</td>\n",
       "      <td>creinhardtz  denverwestword   fortherecord  pop  growth in  denver  by way of  mayorhancock  amp   dencitycouncil allo  https   t co tep5cu16ec</td>\n",
       "    </tr>\n",
       "    <tr>\n",
       "      <th>1378882294182768640</th>\n",
       "      <td>#ConcreteCowboy was a bit more upbeat than #TheLastBlackManinSanFrancisco, both offer commentary on home and displa… https://t.co/IQccb2O11f</td>\n",
       "      <td>0</td>\n",
       "      <td>concretecowboy was a bit more upbeat than  thelastblackmaninsanfrancisco  both offer commentary on home and displa  https   t co iqccb2o11f</td>\n",
       "    </tr>\n",
       "  </tbody>\n",
       "</table>\n",
       "</div>"
      ],
      "text/plain": [
       "                                                                                                                                                                 text  \\\n",
       "id                                                                                                                                                                      \n",
       "1378925806538350594     RT @DonnieReid16: @mims Tell me why Im not shocked? Its done everywhere.\\nThey pick minority neighborhood, label it as historic, jack up the…   \n",
       "1378912541473181696      ” #WorkingClass artist is #CanaryInTheCoalMine of #culture. She represents free-spirit. My work seeks to #nourish +… https://t.co/ydkyumuNtd   \n",
       "1378902315344666624      RT @CaliLiliIndies: ” #WorkingClass artist is #CanaryInTheCoalMine of #culture. She represents free-spirit. My work seeks to #nourish +stre…   \n",
       "1378895247833493504  @CReinhardtz @DenverWestword 💥#ForTheRecord, pop. growth in #Denver--by way of @MayorHancock &amp; @DenCityCouncil allo… https://t.co/TEP5cU16ec   \n",
       "1378882294182768640      #ConcreteCowboy was a bit more upbeat than #TheLastBlackManinSanFrancisco, both offer commentary on home and displa… https://t.co/IQccb2O11f   \n",
       "\n",
       "                     retweet_count  \\\n",
       "id                                   \n",
       "1378925806538350594              5   \n",
       "1378912541473181696              0   \n",
       "1378902315344666624              1   \n",
       "1378895247833493504              0   \n",
       "1378882294182768640              0   \n",
       "\n",
       "                                                                                                                                                              cleaned  \n",
       "id                                                                                                                                                                     \n",
       "1378925806538350594     rt  donniereid16   mims tell me why im not shocked  its done everywhere \\nthey pick minority neighborhood  label it as historic  jack up the   \n",
       "1378912541473181696         workingclass artist is  canaryinthecoalmine of  culture  she represents free spirit  my work seeks to  nourish    https   t co ydkyumuntd  \n",
       "1378902315344666624      rt  calililiindies     workingclass artist is  canaryinthecoalmine of  culture  she represents free spirit  my work seeks to  nourish  stre   \n",
       "1378895247833493504   creinhardtz  denverwestword   fortherecord  pop  growth in  denver  by way of  mayorhancock  amp   dencitycouncil allo  https   t co tep5cu16ec  \n",
       "1378882294182768640       concretecowboy was a bit more upbeat than  thelastblackmaninsanfrancisco  both offer commentary on home and displa  https   t co iqccb2o11f  "
      ]
     },
     "execution_count": 25,
     "metadata": {},
     "output_type": "execute_result"
    }
   ],
   "source": [
    "# Select our columns of interest\n",
    "tweets_and_retweets = pd.DataFrame(gentrification_oak)[['id', 'text', 'retweet_count']]\n",
    "\n",
    "# Set the index of the DataFrame to the tweet ID. This step is necessary\n",
    "# in order to use our utility functions.\n",
    "tweets_and_retweets.set_index('id', inplace = True)\n",
    "\n",
    "# Remove punctuation and lowercase tweets\n",
    "tweets_and_retweets['cleaned'] = clean_tweets(tweets_and_retweets['text'])\n",
    "\n",
    "tweets_and_retweets.head()"
   ]
  },
  {
   "cell_type": "markdown",
   "metadata": {},
   "source": [
    "Next, we want to merge our sentiment lexicon with our cleaned tweets. "
   ]
  },
  {
   "cell_type": "code",
   "execution_count": 26,
   "metadata": {
    "scrolled": true
   },
   "outputs": [
    {
     "data": {
      "text/html": [
       "<div>\n",
       "<style scoped>\n",
       "    .dataframe tbody tr th:only-of-type {\n",
       "        vertical-align: middle;\n",
       "    }\n",
       "\n",
       "    .dataframe tbody tr th {\n",
       "        vertical-align: top;\n",
       "    }\n",
       "\n",
       "    .dataframe thead th {\n",
       "        text-align: right;\n",
       "    }\n",
       "</style>\n",
       "<table border=\"1\" class=\"dataframe\">\n",
       "  <thead>\n",
       "    <tr style=\"text-align: right;\">\n",
       "      <th></th>\n",
       "      <th>text</th>\n",
       "      <th>retweet_count</th>\n",
       "      <th>cleaned</th>\n",
       "      <th>polarity</th>\n",
       "    </tr>\n",
       "    <tr>\n",
       "      <th>id</th>\n",
       "      <th></th>\n",
       "      <th></th>\n",
       "      <th></th>\n",
       "      <th></th>\n",
       "    </tr>\n",
       "  </thead>\n",
       "  <tbody>\n",
       "    <tr>\n",
       "      <th>1378925806538350594</th>\n",
       "      <td>RT @DonnieReid16: @mims Tell me why Im not shocked? Its done everywhere.\\nThey pick minority neighborhood, label it as historic, jack up the…</td>\n",
       "      <td>5</td>\n",
       "      <td>rt  donniereid16   mims tell me why im not shocked  its done everywhere \\nthey pick minority neighborhood  label it as historic  jack up the</td>\n",
       "      <td>-1.3</td>\n",
       "    </tr>\n",
       "    <tr>\n",
       "      <th>1378912541473181696</th>\n",
       "      <td>” #WorkingClass artist is #CanaryInTheCoalMine of #culture. She represents free-spirit. My work seeks to #nourish +… https://t.co/ydkyumuNtd</td>\n",
       "      <td>0</td>\n",
       "      <td>workingclass artist is  canaryinthecoalmine of  culture  she represents free spirit  my work seeks to  nourish    https   t co ydkyumuntd</td>\n",
       "      <td>3.0</td>\n",
       "    </tr>\n",
       "    <tr>\n",
       "      <th>1378902315344666624</th>\n",
       "      <td>RT @CaliLiliIndies: ” #WorkingClass artist is #CanaryInTheCoalMine of #culture. She represents free-spirit. My work seeks to #nourish +stre…</td>\n",
       "      <td>1</td>\n",
       "      <td>rt  calililiindies     workingclass artist is  canaryinthecoalmine of  culture  she represents free spirit  my work seeks to  nourish  stre</td>\n",
       "      <td>3.0</td>\n",
       "    </tr>\n",
       "    <tr>\n",
       "      <th>1378895247833493504</th>\n",
       "      <td>@CReinhardtz @DenverWestword 💥#ForTheRecord, pop. growth in #Denver--by way of @MayorHancock &amp;amp; @DenCityCouncil allo… https://t.co/TEP5cU16ec</td>\n",
       "      <td>0</td>\n",
       "      <td>creinhardtz  denverwestword   fortherecord  pop  growth in  denver  by way of  mayorhancock  amp   dencitycouncil allo  https   t co tep5cu16ec</td>\n",
       "      <td>1.6</td>\n",
       "    </tr>\n",
       "    <tr>\n",
       "      <th>1378882294182768640</th>\n",
       "      <td>#ConcreteCowboy was a bit more upbeat than #TheLastBlackManinSanFrancisco, both offer commentary on home and displa… https://t.co/IQccb2O11f</td>\n",
       "      <td>0</td>\n",
       "      <td>concretecowboy was a bit more upbeat than  thelastblackmaninsanfrancisco  both offer commentary on home and displa  https   t co iqccb2o11f</td>\n",
       "      <td>0.0</td>\n",
       "    </tr>\n",
       "  </tbody>\n",
       "</table>\n",
       "</div>"
      ],
      "text/plain": [
       "                                                                                                                                                                 text  \\\n",
       "id                                                                                                                                                                      \n",
       "1378925806538350594     RT @DonnieReid16: @mims Tell me why Im not shocked? Its done everywhere.\\nThey pick minority neighborhood, label it as historic, jack up the…   \n",
       "1378912541473181696      ” #WorkingClass artist is #CanaryInTheCoalMine of #culture. She represents free-spirit. My work seeks to #nourish +… https://t.co/ydkyumuNtd   \n",
       "1378902315344666624      RT @CaliLiliIndies: ” #WorkingClass artist is #CanaryInTheCoalMine of #culture. She represents free-spirit. My work seeks to #nourish +stre…   \n",
       "1378895247833493504  @CReinhardtz @DenverWestword 💥#ForTheRecord, pop. growth in #Denver--by way of @MayorHancock &amp; @DenCityCouncil allo… https://t.co/TEP5cU16ec   \n",
       "1378882294182768640      #ConcreteCowboy was a bit more upbeat than #TheLastBlackManinSanFrancisco, both offer commentary on home and displa… https://t.co/IQccb2O11f   \n",
       "\n",
       "                     retweet_count  \\\n",
       "id                                   \n",
       "1378925806538350594              5   \n",
       "1378912541473181696              0   \n",
       "1378902315344666624              1   \n",
       "1378895247833493504              0   \n",
       "1378882294182768640              0   \n",
       "\n",
       "                                                                                                                                                              cleaned  \\\n",
       "id                                                                                                                                                                      \n",
       "1378925806538350594     rt  donniereid16   mims tell me why im not shocked  its done everywhere \\nthey pick minority neighborhood  label it as historic  jack up the    \n",
       "1378912541473181696         workingclass artist is  canaryinthecoalmine of  culture  she represents free spirit  my work seeks to  nourish    https   t co ydkyumuntd   \n",
       "1378902315344666624      rt  calililiindies     workingclass artist is  canaryinthecoalmine of  culture  she represents free spirit  my work seeks to  nourish  stre    \n",
       "1378895247833493504   creinhardtz  denverwestword   fortherecord  pop  growth in  denver  by way of  mayorhancock  amp   dencitycouncil allo  https   t co tep5cu16ec   \n",
       "1378882294182768640       concretecowboy was a bit more upbeat than  thelastblackmaninsanfrancisco  both offer commentary on home and displa  https   t co iqccb2o11f   \n",
       "\n",
       "                     polarity  \n",
       "id                             \n",
       "1378925806538350594      -1.3  \n",
       "1378912541473181696       3.0  \n",
       "1378902315344666624       3.0  \n",
       "1378895247833493504       1.6  \n",
       "1378882294182768640       0.0  "
      ]
     },
     "execution_count": 26,
     "metadata": {},
     "output_type": "execute_result"
    }
   ],
   "source": [
    "tweets_and_retweets['polarity'] = compose_polarity(tweets_and_retweets, vader)\n",
    "tweets_and_retweets.head()"
   ]
  },
  {
   "cell_type": "markdown",
   "metadata": {},
   "source": [
    "### <font color='red'> Minute 45:20 Questions and recap of sentiment analysis\n",
    "### <font color='red'> Minute 50:57\n",
    "Next, we want to see if more polarizing tweets are retweeted more often. To do this, we can plot the `polarity` and `retweet_count` columns against each other."
   ]
  },
  {
   "cell_type": "code",
   "execution_count": 27,
   "metadata": {
    "scrolled": true
   },
   "outputs": [
    {
     "data": {
      "image/png": "[encoded data removed]",
      "text/plain": [
       "<Figure size 432x288 with 1 Axes>"
      ]
     },
     "metadata": {
      "needs_background": "light"
     },
     "output_type": "display_data"
    }
   ],
   "source": [
    "tweets_and_retweets.plot('polarity', 'retweet_count', kind='scatter');"
   ]
  },
  {
   "cell_type": "markdown",
   "metadata": {},
   "source": [
    "**Question:** What conclusions can you draw about polarity and retweets from this graph? How does this compare with your assumptions?"
   ]
  },
  {
   "cell_type": "markdown",
   "metadata": {},
   "source": [
    "## Your turn!\n",
    "### <font color='red'> Minute 51:58\n",
    "---\n",
    "If time allows, try these exercises on your own or as a class!"
   ]
  },
  {
   "cell_type": "markdown",
   "metadata": {},
   "source": [
    "**Exercise 1:** Using the `gentrification_oak` tweets, make a histogram of the time of day the tweets were posted. Note that if you would like the x-axis of the plot to reflect the correct time of day, you will have to convert the time from UTC to PDT."
   ]
  },
  {
   "cell_type": "code",
   "execution_count": 28,
   "metadata": {},
   "outputs": [
    {
     "data": {
      "text/html": [
       "<div>\n",
       "<style scoped>\n",
       "    .dataframe tbody tr th:only-of-type {\n",
       "        vertical-align: middle;\n",
       "    }\n",
       "\n",
       "    .dataframe tbody tr th {\n",
       "        vertical-align: top;\n",
       "    }\n",
       "\n",
       "    .dataframe thead th {\n",
       "        text-align: right;\n",
       "    }\n",
       "</style>\n",
       "<table border=\"1\" class=\"dataframe\">\n",
       "  <thead>\n",
       "    <tr style=\"text-align: right;\">\n",
       "      <th></th>\n",
       "      <th>id</th>\n",
       "      <th>created_at</th>\n",
       "      <th>time</th>\n",
       "    </tr>\n",
       "  </thead>\n",
       "  <tbody>\n",
       "    <tr>\n",
       "      <th>0</th>\n",
       "      <td>1378925806538350594</td>\n",
       "      <td>Mon Apr 05 04:21:46 +0000 2021</td>\n",
       "      <td>2021-04-05 04:21:46+00:00</td>\n",
       "    </tr>\n",
       "    <tr>\n",
       "      <th>1</th>\n",
       "      <td>1378912541473181696</td>\n",
       "      <td>Mon Apr 05 03:29:03 +0000 2021</td>\n",
       "      <td>2021-04-05 03:29:03+00:00</td>\n",
       "    </tr>\n",
       "    <tr>\n",
       "      <th>2</th>\n",
       "      <td>1378902315344666624</td>\n",
       "      <td>Mon Apr 05 02:48:25 +0000 2021</td>\n",
       "      <td>2021-04-05 02:48:25+00:00</td>\n",
       "    </tr>\n",
       "    <tr>\n",
       "      <th>3</th>\n",
       "      <td>1378895247833493504</td>\n",
       "      <td>Mon Apr 05 02:20:20 +0000 2021</td>\n",
       "      <td>2021-04-05 02:20:20+00:00</td>\n",
       "    </tr>\n",
       "    <tr>\n",
       "      <th>4</th>\n",
       "      <td>1378882294182768640</td>\n",
       "      <td>Mon Apr 05 01:28:51 +0000 2021</td>\n",
       "      <td>2021-04-05 01:28:51+00:00</td>\n",
       "    </tr>\n",
       "    <tr>\n",
       "      <th>...</th>\n",
       "      <td>...</td>\n",
       "      <td>...</td>\n",
       "      <td>...</td>\n",
       "    </tr>\n",
       "    <tr>\n",
       "      <th>95</th>\n",
       "      <td>1377947528289787904</td>\n",
       "      <td>Fri Apr 02 11:34:26 +0000 2021</td>\n",
       "      <td>2021-04-02 11:34:26+00:00</td>\n",
       "    </tr>\n",
       "    <tr>\n",
       "      <th>96</th>\n",
       "      <td>1377931692950892546</td>\n",
       "      <td>Fri Apr 02 10:31:30 +0000 2021</td>\n",
       "      <td>2021-04-02 10:31:30+00:00</td>\n",
       "    </tr>\n",
       "    <tr>\n",
       "      <th>97</th>\n",
       "      <td>1377930820204126214</td>\n",
       "      <td>Fri Apr 02 10:28:02 +0000 2021</td>\n",
       "      <td>2021-04-02 10:28:02+00:00</td>\n",
       "    </tr>\n",
       "    <tr>\n",
       "      <th>98</th>\n",
       "      <td>1377930322373971973</td>\n",
       "      <td>Fri Apr 02 10:26:04 +0000 2021</td>\n",
       "      <td>2021-04-02 10:26:04+00:00</td>\n",
       "    </tr>\n",
       "    <tr>\n",
       "      <th>99</th>\n",
       "      <td>1377887408293695489</td>\n",
       "      <td>Fri Apr 02 07:35:32 +0000 2021</td>\n",
       "      <td>2021-04-02 07:35:32+00:00</td>\n",
       "    </tr>\n",
       "  </tbody>\n",
       "</table>\n",
       "<p>100 rows × 3 columns</p>\n",
       "</div>"
      ],
      "text/plain": [
       "                     id                      created_at  \\\n",
       "0   1378925806538350594  Mon Apr 05 04:21:46 +0000 2021   \n",
       "1   1378912541473181696  Mon Apr 05 03:29:03 +0000 2021   \n",
       "2   1378902315344666624  Mon Apr 05 02:48:25 +0000 2021   \n",
       "3   1378895247833493504  Mon Apr 05 02:20:20 +0000 2021   \n",
       "4   1378882294182768640  Mon Apr 05 01:28:51 +0000 2021   \n",
       "..                  ...                             ...   \n",
       "95  1377947528289787904  Fri Apr 02 11:34:26 +0000 2021   \n",
       "96  1377931692950892546  Fri Apr 02 10:31:30 +0000 2021   \n",
       "97  1377930820204126214  Fri Apr 02 10:28:02 +0000 2021   \n",
       "98  1377930322373971973  Fri Apr 02 10:26:04 +0000 2021   \n",
       "99  1377887408293695489  Fri Apr 02 07:35:32 +0000 2021   \n",
       "\n",
       "                        time  \n",
       "0  2021-04-05 04:21:46+00:00  \n",
       "1  2021-04-05 03:29:03+00:00  \n",
       "2  2021-04-05 02:48:25+00:00  \n",
       "3  2021-04-05 02:20:20+00:00  \n",
       "4  2021-04-05 01:28:51+00:00  \n",
       "..                       ...  \n",
       "95 2021-04-02 11:34:26+00:00  \n",
       "96 2021-04-02 10:31:30+00:00  \n",
       "97 2021-04-02 10:28:02+00:00  \n",
       "98 2021-04-02 10:26:04+00:00  \n",
       "99 2021-04-02 07:35:32+00:00  \n",
       "\n",
       "[100 rows x 3 columns]"
      ]
     },
     "execution_count": 28,
     "metadata": {},
     "output_type": "execute_result"
    }
   ],
   "source": [
    "# YOUR CODE HERE\n",
    "post_time = pd.DataFrame(gentrification_oak)[['id', 'created_at']]\n",
    "post_time['time'] = pd.to_datetime(post_time['created_at'])\n",
    "post_time['time'].head()\n",
    "post_time"
   ]
  },
  {
   "cell_type": "code",
   "execution_count": 29,
   "metadata": {},
   "outputs": [],
   "source": [
    "from datetime import datetime\n",
    "from pytz import timezone\n",
    "import pytz"
   ]
  },
  {
   "cell_type": "code",
   "execution_count": 30,
   "metadata": {},
   "outputs": [
    {
     "data": {
      "text/html": [
       "<div>\n",
       "<style scoped>\n",
       "    .dataframe tbody tr th:only-of-type {\n",
       "        vertical-align: middle;\n",
       "    }\n",
       "\n",
       "    .dataframe tbody tr th {\n",
       "        vertical-align: top;\n",
       "    }\n",
       "\n",
       "    .dataframe thead th {\n",
       "        text-align: right;\n",
       "    }\n",
       "</style>\n",
       "<table border=\"1\" class=\"dataframe\">\n",
       "  <thead>\n",
       "    <tr style=\"text-align: right;\">\n",
       "      <th></th>\n",
       "      <th>time</th>\n",
       "      <th>id</th>\n",
       "      <th>created_at</th>\n",
       "    </tr>\n",
       "  </thead>\n",
       "  <tbody>\n",
       "    <tr>\n",
       "      <th>0</th>\n",
       "      <td>2021-04-04 23:21:46-05:00</td>\n",
       "      <td>1378925806538350594</td>\n",
       "      <td>Mon Apr 05 04:21:46 +0000 2021</td>\n",
       "    </tr>\n",
       "    <tr>\n",
       "      <th>1</th>\n",
       "      <td>2021-04-04 22:29:03-05:00</td>\n",
       "      <td>1378912541473181696</td>\n",
       "      <td>Mon Apr 05 03:29:03 +0000 2021</td>\n",
       "    </tr>\n",
       "    <tr>\n",
       "      <th>2</th>\n",
       "      <td>2021-04-04 21:48:25-05:00</td>\n",
       "      <td>1378902315344666624</td>\n",
       "      <td>Mon Apr 05 02:48:25 +0000 2021</td>\n",
       "    </tr>\n",
       "    <tr>\n",
       "      <th>3</th>\n",
       "      <td>2021-04-04 21:20:20-05:00</td>\n",
       "      <td>1378895247833493504</td>\n",
       "      <td>Mon Apr 05 02:20:20 +0000 2021</td>\n",
       "    </tr>\n",
       "    <tr>\n",
       "      <th>4</th>\n",
       "      <td>2021-04-04 20:28:51-05:00</td>\n",
       "      <td>1378882294182768640</td>\n",
       "      <td>Mon Apr 05 01:28:51 +0000 2021</td>\n",
       "    </tr>\n",
       "    <tr>\n",
       "      <th>...</th>\n",
       "      <td>...</td>\n",
       "      <td>...</td>\n",
       "      <td>...</td>\n",
       "    </tr>\n",
       "    <tr>\n",
       "      <th>95</th>\n",
       "      <td>2021-04-02 06:34:26-05:00</td>\n",
       "      <td>1377947528289787904</td>\n",
       "      <td>Fri Apr 02 11:34:26 +0000 2021</td>\n",
       "    </tr>\n",
       "    <tr>\n",
       "      <th>96</th>\n",
       "      <td>2021-04-02 05:31:30-05:00</td>\n",
       "      <td>1377931692950892546</td>\n",
       "      <td>Fri Apr 02 10:31:30 +0000 2021</td>\n",
       "    </tr>\n",
       "    <tr>\n",
       "      <th>97</th>\n",
       "      <td>2021-04-02 05:28:02-05:00</td>\n",
       "      <td>1377930820204126214</td>\n",
       "      <td>Fri Apr 02 10:28:02 +0000 2021</td>\n",
       "    </tr>\n",
       "    <tr>\n",
       "      <th>98</th>\n",
       "      <td>2021-04-02 05:26:04-05:00</td>\n",
       "      <td>1377930322373971973</td>\n",
       "      <td>Fri Apr 02 10:26:04 +0000 2021</td>\n",
       "    </tr>\n",
       "    <tr>\n",
       "      <th>99</th>\n",
       "      <td>2021-04-02 02:35:32-05:00</td>\n",
       "      <td>1377887408293695489</td>\n",
       "      <td>Fri Apr 02 07:35:32 +0000 2021</td>\n",
       "    </tr>\n",
       "  </tbody>\n",
       "</table>\n",
       "<p>100 rows × 3 columns</p>\n",
       "</div>"
      ],
      "text/plain": [
       "                        time                   id  \\\n",
       "0  2021-04-04 23:21:46-05:00  1378925806538350594   \n",
       "1  2021-04-04 22:29:03-05:00  1378912541473181696   \n",
       "2  2021-04-04 21:48:25-05:00  1378902315344666624   \n",
       "3  2021-04-04 21:20:20-05:00  1378895247833493504   \n",
       "4  2021-04-04 20:28:51-05:00  1378882294182768640   \n",
       "..                       ...                  ...   \n",
       "95 2021-04-02 06:34:26-05:00  1377947528289787904   \n",
       "96 2021-04-02 05:31:30-05:00  1377931692950892546   \n",
       "97 2021-04-02 05:28:02-05:00  1377930820204126214   \n",
       "98 2021-04-02 05:26:04-05:00  1377930322373971973   \n",
       "99 2021-04-02 02:35:32-05:00  1377887408293695489   \n",
       "\n",
       "                        created_at  \n",
       "0   Mon Apr 05 04:21:46 +0000 2021  \n",
       "1   Mon Apr 05 03:29:03 +0000 2021  \n",
       "2   Mon Apr 05 02:48:25 +0000 2021  \n",
       "3   Mon Apr 05 02:20:20 +0000 2021  \n",
       "4   Mon Apr 05 01:28:51 +0000 2021  \n",
       "..                             ...  \n",
       "95  Fri Apr 02 11:34:26 +0000 2021  \n",
       "96  Fri Apr 02 10:31:30 +0000 2021  \n",
       "97  Fri Apr 02 10:28:02 +0000 2021  \n",
       "98  Fri Apr 02 10:26:04 +0000 2021  \n",
       "99  Fri Apr 02 07:35:32 +0000 2021  \n",
       "\n",
       "[100 rows x 3 columns]"
      ]
     },
     "execution_count": 30,
     "metadata": {},
     "output_type": "execute_result"
    }
   ],
   "source": [
    "post_time_pst = post_time.set_index('time')\n",
    "post_time_pst=post_time_pst.tz_convert('US/Central')\n",
    "post_time_pst.reset_index(inplace=True)\n",
    "post_time_pst"
   ]
  },
  {
   "cell_type": "code",
   "execution_count": 31,
   "metadata": {},
   "outputs": [
    {
     "data": {
      "image/png": "[encoded data removed]",
      "text/plain": [
       "<Figure size 720x360 with 1 Axes>"
      ]
     },
     "metadata": {
      "needs_background": "light"
     },
     "output_type": "display_data"
    }
   ],
   "source": [
    "post_time_pst['hour'] = [post_time_pst.loc[i, 'time'].hour + post_time.loc[i, 'time'].minute/60 +\n",
    "                     post_time_pst.loc[i, 'time'].second/3600 for i in range(len(post_time_pst))]\n",
    "plt.figure(figsize=(10,5))\n",
    "post_time_pst['hour'].hist()\n",
    "plt.xlabel(\"Hour (US/Pacific)\")\n",
    "plt.ylabel(\"Number of Tweets\");"
   ]
  },
  {
   "cell_type": "code",
   "execution_count": 32,
   "metadata": {},
   "outputs": [
    {
     "data": {
      "image/png": "[encoded data removed]",
      "text/plain": [
       "<Figure size 720x360 with 1 Axes>"
      ]
     },
     "metadata": {
      "needs_background": "light"
     },
     "output_type": "display_data"
    }
   ],
   "source": [
    "#Same code as above\n",
    "post_time['hour'] = [post_time.loc[i, 'time'].hour + post_time.loc[i, 'time'].minute/60 +\n",
    "                     post_time.loc[i, 'time'].second/3600 for i in range(len(post_time))]\n",
    "plt.figure(figsize=(10,5))\n",
    "post_time['hour'].hist()\n",
    "plt.xlabel(\"Hour (UCT)\")\n",
    "plt.ylabel(\"Number of Tweets\");"
   ]
  },
  {
   "cell_type": "markdown",
   "metadata": {},
   "source": [
    "**Exercise 2:** Try scraping tweets from multiple locations and the same hashtag. Make a histogram for each location and see if there are any differences in the distribution of polarity of the tweets. Feel free to use multiple cells to avoid querying the API repeatedly."
   ]
  },
  {
   "cell_type": "code",
   "execution_count": 57,
   "metadata": {},
   "outputs": [],
   "source": [
    "# YOUR CODE HERE\n",
    "# Within 2 km of UC, Berkeley\n",
    "COVID_berk= download_recent_tweets_by_hashtag(hashtag = \"COVID\",\n",
    "                                                       keys = keys,\n",
    "                                                       location = \"37.87442023168947, -122.25879564609362, 2km\",\n",
    "                                                       count = 200)\n"
   ]
  },
  {
   "cell_type": "code",
   "execution_count": 58,
   "metadata": {},
   "outputs": [
    {
     "data": {
      "text/html": [
       "<div>\n",
       "<style scoped>\n",
       "    .dataframe tbody tr th:only-of-type {\n",
       "        vertical-align: middle;\n",
       "    }\n",
       "\n",
       "    .dataframe tbody tr th {\n",
       "        vertical-align: top;\n",
       "    }\n",
       "\n",
       "    .dataframe thead th {\n",
       "        text-align: right;\n",
       "    }\n",
       "</style>\n",
       "<table border=\"1\" class=\"dataframe\">\n",
       "  <thead>\n",
       "    <tr style=\"text-align: right;\">\n",
       "      <th></th>\n",
       "      <th>created_at</th>\n",
       "      <th>id</th>\n",
       "      <th>id_str</th>\n",
       "      <th>text</th>\n",
       "      <th>truncated</th>\n",
       "      <th>entities</th>\n",
       "      <th>metadata</th>\n",
       "      <th>source</th>\n",
       "      <th>in_reply_to_status_id</th>\n",
       "      <th>in_reply_to_status_id_str</th>\n",
       "      <th>...</th>\n",
       "      <th>retweet_count</th>\n",
       "      <th>favorite_count</th>\n",
       "      <th>favorited</th>\n",
       "      <th>retweeted</th>\n",
       "      <th>lang</th>\n",
       "      <th>possibly_sensitive</th>\n",
       "      <th>extended_entities</th>\n",
       "      <th>quoted_status_id</th>\n",
       "      <th>quoted_status_id_str</th>\n",
       "      <th>quoted_status</th>\n",
       "    </tr>\n",
       "  </thead>\n",
       "  <tbody>\n",
       "    <tr>\n",
       "      <th>0</th>\n",
       "      <td>Mon Apr 05 05:11:12 +0000 2021</td>\n",
       "      <td>1378938248244826112</td>\n",
       "      <td>1378938248244826112</td>\n",
       "      <td>RT @VegasVisions: Daughter of #COVID-19 victim pleads for stricter restrictions as cases surge in southern #Alberta | CBC News https://t.co…</td>\n",
       "      <td>False</td>\n",
       "      <td>{'hashtags': [{'text': 'COVID', 'indices': [30, 36]}, {'text': 'Alberta', 'indices': [107, 115]}], 'symbols': [], 'user_mentions': [{'screen_name': 'VegasVisions', 'name': 'Vegas Visions ™', 'id': 1327442450957303809, 'id_str': '1327442450957303809', 'indices': [3, 16]}], 'ur...</td>\n",
       "      <td>{'iso_language_code': 'en', 'result_type': 'recent'}</td>\n",
       "      <td>&lt;a href=\"http://twitter.com/download/android\" rel=\"nofollow\"&gt;Twitter for Android&lt;/a&gt;</td>\n",
       "      <td>NaN</td>\n",
       "      <td>None</td>\n",
       "      <td>...</td>\n",
       "      <td>1</td>\n",
       "      <td>0</td>\n",
       "      <td>False</td>\n",
       "      <td>False</td>\n",
       "      <td>en</td>\n",
       "      <td>NaN</td>\n",
       "      <td>NaN</td>\n",
       "      <td>NaN</td>\n",
       "      <td>NaN</td>\n",
       "      <td>NaN</td>\n",
       "    </tr>\n",
       "    <tr>\n",
       "      <th>1</th>\n",
       "      <td>Mon Apr 05 05:11:03 +0000 2021</td>\n",
       "      <td>1378938209384665091</td>\n",
       "      <td>1378938209384665091</td>\n",
       "      <td>9 appointments at Walmart Supercenter (7800 N.w. Expressway, Oklahoma City)\\n#Oklahoma #COVID #Vaccine… https://t.co/yzG7Q8JxQd</td>\n",
       "      <td>True</td>\n",
       "      <td>{'hashtags': [{'text': 'Oklahoma', 'indices': [76, 85]}, {'text': 'COVID', 'indices': [86, 92]}, {'text': 'Vaccine', 'indices': [93, 101]}], 'symbols': [], 'user_mentions': [], 'urls': [{'url': 'https://t.co/yzG7Q8JxQd', 'expanded_url': 'https://twitter.com/i/web/status/13789...</td>\n",
       "      <td>{'iso_language_code': 'en', 'result_type': 'recent'}</td>\n",
       "      <td>&lt;a href=\"http://www.bendytree.com\" rel=\"nofollow\"&gt;Bendy Tree Social&lt;/a&gt;</td>\n",
       "      <td>NaN</td>\n",
       "      <td>None</td>\n",
       "      <td>...</td>\n",
       "      <td>0</td>\n",
       "      <td>0</td>\n",
       "      <td>False</td>\n",
       "      <td>False</td>\n",
       "      <td>en</td>\n",
       "      <td>False</td>\n",
       "      <td>NaN</td>\n",
       "      <td>NaN</td>\n",
       "      <td>NaN</td>\n",
       "      <td>NaN</td>\n",
       "    </tr>\n",
       "    <tr>\n",
       "      <th>2</th>\n",
       "      <td>Mon Apr 05 05:11:02 +0000 2021</td>\n",
       "      <td>1378938206956134400</td>\n",
       "      <td>1378938206956134400</td>\n",
       "      <td>RT @SENTHILSSK1982: \"Until one has loved an animal, a part of one's soul remains unawakened.\" ― Anatole France\\n\\n#mondaythoughts #MondayMoti…</td>\n",
       "      <td>False</td>\n",
       "      <td>{'hashtags': [{'text': 'mondaythoughts', 'indices': [112, 127]}], 'symbols': [], 'user_mentions': [{'screen_name': 'SENTHILSSK1982', 'name': 'Senthil kumar', 'id': 1070172748658356224, 'id_str': '1070172748658356224', 'indices': [3, 18]}], 'urls': []}</td>\n",
       "      <td>{'iso_language_code': 'en', 'result_type': 'recent'}</td>\n",
       "      <td>&lt;a href=\"http://twitter.com/download/iphone\" rel=\"nofollow\"&gt;Twitter for iPhone&lt;/a&gt;</td>\n",
       "      <td>NaN</td>\n",
       "      <td>None</td>\n",
       "      <td>...</td>\n",
       "      <td>1</td>\n",
       "      <td>0</td>\n",
       "      <td>False</td>\n",
       "      <td>False</td>\n",
       "      <td>en</td>\n",
       "      <td>NaN</td>\n",
       "      <td>NaN</td>\n",
       "      <td>NaN</td>\n",
       "      <td>NaN</td>\n",
       "      <td>NaN</td>\n",
       "    </tr>\n",
       "    <tr>\n",
       "      <th>3</th>\n",
       "      <td>Mon Apr 05 05:11:01 +0000 2021</td>\n",
       "      <td>1378938201327366144</td>\n",
       "      <td>1378938201327366144</td>\n",
       "      <td>RT @rameshlaus: From 9,035 cases on Jan 25th to 103,558 on Apr 4th, the 2nd #CoronaWave in #India is spreading very fast..\\n\\nDuring the enti…</td>\n",
       "      <td>False</td>\n",
       "      <td>{'hashtags': [{'text': 'CoronaWave', 'indices': [76, 87]}, {'text': 'India', 'indices': [91, 97]}], 'symbols': [], 'user_mentions': [{'screen_name': 'rameshlaus', 'name': 'Ramesh Bala', 'id': 102268884, 'id_str': '102268884', 'indices': [3, 14]}], 'urls': []}</td>\n",
       "      <td>{'iso_language_code': 'en', 'result_type': 'recent'}</td>\n",
       "      <td>&lt;a href=\"http://twitter.com/download/android\" rel=\"nofollow\"&gt;Twitter for Android&lt;/a&gt;</td>\n",
       "      <td>NaN</td>\n",
       "      <td>None</td>\n",
       "      <td>...</td>\n",
       "      <td>52</td>\n",
       "      <td>0</td>\n",
       "      <td>False</td>\n",
       "      <td>False</td>\n",
       "      <td>en</td>\n",
       "      <td>NaN</td>\n",
       "      <td>NaN</td>\n",
       "      <td>NaN</td>\n",
       "      <td>NaN</td>\n",
       "      <td>NaN</td>\n",
       "    </tr>\n",
       "    <tr>\n",
       "      <th>4</th>\n",
       "      <td>Mon Apr 05 05:10:59 +0000 2021</td>\n",
       "      <td>1378938194050355210</td>\n",
       "      <td>1378938194050355210</td>\n",
       "      <td>RT @PaddyTheBaddy: Up there with the funniest thing what happened all week at the trilogy @chrisert88 🤣🤣🤣🤣🤣🤣 #covidtest #covid #funny #come…</td>\n",
       "      <td>False</td>\n",
       "      <td>{'hashtags': [{'text': 'covidtest', 'indices': [109, 119]}, {'text': 'covid', 'indices': [120, 126]}, {'text': 'funny', 'indices': [127, 133]}], 'symbols': [], 'user_mentions': [{'screen_name': 'PaddyTheBaddy', 'name': 'Paddy Pimblett', 'id': 99596334, 'id_str': '99596334', '...</td>\n",
       "      <td>{'iso_language_code': 'en', 'result_type': 'recent'}</td>\n",
       "      <td>&lt;a href=\"http://twitter.com/download/android\" rel=\"nofollow\"&gt;Twitter for Android&lt;/a&gt;</td>\n",
       "      <td>NaN</td>\n",
       "      <td>None</td>\n",
       "      <td>...</td>\n",
       "      <td>17</td>\n",
       "      <td>0</td>\n",
       "      <td>False</td>\n",
       "      <td>False</td>\n",
       "      <td>en</td>\n",
       "      <td>NaN</td>\n",
       "      <td>NaN</td>\n",
       "      <td>NaN</td>\n",
       "      <td>NaN</td>\n",
       "      <td>NaN</td>\n",
       "    </tr>\n",
       "  </tbody>\n",
       "</table>\n",
       "<p>5 rows × 30 columns</p>\n",
       "</div>"
      ],
      "text/plain": [
       "                       created_at                   id               id_str  \\\n",
       "0  Mon Apr 05 05:11:12 +0000 2021  1378938248244826112  1378938248244826112   \n",
       "1  Mon Apr 05 05:11:03 +0000 2021  1378938209384665091  1378938209384665091   \n",
       "2  Mon Apr 05 05:11:02 +0000 2021  1378938206956134400  1378938206956134400   \n",
       "3  Mon Apr 05 05:11:01 +0000 2021  1378938201327366144  1378938201327366144   \n",
       "4  Mon Apr 05 05:10:59 +0000 2021  1378938194050355210  1378938194050355210   \n",
       "\n",
       "                                                                                                                                             text  \\\n",
       "0    RT @VegasVisions: Daughter of #COVID-19 victim pleads for stricter restrictions as cases surge in southern #Alberta | CBC News https://t.co…   \n",
       "1                 9 appointments at Walmart Supercenter (7800 N.w. Expressway, Oklahoma City)\\n#Oklahoma #COVID #Vaccine… https://t.co/yzG7Q8JxQd   \n",
       "2  RT @SENTHILSSK1982: \"Until one has loved an animal, a part of one's soul remains unawakened.\" ― Anatole France\\n\\n#mondaythoughts #MondayMoti…   \n",
       "3  RT @rameshlaus: From 9,035 cases on Jan 25th to 103,558 on Apr 4th, the 2nd #CoronaWave in #India is spreading very fast..\\n\\nDuring the enti…   \n",
       "4    RT @PaddyTheBaddy: Up there with the funniest thing what happened all week at the trilogy @chrisert88 🤣🤣🤣🤣🤣🤣 #covidtest #covid #funny #come…   \n",
       "\n",
       "   truncated  \\\n",
       "0      False   \n",
       "1       True   \n",
       "2      False   \n",
       "3      False   \n",
       "4      False   \n",
       "\n",
       "                                                                                                                                                                                                                                                                                  entities  \\\n",
       "0  {'hashtags': [{'text': 'COVID', 'indices': [30, 36]}, {'text': 'Alberta', 'indices': [107, 115]}], 'symbols': [], 'user_mentions': [{'screen_name': 'VegasVisions', 'name': 'Vegas Visions ™', 'id': 1327442450957303809, 'id_str': '1327442450957303809', 'indices': [3, 16]}], 'ur...   \n",
       "1  {'hashtags': [{'text': 'Oklahoma', 'indices': [76, 85]}, {'text': 'COVID', 'indices': [86, 92]}, {'text': 'Vaccine', 'indices': [93, 101]}], 'symbols': [], 'user_mentions': [], 'urls': [{'url': 'https://t.co/yzG7Q8JxQd', 'expanded_url': 'https://twitter.com/i/web/status/13789...   \n",
       "2                              {'hashtags': [{'text': 'mondaythoughts', 'indices': [112, 127]}], 'symbols': [], 'user_mentions': [{'screen_name': 'SENTHILSSK1982', 'name': 'Senthil kumar', 'id': 1070172748658356224, 'id_str': '1070172748658356224', 'indices': [3, 18]}], 'urls': []}   \n",
       "3                      {'hashtags': [{'text': 'CoronaWave', 'indices': [76, 87]}, {'text': 'India', 'indices': [91, 97]}], 'symbols': [], 'user_mentions': [{'screen_name': 'rameshlaus', 'name': 'Ramesh Bala', 'id': 102268884, 'id_str': '102268884', 'indices': [3, 14]}], 'urls': []}   \n",
       "4  {'hashtags': [{'text': 'covidtest', 'indices': [109, 119]}, {'text': 'covid', 'indices': [120, 126]}, {'text': 'funny', 'indices': [127, 133]}], 'symbols': [], 'user_mentions': [{'screen_name': 'PaddyTheBaddy', 'name': 'Paddy Pimblett', 'id': 99596334, 'id_str': '99596334', '...   \n",
       "\n",
       "                                               metadata  \\\n",
       "0  {'iso_language_code': 'en', 'result_type': 'recent'}   \n",
       "1  {'iso_language_code': 'en', 'result_type': 'recent'}   \n",
       "2  {'iso_language_code': 'en', 'result_type': 'recent'}   \n",
       "3  {'iso_language_code': 'en', 'result_type': 'recent'}   \n",
       "4  {'iso_language_code': 'en', 'result_type': 'recent'}   \n",
       "\n",
       "                                                                                 source  \\\n",
       "0  <a href=\"http://twitter.com/download/android\" rel=\"nofollow\">Twitter for Android</a>   \n",
       "1               <a href=\"http://www.bendytree.com\" rel=\"nofollow\">Bendy Tree Social</a>   \n",
       "2    <a href=\"http://twitter.com/download/iphone\" rel=\"nofollow\">Twitter for iPhone</a>   \n",
       "3  <a href=\"http://twitter.com/download/android\" rel=\"nofollow\">Twitter for Android</a>   \n",
       "4  <a href=\"http://twitter.com/download/android\" rel=\"nofollow\">Twitter for Android</a>   \n",
       "\n",
       "   in_reply_to_status_id in_reply_to_status_id_str  ...  retweet_count  \\\n",
       "0                    NaN                      None  ...              1   \n",
       "1                    NaN                      None  ...              0   \n",
       "2                    NaN                      None  ...              1   \n",
       "3                    NaN                      None  ...             52   \n",
       "4                    NaN                      None  ...             17   \n",
       "\n",
       "  favorite_count favorited retweeted lang possibly_sensitive  \\\n",
       "0              0     False     False   en                NaN   \n",
       "1              0     False     False   en              False   \n",
       "2              0     False     False   en                NaN   \n",
       "3              0     False     False   en                NaN   \n",
       "4              0     False     False   en                NaN   \n",
       "\n",
       "  extended_entities quoted_status_id quoted_status_id_str  quoted_status  \n",
       "0               NaN              NaN                  NaN            NaN  \n",
       "1               NaN              NaN                  NaN            NaN  \n",
       "2               NaN              NaN                  NaN            NaN  \n",
       "3               NaN              NaN                  NaN            NaN  \n",
       "4               NaN              NaN                  NaN            NaN  \n",
       "\n",
       "[5 rows x 30 columns]"
      ]
     },
     "execution_count": 58,
     "metadata": {},
     "output_type": "execute_result"
    }
   ],
   "source": [
    "b_df = pd.DataFrame(COVID_berk)\n",
    "b_df.head(5)"
   ]
  },
  {
   "cell_type": "code",
   "execution_count": 55,
   "metadata": {},
   "outputs": [],
   "source": [
    "COVID_mex= download_recent_tweets_by_hashtag(hashtag = \"COVID\",\n",
    "                                                       keys = keys,\n",
    "                                                       location = \"19.4198237334946, -99.14568428397733, 2km\",\n",
    "                                                       count = 200)"
   ]
  },
  {
   "cell_type": "code",
   "execution_count": 56,
   "metadata": {},
   "outputs": [
    {
     "data": {
      "text/html": [
       "<div>\n",
       "<style scoped>\n",
       "    .dataframe tbody tr th:only-of-type {\n",
       "        vertical-align: middle;\n",
       "    }\n",
       "\n",
       "    .dataframe tbody tr th {\n",
       "        vertical-align: top;\n",
       "    }\n",
       "\n",
       "    .dataframe thead th {\n",
       "        text-align: right;\n",
       "    }\n",
       "</style>\n",
       "<table border=\"1\" class=\"dataframe\">\n",
       "  <thead>\n",
       "    <tr style=\"text-align: right;\">\n",
       "      <th></th>\n",
       "      <th>created_at</th>\n",
       "      <th>id</th>\n",
       "      <th>id_str</th>\n",
       "      <th>text</th>\n",
       "      <th>truncated</th>\n",
       "      <th>entities</th>\n",
       "      <th>extended_entities</th>\n",
       "      <th>metadata</th>\n",
       "      <th>source</th>\n",
       "      <th>in_reply_to_status_id</th>\n",
       "      <th>...</th>\n",
       "      <th>is_quote_status</th>\n",
       "      <th>retweet_count</th>\n",
       "      <th>favorite_count</th>\n",
       "      <th>favorited</th>\n",
       "      <th>retweeted</th>\n",
       "      <th>possibly_sensitive</th>\n",
       "      <th>lang</th>\n",
       "      <th>quoted_status_id</th>\n",
       "      <th>quoted_status_id_str</th>\n",
       "      <th>quoted_status</th>\n",
       "    </tr>\n",
       "  </thead>\n",
       "  <tbody>\n",
       "    <tr>\n",
       "      <th>0</th>\n",
       "      <td>Mon Apr 05 05:10:34 +0000 2021</td>\n",
       "      <td>1378938089154834432</td>\n",
       "      <td>1378938089154834432</td>\n",
       "      <td>RT @thewalleyapp: When you are on a monthly budget but an unplanned expense comes\\n#covid #lockdown2021 https://t.co/UxZ5CMOYup</td>\n",
       "      <td>False</td>\n",
       "      <td>{'hashtags': [{'text': 'covid', 'indices': [82, 88]}, {'text': 'lockdown2021', 'indices': [89, 102]}], 'symbols': [], 'user_mentions': [{'screen_name': 'thewalleyapp', 'name': 'Walley', 'id': 1368462812918423558, 'id_str': '1368462812918423558', 'indices': [3, 16]}], 'urls': ...</td>\n",
       "      <td>{'media': [{'id': 1378049034561064962, 'id_str': '1378049034561064962', 'indices': [103, 126], 'media_url': 'http://pbs.twimg.com/media/Ex_QS7QVEAIK89A.jpg', 'media_url_https': 'https://pbs.twimg.com/media/Ex_QS7QVEAIK89A.jpg', 'url': 'https://t.co/UxZ5CMOYup', 'display_url':...</td>\n",
       "      <td>{'iso_language_code': 'en', 'result_type': 'recent'}</td>\n",
       "      <td>&lt;a href=\"https://mobile.twitter.com\" rel=\"nofollow\"&gt;Twitter Web App&lt;/a&gt;</td>\n",
       "      <td>NaN</td>\n",
       "      <td>...</td>\n",
       "      <td>False</td>\n",
       "      <td>19</td>\n",
       "      <td>0</td>\n",
       "      <td>False</td>\n",
       "      <td>False</td>\n",
       "      <td>False</td>\n",
       "      <td>en</td>\n",
       "      <td>NaN</td>\n",
       "      <td>NaN</td>\n",
       "      <td>NaN</td>\n",
       "    </tr>\n",
       "    <tr>\n",
       "      <th>1</th>\n",
       "      <td>Mon Apr 05 05:09:57 +0000 2021</td>\n",
       "      <td>1378937933349019650</td>\n",
       "      <td>1378937933349019650</td>\n",
       "      <td>RT @RavMABAY: My Jewish parents got to hug their Jewish grandchildren for the first time in a year because some brilliant Muslim scientists…</td>\n",
       "      <td>False</td>\n",
       "      <td>{'hashtags': [], 'symbols': [], 'user_mentions': [{'screen_name': 'RavMABAY', 'name': 'Rabbi Michael Adam Latz #BlackLivesMatter', 'id': 63227112, 'id_str': '63227112', 'indices': [3, 12]}], 'urls': []}</td>\n",
       "      <td>NaN</td>\n",
       "      <td>{'iso_language_code': 'en', 'result_type': 'recent'}</td>\n",
       "      <td>&lt;a href=\"https://mobile.twitter.com\" rel=\"nofollow\"&gt;Twitter Web App&lt;/a&gt;</td>\n",
       "      <td>NaN</td>\n",
       "      <td>...</td>\n",
       "      <td>False</td>\n",
       "      <td>575</td>\n",
       "      <td>0</td>\n",
       "      <td>False</td>\n",
       "      <td>False</td>\n",
       "      <td>NaN</td>\n",
       "      <td>en</td>\n",
       "      <td>NaN</td>\n",
       "      <td>NaN</td>\n",
       "      <td>NaN</td>\n",
       "    </tr>\n",
       "    <tr>\n",
       "      <th>2</th>\n",
       "      <td>Mon Apr 05 05:09:57 +0000 2021</td>\n",
       "      <td>1378937932845785090</td>\n",
       "      <td>1378937932845785090</td>\n",
       "      <td>RT @Teensthack: Highest single day rise of #Covid cases in India. 103,558 cases in last 24 hours.</td>\n",
       "      <td>False</td>\n",
       "      <td>{'hashtags': [{'text': 'Covid', 'indices': [43, 49]}], 'symbols': [], 'user_mentions': [{'screen_name': 'Teensthack', 'name': 'Teena Thacker', 'id': 2215812403, 'id_str': '2215812403', 'indices': [3, 14]}], 'urls': []}</td>\n",
       "      <td>NaN</td>\n",
       "      <td>{'iso_language_code': 'en', 'result_type': 'recent'}</td>\n",
       "      <td>&lt;a href=\"http://twitter.com/download/android\" rel=\"nofollow\"&gt;Twitter for Android&lt;/a&gt;</td>\n",
       "      <td>NaN</td>\n",
       "      <td>...</td>\n",
       "      <td>False</td>\n",
       "      <td>54</td>\n",
       "      <td>0</td>\n",
       "      <td>False</td>\n",
       "      <td>False</td>\n",
       "      <td>NaN</td>\n",
       "      <td>en</td>\n",
       "      <td>NaN</td>\n",
       "      <td>NaN</td>\n",
       "      <td>NaN</td>\n",
       "    </tr>\n",
       "    <tr>\n",
       "      <th>3</th>\n",
       "      <td>Mon Apr 05 05:09:53 +0000 2021</td>\n",
       "      <td>1378937915531612160</td>\n",
       "      <td>1378937915531612160</td>\n",
       "      <td>Up, close &amp;amp; personal: 2 families in near relations, handling #COVID19 trauma.\\nEach home has a casual 30 + yr old ge… https://t.co/deL335mozg</td>\n",
       "      <td>True</td>\n",
       "      <td>{'hashtags': [{'text': 'COVID19', 'indices': [65, 73]}], 'symbols': [], 'user_mentions': [], 'urls': [{'url': 'https://t.co/deL335mozg', 'expanded_url': 'https://twitter.com/i/web/status/1378937915531612160', 'display_url': 'twitter.com/i/web/status/1…', 'indices': [121, 144]}]}</td>\n",
       "      <td>NaN</td>\n",
       "      <td>{'iso_language_code': 'en', 'result_type': 'recent'}</td>\n",
       "      <td>&lt;a href=\"http://twitter.com/download/android\" rel=\"nofollow\"&gt;Twitter for Android&lt;/a&gt;</td>\n",
       "      <td>NaN</td>\n",
       "      <td>...</td>\n",
       "      <td>False</td>\n",
       "      <td>0</td>\n",
       "      <td>0</td>\n",
       "      <td>False</td>\n",
       "      <td>False</td>\n",
       "      <td>NaN</td>\n",
       "      <td>en</td>\n",
       "      <td>NaN</td>\n",
       "      <td>NaN</td>\n",
       "      <td>NaN</td>\n",
       "    </tr>\n",
       "    <tr>\n",
       "      <th>4</th>\n",
       "      <td>Mon Apr 05 05:09:40 +0000 2021</td>\n",
       "      <td>1378937864524734464</td>\n",
       "      <td>1378937864524734464</td>\n",
       "      <td>RT @rameshlaus: From 9,035 cases on Jan 25th to 103,558 on Apr 4th, the 2nd #CoronaWave in #India is spreading very fast..\\n\\nDuring the enti…</td>\n",
       "      <td>False</td>\n",
       "      <td>{'hashtags': [{'text': 'CoronaWave', 'indices': [76, 87]}, {'text': 'India', 'indices': [91, 97]}], 'symbols': [], 'user_mentions': [{'screen_name': 'rameshlaus', 'name': 'Ramesh Bala', 'id': 102268884, 'id_str': '102268884', 'indices': [3, 14]}], 'urls': []}</td>\n",
       "      <td>NaN</td>\n",
       "      <td>{'iso_language_code': 'en', 'result_type': 'recent'}</td>\n",
       "      <td>&lt;a href=\"https://mobile.twitter.com\" rel=\"nofollow\"&gt;Twitter Web App&lt;/a&gt;</td>\n",
       "      <td>NaN</td>\n",
       "      <td>...</td>\n",
       "      <td>False</td>\n",
       "      <td>51</td>\n",
       "      <td>0</td>\n",
       "      <td>False</td>\n",
       "      <td>False</td>\n",
       "      <td>NaN</td>\n",
       "      <td>en</td>\n",
       "      <td>NaN</td>\n",
       "      <td>NaN</td>\n",
       "      <td>NaN</td>\n",
       "    </tr>\n",
       "  </tbody>\n",
       "</table>\n",
       "<p>5 rows × 30 columns</p>\n",
       "</div>"
      ],
      "text/plain": [
       "                       created_at                   id               id_str  \\\n",
       "0  Mon Apr 05 05:10:34 +0000 2021  1378938089154834432  1378938089154834432   \n",
       "1  Mon Apr 05 05:09:57 +0000 2021  1378937933349019650  1378937933349019650   \n",
       "2  Mon Apr 05 05:09:57 +0000 2021  1378937932845785090  1378937932845785090   \n",
       "3  Mon Apr 05 05:09:53 +0000 2021  1378937915531612160  1378937915531612160   \n",
       "4  Mon Apr 05 05:09:40 +0000 2021  1378937864524734464  1378937864524734464   \n",
       "\n",
       "                                                                                                                                                text  \\\n",
       "0                    RT @thewalleyapp: When you are on a monthly budget but an unplanned expense comes\\n#covid #lockdown2021 https://t.co/UxZ5CMOYup   \n",
       "1       RT @RavMABAY: My Jewish parents got to hug their Jewish grandchildren for the first time in a year because some brilliant Muslim scientists…   \n",
       "2                                                  RT @Teensthack: Highest single day rise of #Covid cases in India. 103,558 cases in last 24 hours.   \n",
       "3  Up, close &amp; personal: 2 families in near relations, handling #COVID19 trauma.\\nEach home has a casual 30 + yr old ge… https://t.co/deL335mozg   \n",
       "4     RT @rameshlaus: From 9,035 cases on Jan 25th to 103,558 on Apr 4th, the 2nd #CoronaWave in #India is spreading very fast..\\n\\nDuring the enti…   \n",
       "\n",
       "   truncated  \\\n",
       "0      False   \n",
       "1      False   \n",
       "2      False   \n",
       "3       True   \n",
       "4      False   \n",
       "\n",
       "                                                                                                                                                                                                                                                                                  entities  \\\n",
       "0  {'hashtags': [{'text': 'covid', 'indices': [82, 88]}, {'text': 'lockdown2021', 'indices': [89, 102]}], 'symbols': [], 'user_mentions': [{'screen_name': 'thewalleyapp', 'name': 'Walley', 'id': 1368462812918423558, 'id_str': '1368462812918423558', 'indices': [3, 16]}], 'urls': ...   \n",
       "1                                                                               {'hashtags': [], 'symbols': [], 'user_mentions': [{'screen_name': 'RavMABAY', 'name': 'Rabbi Michael Adam Latz #BlackLivesMatter', 'id': 63227112, 'id_str': '63227112', 'indices': [3, 12]}], 'urls': []}   \n",
       "2                                                               {'hashtags': [{'text': 'Covid', 'indices': [43, 49]}], 'symbols': [], 'user_mentions': [{'screen_name': 'Teensthack', 'name': 'Teena Thacker', 'id': 2215812403, 'id_str': '2215812403', 'indices': [3, 14]}], 'urls': []}   \n",
       "3  {'hashtags': [{'text': 'COVID19', 'indices': [65, 73]}], 'symbols': [], 'user_mentions': [], 'urls': [{'url': 'https://t.co/deL335mozg', 'expanded_url': 'https://twitter.com/i/web/status/1378937915531612160', 'display_url': 'twitter.com/i/web/status/1…', 'indices': [121, 144]}]}   \n",
       "4                      {'hashtags': [{'text': 'CoronaWave', 'indices': [76, 87]}, {'text': 'India', 'indices': [91, 97]}], 'symbols': [], 'user_mentions': [{'screen_name': 'rameshlaus', 'name': 'Ramesh Bala', 'id': 102268884, 'id_str': '102268884', 'indices': [3, 14]}], 'urls': []}   \n",
       "\n",
       "                                                                                                                                                                                                                                                                         extended_entities  \\\n",
       "0  {'media': [{'id': 1378049034561064962, 'id_str': '1378049034561064962', 'indices': [103, 126], 'media_url': 'http://pbs.twimg.com/media/Ex_QS7QVEAIK89A.jpg', 'media_url_https': 'https://pbs.twimg.com/media/Ex_QS7QVEAIK89A.jpg', 'url': 'https://t.co/UxZ5CMOYup', 'display_url':...   \n",
       "1                                                                                                                                                                                                                                                                                      NaN   \n",
       "2                                                                                                                                                                                                                                                                                      NaN   \n",
       "3                                                                                                                                                                                                                                                                                      NaN   \n",
       "4                                                                                                                                                                                                                                                                                      NaN   \n",
       "\n",
       "                                               metadata  \\\n",
       "0  {'iso_language_code': 'en', 'result_type': 'recent'}   \n",
       "1  {'iso_language_code': 'en', 'result_type': 'recent'}   \n",
       "2  {'iso_language_code': 'en', 'result_type': 'recent'}   \n",
       "3  {'iso_language_code': 'en', 'result_type': 'recent'}   \n",
       "4  {'iso_language_code': 'en', 'result_type': 'recent'}   \n",
       "\n",
       "                                                                                 source  \\\n",
       "0               <a href=\"https://mobile.twitter.com\" rel=\"nofollow\">Twitter Web App</a>   \n",
       "1               <a href=\"https://mobile.twitter.com\" rel=\"nofollow\">Twitter Web App</a>   \n",
       "2  <a href=\"http://twitter.com/download/android\" rel=\"nofollow\">Twitter for Android</a>   \n",
       "3  <a href=\"http://twitter.com/download/android\" rel=\"nofollow\">Twitter for Android</a>   \n",
       "4               <a href=\"https://mobile.twitter.com\" rel=\"nofollow\">Twitter Web App</a>   \n",
       "\n",
       "   in_reply_to_status_id  ... is_quote_status  retweet_count favorite_count  \\\n",
       "0                    NaN  ...           False             19              0   \n",
       "1                    NaN  ...           False            575              0   \n",
       "2                    NaN  ...           False             54              0   \n",
       "3                    NaN  ...           False              0              0   \n",
       "4                    NaN  ...           False             51              0   \n",
       "\n",
       "  favorited retweeted possibly_sensitive lang quoted_status_id  \\\n",
       "0     False     False              False   en              NaN   \n",
       "1     False     False                NaN   en              NaN   \n",
       "2     False     False                NaN   en              NaN   \n",
       "3     False     False                NaN   en              NaN   \n",
       "4     False     False                NaN   en              NaN   \n",
       "\n",
       "  quoted_status_id_str quoted_status  \n",
       "0                  NaN           NaN  \n",
       "1                  NaN           NaN  \n",
       "2                  NaN           NaN  \n",
       "3                  NaN           NaN  \n",
       "4                  NaN           NaN  \n",
       "\n",
       "[5 rows x 30 columns]"
      ]
     },
     "execution_count": 56,
     "metadata": {},
     "output_type": "execute_result"
    }
   ],
   "source": [
    "m_df = pd.DataFrame(COVID_mex)\n",
    "m_df.head(5)"
   ]
  },
  {
   "cell_type": "code",
   "execution_count": 37,
   "metadata": {},
   "outputs": [
    {
     "data": {
      "text/plain": [
       "0   2021-04-05 05:05:32+00:00\n",
       "1   2021-04-05 05:05:31+00:00\n",
       "2   2021-04-05 05:05:30+00:00\n",
       "3   2021-04-05 05:05:29+00:00\n",
       "4   2021-04-05 05:05:23+00:00\n",
       "Name: time, dtype: datetime64[ns, UTC]"
      ]
     },
     "execution_count": 37,
     "metadata": {},
     "output_type": "execute_result"
    }
   ],
   "source": [
    "post_time_berk = pd.DataFrame(COVID_berk)[['id', 'created_at']]\n",
    "post_time_berk['time'] = pd.to_datetime(post_time_berk['created_at'])\n",
    "post_time_berk['time'].head()"
   ]
  },
  {
   "cell_type": "code",
   "execution_count": 63,
   "metadata": {},
   "outputs": [
    {
     "data": {
      "text/plain": [
       "(0.0, 30.0)"
      ]
     },
     "execution_count": 63,
     "metadata": {},
     "output_type": "execute_result"
    },
    {
     "data": {
      "image/png": "[encoded data removed]",
      "text/plain": [
       "<Figure size 432x288 with 1 Axes>"
      ]
     },
     "metadata": {
      "needs_background": "light"
     },
     "output_type": "display_data"
    }
   ],
   "source": [
    "post_time_berk['hour'] = [post_time_berk.loc[i, 'time'].hour + post_time_berk.loc[i, 'time'].minute/60 +\n",
    "                     post_time_berk.loc[i, 'time'].second/3600 for i in range(len(post_time_berk))]\n",
    "post_time_berk['hour'].hist(color='navy')\n",
    "plt.title('Number of #COVID Tweets in UC Berkeley')\n",
    "plt.xlabel(\"Hour (UTC)\")\n",
    "plt.ylabel(\"Number of Tweets\")\n",
    "plt.grid(False)\n",
    "plt.ylim(0,30)"
   ]
  },
  {
   "cell_type": "code",
   "execution_count": 60,
   "metadata": {},
   "outputs": [
    {
     "data": {
      "text/plain": [
       "0   2021-04-05 05:10:34+00:00\n",
       "1   2021-04-05 05:09:57+00:00\n",
       "2   2021-04-05 05:09:57+00:00\n",
       "3   2021-04-05 05:09:53+00:00\n",
       "4   2021-04-05 05:09:40+00:00\n",
       "Name: time, dtype: datetime64[ns, UTC]"
      ]
     },
     "execution_count": 60,
     "metadata": {},
     "output_type": "execute_result"
    }
   ],
   "source": [
    "post_time_mex = pd.DataFrame(COVID_mex)[['id', 'created_at']]\n",
    "post_time_mex['time'] = pd.to_datetime(post_time_mex['created_at'])\n",
    "post_time_mex['time'].head()"
   ]
  },
  {
   "cell_type": "code",
   "execution_count": 62,
   "metadata": {},
   "outputs": [
    {
     "data": {
      "text/plain": [
       "(0.0, 30.0)"
      ]
     },
     "execution_count": 62,
     "metadata": {},
     "output_type": "execute_result"
    },
    {
     "data": {
      "image/png": "[encoded data removed]",
      "text/plain": [
       "<Figure size 432x288 with 1 Axes>"
      ]
     },
     "metadata": {
      "needs_background": "light"
     },
     "output_type": "display_data"
    }
   ],
   "source": [
    "post_time_mex['hour'] = [post_time_mex.loc[i, 'time'].hour + post_time_mex.loc[i, 'time'].minute/60 +\n",
    "                     post_time_mex.loc[i, 'time'].second/3600 for i in range(len(post_time_mex))]\n",
    "post_time_mex['hour'].hist(color='purple')\n",
    "\n",
    "plt.title('Number of #COVID Tweets in Mexico')\n",
    "\n",
    "plt.xlabel(\"Hour (UTC)\")\n",
    "plt.ylabel(\"Number of Tweets\")\n",
    "plt.grid(False)\n",
    "plt.ylim(0,30)"
   ]
  },
  {
   "cell_type": "code",
   "execution_count": null,
   "metadata": {},
   "outputs": [],
   "source": []
  }
 ],
 "metadata": {
  "kernelspec": {
   "display_name": "Python 3 (ipykernel)",
   "language": "python",
   "name": "python3"
  },
  "language_info": {
   "codemirror_mode": {
    "name": "ipython",
    "version": 3
   },
   "file_extension": ".py",
   "mimetype": "text/x-python",
   "name": "python",
   "nbconvert_exporter": "python",
   "pygments_lexer": "ipython3",
   "version": "3.9.15"
  }
 },
 "nbformat": 4,
 "nbformat_minor": 4
}
